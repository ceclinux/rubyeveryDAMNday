{
 "cells": [
  {
   "cell_type": "markdown",
   "metadata": {},
   "source": [
    "Mix will default to the `:dev` environment, except for the `test` task that will default to the `:test` environment. The environment can be changed via the `MIX_ENV` environment variable:"
   ]
  },
  {
   "cell_type": "code",
   "execution_count": 1,
   "metadata": {},
   "outputs": [
    {
     "data": {
      "text/plain": [
       "{:hello, \"wolrd\"}"
      ]
     },
     "execution_count": 1,
     "metadata": {},
     "output_type": "execute_result"
    }
   ],
   "source": [
    "send self(), {:hello, \"wolrd\"}"
   ]
  },
  {
   "cell_type": "code",
   "execution_count": null,
   "metadata": {},
   "outputs": [],
   "source": [
    "receive do\n",
    " {:hello, msg} -> msg\n",
    " {:world, msg} -> \"won't match\"\n",
    " end"
   ]
  },
  {
   "cell_type": "markdown",
   "metadata": {},
   "source": [
    "The process that sends the message does not block on `send/2`, it puts the message in the recipient's mailbox and continue. In particular, a process can send messages to itself."
   ]
  },
  {
   "cell_type": "markdown",
   "metadata": {},
   "source": [
    "It there is no message in the mailbox matching any of the pattern, the current process will wait until a matching message arrives. A timeout can also be specified:"
   ]
  },
  {
   "cell_type": "code",
   "execution_count": 1,
   "metadata": {},
   "outputs": [
    {
     "ename": "MatchError",
     "evalue": "1",
     "output_type": "error",
     "traceback": [
      "** %MatchError{term: {:error, {1, \"unexpected token: \", \"\\\"▶\\\" (column 7, codepoint U+25B6)\"}}}"
     ]
    }
   ],
   "source": [
    "iex|3 ▶ receive do\n",
    "...|3 ▶   {:hello, msg} -> msg\n",
    "...|3 ▶ after\n",
    "...|3 ▶  1000 -> \"nothing ater 1s\"\n",
    "...|3 ▶ end\n",
    "\"nothing ater 1s\"\n"
   ]
  },
  {
   "cell_type": "markdown",
   "metadata": {},
   "source": [
    "Processes and links play an important role when building fault-tolerant systems. Elixir processes are isolated and don't share anything by default. Therefore, a failure in a process will never crash or corrpt the state of another process. Links, howerevr, allow process to establish a relationship in a case of failures. We often link our processes to supervisors which will detect when a process dies and start a new process in its place."
   ]
  },
  {
   "cell_type": "code",
   "execution_count": 1,
   "metadata": {},
   "outputs": [
    {
     "data": {
      "text/plain": [
       "{:module, KV, <<70, 79, 82, 49, 0, 0, 6, 68, 66, 69, 65, 77, 65, 116, 85, 56, 0, 0, 0, 194, 0, 0, 0, 21, 9, 69, 108, 105, 120, 105, 114, 46, 75, 86, 8, 95, 95, 105, 110, 102, 111, 95, 95, 9, 102, 117, 110, ...>>, {:loop, 1}}"
      ]
     },
     "execution_count": 1,
     "metadata": {},
     "output_type": "execute_result"
    }
   ],
   "source": [
    "\n",
    "defmodule KV do\n",
    "  def start_link do\n",
    "    Task.start_link(fn -> loop(%{}) end)\n",
    "  end\n",
    "\n",
    "  defp loop(map) do\n",
    "    receive do\n",
    "      {:get, key, caller} ->\n",
    "        send caller, Map.get(map, key)\n",
    "        loop(map)\n",
    "      {:put, key, value} ->\n",
    "        loop(Map.put(map, key, value))\n",
    "    end\n",
    "  end\n",
    "end\n"
   ]
  },
  {
   "cell_type": "code",
   "execution_count": null,
   "metadata": {},
   "outputs": [],
   "source": []
  }
 ],
 "metadata": {
  "kernelspec": {
   "display_name": "Elixir",
   "language": "Elixir",
   "name": "ielixir"
  },
  "language_info": {
   "codemirror_mode": "elixir",
   "file_extension": "ex",
   "mimetype": "text/x-elixir",
   "name": "elixir",
   "nbconvert_exporter": "",
   "pygments_lexer": "elixir",
   "version": "#Version<1.6.5>"
  }
 },
 "nbformat": 4,
 "nbformat_minor": 2
}
