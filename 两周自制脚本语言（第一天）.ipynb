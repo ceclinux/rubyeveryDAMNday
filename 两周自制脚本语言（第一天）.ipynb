{
 "cells": [
  {
   "cell_type": "markdown",
   "metadata": {},
   "source": [
    "应到程序会事先写在内存中。计算机在启动时会首先执行这个程序"
   ]
  },
  {
   "cell_type": "markdown",
   "metadata": {},
   "source": [
    "解释器根据程序中的算法执行运算。简单来说，它是一种惯用语执行程序的软件。如果执行的程序由虚拟机器语言或类似于机器语言的程序设计语言写成，这种软件也称为**虚拟机**。"
   ]
  },
  {
   "cell_type": "markdown",
   "metadata": {
    "collapsed": true
   },
   "source": [
    "编译器能将某种语言写成的程序转换成另一种语言的程序。通常它会将原程序转换为机器语言程序。编译器转换程序的行为称为编译，转换前的程序称为源代码或源程序。如果编译器没有把源代码直接转换为机器语言，一般称为源代码转换器或源码转换器。"
   ]
  },
  {
   "cell_type": "markdown",
   "metadata": {},
   "source": [
    "大多数Java虚拟机为了提高性能，会在执行过程中沟通过编译器将一部分Java二进制代码直接转换为机器语言使用。执行过程中进行的机器语言转换称为动态编译或JIT编译。转换后得到的机器语言程序将被载入内存，由硬件执行，无需使用解释器。\n",
    "\n",
    "无论是解释器还是编译器，语言处理器前半部分的程序结构都大同小异。源代码首先进行**词法分析**，由一长串字符串细分为多个跟小的字符串单元。分割后的字符串称为单词。之后的处理器将执行语法分析处理，把单词的排列转换为抽象语法树。至此为止，解释器与编译器的处理方式相同。之后，**编译器会把抽象语法树转换为其他语言，而解析器会一边分析语法树一边执行运算**。\n"
   ]
  },
  {
   "cell_type": "code",
   "execution_count": null,
   "metadata": {
    "collapsed": true
   },
   "outputs": [],
   "source": []
  }
 ],
 "metadata": {
  "kernelspec": {
   "display_name": "Ruby 2.4.1",
   "language": "ruby",
   "name": "ruby"
  },
  "language_info": {
   "file_extension": ".rb",
   "mimetype": "application/x-ruby",
   "name": "ruby",
   "version": "2.4.1"
  }
 },
 "nbformat": 4,
 "nbformat_minor": 2
}
