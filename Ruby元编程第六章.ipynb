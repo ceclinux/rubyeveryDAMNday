{
 "cells": [
  {
   "cell_type": "code",
   "execution_count": 2,
   "metadata": {},
   "outputs": [
    {
     "data": {
      "text/plain": [
       "[10, 20, 30]"
      ]
     },
     "execution_count": 2,
     "metadata": {},
     "output_type": "execute_result"
    }
   ],
   "source": [
    "array = [10, 20]\n",
    "\n",
    "element = 30\n",
    "eval(\"array << element\")"
   ]
  },
  {
   "cell_type": "code",
   "execution_count": 5,
   "metadata": {},
   "outputs": [
    {
     "name": "stderr",
     "output_type": "stream",
     "text": [
      "(pry):18: warning: already initialized constant POSSIBLE_VERBS\n",
      "(pry):9: warning: previous definition of POSSIBLE_VERBS was here\n"
     ]
    },
    {
     "data": {
      "text/plain": [
       "[\"get\", \"put\", \"put\", \"delete\"]"
      ]
     },
     "execution_count": 5,
     "metadata": {},
     "output_type": "execute_result"
    }
   ],
   "source": [
    "POSSIBLE_VERBS = ['get', 'put', 'put', 'delete']\n",
    "\n",
    "POSSIBLE_VERBS.each do |m|\n",
    "  eval <<-end_eval\n",
    "    def #{m}(path, *args, &b)\n",
    "      r[path].#{m}(*args, &b)\n",
    "    end\n",
    "    end_eval\n",
    "  end"
   ]
  },
  {
   "cell_type": "markdown",
   "metadata": {},
   "source": [
    "上面的代码中使用了一种特殊的字符串语法，称为here文档（here document），也可以称为heredoc。在`eval`之后紧跟着一个字符串，尽管它没有用引号方式表示。它以一个双小于号（`<<`）开头，后面紧跟着“结束序列”的字符组，直到碰到只包含结束序列的行时，字符串定义才结束。因此，上面的字符串是从`def`开始，到`end`结束。"
   ]
  },
  {
   "cell_type": "markdown",
   "metadata": {},
   "source": [
    "`Binding`就是一个用对象表示的完整作用域，可以通过创建`Binding`对象来捕获并带走当前的作用域。然后，可以通过`eval`方法在这个`Binding`对象所携带的作用域中执行代码。`Kernel#binding`方法可以用来创建`Binding`对象。"
   ]
  },
  {
   "cell_type": "code",
   "execution_count": 6,
   "metadata": {},
   "outputs": [
    {
     "data": {
      "text/plain": [
       "#<Binding:0x247f0b0>"
      ]
     },
     "execution_count": 6,
     "metadata": {},
     "output_type": "execute_result"
    }
   ],
   "source": [
    "class MyClass\n",
    "  def my_method\n",
    "    @x = 1\n",
    "    binding\n",
    "  end\n",
    "end\n",
    "\n",
    "b = MyClass.new.my_method"
   ]
  },
  {
   "cell_type": "code",
   "execution_count": 8,
   "metadata": {},
   "outputs": [
    {
     "data": {
      "text/plain": [
       "1"
      ]
     },
     "execution_count": 8,
     "metadata": {},
     "output_type": "execute_result"
    }
   ],
   "source": [
    "eval \"@x\", b"
   ]
  },
  {
   "cell_type": "code",
   "execution_count": 10,
   "metadata": {},
   "outputs": [
    {
     "data": {
      "text/plain": [
       ":my_method"
      ]
     },
     "execution_count": 10,
     "metadata": {},
     "output_type": "execute_result"
    }
   ],
   "source": [
    "class AnotherClass\n",
    "  def my_method\n",
    "    eval \"self\", TOPLEVEL_BINDING\n",
    "  end\n",
    "end"
   ]
  },
  {
   "cell_type": "code",
   "execution_count": 12,
   "metadata": {},
   "outputs": [
    {
     "data": {
      "text/plain": [
       "main"
      ]
     },
     "execution_count": 12,
     "metadata": {},
     "output_type": "execute_result"
    }
   ],
   "source": [
    "AnotherClass.new.my_method"
   ]
  },
  {
   "cell_type": "markdown",
   "metadata": {},
   "source": [
    "Ruby还提供了一个名为`TOPLEVEL_BINDING`的预定义常量，它表示顶级作于域的`Binding`对象。你可以在程序的任何狄梵个访问这个顶级作用域"
   ]
  },
  {
   "cell_type": "markdown",
   "metadata": {},
   "source": [
    "`irb`的核心是一个简单的程序，它解析控制台（或文件的输入），再把每一行代码传给`eval`方式执行。"
   ]
  },
  {
   "cell_type": "markdown",
   "metadata": {},
   "source": [
    "`instance_eval`和`class_eval`除了执行代码块，也可以执行代码支付串。"
   ]
  },
  {
   "cell_type": "code",
   "execution_count": 15,
   "metadata": {},
   "outputs": [
    {
     "data": {
      "text/plain": [
       "[\"a\", \"d\", \"c\"]"
      ]
     },
     "execution_count": 15,
     "metadata": {},
     "output_type": "execute_result"
    }
   ],
   "source": [
    "array = ['a', 'b', 'c']\n",
    "x = 'd'\n",
    "array.instance_eval \"self[1] = x\"\n",
    "array"
   ]
  },
  {
   "cell_type": "markdown",
   "metadata": {},
   "source": [
    "能用代码块就尽量用代码块"
   ]
  },
  {
   "cell_type": "markdown",
   "metadata": {},
   "source": [
    "首先，代码字符串往往不能利用编辑器的功能特性，比如语法高亮和自动完成。即使能接受这个这个缺点，代码字符串也难以修改。另外，`Ruby`子啊执行字符串钱不会对它进行语法检查，这容易导致程序在运行时出现意想不到的结果。"
   ]
  },
  {
   "cell_type": "code",
   "execution_count": 17,
   "metadata": {},
   "outputs": [
    {
     "data": {
      "text/plain": [
       ":explore_array"
      ]
     },
     "execution_count": 17,
     "metadata": {},
     "output_type": "execute_result"
    }
   ],
   "source": [
    "def explore_array(method)\n",
    "  code = \"['a', 'b', 'c'].#{method}\"\n",
    "  puts \"Evaluating: #{code}\"\n",
    "  eval code\n",
    "end"
   ]
  },
  {
   "cell_type": "code",
   "execution_count": 19,
   "metadata": {},
   "outputs": [
    {
     "name": "stdout",
     "output_type": "stream",
     "text": [
      "Evaluating: ['a', 'b', 'c'].{\n",
      "\n"
     ]
    },
    {
     "ename": "SyntaxError",
     "evalue": "(eval):1: syntax error, unexpected {, expecting '('\n['a', 'b', 'c'].{\n                 ^",
     "output_type": "error",
     "traceback": [
      "\u001b[31mSyntaxError\u001b[0m: (eval):1: syntax error, unexpected {, expecting '('\n['a', 'b', 'c'].{\n                 ^",
      "\u001b[37m(pry):66:in `eval'\u001b[0m",
      "\u001b[37m(pry):66:in `explore_array'\u001b[0m",
      "\u001b[37m(pry):69:in `block in <main>'\u001b[0m",
      "\u001b[37m(pry):69:in `loop'\u001b[0m",
      "\u001b[37m(pry):69:in `<main>'\u001b[0m",
      "\u001b[37m/home/ceclinux/.rvm/rubies/ruby-2.4.1/lib/ruby/gems/2.4.0/gems/pry-0.11.1/lib/pry/pry_instance.rb:355:in `eval'\u001b[0m",
      "\u001b[37m/home/ceclinux/.rvm/rubies/ruby-2.4.1/lib/ruby/gems/2.4.0/gems/pry-0.11.1/lib/pry/pry_instance.rb:355:in `evaluate_ruby'\u001b[0m",
      "\u001b[37m/home/ceclinux/.rvm/rubies/ruby-2.4.1/lib/ruby/gems/2.4.0/gems/pry-0.11.1/lib/pry/pry_instance.rb:323:in `handle_line'\u001b[0m",
      "\u001b[37m/home/ceclinux/.rvm/rubies/ruby-2.4.1/lib/ruby/gems/2.4.0/gems/pry-0.11.1/lib/pry/pry_instance.rb:243:in `block (2 levels) in eval'\u001b[0m",
      "\u001b[37m/home/ceclinux/.rvm/rubies/ruby-2.4.1/lib/ruby/gems/2.4.0/gems/pry-0.11.1/lib/pry/pry_instance.rb:242:in `catch'\u001b[0m",
      "\u001b[37m/home/ceclinux/.rvm/rubies/ruby-2.4.1/lib/ruby/gems/2.4.0/gems/pry-0.11.1/lib/pry/pry_instance.rb:242:in `block in eval'\u001b[0m",
      "\u001b[37m/home/ceclinux/.rvm/rubies/ruby-2.4.1/lib/ruby/gems/2.4.0/gems/pry-0.11.1/lib/pry/pry_instance.rb:241:in `catch'\u001b[0m",
      "\u001b[37m/home/ceclinux/.rvm/rubies/ruby-2.4.1/lib/ruby/gems/2.4.0/gems/pry-0.11.1/lib/pry/pry_instance.rb:241:in `eval'\u001b[0m",
      "\u001b[37m/home/ceclinux/.rvm/rubies/ruby-2.4.1/lib/ruby/gems/2.4.0/gems/iruby-0.3/lib/iruby/backend.rb:66:in `eval'\u001b[0m",
      "\u001b[37m/home/ceclinux/.rvm/rubies/ruby-2.4.1/lib/ruby/gems/2.4.0/gems/iruby-0.3/lib/iruby/backend.rb:12:in `eval'\u001b[0m",
      "\u001b[37m/home/ceclinux/.rvm/rubies/ruby-2.4.1/lib/ruby/gems/2.4.0/gems/iruby-0.3/lib/iruby/kernel.rb:87:in `execute_request'\u001b[0m",
      "\u001b[37m/home/ceclinux/.rvm/rubies/ruby-2.4.1/lib/ruby/gems/2.4.0/gems/iruby-0.3/lib/iruby/kernel.rb:47:in `dispatch'\u001b[0m",
      "\u001b[37m/home/ceclinux/.rvm/rubies/ruby-2.4.1/lib/ruby/gems/2.4.0/gems/iruby-0.3/lib/iruby/kernel.rb:37:in `run'\u001b[0m",
      "\u001b[37m/home/ceclinux/.rvm/rubies/ruby-2.4.1/lib/ruby/gems/2.4.0/gems/iruby-0.3/lib/iruby/command.rb:70:in `run_kernel'\u001b[0m",
      "\u001b[37m/home/ceclinux/.rvm/rubies/ruby-2.4.1/lib/ruby/gems/2.4.0/gems/iruby-0.3/lib/iruby/command.rb:34:in `run'\u001b[0m",
      "\u001b[37m/home/ceclinux/.rvm/rubies/ruby-2.4.1/lib/ruby/gems/2.4.0/gems/iruby-0.3/bin/iruby:5:in `<top (required)>'\u001b[0m",
      "\u001b[37m/home/ceclinux/.rvm/gems/ruby-2.4.1/bin/iruby:23:in `load'\u001b[0m",
      "\u001b[37m/home/ceclinux/.rvm/gems/ruby-2.4.1/bin/iruby:23:in `<main>'\u001b[0m",
      "\u001b[37m/home/ceclinux/.rvm/gems/ruby-2.4.1/bin/ruby_executable_hooks:15:in `eval'\u001b[0m",
      "\u001b[37m/home/ceclinux/.rvm/gems/ruby-2.4.1/bin/ruby_executable_hooks:15:in `<main>'\u001b[0m"
     ]
    }
   ],
   "source": [
    "loop {p explore_array(gets())}"
   ]
  },
  {
   "cell_type": "markdown",
   "metadata": {},
   "source": [
    "直到某个用户输入了这样一个字符串："
   ]
  },
  {
   "cell_type": "code",
   "execution_count": 21,
   "metadata": {},
   "outputs": [
    {
     "data": {
      "text/plain": [
       "[\"Untitled2.ipynb\", \"Ruby Class Methods, Variables.ipynb\", \"Ruby元编程第一章.ipynb\", \"Ruby元编程第六章.ipynb\", \"Ruby tricks.ipynb\", \"Ruby元编程第二章.ipynb\", \"Untitled1.ipynb\", \"Ruby operators.ipynb\", \"closures-in-ruby.ipynb\", \"Untitled.ipynb\", \" Ruby 的并发, 进程, 线程, GIL, EventMachine, Celluloid.ipynb\", \"Ruby_knowledge.ipynb\", \"puts大法好👌.ipynb\"]"
      ]
     },
     "execution_count": 21,
     "metadata": {},
     "output_type": "execute_result"
    }
   ],
   "source": [
    "object_id; Dir.glob(\"*\")"
   ]
  },
  {
   "cell_type": "markdown",
   "metadata": {},
   "source": [
    "他输入的是一个不太常用的数组方法，后面跟着列出你程序目录下所有文件的命令。恶意用户现在可以在你的机器上执行任何代码，甚至可以格式话你的硬盘。这被称为代码注入攻击"
   ]
  },
  {
   "cell_type": "markdown",
   "metadata": {},
   "source": [
    "禁止使用`eval`是非常常见的做法，有时候用动态方法和动态派发进行替换"
   ]
  },
  {
   "cell_type": "code",
   "execution_count": 22,
   "metadata": {},
   "outputs": [
    {
     "data": {
      "text/plain": [
       "[\"get\", \"put\", \"put\", \"delete\"]"
      ]
     },
     "execution_count": 22,
     "metadata": {},
     "output_type": "execute_result"
    }
   ],
   "source": [
    "POSSIBLE_VERBS.each do |m|\n",
    "  define_method m do |path, *args, &b|\n",
    "    r[path].send(m, *args, &b)\n",
    "  end\n",
    "end"
   ]
  },
  {
   "cell_type": "markdown",
   "metadata": {},
   "source": [
    "也可以用动态派发重写`array explorer`"
   ]
  },
  {
   "cell_type": "code",
   "execution_count": 24,
   "metadata": {},
   "outputs": [
    {
     "data": {
      "text/plain": [
       ":explore_array"
      ]
     },
     "execution_count": 24,
     "metadata": {},
     "output_type": "execute_result"
    }
   ],
   "source": [
    "def explore_array(method, *argements)\n",
    "  ['a', 'b', 'c'].send(method, *arguments)\n",
    "end"
   ]
  },
  {
   "cell_type": "markdown",
   "metadata": {},
   "source": [
    "Ruby会自动把不安全的对象（尤其是从外部传入的对象）标记为污染对象，污染对象包括程序从web表单、文件、命令行读入的字符串，甚至包括系统变量。从污染字符串运算得来的新字符串也是污染的。"
   ]
  },
  {
   "cell_type": "code",
   "execution_count": 27,
   "metadata": {},
   "outputs": [
    {
     "name": "stdout",
     "output_type": "stream",
     "text": [
      "true\n"
     ]
    }
   ],
   "source": [
    "user_input = \"User input:#{gets()}\"\n",
    "puts user_input.tainted?\n"
   ]
  },
  {
   "cell_type": "markdown",
   "metadata": {},
   "source": [
    "有四个安全级别可供选择，从默认的0，到3"
   ]
  },
  {
   "cell_type": "markdown",
   "metadata": {},
   "source": [
    "例如，安全级别2禁止绝大多数与文件有关的操作。值得注意的是，在任何大于0的安全级别上，ruby都会拒绝执行污染的字符串"
   ]
  },
  {
   "cell_type": "code",
   "execution_count": 31,
   "metadata": {},
   "outputs": [
    {
     "ename": "SecurityError",
     "evalue": "Insecure operation - eval",
     "output_type": "error",
     "traceback": [
      "\u001b[31mSecurityError\u001b[0m: Insecure operation - eval",
      "\u001b[37m(pry):98:in `eval'\u001b[0m",
      "\u001b[37m(pry):98:in `<main>'\u001b[0m",
      "\u001b[37m/home/ceclinux/.rvm/rubies/ruby-2.4.1/lib/ruby/gems/2.4.0/gems/pry-0.11.1/lib/pry/pry_instance.rb:355:in `eval'\u001b[0m",
      "\u001b[37m/home/ceclinux/.rvm/rubies/ruby-2.4.1/lib/ruby/gems/2.4.0/gems/pry-0.11.1/lib/pry/pry_instance.rb:355:in `evaluate_ruby'\u001b[0m",
      "\u001b[37m/home/ceclinux/.rvm/rubies/ruby-2.4.1/lib/ruby/gems/2.4.0/gems/pry-0.11.1/lib/pry/pry_instance.rb:323:in `handle_line'\u001b[0m",
      "\u001b[37m/home/ceclinux/.rvm/rubies/ruby-2.4.1/lib/ruby/gems/2.4.0/gems/pry-0.11.1/lib/pry/pry_instance.rb:243:in `block (2 levels) in eval'\u001b[0m",
      "\u001b[37m/home/ceclinux/.rvm/rubies/ruby-2.4.1/lib/ruby/gems/2.4.0/gems/pry-0.11.1/lib/pry/pry_instance.rb:242:in `catch'\u001b[0m",
      "\u001b[37m/home/ceclinux/.rvm/rubies/ruby-2.4.1/lib/ruby/gems/2.4.0/gems/pry-0.11.1/lib/pry/pry_instance.rb:242:in `block in eval'\u001b[0m",
      "\u001b[37m/home/ceclinux/.rvm/rubies/ruby-2.4.1/lib/ruby/gems/2.4.0/gems/pry-0.11.1/lib/pry/pry_instance.rb:241:in `catch'\u001b[0m",
      "\u001b[37m/home/ceclinux/.rvm/rubies/ruby-2.4.1/lib/ruby/gems/2.4.0/gems/pry-0.11.1/lib/pry/pry_instance.rb:241:in `eval'\u001b[0m",
      "\u001b[37m/home/ceclinux/.rvm/rubies/ruby-2.4.1/lib/ruby/gems/2.4.0/gems/iruby-0.3/lib/iruby/backend.rb:66:in `eval'\u001b[0m",
      "\u001b[37m/home/ceclinux/.rvm/rubies/ruby-2.4.1/lib/ruby/gems/2.4.0/gems/iruby-0.3/lib/iruby/backend.rb:12:in `eval'\u001b[0m",
      "\u001b[37m/home/ceclinux/.rvm/rubies/ruby-2.4.1/lib/ruby/gems/2.4.0/gems/iruby-0.3/lib/iruby/kernel.rb:87:in `execute_request'\u001b[0m",
      "\u001b[37m/home/ceclinux/.rvm/rubies/ruby-2.4.1/lib/ruby/gems/2.4.0/gems/iruby-0.3/lib/iruby/kernel.rb:47:in `dispatch'\u001b[0m",
      "\u001b[37m/home/ceclinux/.rvm/rubies/ruby-2.4.1/lib/ruby/gems/2.4.0/gems/iruby-0.3/lib/iruby/kernel.rb:37:in `run'\u001b[0m",
      "\u001b[37m/home/ceclinux/.rvm/rubies/ruby-2.4.1/lib/ruby/gems/2.4.0/gems/iruby-0.3/lib/iruby/command.rb:70:in `run_kernel'\u001b[0m",
      "\u001b[37m/home/ceclinux/.rvm/rubies/ruby-2.4.1/lib/ruby/gems/2.4.0/gems/iruby-0.3/lib/iruby/command.rb:34:in `run'\u001b[0m",
      "\u001b[37m/home/ceclinux/.rvm/rubies/ruby-2.4.1/lib/ruby/gems/2.4.0/gems/iruby-0.3/bin/iruby:5:in `<top (required)>'\u001b[0m",
      "\u001b[37m/home/ceclinux/.rvm/gems/ruby-2.4.1/bin/iruby:23:in `load'\u001b[0m",
      "\u001b[37m/home/ceclinux/.rvm/gems/ruby-2.4.1/bin/iruby:23:in `<main>'\u001b[0m",
      "\u001b[37m/home/ceclinux/.rvm/gems/ruby-2.4.1/bin/ruby_executable_hooks:15:in `eval'\u001b[0m",
      "\u001b[37m/home/ceclinux/.rvm/gems/ruby-2.4.1/bin/ruby_executable_hooks:15:in `<main>'\u001b[0m"
     ]
    }
   ],
   "source": [
    "$SAFE = 1\n",
    "user_input = \"User input: #{gets()}\"\n",
    "eval user_input"
   ]
  },
  {
   "cell_type": "markdown",
   "metadata": {},
   "source": [
    "通过谨慎的使用安全级别，你可以为`eval`方法创建一个可控的环境。像这样的环境称为沙盒(Sandbox)"
   ]
  },
  {
   "cell_type": "code",
   "execution_count": 34,
   "metadata": {},
   "outputs": [
    {
     "data": {
      "text/plain": [
       "false"
      ]
     },
     "execution_count": 34,
     "metadata": {},
     "output_type": "execute_result"
    }
   ],
   "source": [
    "require 'erb'"
   ]
  },
  {
   "cell_type": "code",
   "execution_count": 40,
   "metadata": {},
   "outputs": [
    {
     "data": {
      "text/plain": [
       "#<ERB:0x246c528 @safe_level=nil, @src=\"#coding:UTF-8\\n_erbout = String.new; _erbout.concat \\\"<p><strong>Wake up!</strong></p>\\\"; _erbout.concat(( Time.new.strftime(\\\"%A\\\") ).to_s); _erbout.force_encoding(__ENCODING__)\", @encoding=#<Encoding:UTF-8>, @frozen_string=nil, @filename=nil, @lineno=0>"
      ]
     },
     "execution_count": 40,
     "metadata": {},
     "output_type": "execute_result"
    }
   ],
   "source": [
    "erb = ERB.new('<p><strong>Wake up!</strong></p><%= Time.new.strftime(\"%A\") %>')"
   ]
  },
  {
   "cell_type": "code",
   "execution_count": 42,
   "metadata": {},
   "outputs": [
    {
     "name": "stdout",
     "output_type": "stream",
     "text": [
      "<p><strong>Wake up!</strong></p>Saturday"
     ]
    }
   ],
   "source": [
    "erb.run"
   ]
  },
  {
   "cell_type": "markdown",
   "metadata": {},
   "source": [
    "Ruby中有像`Kernel#load`和`Kernel#lrequire`这样的方法，他们接受文件名作为参数，然后执行那个文件中的代码。运行一个文件和运行一个字符串并没有太大的区别，这意味着`load`和`require`其实更`eval`方法相似。尽管这些方法不输与`eval`方法家族，也可以任何它们是远亲"
   ]
  },
  {
   "cell_type": "markdown",
   "metadata": {},
   "source": [
    "由于你可以控制自己文件的内容，所以使用`load`和`require`方法时通常不想使用`eval`方法有那么多安全顾虑。"
   ]
  },
  {
   "cell_type": "code",
   "execution_count": 45,
   "metadata": {},
   "outputs": [
    {
     "data": {
      "text/plain": [
       "false"
      ]
     },
     "execution_count": 45,
     "metadata": {},
     "output_type": "execute_result"
    }
   ],
   "source": [
    "require 'test/unit'"
   ]
  },
  {
   "cell_type": "code",
   "execution_count": 51,
   "metadata": {},
   "outputs": [
    {
     "data": {
      "text/plain": [
       ":add_checked_attributes"
      ]
     },
     "execution_count": 51,
     "metadata": {},
     "output_type": "execute_result"
    }
   ],
   "source": [
    "class Person; end\n",
    "\n",
    "class TestCheckedattributes < Test::Unit::TestCase\n",
    "  def setup\n",
    "    add_checked_attribute(Person, :age)\n",
    "    @bob = Person.new\n",
    "  end\n",
    "  \n",
    "  def test_accepts_valid_values\n",
    "    @bob.age = 20\n",
    "    assert_equal 20, @bob.age\n",
    "  end\n",
    "  \n",
    "  def test_refuses_nil_values\n",
    "    assert_raise RuntimeError, 'Invalid attributes' do\n",
    "      @bob.age = nil\n",
    "    end\n",
    "  end\n",
    "  \n",
    "  def test_refuses_false_values\n",
    "    assert_raise RuntimeError, 'Invalide attribute' do\n",
    "      @bob.age = nil\n",
    "    end\n",
    "  end\n",
    "  \n",
    "end\n",
    "\n",
    "def add_checked_attributes(klass, attribute)\n",
    "  eval <<-end_eval\n",
    "    def #{klass}\n",
    "      def #{attribute}=(value)\n",
    "        raise RuntimeError unless value\n",
    "        @#{attribute} = value\n",
    "      end\n",
    "    end\n",
    "    \n",
    "    def #{attribute}()\n",
    "      @#{attribute}\n",
    "    end\n",
    "  end\n",
    "end_eval\n",
    "end"
   ]
  },
  {
   "cell_type": "markdown",
   "metadata": {},
   "source": [
    "## 不用`eval`来实现"
   ]
  },
  {
   "cell_type": "code",
   "execution_count": 53,
   "metadata": {},
   "outputs": [
    {
     "data": {
      "text/plain": [
       ":add_checked_attribut"
      ]
     },
     "execution_count": 53,
     "metadata": {},
     "output_type": "execute_result"
    }
   ],
   "source": [
    "def add_checked_attribut(klass, attribute)\n",
    "  klass.class_eavl do\n",
    "    define_method \"#{attribute}=\" do |value|\n",
    "      raise 'invalide attribute' unless value\n",
    "      instance_variable_set(\"@#{attribute}\", value)\n",
    "    end\n",
    "    \n",
    "    define_method attribute do\n",
    "      instance_variable_get \"@#{attribute}\"\n",
    "    end\n",
    "  end\n",
    "end"
   ]
  },
  {
   "cell_type": "code",
   "execution_count": 56,
   "metadata": {
    "collapsed": true
   },
   "outputs": [],
   "source": [
    "class String\n",
    "  def self.inherited(subclass)\n",
    "    p \"#{self} was inherited by #{subclass}\"\n",
    "  end\n",
    "end\n",
    "class MyString < String; end\n"
   ]
  },
  {
   "cell_type": "markdown",
   "metadata": {},
   "source": [
    "`inherited`方法是`Class`的一个实例方法，当一个类被继承时，Ruby会调用这个方法。默认情况下，`Class#inherited`方法什么也不做，但是你可以像上例一样覆写它的行为，像`Class#inherited`方法什么也不做，但是你可以想上例一样复写它的行为。像`Class#inherited`这样的方法称为钩子方法，因为它们像钩子一样，可以勾住特定的事件。"
   ]
  },
  {
   "cell_type": "markdown",
   "metadata": {},
   "source": [
    "Ruby提供的钩子方法种类众多，覆盖了对象模型中绝大多数时间。就像复写`Class#inherited`方法可以在类的生命周期中插入代码一样，你也可以覆写`module#included`方法和`module#prepended`方法，在模块的生命周期中插入代码"
   ]
  },
  {
   "cell_type": "code",
   "execution_count": 61,
   "metadata": {},
   "outputs": [
    {
     "name": "stdout",
     "output_type": "stream",
     "text": [
      "M1 was included into C\n",
      "M2 was prepended to C\n"
     ]
    },
    {
     "data": {
      "text/plain": [
       "C"
      ]
     },
     "execution_count": 61,
     "metadata": {},
     "output_type": "execute_result"
    }
   ],
   "source": [
    "module M1\n",
    "  def self.included(othermod)\n",
    "    puts \"M1 was included into #{othermod}\"\n",
    "  end\n",
    "end\n",
    "\n",
    "module M2\n",
    "  def self.prepended(othermod)\n",
    "    puts \"M2 was prepended to #{othermod}\"\n",
    "  end\n",
    "end\n",
    "\n",
    "class C\n",
    "  include M1\n",
    "  prepend M2\n",
    "end"
   ]
  },
  {
   "cell_type": "markdown",
   "metadata": {},
   "source": [
    "通过覆写`Module#extend_object`方法，还可以在模块扩展类时执行代码。通过覆写`Module#method_added`，`method_removed`或`method_undefined`方法，可以插入跟方法相关的事件代码。"
   ]
  },
  {
   "cell_type": "code",
   "execution_count": 60,
   "metadata": {},
   "outputs": [
    {
     "name": "stdout",
     "output_type": "stream",
     "text": [
      "New method: M#my_method\n"
     ]
    },
    {
     "data": {
      "text/plain": [
       ":my_method"
      ]
     },
     "execution_count": 60,
     "metadata": {},
     "output_type": "execute_result"
    }
   ],
   "source": [
    "module M\n",
    "  def self.method_added(method)\n",
    "    puts \"New method: M##{method}\"\n",
    "  end\n",
    "  \n",
    "  def my_method; end\n",
    "end"
   ]
  },
  {
   "cell_type": "markdown",
   "metadata": {},
   "source": [
    "这些钩子只对普通的实例方法（对象所属的类中的方法）生效，对单件方法（对象的单件类中的方法）则无效。如果想捕获单件方法的事件，则需要使用`BasicObject`中的`singleton_method_added`方法、`singleton_method_removed`方法和`singleton_method_undefined`方法"
   ]
  },
  {
   "cell_type": "markdown",
   "metadata": {},
   "source": [
    "不仅`Class#inherited`和`Module#method_added`这样特殊的方法可以作为钩子方法，绝大多数Ruby方法也可以通过某种方式实现钩子方法的功能。"
   ]
  },
  {
   "cell_type": "code",
   "execution_count": 63,
   "metadata": {},
   "outputs": [
    {
     "name": "stdout",
     "output_type": "stream",
     "text": [
      "Called: C.include([M])\n"
     ]
    },
    {
     "data": {
      "text/plain": [
       "C"
      ]
     },
     "execution_count": 63,
     "metadata": {},
     "output_type": "execute_result"
    }
   ],
   "source": [
    "module M; end\n",
    "\n",
    "class C\n",
    "  def self.include(*modules)\n",
    "    puts \"Called: C.include(#{modules})\"\n",
    "    super\n",
    "  end\n",
    "  \n",
    "  include M\n",
    "end"
   ]
  },
  {
   "cell_type": "markdown",
   "metadata": {},
   "source": [
    "覆写`Module#inlcuded`方法与覆写`Module#include`方法有一个重要的区别。`Module#included`只是一个钩子，默认情况下什么也不做。而`Module#include`必须包含一个模块，所以在插入代码之后，还需要用`super`关键字调用原始的实现。\n",
    "\n",
    "就算不覆写，也可以用环绕别名把普通方法变成钩子方法。"
   ]
  },
  {
   "cell_type": "code",
   "execution_count": 65,
   "metadata": {},
   "outputs": [
    {
     "data": {
      "text/plain": [
       ":attr_checked"
      ]
     },
     "execution_count": 65,
     "metadata": {},
     "output_type": "execute_result"
    }
   ],
   "source": [
    "module CheckedAttributes\n",
    "  def self.included(base)\n",
    "    base.extend ClassMethods\n",
    "  end\n",
    "  \n",
    "  module ClassMethods\n",
    "    def attr_checked(attribue, &validation)\n",
    "      define_method \"#{attribute}=\" do |value|\n",
    "        raise 'Invalide attribute' unless validation.call(value)\n",
    "        instance_variable_set(\"@#{attribute}\", value)\n",
    "      end\n",
    "      \n",
    "      define_method attribute do\n",
    "        instance_variable_get \"@{attribute}\"\n",
    "      end\n",
    "    end\n",
    "  end\n",
    "end"
   ]
  }
 ],
 "metadata": {
  "kernelspec": {
   "display_name": "Ruby 2.4.1",
   "language": "ruby",
   "name": "ruby"
  },
  "language_info": {
   "file_extension": ".rb",
   "mimetype": "application/x-ruby",
   "name": "ruby",
   "version": "2.4.1"
  }
 },
 "nbformat": 4,
 "nbformat_minor": 2
}
