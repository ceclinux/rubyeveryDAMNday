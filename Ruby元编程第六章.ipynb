{
 "cells": [
  {
   "cell_type": "code",
   "execution_count": 2,
   "metadata": {},
   "outputs": [
    {
     "data": {
      "text/plain": [
       "[10, 20, 30]"
      ]
     },
     "execution_count": 2,
     "metadata": {},
     "output_type": "execute_result"
    }
   ],
   "source": [
    "array = [10, 20]\n",
    "\n",
    "element = 30\n",
    "eval(\"array << element\")"
   ]
  },
  {
   "cell_type": "code",
   "execution_count": 5,
   "metadata": {},
   "outputs": [
    {
     "name": "stderr",
     "output_type": "stream",
     "text": [
      "(pry):18: warning: already initialized constant POSSIBLE_VERBS\n",
      "(pry):9: warning: previous definition of POSSIBLE_VERBS was here\n"
     ]
    },
    {
     "data": {
      "text/plain": [
       "[\"get\", \"put\", \"put\", \"delete\"]"
      ]
     },
     "execution_count": 5,
     "metadata": {},
     "output_type": "execute_result"
    }
   ],
   "source": [
    "POSSIBLE_VERBS = ['get', 'put', 'put', 'delete']\n",
    "\n",
    "POSSIBLE_VERBS.each do |m|\n",
    "  eval <<-end_eval\n",
    "    def #{m}(path, *args, &b)\n",
    "      r[path].#{m}(*args, &b)\n",
    "    end\n",
    "    end_eval\n",
    "  end"
   ]
  },
  {
   "cell_type": "markdown",
   "metadata": {},
   "source": [
    "上面的代码中使用了一种特殊的字符串语法，称为here文档（here document），也可以称为heredoc。在`eval`之后紧跟着一个字符串，尽管它没有用引号方式表示。它以一个双小于号（`<<`）开头，后面紧跟着“结束序列”的字符组，直到碰到只包含结束序列的行时，字符串定义才结束。因此，上面的字符串是从`def`开始，到`end`结束。"
   ]
  },
  {
   "cell_type": "markdown",
   "metadata": {},
   "source": [
    "`Binding`就是一个用对象表示的完整作用域，可以通过创建`Binding`对象来捕获并带走当前的作用域。然后，可以通过`eval`方法在这个`Binding`对象所携带的作用域中执行代码。`Kernel#binding`方法可以用来创建`Binding`对象。"
   ]
  },
  {
   "cell_type": "code",
   "execution_count": 6,
   "metadata": {},
   "outputs": [
    {
     "data": {
      "text/plain": [
       "#<Binding:0x247f0b0>"
      ]
     },
     "execution_count": 6,
     "metadata": {},
     "output_type": "execute_result"
    }
   ],
   "source": [
    "class MyClass\n",
    "  def my_method\n",
    "    @x = 1\n",
    "    binding\n",
    "  end\n",
    "end\n",
    "\n",
    "b = MyClass.new.my_method"
   ]
  },
  {
   "cell_type": "code",
   "execution_count": 8,
   "metadata": {},
   "outputs": [
    {
     "data": {
      "text/plain": [
       "1"
      ]
     },
     "execution_count": 8,
     "metadata": {},
     "output_type": "execute_result"
    }
   ],
   "source": [
    "eval \"@x\", b"
   ]
  },
  {
   "cell_type": "code",
   "execution_count": 10,
   "metadata": {},
   "outputs": [
    {
     "data": {
      "text/plain": [
       ":my_method"
      ]
     },
     "execution_count": 10,
     "metadata": {},
     "output_type": "execute_result"
    }
   ],
   "source": [
    "class AnotherClass\n",
    "  def my_method\n",
    "    eval \"self\", TOPLEVEL_BINDING\n",
    "  end\n",
    "end"
   ]
  },
  {
   "cell_type": "code",
   "execution_count": 12,
   "metadata": {},
   "outputs": [
    {
     "data": {
      "text/plain": [
       "main"
      ]
     },
     "execution_count": 12,
     "metadata": {},
     "output_type": "execute_result"
    }
   ],
   "source": [
    "AnotherClass.new.my_method"
   ]
  },
  {
   "cell_type": "markdown",
   "metadata": {},
   "source": [
    "Ruby还提供了一个名为`TOPLEVEL_BINDING`的预定义常量，它表示顶级作于域的`Binding`对象。你可以在程序的任何狄梵个访问这个顶级作用域"
   ]
  },
  {
   "cell_type": "markdown",
   "metadata": {},
   "source": [
    "`irb`的核心是一个简单的程序，它解析控制台（或文件的输入），再把每一行代码传给`eval`方式执行。"
   ]
  },
  {
   "cell_type": "markdown",
   "metadata": {},
   "source": [
    "`instance_eval`和`class_eval`除了执行代码块，也可以执行代码支付串。"
   ]
  },
  {
   "cell_type": "code",
   "execution_count": 15,
   "metadata": {},
   "outputs": [
    {
     "data": {
      "text/plain": [
       "[\"a\", \"d\", \"c\"]"
      ]
     },
     "execution_count": 15,
     "metadata": {},
     "output_type": "execute_result"
    }
   ],
   "source": [
    "array = ['a', 'b', 'c']\n",
    "x = 'd'\n",
    "array.instance_eval \"self[1] = x\"\n",
    "array"
   ]
  },
  {
   "cell_type": "markdown",
   "metadata": {},
   "source": [
    "能用代码块就尽量用代码块"
   ]
  },
  {
   "cell_type": "markdown",
   "metadata": {},
   "source": [
    "首先，代码字符串往往不能利用编辑器的功能特性，比如语法高亮和自动完成。即使能接受这个这个缺点，代码字符串也难以修改。另外，`Ruby`子啊执行字符串钱不会对它进行语法检查，这容易导致程序在运行时出现意想不到的结果。"
   ]
  },
  {
   "cell_type": "code",
   "execution_count": 17,
   "metadata": {},
   "outputs": [
    {
     "data": {
      "text/plain": [
       ":explore_array"
      ]
     },
     "execution_count": 17,
     "metadata": {},
     "output_type": "execute_result"
    }
   ],
   "source": [
    "def explore_array(method)\n",
    "  code = \"['a', 'b', 'c'].#{method}\"\n",
    "  puts \"Evaluating: #{code}\"\n",
    "  eval code\n",
    "end"
   ]
  },
  {
   "cell_type": "code",
   "execution_count": 19,
   "metadata": {},
   "outputs": [
    {
     "name": "stdout",
     "output_type": "stream",
     "text": [
      "Evaluating: ['a', 'b', 'c'].{\n",
      "\n"
     ]
    },
    {
     "ename": "SyntaxError",
     "evalue": "(eval):1: syntax error, unexpected {, expecting '('\n['a', 'b', 'c'].{\n                 ^",
     "output_type": "error",
     "traceback": [
      "\u001b[31mSyntaxError\u001b[0m: (eval):1: syntax error, unexpected {, expecting '('\n['a', 'b', 'c'].{\n                 ^",
      "\u001b[37m(pry):66:in `eval'\u001b[0m",
      "\u001b[37m(pry):66:in `explore_array'\u001b[0m",
      "\u001b[37m(pry):69:in `block in <main>'\u001b[0m",
      "\u001b[37m(pry):69:in `loop'\u001b[0m",
      "\u001b[37m(pry):69:in `<main>'\u001b[0m",
      "\u001b[37m/home/ceclinux/.rvm/rubies/ruby-2.4.1/lib/ruby/gems/2.4.0/gems/pry-0.11.1/lib/pry/pry_instance.rb:355:in `eval'\u001b[0m",
      "\u001b[37m/home/ceclinux/.rvm/rubies/ruby-2.4.1/lib/ruby/gems/2.4.0/gems/pry-0.11.1/lib/pry/pry_instance.rb:355:in `evaluate_ruby'\u001b[0m",
      "\u001b[37m/home/ceclinux/.rvm/rubies/ruby-2.4.1/lib/ruby/gems/2.4.0/gems/pry-0.11.1/lib/pry/pry_instance.rb:323:in `handle_line'\u001b[0m",
      "\u001b[37m/home/ceclinux/.rvm/rubies/ruby-2.4.1/lib/ruby/gems/2.4.0/gems/pry-0.11.1/lib/pry/pry_instance.rb:243:in `block (2 levels) in eval'\u001b[0m",
      "\u001b[37m/home/ceclinux/.rvm/rubies/ruby-2.4.1/lib/ruby/gems/2.4.0/gems/pry-0.11.1/lib/pry/pry_instance.rb:242:in `catch'\u001b[0m",
      "\u001b[37m/home/ceclinux/.rvm/rubies/ruby-2.4.1/lib/ruby/gems/2.4.0/gems/pry-0.11.1/lib/pry/pry_instance.rb:242:in `block in eval'\u001b[0m",
      "\u001b[37m/home/ceclinux/.rvm/rubies/ruby-2.4.1/lib/ruby/gems/2.4.0/gems/pry-0.11.1/lib/pry/pry_instance.rb:241:in `catch'\u001b[0m",
      "\u001b[37m/home/ceclinux/.rvm/rubies/ruby-2.4.1/lib/ruby/gems/2.4.0/gems/pry-0.11.1/lib/pry/pry_instance.rb:241:in `eval'\u001b[0m",
      "\u001b[37m/home/ceclinux/.rvm/rubies/ruby-2.4.1/lib/ruby/gems/2.4.0/gems/iruby-0.3/lib/iruby/backend.rb:66:in `eval'\u001b[0m",
      "\u001b[37m/home/ceclinux/.rvm/rubies/ruby-2.4.1/lib/ruby/gems/2.4.0/gems/iruby-0.3/lib/iruby/backend.rb:12:in `eval'\u001b[0m",
      "\u001b[37m/home/ceclinux/.rvm/rubies/ruby-2.4.1/lib/ruby/gems/2.4.0/gems/iruby-0.3/lib/iruby/kernel.rb:87:in `execute_request'\u001b[0m",
      "\u001b[37m/home/ceclinux/.rvm/rubies/ruby-2.4.1/lib/ruby/gems/2.4.0/gems/iruby-0.3/lib/iruby/kernel.rb:47:in `dispatch'\u001b[0m",
      "\u001b[37m/home/ceclinux/.rvm/rubies/ruby-2.4.1/lib/ruby/gems/2.4.0/gems/iruby-0.3/lib/iruby/kernel.rb:37:in `run'\u001b[0m",
      "\u001b[37m/home/ceclinux/.rvm/rubies/ruby-2.4.1/lib/ruby/gems/2.4.0/gems/iruby-0.3/lib/iruby/command.rb:70:in `run_kernel'\u001b[0m",
      "\u001b[37m/home/ceclinux/.rvm/rubies/ruby-2.4.1/lib/ruby/gems/2.4.0/gems/iruby-0.3/lib/iruby/command.rb:34:in `run'\u001b[0m",
      "\u001b[37m/home/ceclinux/.rvm/rubies/ruby-2.4.1/lib/ruby/gems/2.4.0/gems/iruby-0.3/bin/iruby:5:in `<top (required)>'\u001b[0m",
      "\u001b[37m/home/ceclinux/.rvm/gems/ruby-2.4.1/bin/iruby:23:in `load'\u001b[0m",
      "\u001b[37m/home/ceclinux/.rvm/gems/ruby-2.4.1/bin/iruby:23:in `<main>'\u001b[0m",
      "\u001b[37m/home/ceclinux/.rvm/gems/ruby-2.4.1/bin/ruby_executable_hooks:15:in `eval'\u001b[0m",
      "\u001b[37m/home/ceclinux/.rvm/gems/ruby-2.4.1/bin/ruby_executable_hooks:15:in `<main>'\u001b[0m"
     ]
    }
   ],
   "source": [
    "loop {p explore_array(gets())}"
   ]
  },
  {
   "cell_type": "markdown",
   "metadata": {},
   "source": [
    "直到某个用户输入了这样一个字符串："
   ]
  },
  {
   "cell_type": "code",
   "execution_count": 21,
   "metadata": {},
   "outputs": [
    {
     "data": {
      "text/plain": [
       "[\"Untitled2.ipynb\", \"Ruby Class Methods, Variables.ipynb\", \"Ruby元编程第一章.ipynb\", \"Ruby元编程第六章.ipynb\", \"Ruby tricks.ipynb\", \"Ruby元编程第二章.ipynb\", \"Untitled1.ipynb\", \"Ruby operators.ipynb\", \"closures-in-ruby.ipynb\", \"Untitled.ipynb\", \" Ruby 的并发, 进程, 线程, GIL, EventMachine, Celluloid.ipynb\", \"Ruby_knowledge.ipynb\", \"puts大法好👌.ipynb\"]"
      ]
     },
     "execution_count": 21,
     "metadata": {},
     "output_type": "execute_result"
    }
   ],
   "source": [
    "object_id; Dir.glob(\"*\")"
   ]
  },
  {
   "cell_type": "markdown",
   "metadata": {},
   "source": [
    "他输入的是一个不太常用的数组方法，后面跟着列出你程序目录下所有文件的命令。恶意用户现在可以在你的机器上执行任何代码，甚至可以格式话你的硬盘。这被称为代码注入攻击"
   ]
  },
  {
   "cell_type": "markdown",
   "metadata": {},
   "source": []
  }
 ],
 "metadata": {
  "kernelspec": {
   "display_name": "Ruby 2.4.1",
   "language": "ruby",
   "name": "ruby"
  },
  "language_info": {
   "file_extension": ".rb",
   "mimetype": "application/x-ruby",
   "name": "ruby",
   "version": "2.4.1"
  }
 },
 "nbformat": 4,
 "nbformat_minor": 2
}
