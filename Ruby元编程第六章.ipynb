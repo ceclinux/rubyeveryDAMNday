{
 "cells": [
  {
   "cell_type": "code",
   "execution_count": 2,
   "metadata": {},
   "outputs": [
    {
     "data": {
      "text/plain": [
       "[10, 20, 30]"
      ]
     },
     "execution_count": 2,
     "metadata": {},
     "output_type": "execute_result"
    }
   ],
   "source": [
    "array = [10, 20]\n",
    "\n",
    "element = 30\n",
    "eval(\"array << element\")"
   ]
  },
  {
   "cell_type": "code",
   "execution_count": 5,
   "metadata": {},
   "outputs": [
    {
     "name": "stderr",
     "output_type": "stream",
     "text": [
      "(pry):18: warning: already initialized constant POSSIBLE_VERBS\n",
      "(pry):9: warning: previous definition of POSSIBLE_VERBS was here\n"
     ]
    },
    {
     "data": {
      "text/plain": [
       "[\"get\", \"put\", \"put\", \"delete\"]"
      ]
     },
     "execution_count": 5,
     "metadata": {},
     "output_type": "execute_result"
    }
   ],
   "source": [
    "POSSIBLE_VERBS = ['get', 'put', 'put', 'delete']\n",
    "\n",
    "POSSIBLE_VERBS.each do |m|\n",
    "  eval <<-end_eval\n",
    "    def #{m}(path, *args, &b)\n",
    "      r[path].#{m}(*args, &b)\n",
    "    end\n",
    "    end_eval\n",
    "  end"
   ]
  },
  {
   "cell_type": "markdown",
   "metadata": {},
   "source": [
    "上面的代码中使用了一种特殊的字符串语法，称为here文档（here document），也可以称为heredoc。在`eval`之后紧跟着一个字符串，尽管它没有用引号方式表示。它以一个双小于号（`<<`）开头，后面紧跟着“结束序列”的字符组，直到碰到只包含结束序列的行时，字符串定义才结束。因此，上面的字符串是从`def`开始，到`end`结束。"
   ]
  },
  {
   "cell_type": "markdown",
   "metadata": {},
   "source": [
    "`Binding`就是一个用对象表示的完整作用域，可以通过创建`Binding`对象来捕获并带走当前的作用域。然后，可以通过`eval`方法在这个`Binding`对象所携带的作用域中执行代码。`Kernel#binding`方法可以用来创建`Binding`对象"
   ]
  },
  {
   "cell_type": "code",
   "execution_count": 6,
   "metadata": {},
   "outputs": [
    {
     "data": {
      "text/plain": [
       "#<Binding:0x247f0b0>"
      ]
     },
     "execution_count": 6,
     "metadata": {},
     "output_type": "execute_result"
    }
   ],
   "source": [
    "class MyClass\n",
    "  def my_method\n",
    "    @x = 1\n",
    "    binding\n",
    "  end\n",
    "end\n",
    "\n",
    "b = MyClass.new.my_method"
   ]
  },
  {
   "cell_type": "code",
   "execution_count": 8,
   "metadata": {},
   "outputs": [
    {
     "data": {
      "text/plain": [
       "1"
      ]
     },
     "execution_count": 8,
     "metadata": {},
     "output_type": "execute_result"
    }
   ],
   "source": [
    "eval \"@x\", b"
   ]
  },
  {
   "cell_type": "code",
   "execution_count": 10,
   "metadata": {},
   "outputs": [
    {
     "data": {
      "text/plain": [
       ":my_method"
      ]
     },
     "execution_count": 10,
     "metadata": {},
     "output_type": "execute_result"
    }
   ],
   "source": [
    "class AnotherClass\n",
    "  def my_method\n",
    "    eval \"self\", TOPLEVEL_BINDING\n",
    "  end\n",
    "end"
   ]
  },
  {
   "cell_type": "code",
   "execution_count": 12,
   "metadata": {},
   "outputs": [
    {
     "data": {
      "text/plain": [
       "main"
      ]
     },
     "execution_count": 12,
     "metadata": {},
     "output_type": "execute_result"
    }
   ],
   "source": [
    "AnotherClass.new.my_method"
   ]
  },
  {
   "cell_type": "markdown",
   "metadata": {},
   "source": [
    "Ruby还提供了一个名为`TOPLEVEL_BINDING`的预定义常量，它表示顶级作于域的`Binding`对象。你可以在程序的任何狄梵个访问这个顶级作用域"
   ]
  },
  {
   "cell_type": "markdown",
   "metadata": {},
   "source": [
    "`irb`的核心是一个简单的程序，它解析控制台（或文件的输入），再把每一行代码传给`eval`方式执行。"
   ]
  }
 ],
 "metadata": {
  "kernelspec": {
   "display_name": "Ruby 2.4.1",
   "language": "ruby",
   "name": "ruby"
  },
  "language_info": {
   "file_extension": ".rb",
   "mimetype": "application/x-ruby",
   "name": "ruby",
   "version": "2.4.1"
  }
 },
 "nbformat": 4,
 "nbformat_minor": 2
}
