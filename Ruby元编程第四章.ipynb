最后一个可以调用对象家族的成员时方法。如果你不相信方法跟`lambda`一样也是可调用对象，那么就来看看下面这个例子：

```ruby
class MyClass
  def initialize(value)
    @x = value
  end

  def my_method
    @x
  end
end
object = MyClass.new(1)
m = object.method :my_method
m.call
```

通过调用`Kernel#method`方法，可以获得一个用`Method`对象表示的方法。可以以后用`Method#call`对其进行调用。

`Method`对象类似于代码块或者`lambda`。实际上，可以通过`Method#to_proc`方法把`Method`对象转换为`proc`。另外还可以通过`define_method`方法把代码块转换为方法。然而，它们之间有一个重要的区别，`lambda`在定义它的作用域中执行。而`Method`对象会在它自身所在对象的左俞勇中执行。

## 自由方法

自由方法和跟普通方法类似，不过它从最初定义它的类或者模块中脱离了。通过`Method#unbind`方法，可以把一个方法变成自由方法。你可以直接调用`Module#instance_method`方法获得一个自由方法

```ruby
module MyModule
  def my_method
    42
  end
end

unbound = MyModule.instance_method(:my_method)
unbound.class
```

虽然不能**调用**`UnboundMethod`，但他们把它绑定到一个对象上，使之再次成为一个`Method`对象，具体的做法是使用`UnboundMethod#bind`方法把`UnboundMethod`对象绑定到一个对象上。还可以使把`UnboundMethod`对象传给`Method#define_method`方法，从而实现绑定。（使用动态派发在字符串上调用`define_method`），因为它是私有方法。

```ruby
String.send :define_method, :another_method, unbound
"abc".another_method #42
```

有时我们希望包含`Loadable`的类消除自动加载功能。换句话说，不想调用`Loadable#load`方法，而想调用`Kernel#load`方法。`Ruby`没有`uninclude`语句，因此一旦包换了`Loadable`，就无法从祖先链中去掉。不过，`ActiveSupport`用一行代码就解决了问题。

## 可调用对象小结

可调用对象有以下几种：

- 代码块（它们不是真正的对象，但是它是可调用的）在**定义它的作用域中**执行。
- proc，也在定义它的作用域中执行
- lambda：也是`proc`对象，但是和普通的`proc`有细微的区别，它跟块和`proc`一样都是闭包，因此也子啊定义自身的作用域中执行。
- 方法： 绑定与一个对象，在所绑定对象的作用域中执行，他们也可以与这个作用域解除绑定，然后再重新绑定到另一个对点过的作用于上。

不同对象的可调用对象有细微的差别。在方法和`lambda`中，`return`语句从可以调用对象返回。而在块和`proc`中，`return`从定义可调用对象中返回。而在块和`proc`中，`return`从定义可调用对象的原始上下文中返回。另外，不同的可调用对象对于传入参数数量不符有不同的处理方式。其中方法处理的方式最严格，`lambda`相对严格，而`proc`和块要宽容一点。

尽管有这些差别，你还是可以将一种可调用对象转换为另外一种，实现这样功能的方法包括`Proc.new`方法，`Method#to_proc`方法和`&`操作符。


