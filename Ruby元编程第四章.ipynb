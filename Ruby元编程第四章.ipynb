{
 "cells": [
  {
   "cell_type": "code",
   "execution_count": 1,
   "metadata": {},
   "outputs": [
    {
     "data": {
      "text/plain": [
       "10"
      ]
     },
     "execution_count": 1,
     "metadata": {},
     "output_type": "execute_result"
    }
   ],
   "source": [
    "def a_method(a, b)\n",
    "  a + yield(a, b)\n",
    "end\n",
    "\n",
    "a_method(1, 2) {|x, y| (x + y) * 3}"
   ]
  },
  {
   "cell_type": "markdown",
   "metadata": {},
   "source": [
    "只有在调用一个方法时，才可以定义一个块。块会被直接传递给这次方法，该方法可以用`yield`关键字调用这个块。"
   ]
  },
  {
   "cell_type": "markdown",
   "metadata": {},
   "source": [
    "块可以拥有自己的参数，比如上面例子中的`x`和`y`。当回调块时，你可以像调用方法那样为块提供参数。另外，像方法一样，块的最后一行代码执行的结果会被作为返回值。"
   ]
  },
  {
   "cell_type": "markdown",
   "metadata": {},
   "source": [
    "在一个方法里，你可以询问当前的方法调用是后包含块。这可以通过`Kernel#block_given?`方法做到"
   ]
  },
  {
   "cell_type": "code",
   "execution_count": 6,
   "metadata": {},
   "outputs": [
    {
     "name": "stdout",
     "output_type": "stream",
     "text": [
      "\"no block\"\n",
      "\"here's a block!\"\n"
     ]
    },
    {
     "data": {
      "text/plain": [
       "\"here's a block!\""
      ]
     },
     "execution_count": 6,
     "metadata": {},
     "output_type": "execute_result"
    }
   ],
   "source": [
    "def a_method\n",
    "  return yield if block_given?\n",
    "  'no block'\n",
    "end\n",
    "\n",
    "p a_method\n",
    "p a_method {\"here's a block!\"}"
   ]
  },
  {
   "cell_type": "code",
   "execution_count": 7,
   "metadata": {},
   "outputs": [
    {
     "data": {
      "text/plain": [
       ":with"
      ]
     },
     "execution_count": 7,
     "metadata": {},
     "output_type": "execute_result"
    }
   ],
   "source": [
    "module Kernel\n",
    "  def with(resource)\n",
    "    begin\n",
    "      yield\n",
    "    ensure\n",
    "      resource.dispose\n",
    "    end\n",
    "  end\n",
    "end"
   ]
  }
 ],
 "metadata": {
  "kernelspec": {
   "display_name": "Ruby 2.4.1",
   "language": "ruby",
   "name": "ruby"
  },
  "language_info": {
   "file_extension": ".rb",
   "mimetype": "application/x-ruby",
   "name": "ruby",
   "version": "2.4.1"
  }
 },
 "nbformat": 4,
 "nbformat_minor": 2
}
