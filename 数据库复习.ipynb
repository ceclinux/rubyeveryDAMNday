{
 "cells": [
  {
   "cell_type": "markdown",
   "metadata": {},
   "source": [
    "```sql\n",
    "select distinct product_type, regist_date\n",
    "from product\n",
    "```"
   ]
  },
  {
   "cell_type": "markdown",
   "metadata": {},
   "source": [
    "`DISTINCT`关键字只能用在第一个列名之前，不能写成`select regist_date, distinct product_type`"
   ]
  },
  {
   "cell_type": "markdown",
   "metadata": {},
   "source": [
    "DCL(Data Control Language, 数据库控制语言）用来确认或者取消数据库中的数据进行的变更。除此之外，还可以对`RDBMS`的用户是否有权限操作数据库中的对象进行设定。DCL包含以下几种指令："
   ]
  },
  {
   "cell_type": "markdown",
   "metadata": {},
   "source": [
    "1. COMMIT 确认对数据库中的数据进行变更\n",
    "2. ROLLBACK 取消对数据库中数据进行的变更\n",
    "3. GRANT 赋予用户操作权限\n",
    "4. 取消用户的操作权限\n"
   ]
  },
  {
   "cell_type": "markdown",
   "metadata": {},
   "source": [
    "```sql\n",
    "5 + NULL\n",
    "10 - NULL\n",
    "```"
   ]
  },
  {
   "cell_type": "markdown",
   "metadata": {},
   "source": [
    "所有包含`NULL`的运算， 结果肯定是`NULL`。"
   ]
  },
  {
   "cell_type": "markdown",
   "metadata": {},
   "source": [
    "`COUNT(*)`会包含NULL的数据行数字，而`COUNT(列名)`会得到NULL之外的数据行数"
   ]
  },
  {
   "cell_type": "markdown",
   "metadata": {},
   "source": [
    "像这样使用`WHERE`子句进行汇总处理时，会先根据`WHERE`子句制定的条件进行过滤，然后再进行汇总处理。"
   ]
  },
  {
   "cell_type": "markdown",
   "metadata": {},
   "source": [
    "`HAVING`子句和包含`GROUP BY`子句时的`SELECT`子句一样，能够使用的要素有一定的限制，限制内容也是完全相同的。"
   ]
  },
  {
   "cell_type": "markdown",
   "metadata": {},
   "source": [
    "有些条件既可以卸载HAVING子句当中，又可以写在`WHERE`子句当中。这些条件就是聚合键所对应的条件。建议写在`WHERE`子句之中。"
   ]
  },
  {
   "cell_type": "markdown",
   "metadata": {},
   "source": [
    "通常情况下，为了得到相同的结果，将条件写在`WHERE`子句中要比写在HAVING子句中要更快，返回结果所需的时间更短。"
   ]
  },
  {
   "cell_type": "markdown",
   "metadata": {},
   "source": [
    "为了理解其中的原因，就要从DBMS的内部运行机制来考虑。使用`COUNT`函数灯对表中的数据进行聚合操作时，DBMS内部就会进行排序处理。排序处理是会大大增加机器负担的高负荷的处理。因此，址由尽可能减少排序的行数，才能提高处理速度。"
   ]
  },
  {
   "cell_type": "markdown",
   "metadata": {},
   "source": [
    "一定要记住`SELECT`子句的执行顺序在`GROUP BY`子句之后，`ORDER BY`子句之前。因此，在执行`GROUP BY`子句时，`SELECT`语句中定义的别名无法识别……在`ORDER BY `就可以"
   ]
  },
  {
   "cell_type": "markdown",
   "metadata": {},
   "source": [
    "在`ORDER BY`中可以使用`SELECT`子句中未使用的列和聚合函数。"
   ]
  },
  {
   "cell_type": "markdown",
   "metadata": {},
   "source": [
    "事务是需要在同一个单元中执行的一系列更新的处理。通过使用事务，可以对数据库中的数据更新处理的提交和取消进行管理。"
   ]
  },
  {
   "cell_type": "markdown",
   "metadata": {},
   "source": [
    "在`RDMBS`中，事务就是需要在同一处理单元中执行的一些列更新处理的集合。"
   ]
  },
  {
   "cell_type": "markdown",
   "metadata": {},
   "source": [
    "更新商品信息的事务"
   ]
  },
  {
   "cell_type": "markdown",
   "metadata": {},
   "source": [
    "```sql\n",
    "UPDATE Product\n",
    "SET sale_price = sale_price - 1000\n",
    "WHERE product_name = '运动T恤'\n",
    "\n",
    "UPDATE Product\n",
    "SET sale_price = sale_price + 1000\n",
    "WHERE product_name = '运动T恤'\n",
    "```"
   ]
  },
  {
   "cell_type": "markdown",
   "metadata": {},
   "source": [
    "对表更新需要使用`INSERT、DELETE或者UPDATE`三种语句。但通常情况下，更新处理并不是执行一次就结束了，而是需要执行一系列的操作。这时，事务就能体现处它的价值了"
   ]
  },
  {
   "cell_type": "markdown",
   "metadata": {},
   "source": [
    "默认使用自动提交模式的DBMS有`SQL Server`,`PostgresSQL`和`MySQL`灯。该模式下的DML语句如下所示，每一条语句都括在事务的开始语句和结束语句址中。"
   ]
  },
  {
   "cell_type": "markdown",
   "metadata": {},
   "source": [
    "DBMS的事务都遵循四种特性，将这四种特性的首字母结合起来统称为`ACID`特性，这是所有的DBMS都必须遵守的规则。"
   ]
  },
  {
   "cell_type": "markdown",
   "metadata": {},
   "source": [
    "### 原子性"
   ]
  },
  {
   "cell_type": "markdown",
   "metadata": {},
   "source": [
    "原子性是指事务结束时，其中所包含的更新处理要么全部执行，要么完全不执行，也就是要么占有要么一无所有"
   ]
  },
  {
   "cell_type": "markdown",
   "metadata": {},
   "source": [
    "### 一致性"
   ]
  },
  {
   "cell_type": "markdown",
   "metadata": {},
   "source": [
    "一致性指的是事务中包含的处理要满足数据库提前设置的约束，如主键约束或者`NOT NULL`约束灯。例如，设置了`NOT NULL`约束的列是不能更新为`NULL`的，试图插入违反主键约束的记录就会出错。对事务来说，这些不合法的SQL会被回滚。"
   ]
  },
  {
   "cell_type": "markdown",
   "metadata": {},
   "source": [
    "### 隔离性"
   ]
  },
  {
   "cell_type": "markdown",
   "metadata": {},
   "source": [
    "隔离性指的是保证不同事务直接按互补干扰的特性。该特性保证了事务之间不会互相嵌套。此外，在某个事务中进行的更改，在该事务结束之前，对其他事务而言是不可见的。因此，即使某个事务向表中添加了记录，在没有提交之前，其他事务也是看不到新添加的事务的。"
   ]
  },
  {
   "cell_type": "markdown",
   "metadata": {},
   "source": [
    "### 持久性"
   ]
  },
  {
   "cell_type": "markdown",
   "metadata": {},
   "source": [
    "持久性也成为耐久性，指的是事务结束后，DBMS能够保证该时间点的数据状态会被保存的特性。即使由于系统故障导致数据丢失，数据库也能通过某种手段进行恢复。"
   ]
  },
  {
   "cell_type": "markdown",
   "metadata": {},
   "source": [
    "保持持久性的方法根据实现的不同而不同，其中最常见的就是将事务的执行记录保存到硬盘灯储存介质中。当发生故障时，可以通过日志恢复到故障发生前的状态。"
   ]
  },
  {
   "cell_type": "markdown",
   "metadata": {},
   "source": [
    "但是使用视图时不会将数据保存到存储设备中，而且也不会将数据保存到其他任何地方。实际上视图保存的是`SELECT`语句。我们从视图中读取数据时，视图会在内部执行该`SELECT`语句并创建出一张零时表"
   ]
  },
  {
   "cell_type": "markdown",
   "metadata": {},
   "source": [
    " 子查询的特点概括起来就是一张一次性视图。"
   ]
  },
  {
   "cell_type": "markdown",
   "metadata": {},
   "source": [
    "```sql\n",
    "SELECT product_type, product_name, sale_price\n",
    "FROM Product AS p1\n",
    "WHERE sale_price > (SELECT AVG(sale_price)\n",
    "from Product as P2 where P1.product_type = P2.product_type)\n",
    "GROUP by product_type\n",
    "```"
   ]
  },
  {
   "cell_type": "markdown",
   "metadata": {},
   "source": [
    "关联子查询实际只能返回1行结果。"
   ]
  },
  {
   "cell_type": "markdown",
   "metadata": {},
   "source": [
    "这两个查询一样"
   ]
  },
  {
   "cell_type": "markdown",
   "metadata": {},
   "source": [
    "```sql\n",
    "SELECT product_name, sale_price\n",
    "FROM Product\n",
    "WHERE product_id IN (SELECT product_id\n",
    "                      FROM ShopProduct\n",
    "                      WHERE shop_id = '000C')\n",
    "```"
   ]
  },
  {
   "cell_type": "markdown",
   "metadata": {},
   "source": [
    "```sql\n",
    "SELECT product_name, sale_price\n",
    "FROM Product AS P\n",
    "WHERE EXISTS (SELECT *\n",
    "              FROM ShopProduct AS SP\n",
    "              WHERE SP.shop_id = '000C'\n",
    "              AND SP.product_id = P.product_id)\n",
    "```"
   ]
  },
  {
   "cell_type": "markdown",
   "metadata": {},
   "source": [
    "EXISTS只关心记录是否存在，因此返回哪些列都没有关系。所以往往使用`select *`"
   ]
  },
  {
   "cell_type": "code",
   "execution_count": null,
   "metadata": {},
   "outputs": [],
   "source": []
  }
 ],
 "metadata": {
  "kernelspec": {
   "display_name": "Elixir",
   "language": "Elixir",
   "name": "ielixir"
  },
  "language_info": {
   "codemirror_mode": "elixir",
   "file_extension": "ex",
   "mimetype": "text/x-elixir",
   "name": "elixir",
   "nbconvert_exporter": "",
   "pygments_lexer": "elixir",
   "version": "#Version<1.6.5>"
  }
 },
 "nbformat": 4,
 "nbformat_minor": 2
}
