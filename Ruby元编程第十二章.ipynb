{
 "cells": [
  {
   "cell_type": "markdown",
   "metadata": {},
   "source": [
    "## `establish_connection`\n",
    "\n",
    "Establishes the connection to the database. Accepts a hash as input where the :adapter key must be specified with the name of a database adapter (in lower-case) example for regular databases (MySQL, PostgreSQL, etc"
   ]
  },
  {
   "cell_type": "markdown",
   "metadata": {},
   "source": [
    "当调用一个不存在的方法时，Ruby会沿着祖先链向上查找这个方法。如果一直找到`BasicObject`还没有找到这个方法，则`Ruby`会回到祖先链底，调用`method_misssing`这个方法，这意味着幽灵方法的调用要慢于普通方法的调用，因为`Ruby`至少要完整的查找一遍祖先链"
   ]
  },
  {
   "cell_type": "markdown",
   "metadata": {},
   "source": [
    "在大多数情况下，幽灵方法和普通方法的效率可以忽略不计。然而，在`Rails`中，属性方法的调用非常频繁。在`Rails 1`中，每一次对属性方法的调用都不得不遍历`ActiveRecord::Base`那么长的祖先链，因此效率非常的低。"
   ]
  },
  {
   "cell_type": "code",
   "execution_count": 2,
   "metadata": {},
   "outputs": [
    {
     "name": "stdout",
     "output_type": "stream",
     "text": [
      "nil\n"
     ]
    }
   ],
   "source": [
    "class MyClass\n",
    "  attr_accessor :my_attribute\n",
    "  \n",
    "  def set_attribute(n)\n",
    "    my_attribute = n\n",
    "  end\n",
    "end\n",
    "\n",
    "obj = MyClass.new\n",
    "obj.set_attribute 10\n",
    "p obj.my_attribute"
   ]
  },
  {
   "cell_type": "markdown",
   "metadata": {},
   "source": [
    "这个结果可能在你的意料之外。这是因为`self_attribute`的代码具有不确定性。`Ruby`不知道代码是想给局部变量赋值，还是调用名为`my_attribute=`的拟态方法。在没有确定答案的情况下，Ruby默认选择第一种方式，它定义了一个名为`my_attribute`的局部变量，该变量在复制完后就落在作用域之外了。"
   ]
  },
  {
   "cell_type": "markdown",
   "metadata": {},
   "source": [
    "为了避免这个问题，给当前对象的属性赋值时，应该显性地使用`self`。"
   ]
  },
  {
   "cell_type": "code",
   "execution_count": 3,
   "metadata": {},
   "outputs": [
    {
     "data": {
      "text/plain": [
       "10"
      ]
     },
     "execution_count": 3,
     "metadata": {},
     "output_type": "execute_result"
    }
   ],
   "source": [
    "class MyClass\n",
    "  def set_attribute(n)\n",
    "    self.my_attribute = n\n",
    "  end\n",
    "end\n",
    "\n",
    "obj.set_attribute 10\n",
    "obj.my_attribute"
   ]
  },
  {
   "cell_type": "markdown",
   "metadata": {
    "collapsed": true
   },
   "source": [
    "自由方法（unbound method）更普通方法类似，不过它从最初定义它的类或者模块中脱离了。通过调用`Method#unbind`方法，可以把一个方法变成自由方法。你也可以直接调用`Module#instance_method`方法获得一个自由方法。下面是一个例子："
   ]
  },
  {
   "cell_type": "code",
   "execution_count": 4,
   "metadata": {},
   "outputs": [
    {
     "data": {
      "text/plain": [
       "UnboundMethod"
      ]
     },
     "execution_count": 4,
     "metadata": {},
     "output_type": "execute_result"
    }
   ],
   "source": [
    "module MyModule\n",
    "  def my_method\n",
    "    42\n",
    "  end\n",
    "end\n",
    "\n",
    "unbound = MyModule.instance_method(:my_method)\n",
    "unbound.class"
   ]
  },
  {
   "cell_type": "markdown",
   "metadata": {},
   "source": [
    "虽然不能调用`UnboundMethod`，但可以把它绑定到一个对象上，使之再次成为一个`Method`对象。具体的做法是使用`UnboundMehtod#bind`方法把`UnboundMethod`对象绑定到一个对象上。还可以把`UnboundMehtod`对象在传给`Module#define_method`方法，从而实现绑定。"
   ]
  },
  {
   "cell_type": "code",
   "execution_count": 5,
   "metadata": {},
   "outputs": [
    {
     "data": {
      "text/plain": [
       "42"
      ]
     },
     "execution_count": 5,
     "metadata": {},
     "output_type": "execute_result"
    }
   ],
   "source": [
    "String.send :define_method, :another_method, unbound\n",
    "\"abc\".another_method"
   ]
  },
  {
   "cell_type": "markdown",
   "metadata": {
    "collapsed": true
   },
   "source": [
    "It's shorthand for tags.map(&:name.to_proc).join(' ')\n",
    "\n",
    "If foo is an object with a to_proc method, then you can pass it to a method as &foo, which will call foo.to_proc and use that as the method's block.\n",
    "\n",
    "The Symbol#to_proc method was originally added by ActiveSupport but has been integrated into Ruby 1.8.7. This is its implementation:"
   ]
  },
  {
   "cell_type": "code",
   "execution_count": 6,
   "metadata": {},
   "outputs": [
    {
     "data": {
      "text/plain": [
       ":to_proc"
      ]
     },
     "execution_count": 6,
     "metadata": {},
     "output_type": "execute_result"
    }
   ],
   "source": [
    "class Symbol\n",
    "  def to_proc\n",
    "    Proc.new do |obj, *args|\n",
    "      obj.send self, *args\n",
    "    end\n",
    "  end\n",
    "end"
   ]
  },
  {
   "cell_type": "markdown",
   "metadata": {},
   "source": [
    "空指针和布尔值一起的时候会变得很奇怪"
   ]
  },
  {
   "cell_type": "code",
   "execution_count": 7,
   "metadata": {},
   "outputs": [
    {
     "name": "stdout",
     "output_type": "stream",
     "text": [
      "called: calculate_initial_value\n",
      "called: calculate_initial_value\n"
     ]
    },
    {
     "data": {
      "text/plain": [
       "2"
      ]
     },
     "execution_count": 7,
     "metadata": {},
     "output_type": "execute_result"
    }
   ],
   "source": [
    "def calculate_initial_value\n",
    "  puts \"called: calculate_initial_value\"\n",
    "  false\n",
    "end\n",
    "\n",
    "b = nil\n",
    "2.times do\n",
    "  b ||= calculate_initial_value\n",
    "end\n"
   ]
  },
  {
   "cell_type": "markdown",
   "metadata": {},
   "source": [
    "空指针等价的`if`语句"
   ]
  },
  {
   "cell_type": "code",
   "execution_count": 8,
   "metadata": {},
   "outputs": [
    {
     "name": "stdout",
     "output_type": "stream",
     "text": [
      "called: calculate_initial_value\n"
     ]
    },
    {
     "data": {
      "text/plain": [
       "false"
      ]
     },
     "execution_count": 8,
     "metadata": {},
     "output_type": "execute_result"
    }
   ],
   "source": [
    "if defined?(b) && b\n",
    "  b\n",
    "else\n",
    "  b = calculate_initial_value\n",
    "end\n"
   ]
  },
  {
   "cell_type": "code",
   "execution_count": 9,
   "metadata": {},
   "outputs": [
    {
     "data": {
      "text/plain": [
       "\"local-variable\""
      ]
     },
     "execution_count": 9,
     "metadata": {},
     "output_type": "execute_result"
    }
   ],
   "source": [
    "a = 1\n",
    "defined?(a)"
   ]
  },
  {
   "cell_type": "code",
   "execution_count": 10,
   "metadata": {},
   "outputs": [
    {
     "data": {
      "text/plain": [
       "\"local-variable\""
      ]
     },
     "execution_count": 10,
     "metadata": {},
     "output_type": "execute_result"
    }
   ],
   "source": [
    "a = nil\n",
    "defined?(a)"
   ]
  },
  {
   "cell_type": "code",
   "execution_count": 11,
   "metadata": {},
   "outputs": [
    {
     "name": "stdout",
     "output_type": "stream",
     "text": [
      "nil\n"
     ]
    }
   ],
   "source": [
    "p defined?(c)"
   ]
  },
  {
   "cell_type": "markdown",
   "metadata": {},
   "source": [
    "查看这个用`if`语句实现的空指针保护，会发现它实际上不能区分`false`和`nil`。在前一个例子中，`b`的值是`false`，因此空指针保护每次都对它进行初始化。"
   ]
  },
  {
   "cell_type": "markdown",
   "metadata": {},
   "source": [
    "空指针保护的这个小问题一般不会被注意。但是有时它可能会导致不易追踪的`bug`。因此，不应该在变量值可能是`false`时对它进行空指针保护。"
   ]
  },
  {
   "cell_type": "markdown",
   "metadata": {},
   "source": [
    "在Ruby中，经常可以看到长长的方法调用链，比如下面这样"
   ]
  },
  {
   "cell_type": "code",
   "execution_count": 12,
   "metadata": {},
   "outputs": [
    {
     "data": {
      "text/plain": [
       "\"B\""
      ]
     },
     "execution_count": 12,
     "metadata": {},
     "output_type": "execute_result"
    }
   ],
   "source": [
    "['a', 'b', 'c'].push('d').shift.upcase.next"
   ]
  },
  {
   "cell_type": "markdown",
   "metadata": {},
   "source": [
    "可以用`tap`方法在链的中间插入操作"
   ]
  },
  {
   "cell_type": "code",
   "execution_count": 14,
   "metadata": {},
   "outputs": [
    {
     "name": "stdout",
     "output_type": "stream",
     "text": [
      "a\n"
     ]
    },
    {
     "data": {
      "text/plain": [
       "\"B\""
      ]
     },
     "execution_count": 14,
     "metadata": {},
     "output_type": "execute_result"
    }
   ],
   "source": [
    "['a', 'b', 'c'].push('d').shift.tap {|x| puts x}.upcase.next"
   ]
  },
  {
   "cell_type": "code",
   "execution_count": 15,
   "metadata": {},
   "outputs": [
    {
     "data": {
      "text/plain": [
       ":tap"
      ]
     },
     "execution_count": 15,
     "metadata": {},
     "output_type": "execute_result"
    }
   ],
   "source": [
    "class Object\n",
    "  def tap\n",
    "    yield self\n",
    "    self\n",
    "  end\n",
    "end"
   ]
  },
  {
   "cell_type": "code",
   "execution_count": 16,
   "metadata": {},
   "outputs": [
    {
     "name": "stdout",
     "output_type": "stream",
     "text": [
      "a\n"
     ]
    },
    {
     "data": {
      "text/plain": [
       "\"B\""
      ]
     },
     "execution_count": 16,
     "metadata": {},
     "output_type": "execute_result"
    }
   ],
   "source": [
    "['a', 'b', 'c'].push('d').shift.tap {|x| puts x}.upcase.next"
   ]
  },
  {
   "cell_type": "code",
   "execution_count": 17,
   "metadata": {},
   "outputs": [
    {
     "data": {
      "text/plain": [
       "#<Faraday::Connection:0x23d5ca0 @parallel_manager=nil, @headers={\"User-Agent\"=>\"Faraday v0.11.0\"}, @params={\"q\"=>\"ruby\", \"src\"=>\"type\"}, @options=#<Faraday::RequestOptions (empty)>, @ssl=#<Faraday::SSLOptions (empty)>, @default_parallel_manager=nil, @builder=#<Faraday::RackBuilder:0x23d5bf8 @handlers=[Faraday::Response::Logger, Faraday::Adapter::NetHttp]>, @url_prefix=#<URI::HTTPS https://twitter.com/search>, @proxy=nil>"
      ]
     },
     "execution_count": 17,
     "metadata": {},
     "output_type": "execute_result"
    }
   ],
   "source": [
    "require 'faraday'\n",
    "\n",
    "conn = Faraday.new(\"https://twitter.com/search\") do |faraday|\n",
    "  faraday.response  :logger\n",
    "  faraday.adapter   Faraday.default_adapter\n",
    "  faraday.params[\"q\"] = \"ruby\"\n",
    "  faraday.params[\"src\"] = \"type\"\n",
    "end\n",
    "  "
   ]
  },
  {
   "cell_type": "code",
   "execution_count": 18,
   "metadata": {},
   "outputs": [
    {
     "data": {
      "text/plain": [
       "200"
      ]
     },
     "execution_count": 18,
     "metadata": {},
     "output_type": "execute_result"
    }
   ],
   "source": [
    "response = conn.get\n",
    "response.status"
   ]
  },
  {
   "cell_type": "markdown",
   "metadata": {},
   "source": [
    "Rail4则更进一部；定义一个属性访问器时，会将它变成一个自由方法，并保存在方法缓存池中。如果第二个类具有同名属性，因而需要童谣的访问器时，Rails 4会从方法缓存池中取出前面定义的访问器，并将它绑定到第二个类上。通过这种方式，即使是无关的类，如果它们正好具有同名的属性，Rails也只会定义一组属性访问器，并对所有这些属性都使用这一组属性访问其。"
   ]
  },
  {
   "cell_type": "markdown",
   "metadata": {},
   "source": [
    "尽量保持简单，只在必要时才增加复杂性。刚开始时，首先要保证代码正确，并且保持代码简单。这样遇到特例时才方便处理。"
   ]
  },
  {
   "cell_type": "markdown",
   "metadata": {},
   "source": [
    "这条原则适用于绝大多数场合，尤其是在元编程里。"
   ]
  },
  {
   "cell_type": "markdown",
   "metadata": {},
   "source": [
    "例如，像`private`和`protected`这样的访问修饰符都是拟态方法，像是`attr_reader`这样的类宏也是拟态方法"
   ]
  },
  {
   "cell_type": "code",
   "execution_count": 24,
   "metadata": {},
   "outputs": [
    {
     "ename": "SyntaxError",
     "evalue": "(pry):116: syntax error, unexpected end-of-input, expecting keyword_end",
     "output_type": "error",
     "traceback": [
      "\u001b[31mSyntaxError\u001b[0m: (pry):116: syntax error, unexpected end-of-input, expecting keyword_end",
      "\u001b[37m/home/ceclinux/.rvm/rubies/ruby-2.4.1/lib/ruby/gems/2.4.0/gems/pry-0.11.1/lib/pry/pry_instance.rb:355:in `eval'\u001b[0m",
      "\u001b[37m/home/ceclinux/.rvm/rubies/ruby-2.4.1/lib/ruby/gems/2.4.0/gems/pry-0.11.1/lib/pry/pry_instance.rb:355:in `evaluate_ruby'\u001b[0m",
      "\u001b[37m/home/ceclinux/.rvm/rubies/ruby-2.4.1/lib/ruby/gems/2.4.0/gems/iruby-0.3/lib/iruby/backend.rb:73:in `eval'\u001b[0m",
      "\u001b[37m/home/ceclinux/.rvm/rubies/ruby-2.4.1/lib/ruby/gems/2.4.0/gems/iruby-0.3/lib/iruby/backend.rb:12:in `eval'\u001b[0m",
      "\u001b[37m/home/ceclinux/.rvm/rubies/ruby-2.4.1/lib/ruby/gems/2.4.0/gems/iruby-0.3/lib/iruby/kernel.rb:87:in `execute_request'\u001b[0m",
      "\u001b[37m/home/ceclinux/.rvm/rubies/ruby-2.4.1/lib/ruby/gems/2.4.0/gems/iruby-0.3/lib/iruby/kernel.rb:47:in `dispatch'\u001b[0m",
      "\u001b[37m/home/ceclinux/.rvm/rubies/ruby-2.4.1/lib/ruby/gems/2.4.0/gems/iruby-0.3/lib/iruby/kernel.rb:37:in `run'\u001b[0m",
      "\u001b[37m/home/ceclinux/.rvm/rubies/ruby-2.4.1/lib/ruby/gems/2.4.0/gems/iruby-0.3/lib/iruby/command.rb:70:in `run_kernel'\u001b[0m",
      "\u001b[37m/home/ceclinux/.rvm/rubies/ruby-2.4.1/lib/ruby/gems/2.4.0/gems/iruby-0.3/lib/iruby/command.rb:34:in `run'\u001b[0m",
      "\u001b[37m/home/ceclinux/.rvm/rubies/ruby-2.4.1/lib/ruby/gems/2.4.0/gems/iruby-0.3/bin/iruby:5:in `<top (required)>'\u001b[0m",
      "\u001b[37m/home/ceclinux/.rvm/gems/ruby-2.4.1/bin/iruby:23:in `load'\u001b[0m",
      "\u001b[37m/home/ceclinux/.rvm/gems/ruby-2.4.1/bin/iruby:23:in `<main>'\u001b[0m",
      "\u001b[37m/home/ceclinux/.rvm/gems/ruby-2.4.1/bin/ruby_executable_hooks:15:in `eval'\u001b[0m",
      "\u001b[37m/home/ceclinux/.rvm/gems/ruby-2.4.1/bin/ruby_executable_hooks:15:in `<main>'\u001b[0m"
     ]
    }
   ],
   "source": [
    "module ActiveRecord\n",
    "  module AttributeMethods\n",
    "    module Read\n",
    "      ReaderMethodCache = Class.new(AttributeMethodCache) {\n",
    "        private\n",
    "        \n",
    "        def method_body(method_name, const_name)\n",
    "          <<-EOMETHOD\n",
    "          def #{method_name}\n",
    "            name = ::ActiveRecord::AttributeMethods::ATTR_#{const_name}\n",
    "            read_attribute(name) {|n| missing_attribute(n, caller)}\n",
    "            \n",
    "          end\n",
    "          EOMETHOD\n",
    "        end\n",
    "      }.new\n",
    "    end\n",
    "  end"
   ]
  },
  {
   "cell_type": "markdown",
   "metadata": {
    "collapsed": true
   },
   "source": [
    "由于`define_method`在派发时速度较慢，我们想通过`module_eval`来创建方法。但如果`module_eval`创建了很多类似的方法，又会占用较多的内存，因为这些代码字符串会到处复制并缓存（在MRI中）。`define_method`方法尽管在派发时速度慢，但是，如果注意其生成的闭包，`define_method`占用的内存会比较小。"
   ]
  },
  {
   "cell_type": "markdown",
   "metadata": {},
   "source": [
    "But sometimes the database might return columns with\n",
    "characters that are not allowed in normal method names (like\n",
    "my_column(omg)'. So to work around this we first define with\n",
    "the __temp__ identifier, and then use alias method to rename\n",
    "it to what we want."
   ]
  }
 ],
 "metadata": {
  "kernelspec": {
   "display_name": "Ruby 2.4.1",
   "language": "ruby",
   "name": "ruby"
  },
  "language_info": {
   "file_extension": ".rb",
   "mimetype": "application/x-ruby",
   "name": "ruby",
   "version": "2.4.1"
  }
 },
 "nbformat": 4,
 "nbformat_minor": 2
}
