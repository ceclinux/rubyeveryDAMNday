{
 "cells": [
  {
   "cell_type": "markdown",
   "metadata": {},
   "source": [
    "![](https://img.vim-cn.com/31/db2f65e7a06305c9ab6764c28ecabfe89c16d5.png)"
   ]
  },
  {
   "cell_type": "markdown",
   "metadata": {},
   "source": [
    "打开wireshark，抓包，打开一个HTTPS的网站，然后过滤两者之间的流量（包的信息在[这里](https://www.jianguoyun.com/p/DarjGloQ5si3BhiTxHA))"
   ]
  },
  {
   "cell_type": "markdown",
   "metadata": {},
   "source": [
    "```wireshark\n",
    "(ip.src==172.16.193.178 and ip.dst== 52.48.154.178) or (ip.dst==172.16.193.178 and ip.src== 52.48.154.178)\n",
    "```"
   ]
  },
  {
   "cell_type": "markdown",
   "metadata": {},
   "source": [
    "具体过程（注意加粗和红线部分）"
   ]
  },
  {
   "cell_type": "markdown",
   "metadata": {},
   "source": [
    "The SSL or TLS client sends a **\"client hello\"** message that lists cryptographic information such as the **SSL or TLS** version and, in the client's order of preference, the **CipherSuites** supported by the client. The message also contains a **random byte string that is used in subsequent computations**. The protocol allows for the \"client hello\" to include the data compression methods supported by the client."
   ]
  },
  {
   "cell_type": "markdown",
   "metadata": {},
   "source": [
    "![](https://img.vim-cn.com/4a/7581a373b2708af2b23cf7b40ab580b6030559.png)"
   ]
  },
  {
   "cell_type": "markdown",
   "metadata": {},
   "source": [
    "还有Cipher Suites在这"
   ]
  },
  {
   "cell_type": "markdown",
   "metadata": {},
   "source": [
    "![](https://img.vim-cn.com/ea/b07687f10897df37713ea48788136188aaa239.png)"
   ]
  },
  {
   "cell_type": "markdown",
   "metadata": {},
   "source": [
    "The SSL or TLS server responds with a **\"server hello\"** message that contains the **CipherSuite chosen by the server from the list provided by the client**, the **session ID**, and **another random byte string**. The server also sends its **digital certificate**. If the server requires a digital certificate for client authentication, the server sends a \"client certificate request\" that includes a list of the types of certificates supported and the Distinguished Names of acceptable Certification Authorities (CAs)."
   ]
  },
  {
   "cell_type": "markdown",
   "metadata": {},
   "source": [
    "![](https://img.vim-cn.com/9f/40c81e56e8f80566373533fc35bbe652092fc0.png)"
   ]
  },
  {
   "cell_type": "markdown",
   "metadata": {},
   "source": [
    "The SSL or TLS client sends the random byte string that enables both the client and the server to compute the secret key to be used for encrypting subsequent message data. The random byte string itself is encrypted with the server's public key."
   ]
  },
  {
   "cell_type": "markdown",
   "metadata": {},
   "source": [
    "![](https://img.vim-cn.com/0d/d1566b8c8ef95634f6f9a4666c46d2a78bc001.png)"
   ]
  },
  {
   "cell_type": "markdown",
   "metadata": {},
   "source": [
    "The SSL or TLS client sends the server a **\"finished\" message, which is encrypted with the secret key**, indicating that the client part of the handshake is complete.\n"
   ]
  },
  {
   "cell_type": "markdown",
   "metadata": {},
   "source": [
    "参考资料： \n",
    "\n",
    "- [ssl.com](https://www.ssl.com/article/ssl-tls-handshake-overview/) \n",
    "- [IBM: An overview of the SSL or TLS handshake](https://www.ibm.com/support/knowledgecenter/en/SSFKSJ_7.1.0/com.ibm.mq.doc/sy10660_.htm)"
   ]
  }
 ],
 "metadata": {
  "kernelspec": {
   "display_name": "Python 3",
   "language": "python3",
   "name": "python3"
  },
  "language_info": {
   "codemirror_mode": {
    "name": "ipython",
    "version": 3
   },
   "file_extension": ".py",
   "mimetype": "text/x-python",
   "name": "python",
   "nbconvert_exporter": "python",
   "pygments_lexer": "ipython3",
   "version": "3.6.6"
  }
 },
 "nbformat": 4,
 "nbformat_minor": 2
}
