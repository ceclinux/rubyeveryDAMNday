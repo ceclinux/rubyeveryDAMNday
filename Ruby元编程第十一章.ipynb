{
 "cells": [
  {
   "cell_type": "code",
   "execution_count": 3,
   "metadata": {},
   "outputs": [
    {
     "data": {
      "text/plain": [
       ":alias_method_chain"
      ]
     },
     "execution_count": 3,
     "metadata": {},
     "output_type": "execute_result"
    }
   ],
   "source": [
    "class Module\n",
    "  def alias_method_chain(target, feature)\n",
    "    aliasd_target, punctuation = target.to_s.sub(/([?!=])$/, ''), $1\n",
    "    yield(alised_target, punctuation) if block_given?\n",
    "    \n",
    "    with_method = \"#{alias_target}_with_#{feature}#{punctuation}\"\n",
    "    without_method = \"#{alias_target}_without_#{feature}#{punctuation}\"\n",
    "    \n",
    "    case\n",
    "    when public_method_defined?(without_method)\n",
    "      public target\n",
    "    when protected_method_defined?(without_method)\n",
    "      protected target\n",
    "    when private_method_defined?(without_method)\n",
    "      private target\n",
    "    end\n",
    "  end\n",
    "end"
   ]
  },
  {
   "cell_type": "markdown",
   "metadata": {},
   "source": [
    "`alias_method_chain`方法的参数有`target`和`feature`。`target`是需要增强的方法名，`feature`是希望添加的的特性名称。从这两个参数可以计算出两个新的方法名：`target_without_feature`和`target_with_feature`。`alias_method_chain`方法把原始的`target`方法保存为`target_without_feature`方法，然后把`target`方法作为`target_with_feature`方法的别名。`case`语句用于设定`target_without_feature`方法的可见性，使之具有与原始`target`方法相同的可见性。"
   ]
  },
  {
   "cell_type": "markdown",
   "metadata": {},
   "source": [
    " private(string, ...) → self\n",
    "\n",
    "With no arguments, sets the default visibility for subsequently defined methods to private. With arguments, sets the named methods to have private visibility. String arguments are converted to symbols."
   ]
  },
  {
   "cell_type": "code",
   "execution_count": 6,
   "metadata": {},
   "outputs": [
    {
     "data": {
      "text/plain": [
       "\"hello\""
      ]
     },
     "execution_count": 6,
     "metadata": {},
     "output_type": "execute_result"
    }
   ],
   "source": [
    "module Greetings\n",
    "  def greet\n",
    "    \"hello\"\n",
    "  end\n",
    "end\n",
    "\n",
    "class MyClass\n",
    "  include Greetings\n",
    "end\n",
    "\n",
    "MyClass.new.greet"
   ]
  },
  {
   "cell_type": "markdown",
   "metadata": {},
   "source": [
    "我们没有用别名方式给`greet`方法添加功能。只要在模块中重新定义`greet`方法，然后包含新的模块即可："
   ]
  },
  {
   "cell_type": "code",
   "execution_count": 10,
   "metadata": {},
   "outputs": [
    {
     "data": {
      "text/plain": [
       "\"Hey, hello\""
      ]
     },
     "execution_count": 10,
     "metadata": {},
     "output_type": "execute_result"
    }
   ],
   "source": [
    "module EnthusiasticGreetings\n",
    "  include Greetings\n",
    "  \n",
    "  def greet\n",
    "    \"Hey, #{super}\"\n",
    "  end\n",
    "end\n",
    "\n",
    "class MyClass\n",
    "  include EnthusiasticGreetings\n",
    "end\n",
    "\n",
    "MyClass.ancestors[0..2]\n",
    "MyClass.new.greet"
   ]
  },
  {
   "cell_type": "markdown",
   "metadata": {},
   "source": [
    "我们对上面的`greet`方法做一点修改：不把它定义在模块中，而是直接定义在类中"
   ]
  },
  {
   "cell_type": "code",
   "execution_count": 11,
   "metadata": {},
   "outputs": [
    {
     "data": {
      "text/plain": [
       "\"hello\""
      ]
     },
     "execution_count": 11,
     "metadata": {},
     "output_type": "execute_result"
    }
   ],
   "source": [
    "class MyClass2\n",
    "  def greet\n",
    "    \"hello\"\n",
    "  end\n",
    "end\n",
    "MyClass2.new.greet"
   ]
  },
  {
   "cell_type": "markdown",
   "metadata": {},
   "source": [
    "这个时候，你不能通过简单的包含一个模块来遮蔽这个方法了"
   ]
  },
  {
   "cell_type": "markdown",
   "metadata": {},
   "source": [
    "你可以使用`Module#prepend`"
   ]
  },
  {
   "cell_type": "code",
   "execution_count": 15,
   "metadata": {},
   "outputs": [
    {
     "data": {
      "text/plain": [
       "\"Hey, hello\""
      ]
     },
     "execution_count": 15,
     "metadata": {},
     "output_type": "execute_result"
    }
   ],
   "source": [
    "class MyClass2\n",
    "  prepend EnthusiasticGreetings\n",
    "end\n",
    "\n",
    "MyClass2.ancestors[0..2]\n",
    "MyClass2.new.greet"
   ]
  },
  {
   "cell_type": "code",
   "execution_count": null,
   "metadata": {
    "collapsed": true
   },
   "outputs": [],
   "source": []
  }
 ],
 "metadata": {
  "kernelspec": {
   "display_name": "Ruby 2.4.1",
   "language": "ruby",
   "name": "ruby"
  },
  "language_info": {
   "file_extension": ".rb",
   "mimetype": "application/x-ruby",
   "name": "ruby",
   "version": "2.4.1"
  }
 },
 "nbformat": 4,
 "nbformat_minor": 2
}
