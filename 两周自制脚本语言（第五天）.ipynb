{
 "cells": [
  {
   "cell_type": "markdown",
   "metadata": {},
   "source": [
    "例如，在用Ruby设计并实现库时，即使本质上只是一段使用了库的普通Ruby程序，也能狗通过一些方式让它看起来像是用DSL写成的程序。**或是让它具有和使用DSL写成的程序同样的可读性和书写复杂度**。这种表面上的DSL被称为内部DSK或嵌入式DSL。除此之外的DSL被称为外部DSL。"
   ]
  },
  {
   "cell_type": "markdown",
   "metadata": {},
   "source": [
    "说到底内部DSL只是不同的库而已，因此与外部DSL相比更容易开发。通过内部DSK写成的程序也能与没用使用DSL书写的程序混合使用。"
   ]
  },
  {
   "cell_type": "code",
   "execution_count": null,
   "metadata": {
    "collapsed": true
   },
   "outputs": [],
   "source": []
  }
 ],
 "metadata": {
  "kernelspec": {
   "display_name": "Ruby 2.4.1",
   "language": "ruby",
   "name": "ruby"
  },
  "language_info": {
   "file_extension": ".rb",
   "mimetype": "application/x-ruby",
   "name": "ruby",
   "version": "2.4.1"
  }
 },
 "nbformat": 4,
 "nbformat_minor": 2
}
