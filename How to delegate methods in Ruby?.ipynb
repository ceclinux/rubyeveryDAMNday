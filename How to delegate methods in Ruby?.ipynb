{
 "cells": [
  {
   "cell_type": "markdown",
   "metadata": {},
   "source": [
    "https://blog.lelonek.me/how-to-delegate-methods-in-ruby-a7a71b077d99"
   ]
  },
  {
   "cell_type": "code",
   "execution_count": 9,
   "metadata": {},
   "outputs": [
    {
     "data": {
      "text/plain": [
       ":make_me_a_sandwich"
      ]
     },
     "execution_count": 9,
     "metadata": {},
     "output_type": "execute_result"
    }
   ],
   "source": [
    "class SandwichMaker\n",
    "  def make_me_a_sandwich\n",
    "    puts 'OKAY'\n",
    "  end\n",
    "end"
   ]
  },
  {
   "cell_type": "markdown",
   "metadata": {},
   "source": [
    "This is the most basic, obvious and simple way to forward our work to some other object. We just call a method on a wrapped object from one of our own methods"
   ]
  },
  {
   "cell_type": "code",
   "execution_count": 10,
   "metadata": {},
   "outputs": [],
   "source": [
    "class LazyEmployee\n",
    "  def initialize(sandwich_maker)\n",
    "    @sandwich_maker = sandwich_maker\n",
    "  end\n",
    "  \n",
    "  def make_me_a_sandwich\n",
    "    sandwich_maker.make_me_a_sandwich\n",
    "  end\n",
    "  \n",
    "  private\n",
    "  attr_reader :sandwich_maker\n",
    "end"
   ]
  },
  {
   "cell_type": "code",
   "execution_count": 11,
   "metadata": {},
   "outputs": [
    {
     "name": "stdout",
     "output_type": "stream",
     "text": [
      "OKAY\n"
     ]
    }
   ],
   "source": [
    "sandwich_maker = SandwichMaker.new\n",
    "lazy_employee = LazyEmployee.new(sandwich_maker)\n",
    "lazy_employee.make_me_a_sandwich"
   ]
  },
  {
   "cell_type": "markdown",
   "metadata": {},
   "source": [
    "Module Forwardable is a part of Std-lib and and it provides you delegation of specified methods to a designed object"
   ]
  },
  {
   "cell_type": "code",
   "execution_count": 12,
   "metadata": {},
   "outputs": [
    {
     "data": {
      "text/plain": [
       "[:make_me_a_sandwich]"
      ]
     },
     "execution_count": 12,
     "metadata": {},
     "output_type": "execute_result"
    }
   ],
   "source": [
    "require 'forwardable'\n",
    "\n",
    "class LazyEmployee2\n",
    "  extend Forwardable\n",
    "  \n",
    "  def initialize(sandwich_maker)\n",
    "    @sandwich_maker = sandwich_maker\n",
    "  end\n",
    "  \n",
    "  def_delegators :@sandwich_maker, :make_me_a_sandwich\n",
    "end"
   ]
  },
  {
   "cell_type": "code",
   "execution_count": 13,
   "metadata": {},
   "outputs": [
    {
     "name": "stdout",
     "output_type": "stream",
     "text": [
      "OKAY\n"
     ]
    }
   ],
   "source": [
    "sandwich_maker2 = SandwichMaker.new\n",
    "lazy_employee = LazyEmployee2.new(sandwich_maker2)\n",
    "lazy_employee.make_me_a_sandwich"
   ]
  },
  {
   "cell_type": "markdown",
   "metadata": {},
   "source": [
    "SimpleDelegator provides the means to delegate all supported method calls to the object passed into the constructor and even to change the object being delegated to a later time"
   ]
  },
  {
   "cell_type": "code",
   "execution_count": 14,
   "metadata": {},
   "outputs": [
    {
     "data": {
      "text/plain": [
       ":initialize"
      ]
     },
     "execution_count": 14,
     "metadata": {},
     "output_type": "execute_result"
    }
   ],
   "source": [
    "class LazyEmployee4 < SimpleDelegator\n",
    "  def initialize(sandwich_maker)\n",
    "    super\n",
    "  end\n",
    "end"
   ]
  },
  {
   "cell_type": "code",
   "execution_count": 15,
   "metadata": {},
   "outputs": [
    {
     "name": "stdout",
     "output_type": "stream",
     "text": [
      "OKAY\n"
     ]
    }
   ],
   "source": [
    "sandwich_maker = SandwichMaker.new\n",
    "lazy_employee4 = LazyEmployee4.new(sandwich_maker)\n",
    "lazy_employee4.make_me_a_sandwich"
   ]
  },
  {
   "cell_type": "code",
   "execution_count": 18,
   "metadata": {},
   "outputs": [
    {
     "data": {
      "text/plain": [
       "false"
      ]
     },
     "execution_count": 18,
     "metadata": {},
     "output_type": "execute_result"
    }
   ],
   "source": [
    "require 'active_support/core_ext/module/delegation'"
   ]
  },
  {
   "cell_type": "markdown",
   "metadata": {},
   "source": [
    "The module#delegate extension. It provides delegate method you can use in your class or your modules to delegate a specific method to an assoicate object."
   ]
  },
  {
   "cell_type": "code",
   "execution_count": 20,
   "metadata": {},
   "outputs": [],
   "source": [
    "class LazyEmployee3\n",
    "  def initialize(sandwich_maker)\n",
    "    @sandwich_maker = sandwich_maker\n",
    "  end\n",
    "  \n",
    "  delegate :make_me_a_sandwich, to: :sandwich_maker\n",
    "  \n",
    "  private\n",
    "  attr_reader :sandwich_maker\n",
    "end"
   ]
  },
  {
   "cell_type": "code",
   "execution_count": 24,
   "metadata": {},
   "outputs": [
    {
     "name": "stdout",
     "output_type": "stream",
     "text": [
      "OKAY\n"
     ]
    }
   ],
   "source": [
    "sandwich_maker = SandwichMaker.new\n",
    "lazy_employee = LazyEmployee3.new(sandwich_maker)\n",
    "lazy_employee.make_me_a_sandwich"
   ]
  },
  {
   "cell_type": "markdown",
   "metadata": {},
   "source": [
    "A decorator is a design pattern. Its intent, as described by the GOF is:\n",
    "\n",
    "> Attach addional responsibilities to an object dynamically. Decorators provide a flexiable alternative to a subclassing for extending funcionality"
   ]
  },
  {
   "cell_type": "code",
   "execution_count": null,
   "metadata": {},
   "outputs": [],
   "source": []
  }
 ],
 "metadata": {
  "kernelspec": {
   "display_name": "Ruby 2.5.1",
   "language": "ruby",
   "name": "ruby"
  },
  "language_info": {
   "file_extension": ".rb",
   "mimetype": "application/x-ruby",
   "name": "ruby",
   "version": "2.5.1"
  }
 },
 "nbformat": 4,
 "nbformat_minor": 2
}
