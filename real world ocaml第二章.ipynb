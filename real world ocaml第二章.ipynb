{
 "cells": [
  {
   "cell_type": "markdown",
   "metadata": {
    "collapsed": true
   },
   "source": [
    "在Ocaml中，`let`绑定是不可变的。尽管Ocaml有很多可变的值，不过不存在可变的变量。"
   ]
  },
  {
   "cell_type": "code",
   "execution_count": null,
   "metadata": {
    "collapsed": true
   },
   "outputs": [],
   "source": []
  },
  {
   "cell_type": "code",
   "execution_count": 2,
   "metadata": {
    "collapsed": true
   },
   "outputs": [],
   "source": [
    "open Core"
   ]
  },
  {
   "cell_type": "code",
   "execution_count": 3,
   "metadata": {},
   "outputs": [
    {
     "data": {
      "text/plain": [
       "val ints : int Core.List.t = [1; 2; 3]\n",
       "val strings : string Core.List.t = [\"one\"; \"two\"; \"three\"]\n"
      ]
     },
     "execution_count": 3,
     "metadata": {},
     "output_type": "execute_result"
    }
   ],
   "source": [
    "let (ints, strings) = List.unzip [(1, \"one\"); (2, \"two\"); (3, \"three\")];;"
   ]
  },
  {
   "cell_type": "markdown",
   "metadata": {},
   "source": [
    "这里的(ints, strings)是一个模式，`let`绑定会为出现在该模式的两个标识符赋值。模式实际上就是对**数据结构形状的一个描述**，其中一些分量是要绑定的标识符。"
   ]
  },
  {
   "cell_type": "markdown",
   "metadata": {},
   "source": [
    " 在`let`绑定中使用模式对于”不可否定“的模式最有意义，也就是说，当前类型中的所有值都肯定能与该模式匹配。元祖和记录模式就是不可否定的，但列表模式并非如此。"
   ]
  },
  {
   "cell_type": "code",
   "execution_count": 4,
   "metadata": {},
   "outputs": [
    {
     "name": "stderr",
     "output_type": "stream",
     "text": [
      "File \"[4]\", line 1, characters 34-47:\n",
      "Warning 8: this pattern-matching is not exhaustive.\n",
      "Here is an example of a case that is not matched:\n",
      "[]\n"
     ]
    },
    {
     "data": {
      "text/plain": [
       "val upcase_first_entry : Core.String.t -> Core.String.t = <fun>\n"
      ]
     },
     "execution_count": 4,
     "metadata": {},
     "output_type": "execute_result"
    }
   ],
   "source": [
    "let upcase_first_entry line = let (first::rest) = String.split ~on:',' line in \n",
    "String.concat ~sep:\",\" (String.uppercase first::rest)"
   ]
  },
  {
   "cell_type": "markdown",
   "metadata": {},
   "source": [
    "实际中这种情况并不会出现，因为`String.split`总会返回一个至少包含一个元素的列表。不过，编译器并不知道这一点，所以它还是会发出警告。通常最好使用一个`match`语句来显示处理这些情况。"
   ]
  },
  {
   "cell_type": "code",
   "execution_count": 7,
   "metadata": {},
   "outputs": [
    {
     "data": {
      "text/plain": [
       "val upcase_first_entry : Core.String.t -> Core.String.t = <fun>\n"
      ]
     },
     "execution_count": 7,
     "metadata": {},
     "output_type": "execute_result"
    }
   ],
   "source": [
    "let upcase_first_entry line = \n",
    "match String.split ~on:',' line with\n",
    "| [] -> assert false\n",
    "| first :: rest -> String.concat ~sep:\",\" (String.uppercase first::rest)"
   ]
  },
  {
   "cell_type": "markdown",
   "metadata": {},
   "source": [
    "可以应用一个科里函数来得到一个新函数，这种做法称为部分应用。"
   ]
  },
  {
   "cell_type": "code",
   "execution_count": 10,
   "metadata": {},
   "outputs": [
    {
     "data": {
      "text/plain": [
       "val find_first_shutter : 'a list -> 'a option = <fun>\n"
      ]
     },
     "execution_count": 10,
     "metadata": {},
     "output_type": "execute_result"
    }
   ],
   "source": [
    "let rec find_first_shutter list = \n",
    "match list with\n",
    "|[] | [_] ->\n",
    "None\n",
    "| x :: y :: tl ->\n",
    "if x = y then Some x else find_first_shutter(y::tl)"
   ]
  },
  {
   "cell_type": "code",
   "execution_count": 13,
   "metadata": {},
   "outputs": [
    {
     "data": {
      "text/plain": [
       "- : int option = Some 5\n"
      ]
     },
     "execution_count": 13,
     "metadata": {},
     "output_type": "execute_result"
    }
   ],
   "source": [
    "find_first_shutter [2;4;5;5;2;1]"
   ]
  },
  {
   "cell_type": "markdown",
   "metadata": {},
   "source": [
    "Ocaml区分了非递归定义（使用`let`）和递归定义（使用`let rec`），这很大程度上是由于技术上的原因：如果一组函数定义是相互递归的，类型推断算法必须要知道这一点。"
   ]
  },
  {
   "cell_type": "markdown",
   "metadata": {},
   "source": [
    "如果一个中缀操作符两边加上括号，就可以把它当作一个常规的前缀函数使用了"
   ]
  },
  {
   "cell_type": "code",
   "execution_count": 14,
   "metadata": {},
   "outputs": [
    {
     "data": {
      "text/plain": [
       "- : int = 7\n"
      ]
     },
     "execution_count": 14,
     "metadata": {},
     "output_type": "execute_result"
    }
   ],
   "source": [
    "(+) 3 4"
   ]
  },
  {
   "cell_type": "code",
   "execution_count": 15,
   "metadata": {},
   "outputs": [
    {
     "data": {
      "text/plain": [
       "val ( +! ) : int * int -> int * int -> int * int = <fun>\n"
      ]
     },
     "execution_count": 15,
     "metadata": {},
     "output_type": "execute_result"
    }
   ],
   "source": [
    "let (+!) (x1, y1) (x2, y2) = (x1 + x2, y1 + y2)"
   ]
  },
  {
   "cell_type": "code",
   "execution_count": 23,
   "metadata": {},
   "outputs": [
    {
     "data": {
      "text/plain": [
       "- : int * int = (1, 6)\n"
      ]
     },
     "execution_count": 23,
     "metadata": {},
     "output_type": "execute_result"
    }
   ],
   "source": [
    "(3,2) +! (-2,4)"
   ]
  },
  {
   "cell_type": "markdown",
   "metadata": {},
   "source": [
    "`|>`还扮演一个很有用的角色，能够对操作符排序，从本质上类似于`Unix shell`中使用的管道字符。例如，考虑下面的代码，它会打印出`PATH`的各个不同的元素。需要说明，后面的`List.dedup`会删除列表中重复的元素，并将使用所提供的比较函数对列表排序"
   ]
  },
  {
   "cell_type": "code",
   "execution_count": 19,
   "metadata": {},
   "outputs": [
    {
     "data": {
      "text/plain": [
       "val path : string = \"/usr/bin:/usr/local/bin:/bin:/sbin\"\n"
      ]
     },
     "execution_count": 19,
     "metadata": {},
     "output_type": "execute_result"
    }
   ],
   "source": [
    "let path = \"/usr/bin:/usr/local/bin:/bin:/sbin\""
   ]
  },
  {
   "cell_type": "code",
   "execution_count": 22,
   "metadata": {},
   "outputs": [
    {
     "name": "stderr",
     "output_type": "stream",
     "text": [
      "File \"[22]\", line 2, characters 3-13:\n",
      "Warning 3: deprecated: Core.List.dedup\n",
      "[since 2017-04] Use [dedup_and_sort] instead\n"
     ]
    },
    {
     "name": "stdout",
     "output_type": "stream",
     "text": [
      "/bin\n",
      "/sbin\n",
      "/usr/bin\n",
      "/usr/local/bin\n"
     ]
    },
    {
     "data": {
      "text/plain": [
       "- : unit = ()\n"
      ]
     },
     "execution_count": 22,
     "metadata": {},
     "output_type": "execute_result"
    }
   ],
   "source": [
    "String.split ~on:':' path\n",
    "|> List.dedup ~compare:String.compare\n",
    "|> List.iter ~f:print_endline"
   ]
  },
  {
   "cell_type": "code",
   "execution_count": 25,
   "metadata": {},
   "outputs": [
    {
     "name": "stderr",
     "output_type": "stream",
     "text": [
      "File \"[25]\", line 1, characters 0-1:\n",
      "Warning 3: deprecated: ISO-Latin1 characters in identifiers\n"
     ]
    }
   ],
   "source": [
    "要注意，不用`|>`也可以做到这一点，不过结果有点繁琐："
   ]
  },
  {
   "cell_type": "code",
   "execution_count": 26,
   "metadata": {},
   "outputs": [
    {
     "name": "stderr",
     "output_type": "stream",
     "text": [
      "File \"[26]\", line 1, characters 31-34:\n",
      "Warning 3: deprecated: ISO-Latin1 characters in identifiers\n"
     ]
    }
   ],
   "source": [
    "let split_path = String.split ~on：':' path in\n",
    "let deduped_path  = List.dedup ~compare:String.compare split_path in\n",
    "List.iter ~f:print_endline deduped_path"
   ]
  },
  {
   "cell_type": "markdown",
   "metadata": {},
   "source": [
    "`(^>)`是右结合的"
   ]
  },
  {
   "cell_type": "code",
   "execution_count": 29,
   "metadata": {},
   "outputs": [
    {
     "data": {
      "text/plain": [
       "val ( ^> ) : 'a -> ('a -> 'b) -> 'b = <fun>\n"
      ]
     },
     "execution_count": 29,
     "metadata": {},
     "output_type": "execute_result"
    }
   ],
   "source": [
    "let (^>) x  f = f x;;"
   ]
  },
  {
   "cell_type": "code",
   "execution_count": 30,
   "metadata": {},
   "outputs": [
    {
     "name": "stderr",
     "output_type": "stream",
     "text": [
      "File \"[30]\", line 3, characters 3-13:\n",
      "Warning 3: deprecated: Core.List.dedup\n",
      "[since 2017-04] Use [dedup_and_sort] instead\n"
     ]
    },
    {
     "ename": "error",
     "evalue": "compile_error",
     "output_type": "error",
     "traceback": [
      "\u001b[32mFile \"[30]\", line 4, characters 3-29:\n\u001b[31mError: This expression has type string Core.List.t -> unit\n       but an expression was expected of type\n         (Core.String.t Core.List.t -> Core.String.t Core.List.t) -> 'a\n       Type string Core.List.t = string list is not compatible with type\n         Core.String.t Core.List.t -> Core.String.t Core.List.t \n\u001b[36m   3: \u001b[30m^> List.dedup ~compare:String.compare\n\u001b[36m   4: \u001b[30m^> \u001b[4mList.iter ~f:print_endline\u001b[0m\n"
     ]
    }
   ],
   "source": [
    "Sys.getenv_exn \"PATH\"\n",
    "^> String.split ~on:':' path\n",
    "^> List.dedup ~compare:String.compare\n",
    "^> List.iter ~f:print_endline"
   ]
  },
  {
   "cell_type": "markdown",
   "metadata": {},
   "source": [
    "这里的问题是，由于`^>`是右结合的，这个操作符试图把值`List.dup ~compare:String.compare`传入函数`List.iter` `~f:print_endline`。不过`List.iter~f:print_endline`希望得到一个字符串列表作为输入，而不是一个函数。"
   ]
  },
  {
   "cell_type": "code",
   "execution_count": 31,
   "metadata": {},
   "outputs": [
    {
     "data": {
      "text/plain": [
       "val some_or_zero : int option -> int = <fun>\n"
      ]
     },
     "execution_count": 31,
     "metadata": {},
     "output_type": "execute_result"
    }
   ],
   "source": [
    "let some_or_zero = function\n",
    "| Some x -> x\n",
    "| None -> 0"
   ]
  },
  {
   "cell_type": "code",
   "execution_count": 33,
   "metadata": {},
   "outputs": [
    {
     "data": {
      "text/plain": [
       "- : int Core.List.t = [3; 0; 4]\n"
      ]
     },
     "execution_count": 33,
     "metadata": {},
     "output_type": "execute_result"
    }
   ],
   "source": [
    "List.map ~f:some_or_zero [Some 3; None; Some 4];;"
   ]
  },
  {
   "cell_type": "markdown",
   "metadata": {},
   "source": [
    "这等价于将一个常规的函数定义与一个`match`相结合"
   ]
  },
  {
   "cell_type": "code",
   "execution_count": 34,
   "metadata": {},
   "outputs": [
    {
     "data": {
      "text/plain": [
       "val some_or_zero : int option -> int = <fun>\n"
      ]
     },
     "execution_count": 34,
     "metadata": {},
     "output_type": "execute_result"
    }
   ],
   "source": [
    "let some_or_zero num_opt = \n",
    "match num_opt with\n",
    "|Some x -> x\n",
    "|None -> 0\n"
   ]
  },
  {
   "cell_type": "markdown",
   "metadata": {},
   "source": [
    "还可以把不同的函数声明结合在一起，如下面的例子所示，这里我们声明了一个链参数（科里）函数，并对第二个参数进完成了一个模式匹配"
   ]
  },
  {
   "cell_type": "code",
   "execution_count": 37,
   "metadata": {},
   "outputs": [
    {
     "data": {
      "text/plain": [
       "val some_or_default : 'a -> 'a option -> 'a = <fun>\n"
      ]
     },
     "execution_count": 37,
     "metadata": {},
     "output_type": "execute_result"
    }
   ],
   "source": [
    "let some_or_default default = function\n",
    "| Some x -> x\n",
    "| None -> default"
   ]
  },
  {
   "cell_type": "code",
   "execution_count": 40,
   "metadata": {},
   "outputs": [
    {
     "data": {
      "text/plain": [
       "- : int = 5\n"
      ]
     },
     "execution_count": 40,
     "metadata": {},
     "output_type": "execute_result"
    }
   ],
   "source": [
    "some_or_default 3 (Some 5);;"
   ]
  },
  {
   "cell_type": "code",
   "execution_count": 42,
   "metadata": {},
   "outputs": [
    {
     "data": {
      "text/plain": [
       "- : int Core.List.t = [3; 100; 4]\n"
      ]
     },
     "execution_count": 42,
     "metadata": {},
     "output_type": "execute_result"
    }
   ],
   "source": [
    "List.map ~f:(some_or_default 100) [Some 3; None; Some 4];;"
   ]
  },
  {
   "cell_type": "code",
   "execution_count": 46,
   "metadata": {},
   "outputs": [
    {
     "data": {
      "text/plain": [
       "val ratio : num:int -> denom:int -> float = <fun>\n"
      ]
     },
     "execution_count": 46,
     "metadata": {},
     "output_type": "execute_result"
    }
   ],
   "source": [
    "let ratio ~num ~denom = float num /. float denom;;"
   ]
  },
  {
   "cell_type": "markdown",
   "metadata": {},
   "source": [
    "标签参数由前面的一个波浪线标志，并把标签（后面有一个冒号）放在要加标签的变量前面（实际上这里使用了标签双关，所以省略了冒号和后面的同名变量）。"
   ]
  },
  {
   "cell_type": "markdown",
   "metadata": {},
   "source": [
    "可以按任意的顺序提供参数"
   ]
  },
  {
   "cell_type": "code",
   "execution_count": 48,
   "metadata": {},
   "outputs": [
    {
     "data": {
      "text/plain": [
       "- : float = 0.3\n"
      ]
     },
     "execution_count": 48,
     "metadata": {},
     "output_type": "execute_result"
    },
    {
     "data": {
      "text/plain": [
       "- : float = 0.3\n"
      ]
     },
     "execution_count": 48,
     "metadata": {},
     "output_type": "execute_result"
    }
   ],
   "source": [
    "ratio ~num:3 ~denom:10;;\n",
    "ratio ~denom:10 ~num:3;;"
   ]
  },
  {
   "cell_type": "code",
   "execution_count": 50,
   "metadata": {},
   "outputs": [
    {
     "data": {
      "text/plain": [
       "- : float = 0.75\n"
      ]
     },
     "execution_count": 50,
     "metadata": {},
     "output_type": "execute_result"
    }
   ],
   "source": [
    "let num = 3 in\n",
    "let denom = 4 in\n",
    "ratio ~num ~denom"
   ]
  },
  {
   "cell_type": "code",
   "execution_count": 51,
   "metadata": {},
   "outputs": [
    {
     "data": {
      "text/plain": [
       "val apply_to_tuple : (first:'a -> second:'b -> 'c) -> 'a * 'b -> 'c = <fun>\n"
      ]
     },
     "execution_count": 51,
     "metadata": {},
     "output_type": "execute_result"
    }
   ],
   "source": [
    "let apply_to_tuple f (first, second) = f ~first ~second;"
   ]
  },
  {
   "cell_type": "markdown",
   "metadata": {},
   "source": [
    "第二种方式改变了便签参数列出的顺序："
   ]
  },
  {
   "cell_type": "code",
   "execution_count": 52,
   "metadata": {},
   "outputs": [
    {
     "data": {
      "text/plain": [
       "val apply_to_tuple_2 : (second:'a -> first:'b -> 'c) -> 'b * 'a -> 'c = <fun>\n"
      ]
     },
     "execution_count": 52,
     "metadata": {},
     "output_type": "execute_result"
    }
   ],
   "source": [
    "let apply_to_tuple_2 f (first, second) = f ~second ~first;;"
   ]
  },
  {
   "cell_type": "code",
   "execution_count": 53,
   "metadata": {},
   "outputs": [
    {
     "data": {
      "text/plain": [
       "val divide : first:int -> second:int -> int = <fun>\n"
      ]
     },
     "execution_count": 53,
     "metadata": {},
     "output_type": "execute_result"
    }
   ],
   "source": [
    "let divide ~first ~second = first / second;;"
   ]
  },
  {
   "cell_type": "code",
   "execution_count": 54,
   "metadata": {},
   "outputs": [
    {
     "ename": "error",
     "evalue": "compile_error",
     "output_type": "error",
     "traceback": [
      "\u001b[32mFile \"[54]\", line 1, characters 17-23:\n\u001b[31mError: This expression has type first:int -> second:int -> int\n       but an expression was expected of type second:'a -> first:'b -> 'c\n\u001b[36m   1: \u001b[30mapply_to_tuple_2 \u001b[4mdivide\u001b[0m\u001b[30m (3, 4);;\u001b[0m\n"
     ]
    }
   ],
   "source": [
    "apply_to_tuple_2 divide (3, 4);;"
   ]
  },
  {
   "cell_type": "code",
   "execution_count": 56,
   "metadata": {},
   "outputs": [
    {
     "data": {
      "text/plain": [
       "- : int = 0\n"
      ]
     },
     "execution_count": 56,
     "metadata": {},
     "output_type": "execute_result"
    }
   ],
   "source": [
    "apply_to_tuple divide (3, 4);;"
   ]
  },
  {
   "cell_type": "markdown",
   "metadata": {},
   "source": [
    "因此，将标签函数作为参数传入时，需要保证标签参数顺序一致"
   ]
  },
  {
   "cell_type": "code",
   "execution_count": 58,
   "metadata": {},
   "outputs": [
    {
     "data": {
      "text/plain": [
       "val concat : ?sep:string -> string -> string -> string = <fun>\n"
      ]
     },
     "execution_count": 58,
     "metadata": {},
     "output_type": "execute_result"
    }
   ],
   "source": [
    "let concat ?sep x y = \n",
    "let sep = match sep with None -> \"\" | Some x -> x in\n",
    "x ^ sep ^ y"
   ]
  },
  {
   "cell_type": "code",
   "execution_count": 59,
   "metadata": {},
   "outputs": [
    {
     "data": {
      "text/plain": [
       "- : string = \"foobar\"\n"
      ]
     },
     "execution_count": 59,
     "metadata": {},
     "output_type": "execute_result"
    }
   ],
   "source": [
    "concat \"foo\" \"bar\""
   ]
  },
  {
   "cell_type": "code",
   "execution_count": 61,
   "metadata": {},
   "outputs": [
    {
     "data": {
      "text/plain": [
       "- : string = \"foo:bar\"\n"
      ]
     },
     "execution_count": 61,
     "metadata": {},
     "output_type": "execute_result"
    }
   ],
   "source": [
    "concat ~sep:\":\" \"foo\" \"bar\""
   ]
  },
  {
   "cell_type": "markdown",
   "metadata": {},
   "source": [
    "前面的例子需要某种“样板”，如果什么也没有提供，要选择一个默认的风格符号。这是一个更简洁的`concat`"
   ]
  },
  {
   "cell_type": "code",
   "execution_count": 62,
   "metadata": {},
   "outputs": [
    {
     "data": {
      "text/plain": [
       "val concat : ?sep:string -> string -> string -> string = <fun>\n"
      ]
     },
     "execution_count": 62,
     "metadata": {},
     "output_type": "execute_result"
    }
   ],
   "source": [
    "let concat ?(sep=\"\") x y = x ^ sep ^ y;;"
   ]
  },
  {
   "cell_type": "markdown",
   "metadata": {},
   "source": [
    "下面的两行都指定了`concat`的sep参数，它们是等价的"
   ]
  },
  {
   "cell_type": "code",
   "execution_count": 64,
   "metadata": {},
   "outputs": [
    {
     "data": {
      "text/plain": [
       "- : string = \"foo:bar\"\n"
      ]
     },
     "execution_count": 64,
     "metadata": {},
     "output_type": "execute_result"
    }
   ],
   "source": [
    "concat ~sep:\":\" \"foo\" \"bar\""
   ]
  },
  {
   "cell_type": "code",
   "execution_count": 66,
   "metadata": {},
   "outputs": [
    {
     "data": {
      "text/plain": [
       "- : string = \"foo:bar\"\n"
      ]
     },
     "execution_count": 66,
     "metadata": {},
     "output_type": "execute_result"
    }
   ],
   "source": [
    "concat ?sep:(Some \":\") \"foo\" \"bar\""
   ]
  },
  {
   "cell_type": "markdown",
   "metadata": {},
   "source": [
    "下面两行代码调用`concat`时未指定`sep`，它们也是等价的"
   ]
  },
  {
   "cell_type": "code",
   "execution_count": 67,
   "metadata": {},
   "outputs": [
    {
     "data": {
      "text/plain": [
       "- : string = \"foobar\"\n"
      ]
     },
     "execution_count": 67,
     "metadata": {},
     "output_type": "execute_result"
    }
   ],
   "source": [
    "concat  \"foo\" \"bar\""
   ]
  },
  {
   "cell_type": "code",
   "execution_count": 68,
   "metadata": {},
   "outputs": [
    {
     "data": {
      "text/plain": [
       "- : string = \"foobar\"\n"
      ]
     },
     "execution_count": 68,
     "metadata": {},
     "output_type": "execute_result"
    }
   ],
   "source": [
    "concat ?sep:None \"foo\" \"bar\""
   ]
  },
  {
   "cell_type": "markdown",
   "metadata": {},
   "source": [
    "在底层，对于一个有可选参数的函数，如果调用者没有提供这个参数，函数会接收`None`，如果调用者提供了这个参数，则会接受·Some·"
   ]
  },
  {
   "cell_type": "markdown",
   "metadata": {},
   "source": [
    "由于看起来有多个类型可以选择，`Ocaml`选择时需要有一些启发式规则。**编译器使用的启发式规则是尽量使用标签而不是选项，另外要选择参数在源代码中出现的顺序**"
   ]
  },
  {
   "cell_type": "code",
   "execution_count": 69,
   "metadata": {},
   "outputs": [
    {
     "data": {
      "text/plain": [
       "val numeric_deriv :\n",
       "  delta:float ->\n",
       "  x:float -> y:float -> f:(x:float -> y:float -> float) -> float * float =\n",
       "  <fun>\n"
      ]
     },
     "execution_count": 69,
     "metadata": {},
     "output_type": "execute_result"
    }
   ],
   "source": [
    "let numeric_deriv ~delta ~x ~y ~(f: x:float -> y:float -> float) = \n",
    "let x' = x +. delta in\n",
    "let y' = y +. delta in\n",
    "let base = f ~x ~y in\n",
    "let dx = (f ~y ~x:x' -. base) /. delta in\n",
    "let dy = (f ~x ~y:y' -. base) /. delta in\n",
    "(dx, dy)"
   ]
  },
  {
   "cell_type": "code",
   "execution_count": 71,
   "metadata": {},
   "outputs": [
    {
     "ename": "error",
     "evalue": "compile_error",
     "output_type": "error",
     "traceback": [
      "\u001b[32mFile \"[71]\", line 5, characters 10-11:\n\u001b[31mError: This function is applied to arguments\nin an order different from other calls.\nThis is only allowed when the real type is known.\n\u001b[36m   4: \u001b[30mlet base = f ~x ~y in\n\u001b[36m   5: \u001b[30mlet dx = (\u001b[4mf\u001b[0m\u001b[30m ~y ~x:x' -. base) /. delta in\n\u001b[36m   6: \u001b[30mlet dy = (f ~x ~y:y' -. base) /. delta in\u001b[0m\n"
     ]
    }
   ],
   "source": [
    "let numeric_deriv ~delta ~x ~y ~f = \n",
    "let x' = x +. delta in\n",
    "let y' = y +. delta in\n",
    "let base = f ~x ~y in\n",
    "let dx = (f ~y ~x:x' -. base) /. delta in\n",
    "let dy = (f ~x ~y:y' -. base) /. delta in\n",
    "(dx, dy)"
   ]
  },
  {
   "cell_type": "markdown",
   "metadata": {},
   "source": [
    "正如错误信息所示，可以让Ocaml接受这一点，也就是说，如果我们提供了显式的类型信息，指出会议不同的参数顺序使用`f`，`Ocaml`就不会抱怨了。下面的代码为`f`增加了类型标注，因此可以顺利编译，不会有错误"
   ]
  },
  {
   "cell_type": "code",
   "execution_count": 72,
   "metadata": {},
   "outputs": [
    {
     "data": {
      "text/plain": [
       "val colon_concat : string -> string -> string = <fun>\n"
      ]
     },
     "execution_count": 72,
     "metadata": {},
     "output_type": "execute_result"
    }
   ],
   "source": [
    "let colon_concat = concat ~sep:\":\";;"
   ]
  },
  {
   "cell_type": "code",
   "execution_count": 73,
   "metadata": {},
   "outputs": [
    {
     "data": {
      "text/plain": [
       "- : string = \"a:b\"\n"
      ]
     },
     "execution_count": 73,
     "metadata": {},
     "output_type": "execute_result"
    }
   ],
   "source": [
    "colon_concat \"a\" \"b\";;"
   ]
  },
  {
   "cell_type": "code",
   "execution_count": 74,
   "metadata": {},
   "outputs": [
    {
     "data": {
      "text/plain": [
       "val prepend_pound : string -> string = <fun>\n"
      ]
     },
     "execution_count": 74,
     "metadata": {},
     "output_type": "execute_result"
    }
   ],
   "source": [
    "let prepend_pound = concat \"# \""
   ]
  },
  {
   "cell_type": "code",
   "execution_count": 75,
   "metadata": {},
   "outputs": [
    {
     "data": {
      "text/plain": [
       "- : string = \"# a BASH comment\"\n"
      ]
     },
     "execution_count": 75,
     "metadata": {},
     "output_type": "execute_result"
    }
   ],
   "source": [
    "prepend_pound \"a BASH comment\""
   ]
  },
  {
   "cell_type": "markdown",
   "metadata": {},
   "source": [
    "可选参数`?sep`现在消失了，或者说被擦除了。是几扇个，如果现在试图传入这个可选参数，则会被拒绝"
   ]
  },
  {
   "cell_type": "code",
   "execution_count": 76,
   "metadata": {},
   "outputs": [
    {
     "ename": "error",
     "evalue": "compile_error",
     "output_type": "error",
     "traceback": [
      "\u001b[32mFile \"[76]\", line 1, characters 0-13:\n\u001b[31mError: This function has type string -> string\n       It is applied to too many arguments; maybe you forgot a `;'.\n\u001b[36m   1: \u001b[30m\u001b[4mprepend_pound\u001b[0m\u001b[30m \"a BASH comment\" ~sep:\":\";;\u001b[0m\n"
     ]
    }
   ],
   "source": [
    "prepend_pound \"a BASH comment\" ~sep:\":\";;"
   ]
  },
  {
   "cell_type": "markdown",
   "metadata": {},
   "source": [
    "基本原则是：可选参数后面第一个位置上定义的参数（也就是说，不能是标签参数或可选参数）一旦传入，这个可选参数就会被擦除，这就解释了`prepend_pound`的行为。不过，如果定义`concat`时把可选参数放到第二个位置上"
   ]
  },
  {
   "cell_type": "code",
   "execution_count": 77,
   "metadata": {},
   "outputs": [
    {
     "data": {
      "text/plain": [
       "val concat : string -> ?sep:string -> string -> string = <fun>\n"
      ]
     },
     "execution_count": 77,
     "metadata": {},
     "output_type": "execute_result"
    }
   ],
   "source": [
    "let concat x ?(sep=\"\") y = x ^ sep ^ y;;"
   ]
  },
  {
   "cell_type": "code",
   "execution_count": 78,
   "metadata": {},
   "outputs": [
    {
     "data": {
      "text/plain": [
       "val prepend_pound : ?sep:string -> string -> string = <fun>\n"
      ]
     },
     "execution_count": 78,
     "metadata": {},
     "output_type": "execute_result"
    }
   ],
   "source": [
    "let prepend_pound = concat \"# \""
   ]
  },
  {
   "cell_type": "code",
   "execution_count": 79,
   "metadata": {},
   "outputs": [
    {
     "data": {
      "text/plain": [
       "- : string = \"# A BASH comment\"\n"
      ]
     },
     "execution_count": 79,
     "metadata": {},
     "output_type": "execute_result"
    }
   ],
   "source": [
    "prepend_pound \"A BASH comment\";;"
   ]
  },
  {
   "cell_type": "code",
   "execution_count": 80,
   "metadata": {},
   "outputs": [
    {
     "data": {
      "text/plain": [
       "- : string = \"# --- a BASH comment\"\n"
      ]
     },
     "execution_count": 80,
     "metadata": {},
     "output_type": "execute_result"
    }
   ],
   "source": [
    "prepend_pound \"a BASH comment\" ~sep:\"--- \""
   ]
  },
  {
   "cell_type": "code",
   "execution_count": null,
   "metadata": {
    "collapsed": true
   },
   "outputs": [],
   "source": []
  }
 ],
 "metadata": {
  "kernelspec": {
   "display_name": "OCaml 4.04.1",
   "language": "OCaml",
   "name": "ocaml-jupyter"
  },
  "language_info": {
   "codemirror_mode": "text/x-ocaml",
   "file_extension": ".ml",
   "mimetype": "text/x-ocaml",
   "name": "OCaml",
   "nbconverter_exporter": null,
   "pygments_lexer": "OCaml",
   "version": "4.04.1"
  }
 },
 "nbformat": 4,
 "nbformat_minor": 2
}
