{
 "cells": [
  {
   "cell_type": "markdown",
   "metadata": {},
   "source": [
    "例如，在用Ruby设计并实现库时，即使本质上只是一段使用了库的普通Ruby程序，也能狗通过一些方式让它看起来像是用DSL写成的程序。**或是让它具有和使用DSL写成的程序同样的可读性和书写复杂度**。这种表面上的DSL被称为内部DSK或嵌入式DSL。除此之外的DSL被称为外部DSL。"
   ]
  },
  {
   "cell_type": "markdown",
   "metadata": {},
   "source": [
    "说到底内部DSL只是不同的库而已，因此与外部DSL相比更容易开发。通过内部DSK写成的程序也能与没用使用DSL书写的程序混合使用。"
   ]
  },
  {
   "cell_type": "markdown",
   "metadata": {
    "collapsed": true
   },
   "source": [
    "左结合指的是两个相同运算符接连出现时，左侧的那个优先级较高。例如，`+`是一个做结合的运算符。因此，在计算\n",
    "`1 + 2 + 3 `\n",
    "时，将会像下面这样个首先计算左侧的加法运算。"
   ]
  },
  {
   "cell_type": "markdown",
   "metadata": {},
   "source": [
    "如果是右结合，就会先计算右侧的运算。通常，赋值运算符`=`右结合的运算符，如果它是左结合的，那么表达式"
   ]
  },
  {
   "cell_type": "markdown",
   "metadata": {},
   "source": [
    "`x = y = 3`"
   ]
  },
  {
   "cell_type": "markdown",
   "metadata": {},
   "source": [
    "将等同于\n"
   ]
  },
  {
   "cell_type": "markdown",
   "metadata": {},
   "source": [
    "`((x = y) = 3)`"
   ]
  },
  {
   "cell_type": "markdown",
   "metadata": {},
   "source": [
    "如果是右结合的，表达式为"
   ]
  },
  {
   "cell_type": "markdown",
   "metadata": {},
   "source": [
    "`(x = (y = 3))`"
   ]
  },
  {
   "cell_type": "markdown",
   "metadata": {},
   "source": [
    "这是通常期望的结果，除了赋值运算符，幂乘运算符也是右结合的。"
   ]
  },
  {
   "cell_type": "markdown",
   "metadata": {},
   "source": [
    "賦值表達式的右側的值能夠由`eval`方法計算得到，左側則不行。左側的值需要由一種名爲左值的特殊表達式計算。左值是右值的值的賦值對象，無法通過`eval`方法算得。例如，對左側表達式調用`eval`方法的結果是變量`a`的當前值。該結果不同於左值，並不是表達式新賦給`a`的值。"
   ]
  },
  {
   "cell_type": "code",
   "execution_count": null,
   "metadata": {
    "collapsed": true
   },
   "outputs": [],
   "source": []
  }
 ],
 "metadata": {
  "kernelspec": {
   "display_name": "Ruby 2.4.1",
   "language": "ruby",
   "name": "ruby"
  },
  "language_info": {
   "file_extension": ".rb",
   "mimetype": "application/x-ruby",
   "name": "ruby",
   "version": "2.4.1"
  }
 },
 "nbformat": 4,
 "nbformat_minor": 2
}
