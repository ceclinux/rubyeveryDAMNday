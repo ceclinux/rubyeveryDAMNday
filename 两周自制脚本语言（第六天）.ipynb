{
 "cells": [
  {
   "cell_type": "markdown",
   "metadata": {
    "collapsed": true
   },
   "source": [
    "只要能通过语法分析得到抽象语法树，程序的执行就简单了。解释器只需从抽象语法树的根节点开始便利该树直至叶节点，并计算个节点的内容即可。"
   ]
  },
  {
   "cell_type": "markdown",
   "metadata": {},
   "source": [
    "各个树节点对象的类都需要具备`eval`方法。`eval`是`evaluate`的缩写。`eval`方法将计算与以该节点为根的子树对应的语句、表达式以及子表达式、并返回执行结果。因此，只要调用抽象语法树的根节点的`eval`方法，就能完整的执行该语法树的程序。"
   ]
  },
  {
   "cell_type": "markdown",
   "metadata": {},
   "source": [
    "Stone语言这类支持变量的程序设计语言会将环境对象传递给`eval`方法的参数。简单来讲，环境对象指的是一种用于记录变量名称与值的对应关系的数据结构。它常以哈希表的形式实现。当程序中出现环境变量时，由该变量的名称与初始值构成的名值对将被添加至哈希表，之后再次遇到这一变量时，程序将搜索哈希表并取得其值。如果要富锌指给该变量，程序将会把原有变量的名值对更新为新的数据。"
   ]
  },
  {
   "cell_type": "markdown",
   "metadata": {
    "collapsed": true
   },
   "source": [
    "表有`@Revisitor`定義爲修改器(reviser)。修改器看起來和字類很類似，實則不然，它將直接修改所繼承類的定義。"
   ]
  },
  {
   "cell_type": "markdown",
   "metadata": {},
   "source": [
    "類似與`Ruby`的`open class`"
   ]
  },
  {
   "cell_type": "code",
   "execution_count": null,
   "metadata": {
    "collapsed": true
   },
   "outputs": [],
   "source": []
  }
 ],
 "metadata": {
  "kernelspec": {
   "display_name": "Ruby 2.4.1",
   "language": "ruby",
   "name": "ruby"
  },
  "language_info": {
   "file_extension": ".rb",
   "mimetype": "application/x-ruby",
   "name": "ruby",
   "version": "2.4.1"
  }
 },
 "nbformat": 4,
 "nbformat_minor": 2
}
