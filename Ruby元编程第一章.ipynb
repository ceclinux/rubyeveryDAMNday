{
 "cells": [
  {
   "cell_type": "markdown",
   "metadata": {},
   "source": [
    "元编程是能编写代码的代码。"
   ]
  },
  {
   "cell_type": "markdown",
   "metadata": {},
   "source": [
    "在很多编程语言里，语言构建的行为不像是有血有肉的人，而更像是幽灵。虽然你可以在源代码中看到他们，但是izai程序运行前他们就小时了。以C++为例，一旦编译器完成了工作，像变量和方法遮掩过的东西就变得看不见摸不着了，他们只存在于内存里。**你无法向一个类寻味它的实例方法，因为你在问这个问题时，这个类已经消失了**。"
   ]
  },
  {
   "cell_type": "markdown",
   "metadata": {},
   "source": [
    "而在另一些语言（如Ruby）里，运行时更像是一个繁忙的自由市场。大多数语言构建依然存在，而且四处忙碌着。你甚至可以走到一个构建面前，询问它关于它自身的问题。这种方法叫做**内省（introspection)**。"
   ]
  },
  {
   "cell_type": "code",
   "execution_count": 1,
   "metadata": {},
   "outputs": [
    {
     "data": {
      "text/plain": [
       "#<Greeting:0x29131f8 @text=\"Hello\">"
      ]
     },
     "execution_count": 1,
     "metadata": {},
     "output_type": "execute_result"
    }
   ],
   "source": [
    "class Greeting\n",
    "  def initialize(text)\n",
    "    @text = text\n",
    "  end\n",
    "  def welcome\n",
    "    @text\n",
    "  end\n",
    "end\n",
    "\n",
    "my_object = Greeting.new(\"Hello\")"
   ]
  },
  {
   "cell_type": "markdown",
   "metadata": {},
   "source": [
    "一些内省的例子"
   ]
  },
  {
   "cell_type": "code",
   "execution_count": 5,
   "metadata": {
    "scrolled": true
   },
   "outputs": [
    {
     "name": "stdout",
     "output_type": "stream",
     "text": [
      "Greeting\n",
      "[:welcome]\n",
      "[:@text]\n"
     ]
    },
    {
     "data": {
      "text/plain": [
       "[:@text]"
      ]
     },
     "execution_count": 5,
     "metadata": {},
     "output_type": "execute_result"
    }
   ],
   "source": [
    "p my_object.class\n",
    "p my_object.class.instance_methods(false)\n",
    "p my_object.instance_variables"
   ]
  },
  {
   "cell_type": "code",
   "execution_count": 5,
   "metadata": {},
   "outputs": [
    {
     "ename": "ActiveRecord::ConnectionNotEstablished",
     "evalue": "No connection pool with 'primary' found.",
     "output_type": "error",
     "traceback": [
      "\u001b[31mActiveRecord::ConnectionNotEstablished\u001b[0m: No connection pool with 'primary' found.",
      "\u001b[37m/home/ceclinux/.rvm/rubies/ruby-2.4.1/lib/ruby/gems/2.4.0/gems/activerecord-5.1.4/lib/active_record/connection_adapters/abstract/connection_pool.rb:930:in `retrieve_connection'\u001b[0m",
      "\u001b[37m/home/ceclinux/.rvm/rubies/ruby-2.4.1/lib/ruby/gems/2.4.0/gems/activerecord-5.1.4/lib/active_record/connection_handling.rb:116:in `retrieve_connection'\u001b[0m",
      "\u001b[37m/home/ceclinux/.rvm/rubies/ruby-2.4.1/lib/ruby/gems/2.4.0/gems/activerecord-5.1.4/lib/active_record/connection_handling.rb:88:in `connection'\u001b[0m",
      "\u001b[37m/home/ceclinux/.rvm/rubies/ruby-2.4.1/lib/ruby/gems/2.4.0/gems/activerecord-5.1.4/lib/active_record/model_schema.rb:471:in `load_schema!'\u001b[0m",
      "\u001b[37m/home/ceclinux/.rvm/rubies/ruby-2.4.1/lib/ruby/gems/2.4.0/gems/activerecord-5.1.4/lib/active_record/attributes.rb:233:in `load_schema!'\u001b[0m",
      "\u001b[37m/home/ceclinux/.rvm/rubies/ruby-2.4.1/lib/ruby/gems/2.4.0/gems/activerecord-5.1.4/lib/active_record/attribute_decorators.rb:50:in `load_schema!'\u001b[0m",
      "\u001b[37m/home/ceclinux/.rvm/rubies/ruby-2.4.1/lib/ruby/gems/2.4.0/gems/activerecord-5.1.4/lib/active_record/model_schema.rb:464:in `block in load_schema'\u001b[0m",
      "\u001b[37m/home/ceclinux/.rvm/rubies/ruby-2.4.1/lib/ruby/2.4.0/monitor.rb:214:in `mon_synchronize'\u001b[0m",
      "\u001b[37m/home/ceclinux/.rvm/rubies/ruby-2.4.1/lib/ruby/gems/2.4.0/gems/activerecord-5.1.4/lib/active_record/model_schema.rb:461:in `load_schema'\u001b[0m",
      "\u001b[37m/home/ceclinux/.rvm/rubies/ruby-2.4.1/lib/ruby/gems/2.4.0/gems/activerecord-5.1.4/lib/active_record/model_schema.rb:353:in `attribute_types'\u001b[0m",
      "\u001b[37m/home/ceclinux/.rvm/rubies/ruby-2.4.1/lib/ruby/gems/2.4.0/gems/activerecord-5.1.4/lib/active_record/attribute_methods.rb:179:in `has_attribute?'\u001b[0m",
      "\u001b[37m/home/ceclinux/.rvm/rubies/ruby-2.4.1/lib/ruby/gems/2.4.0/gems/activerecord-5.1.4/lib/active_record/inheritance.rb:55:in `new'\u001b[0m",
      "\u001b[37m/home/ceclinux/.rvm/rubies/ruby-2.4.1/lib/ruby/gems/2.4.0/gems/activerecord-5.1.4/lib/active_record/persistence.rb:33:in `create'\u001b[0m",
      "\u001b[37m<main>:4:in `<main>'\u001b[0m",
      "\u001b[37m/home/ceclinux/.rvm/rubies/ruby-2.4.1/lib/ruby/gems/2.4.0/gems/iruby-0.3/lib/iruby/backend.rb:44:in `eval'\u001b[0m",
      "\u001b[37m/home/ceclinux/.rvm/rubies/ruby-2.4.1/lib/ruby/gems/2.4.0/gems/iruby-0.3/lib/iruby/backend.rb:44:in `eval'\u001b[0m",
      "\u001b[37m/home/ceclinux/.rvm/rubies/ruby-2.4.1/lib/ruby/gems/2.4.0/gems/iruby-0.3/lib/iruby/backend.rb:12:in `eval'\u001b[0m",
      "\u001b[37m/home/ceclinux/.rvm/rubies/ruby-2.4.1/lib/ruby/gems/2.4.0/gems/iruby-0.3/lib/iruby/kernel.rb:87:in `execute_request'\u001b[0m",
      "\u001b[37m/home/ceclinux/.rvm/rubies/ruby-2.4.1/lib/ruby/gems/2.4.0/gems/iruby-0.3/lib/iruby/kernel.rb:47:in `dispatch'\u001b[0m",
      "\u001b[37m/home/ceclinux/.rvm/rubies/ruby-2.4.1/lib/ruby/gems/2.4.0/gems/iruby-0.3/lib/iruby/kernel.rb:37:in `run'\u001b[0m",
      "\u001b[37m/home/ceclinux/.rvm/rubies/ruby-2.4.1/lib/ruby/gems/2.4.0/gems/iruby-0.3/lib/iruby/command.rb:70:in `run_kernel'\u001b[0m",
      "\u001b[37m/home/ceclinux/.rvm/rubies/ruby-2.4.1/lib/ruby/gems/2.4.0/gems/iruby-0.3/lib/iruby/command.rb:34:in `run'\u001b[0m",
      "\u001b[37m/home/ceclinux/.rvm/rubies/ruby-2.4.1/lib/ruby/gems/2.4.0/gems/iruby-0.3/bin/iruby:5:in `<top (required)>'\u001b[0m",
      "\u001b[37m/home/ceclinux/.rvm/gems/ruby-2.4.1/bin/iruby:23:in `load'\u001b[0m",
      "\u001b[37m/home/ceclinux/.rvm/gems/ruby-2.4.1/bin/iruby:23:in `<main>'\u001b[0m",
      "\u001b[37m/home/ceclinux/.rvm/gems/ruby-2.4.1/bin/ruby_executable_hooks:15:in `eval'\u001b[0m",
      "\u001b[37m/home/ceclinux/.rvm/gems/ruby-2.4.1/bin/ruby_executable_hooks:15:in `<main>'\u001b[0m"
     ]
    }
   ],
   "source": [
    "require 'active_record'\n",
    "class Movie < ActiveRecord::Base\n",
    "end\n",
    "\n",
    "movie = Movie.create\n",
    "move.title = \"Doctor Stangelove\"\n",
    "move.title"
   ]
  },
  {
   "cell_type": "markdown",
   "metadata": {},
   "source": [
    "上面的代码创建了一个`Movie`对象，该对象包装了`movie`表中的一条记录。然后通过`Movie#title`和`Movie#title=`方法访问`title`字段，但是这些方法在源代码中无迹可查。如果根本没定义过，`title`和`title=`这两个方法这么能存在呢？这与Active Record的工作原理有关。\n",
    "\n",
    "Active Record通过内省机制查看类的名字。因为类名是`Movie`，Active Record会自动把它映射到名为`movies`的表中。\n",
    "\n",
    "那么，像`title`和`title=`这样的方法（简称为访问器）又是怎么样处理的呢？这就是元编程的妙用。Active Record会自动定义这些方法，。`ActiveRecord::Base`在运行时读取数据库的表模式，找到`movis`表有两个名为`title`和`director`的字段，然后自动定义两个同名的属性和相应的访问器。也就是说，Active Record在程序运行时动态地创建了`Movie#title`和`Movie#director=`这样的方法."
   ]
  },
  {
   "cell_type": "markdown",
   "metadata": {},
   "source": [
    "元编程的正式定义: **元编程是编写能在运行时操作语言构建的代码**"
   ]
  },
  {
   "cell_type": "markdown",
   "metadata": {},
   "source": [
    "Active record的作者在其库中应用了这技巧。他不为每个类的属性编写访问器方法，而是编写代码自动为每个集成自`ActiveRecord::Base`的类在运行时定义方法。"
   ]
  }
 ],
 "metadata": {
  "kernelspec": {
   "display_name": "Ruby 2.4.1",
   "language": "ruby",
   "name": "ruby"
  },
  "language_info": {
   "file_extension": ".rb",
   "mimetype": "application/x-ruby",
   "name": "ruby",
   "version": "2.4.1"
  }
 },
 "nbformat": 4,
 "nbformat_minor": 2
}
