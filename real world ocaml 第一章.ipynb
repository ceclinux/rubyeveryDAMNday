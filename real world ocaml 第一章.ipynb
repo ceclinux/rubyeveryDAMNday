{
 "cells": [
  {
   "cell_type": "code",
   "execution_count": 71,
   "metadata": {},
   "outputs": [
    {
     "data": {
      "text/plain": [
       "val square : int -> int = <fun>\n"
      ]
     },
     "execution_count": 71,
     "metadata": {},
     "output_type": "execute_result"
    }
   ],
   "source": [
    "let square x = x * x;"
   ]
  },
  {
   "cell_type": "markdown",
   "metadata": {},
   "source": [
    "Ocaml中的函数也是值。"
   ]
  },
  {
   "cell_type": "code",
   "execution_count": 72,
   "metadata": {},
   "outputs": [
    {
     "data": {
      "text/plain": [
       "val sum_if_true : (int -> bool) -> int -> int -> int = <fun>\n"
      ]
     },
     "execution_count": 72,
     "metadata": {},
     "output_type": "execute_result"
    }
   ],
   "source": [
    "let sum_if_true test first second = (if test first then first else 0) + (if test second then second else 0)"
   ]
  },
  {
   "cell_type": "code",
   "execution_count": 73,
   "metadata": {},
   "outputs": [
    {
     "data": {
      "text/plain": [
       "val even : int -> bool = <fun>\n"
      ]
     },
     "execution_count": 73,
     "metadata": {},
     "output_type": "execute_result"
    }
   ],
   "source": [
    "let even x = x mod 2 = 0;;"
   ]
  },
  {
   "cell_type": "code",
   "execution_count": 74,
   "metadata": {},
   "outputs": [
    {
     "data": {
      "text/plain": [
       "- : int = 4\n"
      ]
     },
     "execution_count": 74,
     "metadata": {},
     "output_type": "execute_result"
    }
   ],
   "source": [
    "sum_if_true even 3 4;;"
   ]
  },
  {
   "cell_type": "markdown",
   "metadata": {
    "collapsed": true
   },
   "source": [
    "注意在`even`定义中，我们采用了两种不同的方式使用=: 一次是作为`let`绑定的一部分，将所定义的变量与它的定义分开；另一次是作为一个相等行测试，将`x mod 2`与`0`进行比较。尽管语法有共同之处，但他们是完全不同的操作。"
   ]
  },
  {
   "cell_type": "markdown",
   "metadata": {},
   "source": [
    "Ocaml使用一种称为类型推断（type inference）的技术来确定一个表达式的类型。"
   ]
  },
  {
   "cell_type": "markdown",
   "metadata": {},
   "source": [
    "为了便于更好的了解一个表达式的类型，可以增加显示的类型标注(`type annotations`)。这些标注不会影响Ocaml程序的行为，不过他们可以作为很有用的文档，还可以捕获不期望的类型改变。如果一段代码编译失败，要明确代码未成功编译的原因，类型标注也会很有帮助。"
   ]
  },
  {
   "cell_type": "code",
   "execution_count": 75,
   "metadata": {},
   "outputs": [
    {
     "data": {
      "text/plain": [
       "val first_if_true : ('a -> bool) -> 'a -> 'a -> 'a = <fun>\n"
      ]
     },
     "execution_count": 75,
     "metadata": {},
     "output_type": "execute_result"
    }
   ],
   "source": [
    "let first_if_true test x  y = if test x then x else y"
   ]
  },
  {
   "cell_type": "markdown",
   "metadata": {},
   "source": [
    "Ocaml并没有查看顶层环境的类型，可以看到，Ocaml并没有选择某一个具体的类型，它引入了一个类型变量（type variable）。`'a`来表示这个类型是泛型。这种泛型特性被称为参数化多态。这与C#和Java中的泛型极其相似"
   ]
  },
  {
   "cell_type": "markdown",
   "metadata": {},
   "source": [
    "元组是一个有序集合，其中的值是不同的类型。可以用逗号连接各个值来创建一个元组"
   ]
  },
  {
   "cell_type": "code",
   "execution_count": 76,
   "metadata": {},
   "outputs": [
    {
     "data": {
      "text/plain": [
       "val a_tuple : int * string = (3, \"three\")\n"
      ]
     },
     "execution_count": 76,
     "metadata": {},
     "output_type": "execute_result"
    }
   ],
   "source": [
    "let a_tuple = (3, \"three\")"
   ]
  },
  {
   "cell_type": "markdown",
   "metadata": {},
   "source": [
    "可以使用Ocaml的模式匹配语言抽取元组中的分量，如下所示"
   ]
  },
  {
   "cell_type": "code",
   "execution_count": 77,
   "metadata": {},
   "outputs": [
    {
     "data": {
      "text/plain": [
       "val x : int = 3\n",
       "val y : string = \"three\"\n"
      ]
     },
     "execution_count": 77,
     "metadata": {},
     "output_type": "execute_result"
    }
   ],
   "source": [
    "let (x, y) = a_tuple"
   ]
  },
  {
   "cell_type": "code",
   "execution_count": 78,
   "metadata": {},
   "outputs": [
    {
     "data": {
      "text/plain": [
       "- : int = 3\n"
      ]
     },
     "execution_count": 78,
     "metadata": {},
     "output_type": "execute_result"
    }
   ],
   "source": [
    "List.length [1;2;3]"
   ]
  },
  {
   "cell_type": "code",
   "execution_count": 79,
   "metadata": {},
   "outputs": [
    {
     "data": {
      "text/plain": [
       "val languages : string list = [\"Ocaml\"; \"Perl\"; \"C\"]\n"
      ]
     },
     "execution_count": 79,
     "metadata": {},
     "output_type": "execute_result"
    }
   ],
   "source": [
    "let languages = [\"Ocaml\";\"Perl\";\"C\"]"
   ]
  },
  {
   "cell_type": "code",
   "execution_count": 80,
   "metadata": {
    "collapsed": true
   },
   "outputs": [],
   "source": [
    "\n",
    "open Core;;"
   ]
  },
  {
   "cell_type": "code",
   "execution_count": 115,
   "metadata": {},
   "outputs": [
    {
     "data": {
      "text/plain": [
       "- : int Core.List.t = [5; 4; 1]\n"
      ]
     },
     "execution_count": 115,
     "metadata": {},
     "output_type": "execute_result"
    }
   ],
   "source": [
    "List.map languages ~f:String.length"
   ]
  },
  {
   "cell_type": "markdown",
   "metadata": {},
   "source": [
    "需要指出，传入`List.map`的是通过一个标签函数(labeled argument)`~f`传递的。标签参数按名指定，而不是按位置指定，所以允许你改变函数参数的顺序，这不会改变它的行为。"
   ]
  },
  {
   "cell_type": "markdown",
   "metadata": {},
   "source": [
    "除了使用中括号构造列表之外，还可以使用操作符`::`在列表前面添加元素"
   ]
  },
  {
   "cell_type": "code",
   "execution_count": 82,
   "metadata": {},
   "outputs": [
    {
     "data": {
      "text/plain": [
       "- : string list = [\"French\"; \"Spanish\"; \"Ocaml\"; \"Perl\"; \"C\"]\n"
      ]
     },
     "execution_count": 82,
     "metadata": {},
     "output_type": "execute_result"
    }
   ],
   "source": [
    "\"French\" :: \"Spanish\" :: languages"
   ]
  },
  {
   "cell_type": "markdown",
   "metadata": {
    "collapsed": true
   },
   "source": [
    "與其他語言不同，`Ocaml`使用分號而不是逗號來分割列表中的列表元素。逗號用來分割原組中的元素，如果你試圖在列表中使用逗號，景觀代碼會編譯，但是不會得到你預期的結果。"
   ]
  },
  {
   "cell_type": "code",
   "execution_count": 83,
   "metadata": {},
   "outputs": [
    {
     "data": {
      "text/plain": [
       "- : (string * string * string) list = [(\"Ocaml\", \"Perl\", \"C\")]\n"
      ]
     },
     "execution_count": 83,
     "metadata": {},
     "output_type": "execute_result"
    }
   ],
   "source": [
    "[\"Ocaml\", \"Perl\", \"C\"]"
   ]
  },
  {
   "cell_type": "markdown",
   "metadata": {},
   "source": [
    "需要注意的是，與::不同，@並不是一個常數時間的操作。連接兩個列表的時間與第一個列表的長度成正比。"
   ]
  },
  {
   "cell_type": "code",
   "execution_count": 84,
   "metadata": {},
   "outputs": [
    {
     "name": "stderr",
     "output_type": "stream",
     "text": [
      "File \"[84]\", line 1, characters 25-64:\n",
      "Warning 8: this pattern-matching is not exhaustive.\n",
      "Here is an example of a case that is not matched:\n",
      "[]\n"
     ]
    },
    {
     "data": {
      "text/plain": [
       "val my_favorite_language : 'a list -> 'a = <fun>\n"
      ]
     },
     "execution_count": 84,
     "metadata": {},
     "output_type": "execute_result"
    }
   ],
   "source": [
    "let my_favorite_language (my_favorite :: the_rest) = my_favorite"
   ]
  },
  {
   "cell_type": "markdown",
   "metadata": {},
   "source": [
    "這是使用::的模式匹配，利用這個模式匹配，我們分離了列表的第一個元素和列表的其餘部分，並風別命名爲`my_favourite`和`the_rest`。"
   ]
  },
  {
   "cell_type": "markdown",
   "metadata": {},
   "source": [
    "不過，可以看到，頂層環境並不喜歡這個定義，它會給出一個警告，更重要的是，這樣可以確保你的代碼能處理所有可能的情況。它會給出一個警告，指出模式不完善，沒有窮盡所有情況。這說明這個模式可能無法匹配某些類型的值，即`[]`（空表）。試着運行`my_favourite_language`時可以看到，對於非空列表它確實能正常工作，但對於空表則會失敗。"
   ]
  },
  {
   "cell_type": "code",
   "execution_count": 85,
   "metadata": {},
   "outputs": [
    {
     "ename": "error",
     "evalue": "compile_error",
     "output_type": "error",
     "traceback": [
      "\u001b[32mFile \"[85]\", line 1, characters 22-31:\n\u001b[31mError: This expression has type string but an expression was expected of type\n         'a -> 'b -> 'c\n\u001b[36m   1: \u001b[30mmy_favorite_language [\u001b[4m\"English\"\u001b[0m\u001b[30m; \"Spanish\"; \"Franch\"]\n\u001b[36m   2: \u001b[30mmy_favorite_language []\u001b[0m\n"
     ]
    }
   ],
   "source": [
    "my_favorite_language [\"English\"; \"Spanish\"; \"Franch\"]\n",
    "my_favorite_language []"
   ]
  },
  {
   "cell_type": "markdown",
   "metadata": {
    "collapsed": true
   },
   "source": [
    "可以使用match來避免這些警告，更重要的是，這樣可以確保你的代碼能處理所有可能的情況"
   ]
  },
  {
   "cell_type": "code",
   "execution_count": 86,
   "metadata": {},
   "outputs": [
    {
     "data": {
      "text/plain": [
       "val my_favorite_language : string list -> string = <fun>\n"
      ]
     },
     "execution_count": 86,
     "metadata": {},
     "output_type": "execute_result"
    }
   ],
   "source": [
    "let my_favorite_language languages = \n",
    "  match languages with\n",
    "  | first :: the_rest -> first\n",
    "  | [] -> \"Ocaml\"\n",
    "  "
   ]
  },
  {
   "cell_type": "code",
   "execution_count": 87,
   "metadata": {},
   "outputs": [
    {
     "data": {
      "text/plain": [
       "- : string = \"English\"\n"
      ]
     },
     "execution_count": 87,
     "metadata": {},
     "output_type": "execute_result"
    }
   ],
   "source": [
    "my_favorite_language [\"English\"; \"Spanish\"; \"French\"] "
   ]
  },
  {
   "cell_type": "code",
   "execution_count": 88,
   "metadata": {},
   "outputs": [
    {
     "data": {
      "text/plain": [
       "- : string = \"Ocaml\"\n"
      ]
     },
     "execution_count": 88,
     "metadata": {},
     "output_type": "execute_result"
    }
   ],
   "source": [
    "my_favorite_language []"
   ]
  },
  {
   "cell_type": "code",
   "execution_count": 89,
   "metadata": {},
   "outputs": [
    {
     "data": {
      "text/plain": [
       "val sum : int list -> int = <fun>\n"
      ]
     },
     "execution_count": 89,
     "metadata": {},
     "output_type": "execute_result"
    }
   ],
   "source": [
    "let rec sum l = \n",
    "  match l with\n",
    "  | [] -> 0\n",
    "  | hd :: tl -> hd + sum tl\n",
    "  "
   ]
  },
  {
   "cell_type": "code",
   "execution_count": 90,
   "metadata": {},
   "outputs": [
    {
     "data": {
      "text/plain": [
       "- : int = 6\n"
      ]
     },
     "execution_count": 90,
     "metadata": {},
     "output_type": "execute_result"
    }
   ],
   "source": [
    "sum [1;2;3]"
   ]
  },
  {
   "cell_type": "code",
   "execution_count": 91,
   "metadata": {},
   "outputs": [
    {
     "data": {
      "text/plain": [
       "val destutter : 'a list -> 'a list = <fun>\n"
      ]
     },
     "execution_count": 91,
     "metadata": {},
     "output_type": "execute_result"
    }
   ],
   "source": [
    "let rec destutter list = \n",
    "  match list with\n",
    "  | [] -> []\n",
    "  | [hd] -> [hd]\n",
    "  | hd1 :: hd2 :: t1-> \n",
    "     if hd1 = hd2 then destutter (hd2 :: t1)\n",
    "     else hd1 :: destutter (hd2 :: t1)"
   ]
  },
  {
   "cell_type": "markdown",
   "metadata": {},
   "source": [
    "`in`標誌這個作用域的開始，新變量可以在這個作用域中使用"
   ]
  },
  {
   "cell_type": "code",
   "execution_count": 92,
   "metadata": {},
   "outputs": [
    {
     "data": {
      "text/plain": [
       "- : int = 14\n"
      ]
     },
     "execution_count": 92,
     "metadata": {},
     "output_type": "execute_result"
    }
   ],
   "source": [
    " let x = 7 in\n",
    "  x + x"
   ]
  },
  {
   "cell_type": "markdown",
   "metadata": {},
   "source": [
    "let綁定的作用域用雙分號結束，所以`x`的值不再可用"
   ]
  },
  {
   "cell_type": "code",
   "execution_count": 93,
   "metadata": {},
   "outputs": [
    {
     "data": {
      "text/plain": [
       "- : int = 3\n"
      ]
     },
     "execution_count": 93,
     "metadata": {},
     "output_type": "execute_result"
    }
   ],
   "source": [
    "x"
   ]
  },
  {
   "cell_type": "markdown",
   "metadata": {},
   "source": [
    "選項在Ocaml中很重要，因爲這是Ocaml中對可能不存在的值進行的標準方法。在`Ocaml`中沒有類似`NullPointerException`的概念，這一點與其大多數語言都有所不同，包括Java與C#，那些語言中，絕大多數數據類型都有可能爲null。在這些語言中，到處都潛伏着null。"
   ]
  },
  {
   "cell_type": "markdown",
   "metadata": {},
   "source": [
    "不過，Ocaml中則完全不同，如果沒有值，就要明確的指出。類型爲`string  * string`的值總是包含兩個明確定義的String類型值。如果允許其中某個值爲空，例如，允許第一個值不存在，就要把類型改爲`string option * string`。在第七章我們可以看到，基於這種明確性，更有利於確保你正確的處理可能缺少數據的情況。"
   ]
  },
  {
   "cell_type": "code",
   "execution_count": 94,
   "metadata": {},
   "outputs": [
    {
     "data": {
      "text/plain": [
       "type point2d = { x : float; y : float; }\n"
      ]
     },
     "execution_count": 94,
     "metadata": {},
     "output_type": "execute_result"
    }
   ],
   "source": [
    "type point2d = {x: float; y: float}"
   ]
  },
  {
   "cell_type": "markdown",
   "metadata": {},
   "source": [
    "point2d是一個記錄類型(record)，可以把它看作是一個元祖，只是其中各個自斷是命名字段，而不是按位置來定義。"
   ]
  },
  {
   "cell_type": "code",
   "execution_count": 95,
   "metadata": {},
   "outputs": [
    {
     "data": {
      "text/plain": [
       "val p : point2d = {x = 3.; y = -4.}\n"
      ]
     },
     "execution_count": 95,
     "metadata": {},
     "output_type": "execute_result"
    }
   ],
   "source": [
    "let p = {x = 3.; y = -4.}"
   ]
  },
  {
   "cell_type": "code",
   "execution_count": 96,
   "metadata": {},
   "outputs": [
    {
     "data": {
      "text/plain": [
       "val magnitude : point2d -> float = <fun>\n"
      ]
     },
     "execution_count": 96,
     "metadata": {},
     "output_type": "execute_result"
    }
   ],
   "source": [
    "let magnitude {x = x_pos; y = y_pos} = \n",
    " sqrt (x_pos ** 2. +. y_pos ** 2.)"
   ]
  },
  {
   "cell_type": "markdown",
   "metadata": {
    "collapsed": true
   },
   "source": [
    "可以使用字段双关把它写得更简练。具体地，如果字段名和该字段要绑定的字段名一致，就不需要把它们写下来。还可以重写为以下形式"
   ]
  },
  {
   "cell_type": "code",
   "execution_count": 102,
   "metadata": {},
   "outputs": [
    {
     "data": {
      "text/plain": [
       "val magnitude : point2d -> float = <fun>\n"
      ]
     },
     "execution_count": 102,
     "metadata": {},
     "output_type": "execute_result"
    }
   ],
   "source": [
    "let magnitude { x;y } = sqrt (x ** 2. +. y ** 2.)"
   ]
  },
  {
   "cell_type": "markdown",
   "metadata": {},
   "source": [
    "或者也可以使用点记法访问记录字段"
   ]
  },
  {
   "cell_type": "code",
   "execution_count": 104,
   "metadata": {},
   "outputs": [
    {
     "data": {
      "text/plain": [
       "val distance : point2d -> point2d -> float = <fun>\n"
      ]
     },
     "execution_count": 104,
     "metadata": {},
     "output_type": "execute_result"
    }
   ],
   "source": [
    "let distance v1 v2 = magnitude {x = v1.x -. v2.x; y = v1.y -. v2.y}"
   ]
  },
  {
   "cell_type": "markdown",
   "metadata": {},
   "source": [
    "当然可以把新定义的类型作为分量包含在更大的类型中。例如，下面给出一些类型为不同的几何对象建模，其中要用到`point2d`类型的值"
   ]
  },
  {
   "cell_type": "code",
   "execution_count": 107,
   "metadata": {},
   "outputs": [
    {
     "data": {
      "text/plain": [
       "type circle_desc = { center : point2d; radius : float; }\n"
      ]
     },
     "execution_count": 107,
     "metadata": {},
     "output_type": "execute_result"
    },
    {
     "data": {
      "text/plain": [
       "type rect_desc = { lower_left : point2d; width : float; height : float; }\n"
      ]
     },
     "execution_count": 107,
     "metadata": {},
     "output_type": "execute_result"
    },
    {
     "data": {
      "text/plain": [
       "type segment_desc = { endpoint1 : point2d; endpoint2 : point2d; }\n"
      ]
     },
     "execution_count": 107,
     "metadata": {},
     "output_type": "execute_result"
    }
   ],
   "source": [
    "type circle_desc = {center: point2d; radius: float}\n",
    "type rect_desc = {lower_left:point2d; width: float;height: float}\n",
    "type segment_desc = {endpoint1: point2d; endpoint2: point2d}"
   ]
  },
  {
   "cell_type": "code",
   "execution_count": 113,
   "metadata": {},
   "outputs": [
    {
     "data": {
      "text/plain": [
       "type scene_element =\n",
       "    Circle of circle_desc\n",
       "  | Rect of rect_desc\n",
       "  | Segment of segment_desc\n"
      ]
     },
     "execution_count": 113,
     "metadata": {},
     "output_type": "execute_result"
    }
   ],
   "source": [
    "type scene_element = \n",
    "| Circle of circle_desc\n",
    "| Rect of rect_desc\n",
    "| Segment of segment_desc"
   ]
  },
  {
   "cell_type": "markdown",
   "metadata": {},
   "source": [
    "可以如下写一个函数，测试一个点是否落在`scene_element`列表中某个元素的内部"
   ]
  },
  {
   "cell_type": "code",
   "execution_count": 112,
   "metadata": {},
   "outputs": [
    {
     "data": {
      "text/plain": [
       "val is_inside_scene_element : point2d -> scene_element -> bool = <fun>\n"
      ]
     },
     "execution_count": 112,
     "metadata": {},
     "output_type": "execute_result"
    }
   ],
   "source": [
    "let is_inside_scene_element point scene_element =\n",
    "match scene_element with\n",
    "| Circle {center; radius} ->\n",
    " distance center point < radius\n",
    "| Rect { lower_left; width; height} ->\n",
    "point.x > lower_left.x && point.x < lower_left.x +. width\n",
    "&& point.y > lower_left.y && point.y < lower_left.y +. height\n",
    "| Segment {endpoint1; endpoint2} -> false\n",
    " "
   ]
  },
  {
   "cell_type": "code",
   "execution_count": 114,
   "metadata": {},
   "outputs": [
    {
     "data": {
      "text/plain": [
       "val is_inside_scene : point2d -> scene_element Core.List.t -> bool = <fun>\n"
      ]
     },
     "execution_count": 114,
     "metadata": {},
     "output_type": "execute_result"
    }
   ],
   "source": [
    "let is_inside_scene point scene = List.exists scene ~f:(fun el -> is_inside_scene_element point el)"
   ]
  },
  {
   "cell_type": "code",
   "execution_count": 121,
   "metadata": {},
   "outputs": [
    {
     "data": {
      "text/plain": [
       "- : bool = false\n"
      ]
     },
     "execution_count": 121,
     "metadata": {},
     "output_type": "execute_result"
    }
   ],
   "source": [
    "is_inside_scene {x=3.;y=7.}\n",
    "[ Circle {center = {x = 4.;y=4.}; radius=0.5}]"
   ]
  },
  {
   "cell_type": "code",
   "execution_count": 123,
   "metadata": {},
   "outputs": [
    {
     "data": {
      "text/plain": [
       "- : bool = true\n"
      ]
     },
     "execution_count": 123,
     "metadata": {},
     "output_type": "execute_result"
    }
   ],
   "source": [
    "is_inside_scene {x=3.;y=7.}\n",
    "[ Circle {center = {x = 4.;y=4.}; radius=5.0}]"
   ]
  },
  {
   "cell_type": "markdown",
   "metadata": {},
   "source": [
    "你可能会注意到，这里使用的`match`与处理`option`和`list`时使用的`match`是很类似的。这不是偶然，`option`和`list`实际上就是变体类型的例子，只是由于它们及其重要，因此标准库中提供了专门的定义。"
   ]
  },
  {
   "cell_type": "markdown",
   "metadata": {},
   "source": [
    "Ocaml中默认为函数式代码，变量绑定和大多数数据结构都是不可变的。"
   ]
  },
  {
   "cell_type": "code",
   "execution_count": 129,
   "metadata": {},
   "outputs": [
    {
     "data": {
      "text/plain": [
       "val numbers : int array = [|1; 2; 3; 4|]\n"
      ]
     },
     "execution_count": 129,
     "metadata": {},
     "output_type": "execute_result"
    }
   ],
   "source": [
    "let numbers = [| 1;2;3;4 |]"
   ]
  },
  {
   "cell_type": "code",
   "execution_count": 133,
   "metadata": {},
   "outputs": [
    {
     "data": {
      "text/plain": [
       "- : unit = ()\n"
      ]
     },
     "execution_count": 133,
     "metadata": {},
     "output_type": "execute_result"
    }
   ],
   "source": [
    "numbers.(2) <- 4"
   ]
  },
  {
   "cell_type": "markdown",
   "metadata": {},
   "source": [
    "`unit`类型可能只有一个值，写为()。我们使用`unit`表示设置可变字段等操作的返回值，这些操作的意义在于其副作用而不是返回一个值。它还可以用作不需要输入值的函数参数。`unit`值就类似于C和Java中void的角色。\n"
   ]
  },
  {
   "cell_type": "code",
   "execution_count": 137,
   "metadata": {},
   "outputs": [
    {
     "data": {
      "text/plain": [
       "- : int array = [|1; 2; 4; 4|]\n"
      ]
     },
     "execution_count": 137,
     "metadata": {},
     "output_type": "execute_result"
    }
   ],
   "source": [
    "numbers"
   ]
  },
  {
   "cell_type": "markdown",
   "metadata": {},
   "source": [
    "尽管记录(`record`)默认是不可变的，但是可以把一些字段显式声明为可变字段"
   ]
  },
  {
   "cell_type": "code",
   "execution_count": 139,
   "metadata": {},
   "outputs": [
    {
     "data": {
      "text/plain": [
       "type running_sum = {\n",
       "  mutable sum : float;\n",
       "  mutable sum_sq : float;\n",
       "  mutable samples : int;\n",
       "}\n"
      ]
     },
     "execution_count": 139,
     "metadata": {},
     "output_type": "execute_result"
    }
   ],
   "source": [
    "type running_sum = \n",
    "{\n",
    "mutable sum: float;\n",
    "mutable sum_sq: float;\n",
    "mutable samples: int;\n",
    "}"
   ]
  },
  {
   "cell_type": "code",
   "execution_count": 141,
   "metadata": {},
   "outputs": [
    {
     "data": {
      "text/plain": [
       "val mean : running_sum -> float = <fun>\n"
      ]
     },
     "execution_count": 141,
     "metadata": {},
     "output_type": "execute_result"
    },
    {
     "data": {
      "text/plain": [
       "val stdev : running_sum -> float = <fun>\n"
      ]
     },
     "execution_count": 141,
     "metadata": {},
     "output_type": "execute_result"
    }
   ],
   "source": [
    "let mean rsum = rsum.sum /. float rsum.samples\n",
    "let stdev rsum = sqrt (rsum.sum_sq /. float rsum.samples -. (rsum.sum /. float rsum.samples)** 2.);;"
   ]
  },
  {
   "cell_type": "code",
   "execution_count": null,
   "metadata": {
    "collapsed": true
   },
   "outputs": [],
   "source": []
  },
  {
   "cell_type": "code",
   "execution_count": null,
   "metadata": {
    "collapsed": true
   },
   "outputs": [],
   "source": []
  }
 ],
 "metadata": {
  "kernelspec": {
   "display_name": "OCaml 4.04.1",
   "language": "OCaml",
   "name": "ocaml-jupyter"
  },
  "language_info": {
   "codemirror_mode": "text/x-ocaml",
   "file_extension": ".ml",
   "mimetype": "text/x-ocaml",
   "name": "OCaml",
   "nbconverter_exporter": null,
   "pygments_lexer": "OCaml",
   "version": "4.04.1"
  }
 },
 "nbformat": 4,
 "nbformat_minor": 2
}
