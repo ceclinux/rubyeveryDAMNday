{
 "cells": [
  {
   "cell_type": "markdown",
   "metadata": {},
   "source": [
    "The one step that happens in every sharding implementation is deciding what's you're going to shared or partition your data on. There are a number of trade-offs to various keys, and which is right really depends on your application."
   ]
  },
  {
   "cell_type": "markdown",
   "metadata": {},
   "source": [
    "When a request comes in, if you're doing your sharding at the application layer, then your application will need to determine how to route the request."
   ]
  },
  {
   "cell_type": "markdown",
   "metadata": {},
   "source": [
    "```sql\n",
    "SELECT *\n",
    "FROM visits\n",
    "WHERE occurred_at >= now() - '1 week'::interval\n",
    "  AND customer_id = 2\n",
    "```"
   ]
  },
  {
   "cell_type": "markdown",
   "metadata": {},
   "source": [
    "transfer to"
   ]
  },
  {
   "cell_type": "markdown",
   "metadata": {},
   "source": [
    "```sql\n",
    "SELECT *\n",
    "FROM visits_007\n",
    "WHERE occurred_at >= now() - '1 week'::interval\n",
    "  AND customer_id = 2\n",
    "\n",
    "```"
   ]
  },
  {
   "cell_type": "markdown",
   "metadata": {},
   "source": [
    "shards are some distinct grouping of data"
   ]
  },
  {
   "cell_type": "markdown",
   "metadata": {},
   "source": [
    "Horizonal paritition is a database design principle whereby rows of a database table are held separately, rather than being split into columns(which is what normalization and  vertial partition do, to differenting extens.) Each partition forms part of a shard, which may in turn be located on a separate database server or physical location."
   ]
  },
  {
   "cell_type": "markdown",
   "metadata": {},
   "source": [
    "**Increased complexisty of SQL** - increased  bugs becauses the developers have to write more complicated SQL to handle sharding logic."
   ]
  },
  {
   "cell_type": "markdown",
   "metadata": {},
   "source": [
    "**Sharding introduces complexity** - The sharding software that partitions, balances, coordinates, and ensures integrity can fail."
   ]
  },
  {
   "cell_type": "markdown",
   "metadata": {},
   "source": [
    "**Single point of failure** - Corruption of one shard due to network/hardware/systems problems causes failure of the entire table."
   ]
  },
  {
   "cell_type": "markdown",
   "metadata": {},
   "source": [
    "**Backups more complex** - Database backups of the individual shards must be coordinated with the backups of the other shards."
   ]
  }
 ],
 "metadata": {
  "kernelspec": {
   "display_name": "Elixir",
   "language": "Elixir",
   "name": "ielixir"
  },
  "language_info": {
   "codemirror_mode": "elixir",
   "file_extension": "ex",
   "mimetype": "text/x-elixir",
   "name": "elixir",
   "nbconvert_exporter": "",
   "pygments_lexer": "elixir",
   "version": "#Version<1.6.5>"
  }
 },
 "nbformat": 4,
 "nbformat_minor": 2
}
