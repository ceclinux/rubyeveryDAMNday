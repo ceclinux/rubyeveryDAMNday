{
 "cells": [
  {
   "cell_type": "code",
   "execution_count": 21,
   "metadata": {
    "collapsed": true
   },
   "outputs": [],
   "source": [
    "open Core"
   ]
  },
  {
   "cell_type": "code",
   "execution_count": 22,
   "metadata": {},
   "outputs": [
    {
     "data": {
      "text/plain": [
       "- : int list = [1; 2; 3]\n"
      ]
     },
     "execution_count": 22,
     "metadata": {},
     "output_type": "execute_result"
    }
   ],
   "source": [
    "1 :: (2 :: (3 :: []))"
   ]
  },
  {
   "cell_type": "code",
   "execution_count": 23,
   "metadata": {},
   "outputs": [
    {
     "data": {
      "text/plain": [
       "- : int list = [1; 2; 3]\n"
      ]
     },
     "execution_count": 23,
     "metadata": {},
     "output_type": "execute_result"
    }
   ],
   "source": [
    "1 :: 2 :: 3:: [];;"
   ]
  },
  {
   "cell_type": "markdown",
   "metadata": {},
   "source": [
    "可以看到，`::`是右结合的，这说明我们可以不用右括号来建立列表。空表`[]`用来结束一个列表。需要说明，空表是多态的，这意味者它可以用于任意类型的元素，如下所示"
   ]
  },
  {
   "cell_type": "code",
   "execution_count": 24,
   "metadata": {},
   "outputs": [
    {
     "data": {
      "text/plain": [
       "val empty : 'a list = []\n"
      ]
     },
     "execution_count": 24,
     "metadata": {},
     "output_type": "execute_result"
    }
   ],
   "source": [
    "let empty = [];;"
   ]
  },
  {
   "cell_type": "code",
   "execution_count": 25,
   "metadata": {},
   "outputs": [
    {
     "data": {
      "text/plain": [
       "- : int list = [3]\n"
      ]
     },
     "execution_count": 25,
     "metadata": {},
     "output_type": "execute_result"
    }
   ],
   "source": [
    "3::empty;;"
   ]
  },
  {
   "cell_type": "code",
   "execution_count": 26,
   "metadata": {},
   "outputs": [
    {
     "data": {
      "text/plain": [
       "- : string list = [\"three\"]\n"
      ]
     },
     "execution_count": 26,
     "metadata": {},
     "output_type": "execute_result"
    }
   ],
   "source": [
    "\"three\"::empty;;"
   ]
  },
  {
   "cell_type": "markdown",
   "metadata": {},
   "source": [
    "Ocaml列表实际上是单列表"
   ]
  },
  {
   "cell_type": "markdown",
   "metadata": {},
   "source": [
    "从一个列表中过滤掉列表中等于特定值的元素"
   ]
  },
  {
   "cell_type": "code",
   "execution_count": 27,
   "metadata": {},
   "outputs": [
    {
     "data": {
      "text/plain": [
       "val drop_value : 'a list -> 'a -> 'a list = <fun>\n"
      ]
     },
     "execution_count": 27,
     "metadata": {},
     "output_type": "execute_result"
    }
   ],
   "source": [
    "let rec drop_value l to_drop = \n",
    "match l with\n",
    "| [] -> []\n",
    "| hd :: tl ->\n",
    "let new_tl = drop_value tl to_drop in\n",
    "if hd = to_drop then new_tl else hd :: new_tl"
   ]
  },
  {
   "cell_type": "code",
   "execution_count": 28,
   "metadata": {},
   "outputs": [
    {
     "data": {
      "text/plain": [
       "- : int list = [1; 3]\n"
      ]
     },
     "execution_count": 28,
     "metadata": {},
     "output_type": "execute_result"
    }
   ],
   "source": [
    "drop_value [1;2;3;2] 2;;"
   ]
  },
  {
   "cell_type": "markdown",
   "metadata": {
    "collapsed": true
   },
   "source": [
    "一般的，模式匹配要比你手工编写的其他代码更加高效"
   ]
  },
  {
   "cell_type": "code",
   "execution_count": 29,
   "metadata": {},
   "outputs": [
    {
     "data": {
      "text/plain": [
       "val s : string = \".......\"\n"
      ]
     },
     "execution_count": 29,
     "metadata": {},
     "output_type": "execute_result"
    }
   ],
   "source": [
    "let s = \".\" ^ \".\" ^ \".\" ^  \".\" ^ \".\" ^ \".\" ^\".\";"
   ]
  },
  {
   "cell_type": "markdown",
   "metadata": {},
   "source": [
    "将会分配长度为2,3,4,5,6和7字符串"
   ]
  },
  {
   "cell_type": "code",
   "execution_count": 33,
   "metadata": {},
   "outputs": [
    {
     "data": {
      "text/plain": [
       "val s : Core.String.t = \"......\"\n"
      ]
     },
     "execution_count": 33,
     "metadata": {},
     "output_type": "execute_result"
    }
   ],
   "source": [
    "let s = String.concat [\".\";\".\";\".\";\".\";\".\";\".\"]"
   ]
  },
  {
   "cell_type": "markdown",
   "metadata": {},
   "source": [
    "只分配一个长度为7的字符串。大规模的组装字符串的时，\"^\"会带来严重问题"
   ]
  },
  {
   "cell_type": "markdown",
   "metadata": {},
   "source": [
    "计算列的最大宽度"
   ]
  },
  {
   "cell_type": "code",
   "execution_count": 31,
   "metadata": {},
   "outputs": [
    {
     "data": {
      "text/plain": [
       "val max_widths :\n",
       "  Core.String.t Core.List.t ->\n",
       "  Core.String.t Core.List.t Core.List.t -> Core.Int.t Core.List.t = <fun>\n"
      ]
     },
     "execution_count": 31,
     "metadata": {},
     "output_type": "execute_result"
    }
   ],
   "source": [
    "let max_widths header rows = \n",
    "let lengths l = List.map ~f:String.length l in\n",
    "List.fold rows\n",
    "~init:(lengths header)\n",
    "~f:(fun acc row -> List.map2_exn ~f:Int.max acc (lengths row))"
   ]
  },
  {
   "cell_type": "code",
   "execution_count": 34,
   "metadata": {},
   "outputs": [
    {
     "data": {
      "text/plain": [
       "- : 'a Core.List.t -> 'b Core.List.t -> f:('a -> 'b -> 'c) -> 'c Core.List.t\n",
       "= <fun>\n"
      ]
     },
     "execution_count": 34,
     "metadata": {},
     "output_type": "execute_result"
    }
   ],
   "source": [
    "List.map2_exn"
   ]
  },
  {
   "cell_type": "code",
   "execution_count": 36,
   "metadata": {},
   "outputs": [
    {
     "data": {
      "text/plain": [
       "val render_separator : int Core.List.t -> string = <fun>\n"
      ]
     },
     "execution_count": 36,
     "metadata": {},
     "output_type": "execute_result"
    }
   ],
   "source": [
    "let render_separator widths = \n",
    "let pieces = List.map widths\n",
    "~f:(fun w -> String .make (w + 2) '-') in\n",
    "\"|\" ^ String.concat ~sep:\"+\" pieces ^ \"|\""
   ]
  },
  {
   "cell_type": "code",
   "execution_count": 37,
   "metadata": {},
   "outputs": [
    {
     "data": {
      "text/plain": [
       "- : string = \"|-----+--------+----|\"\n"
      ]
     },
     "execution_count": 37,
     "metadata": {},
     "output_type": "execute_result"
    }
   ],
   "source": [
    "render_separator [3;6;2];"
   ]
  },
  {
   "cell_type": "code",
   "execution_count": 47,
   "metadata": {},
   "outputs": [
    {
     "data": {
      "text/plain": [
       "val lengtht : 'a list -> int = <fun>\n"
      ]
     },
     "execution_count": 47,
     "metadata": {},
     "output_type": "execute_result"
    }
   ],
   "source": [
    "let rec lengtht  = function\n",
    "| [] -> 0\n",
    "| _ :: tl -> 1 + length tl"
   ]
  },
  {
   "cell_type": "code",
   "execution_count": 48,
   "metadata": {},
   "outputs": [
    {
     "data": {
      "text/plain": [
       "- : int = 3\n"
      ]
     },
     "execution_count": 48,
     "metadata": {},
     "output_type": "execute_result"
    }
   ],
   "source": [
    "lengtht [1;2;3]"
   ]
  },
  {
   "cell_type": "code",
   "execution_count": 49,
   "metadata": {},
   "outputs": [
    {
     "data": {
      "text/plain": [
       "val make_list : 'a -> int -> int Core.List.t = <fun>\n"
      ]
     },
     "execution_count": 49,
     "metadata": {},
     "output_type": "execute_result"
    }
   ],
   "source": [
    "let make_list n = List.init ~f:(fun x -> x)"
   ]
  },
  {
   "cell_type": "code",
   "execution_count": 55,
   "metadata": {},
   "outputs": [
    {
     "ename": "error",
     "evalue": "compile_error",
     "output_type": "error",
     "traceback": [
      "\u001b[32mFile \"[55]\", line 1, characters 8-22:\n\u001b[31mError: This expression has type int -> int Core.List.t\n       but an expression was expected of type 'a list\n\u001b[36m   1: \u001b[30mlengtht \u001b[4m(make_list 10)\u001b[0m\u001b[30m;;\u001b[0m\n"
     ]
    }
   ],
   "source": [
    "lengtht (make_list 10);;"
   ]
  },
  {
   "cell_type": "markdown",
   "metadata": {},
   "source": [
    "尾递归版本"
   ]
  },
  {
   "cell_type": "code",
   "execution_count": 52,
   "metadata": {},
   "outputs": [
    {
     "data": {
      "text/plain": [
       "val length_plus_n : 'a list -> int -> int = <fun>\n"
      ]
     },
     "execution_count": 52,
     "metadata": {},
     "output_type": "execute_result"
    }
   ],
   "source": [
    "let rec length_plus_n l n =\n",
    "match l with\n",
    "| [] -> n\n",
    "| _ :: tl -> length_plus_n tl (n + 1)"
   ]
  },
  {
   "cell_type": "code",
   "execution_count": 53,
   "metadata": {},
   "outputs": [
    {
     "data": {
      "text/plain": [
       "val length : 'a list -> int = <fun>\n"
      ]
     },
     "execution_count": 53,
     "metadata": {},
     "output_type": "execute_result"
    }
   ],
   "source": [
    "let length l = length_plus_n l 0;;"
   ]
  },
  {
   "cell_type": "code",
   "execution_count": 54,
   "metadata": {},
   "outputs": [
    {
     "ename": "error",
     "evalue": "compile_error",
     "output_type": "error",
     "traceback": [
      "\u001b[32mFile \"[54]\", line 1, characters 7-27:\n\u001b[31mError: This expression has type int -> int Core.List.t\n       but an expression was expected of type 'a list\n\u001b[36m   1: \u001b[30mlength \u001b[4m(make_list 10000000)\u001b[0m\u001b[30m;;\u001b[0m\n"
     ]
    }
   ],
   "source": [
    "length (make_list 10000000);;"
   ]
  },
  {
   "cell_type": "markdown",
   "metadata": {},
   "source": [
    "下面来考虑一个情况，一个函数（调用者）调用了另外一个函数（被调用者）。对于被调用者返回的值，如果调用者除了返回这个值之外不做任何其他处理，则认为这个调用是一个尾调用。尾调用优化很有意义，因为调用者完成一个尾调用时，调用者的帧栈不再使用，所以不用保留这个帧栈，因此，编译器可以服用调用者的帧栈。"
   ]
  },
  {
   "cell_type": "markdown",
   "metadata": {},
   "source": [
    "## 更简洁更快速的模式"
   ]
  },
  {
   "cell_type": "code",
   "execution_count": 56,
   "metadata": {},
   "outputs": [
    {
     "data": {
      "text/plain": [
       "val destutter : 'a list -> 'a list = <fun>\n"
      ]
     },
     "execution_count": 56,
     "metadata": {},
     "output_type": "execute_result"
    }
   ],
   "source": [
    "let rec destutter list = \n",
    "match list with\n",
    "| [] -> []\n",
    "| [hd] -> [hd]\n",
    "| hd:: hd' :: tl ->\n",
    "if hd = hd' then destutter(hd' :: tl)\n",
    "else hd :: destutter(hd' :: tl)"
   ]
  },
  {
   "cell_type": "markdown",
   "metadata": {},
   "source": [
    "首先考虑效率。上面的`destutter`代码存在一个问题是，有些情况下，他会在箭头右边重新创建左边已经存在的一个值，因此模式`[hd] -> [hd]`实际上会分配一个新的列表元素，而实际上，他应该只返回匹配的列表。这里可以通过使用`as`模式减少分配，利用`as`模式，我们可以为模式或子模式匹配的部分声明一个名字。另外，我们还将使用`function`关键字，这样就不需要再使用一个显示的`match`了。"
   ]
  },
  {
   "cell_type": "code",
   "execution_count": 57,
   "metadata": {},
   "outputs": [
    {
     "data": {
      "text/plain": [
       "val destutter : 'a list -> 'a list = <fun>\n"
      ]
     },
     "execution_count": 57,
     "metadata": {},
     "output_type": "execute_result"
    }
   ],
   "source": [
    "let rec destutter = function\n",
    "| [] | [_] as l -> l\n",
    "| hd :: (hd' :: _ as tl) -> \n",
    "if hd = hd' then destutter tl\n",
    "else hd :: destutter tl"
   ]
  },
  {
   "cell_type": "code",
   "execution_count": 58,
   "metadata": {},
   "outputs": [
    {
     "data": {
      "text/plain": [
       "- : 'a -> 'a -> bool = <fun>\n"
      ]
     },
     "execution_count": 58,
     "metadata": {},
     "output_type": "execute_result"
    }
   ],
   "source": [
    "(=)\n"
   ]
  },
  {
   "cell_type": "code",
   "execution_count": 59,
   "metadata": {},
   "outputs": [
    {
     "ename": "error",
     "evalue": "runtime_error",
     "output_type": "error",
     "traceback": [
      "\u001b[31mException: (Invalid_argument \"compare: functional value\").\nRaised by primitive operation at unknown location\nCalled from file \"toplevel/toploop.ml\", line 180, characters 17-56\n\u001b[0m"
     ]
    }
   ],
   "source": [
    "(fun x -> x + 1) = (fun x -> x + 1)"
   ]
  },
  {
   "cell_type": "markdown",
   "metadata": {},
   "source": [
    "多态比较确实存在一些限制，例如，如果遇到一个函数值，就会运行失败"
   ]
  },
  {
   "cell_type": "markdown",
   "metadata": {},
   "source": [
    "需要说明，`when`字句有一些缺点。前面已经提到，与模式匹配相关的静态检查依赖于这样一个事实：模式在表达能力方面是有局限性的。一旦能力增强，可以为模式增加任意的条件，有些东西就会丢失。具体来讲，编译器在确定一个`match`是否完备或者某种情况是否多余时，能力会减弱。"
   ]
  },
  {
   "cell_type": "code",
   "execution_count": 60,
   "metadata": {},
   "outputs": [
    {
     "name": "stderr",
     "output_type": "stream",
     "text": [
      "File \"[60]\", line 2, characters 0-128:\n",
      "Warning 8: this pattern-matching is not exhaustive.\n",
      "Here is an example of a case that is not matched:\n",
      "_::_\n",
      "(However, some guarded clause may match this value.)\n"
     ]
    },
    {
     "data": {
      "text/plain": [
       "val count_some : 'a Core.Option.t list -> int = <fun>\n"
      ]
     },
     "execution_count": 60,
     "metadata": {},
     "output_type": "execute_result"
    }
   ],
   "source": [
    "let rec count_some list = \n",
    "match list with\n",
    "| [] -> 0\n",
    "| x :: tl when Option.is_none x -> count_some tl\n",
    "| x :: tl when Option.is_some x ->  1 + count_some tl"
   ]
  },
  {
   "cell_type": "code",
   "execution_count": 61,
   "metadata": {},
   "outputs": [
    {
     "data": {
      "text/plain": [
       "- : int = 2\n"
      ]
     },
     "execution_count": 61,
     "metadata": {},
     "output_type": "execute_result"
    }
   ],
   "source": [
    "count_some [Some 3; None; Some 4]"
   ]
  },
  {
   "cell_type": "code",
   "execution_count": 63,
   "metadata": {},
   "outputs": [
    {
     "data": {
      "text/plain": [
       "val count_some : 'a option list -> int = <fun>\n"
      ]
     },
     "execution_count": 63,
     "metadata": {},
     "output_type": "execute_result"
    }
   ],
   "source": [
    "let rec count_some list = \n",
    "match list with\n",
    "| [] -> 0\n",
    "| None :: tl -> count_some tl\n",
    "| Some _ :: tl -> 1 + count_some tl"
   ]
  },
  {
   "cell_type": "code",
   "execution_count": null,
   "metadata": {
    "collapsed": true
   },
   "outputs": [],
   "source": []
  }
 ],
 "metadata": {
  "kernelspec": {
   "display_name": "OCaml 4.04.1",
   "language": "OCaml",
   "name": "ocaml-jupyter"
  },
  "language_info": {
   "codemirror_mode": "text/x-ocaml",
   "file_extension": ".ml",
   "mimetype": "text/x-ocaml",
   "name": "OCaml",
   "nbconverter_exporter": null,
   "pygments_lexer": "OCaml",
   "version": "4.04.1"
  }
 },
 "nbformat": 4,
 "nbformat_minor": 2
}
