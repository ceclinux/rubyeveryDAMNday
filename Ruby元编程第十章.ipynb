{
 "cells": [
  {
   "cell_type": "code",
   "execution_count": 3,
   "metadata": {},
   "outputs": [
    {
     "name": "stdout",
     "output_type": "stream",
     "text": [
      "SyntaxError: unexpected keyword_end, expecting end-of-input\n"
     ]
    }
   ],
   "source": [
    "module AcitveRecord\n",
    "  module Validations(base)\n",
    "    base.extend ClassMethods\n",
    "  end\n",
    "  \n",
    "  module ClassMethods\n",
    "  end\n",
    "end"
   ]
  },
  {
   "cell_type": "markdown",
   "metadata": {},
   "source": [
    "`Validations`的实例方法会变成`Base`的实例方法。"
   ]
  },
  {
   "cell_type": "markdown",
   "metadata": {},
   "source": [
    "`ActiveRecord::Base`包含`Validations`模块时，使用`ActiveRecord::Validations::ClassMethods`模块对`Base`进行了扩展。于是`ClassMethods`中的方法成了`Base`的类方法。"
   ]
  },
  {
   "cell_type": "markdown",
   "metadata": {},
   "source": [
    "其实只要加一行就能解决问题"
   ]
  },
  {
   "cell_type": "markdown",
   "metadata": {},
   "source": [
    "extend Validations::ClassMethods"
   ]
  },
  {
   "cell_type": "code",
   "execution_count": 5,
   "metadata": {},
   "outputs": [
    {
     "data": {
      "text/plain": [
       "BaseClass"
      ]
     },
     "execution_count": 5,
     "metadata": {},
     "output_type": "execute_result"
    }
   ],
   "source": [
    "module SecondLevelModule\n",
    "  def self.included(base)\n",
    "    base.extend ClassMethods\n",
    "  end\n",
    "  \n",
    "  def second_level_instance_method; 'ok'; end\n",
    "  \n",
    "  module ClassMethods\n",
    "    def second_level_class_method; 'ok'; end\n",
    "  end\n",
    "end\n",
    "\n",
    "module FirstLevelModule\n",
    "  def self.included(base)\n",
    "    base.extend ClassMethods\n",
    "  end\n",
    "  \n",
    "  def first_level_instance_method; 'ok'; end\n",
    "  \n",
    "  module ClassMethods\n",
    "    def first_level_class_method; 'ok'; end\n",
    "  end\n",
    "  include SecondLevelModule\n",
    "end\n",
    "\n",
    "class BaseClass\n",
    "  include FirstLevelModule\n",
    "end\n"
   ]
  },
  {
   "cell_type": "code",
   "execution_count": 6,
   "metadata": {},
   "outputs": [
    {
     "data": {
      "text/plain": [
       "\"ok\""
      ]
     },
     "execution_count": 6,
     "metadata": {},
     "output_type": "execute_result"
    }
   ],
   "source": [
    "BaseClass.new.first_level_instance_method"
   ]
  },
  {
   "cell_type": "code",
   "execution_count": 8,
   "metadata": {},
   "outputs": [
    {
     "data": {
      "text/plain": [
       "\"ok\""
      ]
     },
     "execution_count": 8,
     "metadata": {},
     "output_type": "execute_result"
    }
   ],
   "source": [
    "BaseClass.new.second_level_instance_method"
   ]
  },
  {
   "cell_type": "code",
   "execution_count": 10,
   "metadata": {},
   "outputs": [
    {
     "data": {
      "text/plain": [
       "\"ok\""
      ]
     },
     "execution_count": 10,
     "metadata": {},
     "output_type": "execute_result"
    }
   ],
   "source": [
    "BaseClass.first_level_class_method"
   ]
  },
  {
   "cell_type": "code",
   "execution_count": 12,
   "metadata": {},
   "outputs": [
    {
     "ename": "NoMethodError",
     "evalue": "undefined method `second_level_class_method' for BaseClass:Class",
     "output_type": "error",
     "traceback": [
      "\u001b[31mNoMethodError\u001b[0m: undefined method `second_level_class_method' for BaseClass:Class",
      "\u001b[37m(pry):71:in `<main>'\u001b[0m",
      "\u001b[37m/home/ceclinux/.rvm/rubies/ruby-2.4.1/lib/ruby/gems/2.4.0/gems/pry-0.11.1/lib/pry/pry_instance.rb:355:in `eval'\u001b[0m",
      "\u001b[37m/home/ceclinux/.rvm/rubies/ruby-2.4.1/lib/ruby/gems/2.4.0/gems/pry-0.11.1/lib/pry/pry_instance.rb:355:in `evaluate_ruby'\u001b[0m",
      "\u001b[37m/home/ceclinux/.rvm/rubies/ruby-2.4.1/lib/ruby/gems/2.4.0/gems/pry-0.11.1/lib/pry/pry_instance.rb:323:in `handle_line'\u001b[0m",
      "\u001b[37m/home/ceclinux/.rvm/rubies/ruby-2.4.1/lib/ruby/gems/2.4.0/gems/pry-0.11.1/lib/pry/pry_instance.rb:243:in `block (2 levels) in eval'\u001b[0m",
      "\u001b[37m/home/ceclinux/.rvm/rubies/ruby-2.4.1/lib/ruby/gems/2.4.0/gems/pry-0.11.1/lib/pry/pry_instance.rb:242:in `catch'\u001b[0m",
      "\u001b[37m/home/ceclinux/.rvm/rubies/ruby-2.4.1/lib/ruby/gems/2.4.0/gems/pry-0.11.1/lib/pry/pry_instance.rb:242:in `block in eval'\u001b[0m",
      "\u001b[37m/home/ceclinux/.rvm/rubies/ruby-2.4.1/lib/ruby/gems/2.4.0/gems/pry-0.11.1/lib/pry/pry_instance.rb:241:in `catch'\u001b[0m",
      "\u001b[37m/home/ceclinux/.rvm/rubies/ruby-2.4.1/lib/ruby/gems/2.4.0/gems/pry-0.11.1/lib/pry/pry_instance.rb:241:in `eval'\u001b[0m",
      "\u001b[37m/home/ceclinux/.rvm/rubies/ruby-2.4.1/lib/ruby/gems/2.4.0/gems/iruby-0.3/lib/iruby/backend.rb:66:in `eval'\u001b[0m",
      "\u001b[37m/home/ceclinux/.rvm/rubies/ruby-2.4.1/lib/ruby/gems/2.4.0/gems/iruby-0.3/lib/iruby/backend.rb:12:in `eval'\u001b[0m",
      "\u001b[37m/home/ceclinux/.rvm/rubies/ruby-2.4.1/lib/ruby/gems/2.4.0/gems/iruby-0.3/lib/iruby/kernel.rb:87:in `execute_request'\u001b[0m",
      "\u001b[37m/home/ceclinux/.rvm/rubies/ruby-2.4.1/lib/ruby/gems/2.4.0/gems/iruby-0.3/lib/iruby/kernel.rb:47:in `dispatch'\u001b[0m",
      "\u001b[37m/home/ceclinux/.rvm/rubies/ruby-2.4.1/lib/ruby/gems/2.4.0/gems/iruby-0.3/lib/iruby/kernel.rb:37:in `run'\u001b[0m",
      "\u001b[37m/home/ceclinux/.rvm/rubies/ruby-2.4.1/lib/ruby/gems/2.4.0/gems/iruby-0.3/lib/iruby/command.rb:70:in `run_kernel'\u001b[0m",
      "\u001b[37m/home/ceclinux/.rvm/rubies/ruby-2.4.1/lib/ruby/gems/2.4.0/gems/iruby-0.3/lib/iruby/command.rb:34:in `run'\u001b[0m",
      "\u001b[37m/home/ceclinux/.rvm/rubies/ruby-2.4.1/lib/ruby/gems/2.4.0/gems/iruby-0.3/bin/iruby:5:in `<top (required)>'\u001b[0m",
      "\u001b[37m/home/ceclinux/.rvm/gems/ruby-2.4.1/bin/iruby:23:in `load'\u001b[0m",
      "\u001b[37m/home/ceclinux/.rvm/gems/ruby-2.4.1/bin/iruby:23:in `<main>'\u001b[0m",
      "\u001b[37m/home/ceclinux/.rvm/gems/ruby-2.4.1/bin/ruby_executable_hooks:15:in `eval'\u001b[0m",
      "\u001b[37m/home/ceclinux/.rvm/gems/ruby-2.4.1/bin/ruby_executable_hooks:15:in `<main>'\u001b[0m"
     ]
    }
   ],
   "source": [
    "BaseClass.second_level_class_method\n"
   ]
  },
  {
   "cell_type": "markdown",
   "metadata": {},
   "source": [
    "原来，调用`SecondLevelModule.included`方法时，`base`参数不是`BaseClass`，而是`FirstLevelModule`。结果`SecondLevelModule::ClassMethods`中模块中定义的方法就成了`FirstLevelModule`模块的类方法。"
   ]
  },
  {
   "cell_type": "code",
   "execution_count": 14,
   "metadata": {},
   "outputs": [
    {
     "name": "stdout",
     "output_type": "stream",
     "text": [
      "\"an instance method\"\n",
      "\"a class method\"\n"
     ]
    },
    {
     "data": {
      "text/plain": [
       "\"a class method\""
      ]
     },
     "execution_count": 14,
     "metadata": {},
     "output_type": "execute_result"
    }
   ],
   "source": [
    "require 'active_support'\n",
    "\n",
    "module MyConcern\n",
    "  extend ActiveSupport::Concern\n",
    "  \n",
    "  def an_instance_method; \"an instance method\"; end\n",
    "  \n",
    "  module ClassMethods\n",
    "    def a_class_method; \"a class method\" end\n",
    "  end\n",
    "end\n",
    "\n",
    "class MyClass\n",
    "  include MyConcern\n",
    "end\n",
    "\n",
    "p MyClass.new.an_instance_method\n",
    "p MyClass.a_class_method"
   ]
  },
  {
   "cell_type": "markdown",
   "metadata": {},
   "source": [
    "`ActiveSupprt::Concern`模块封装了包含并扩展技巧，并且解决了链式包含的问题。一个模块可以通过扩展`Concern`模块并定义自己的`ClassMethods`模块来实现并包含并扩展的功能。\n"
   ]
  },
  {
   "cell_type": "markdown",
   "metadata": {},
   "source": [
    "`module#append_feature`方法是Ruby的Ruby的一个内核方法。与`Module#included`方法类似，该方法也是在包含一个模块时被调用。两者之间的区别在于`:included`方法是钩子方法，其默认实现是空的，只有覆写后才有内容。"
   ]
  },
  {
   "cell_type": "markdown",
   "metadata": {},
   "source": [
    "相反，`append_features`方法包含实际动作，用于检查被包含模块是否已经在包含类的祖先链上，如果不在，则将该模块加入其祖先链。\n"
   ]
  },
  {
   "cell_type": "code",
   "execution_count": 17,
   "metadata": {},
   "outputs": [
    {
     "data": {
      "text/plain": [
       "[C, Object, PP::ObjectMixin, Kernel, BasicObject]"
      ]
     },
     "execution_count": 17,
     "metadata": {},
     "output_type": "execute_result"
    }
   ],
   "source": [
    "module M\n",
    "  def self.append_features(base)\n",
    "  end\n",
    "end\n",
    "class C\n",
    "  include M\n",
    "end\n",
    "\n",
    "C.ancestors"
   ]
  },
  {
   "cell_type": "markdown",
   "metadata": {},
   "source": [
    "上面的代码通过覆写`append_feature`方法，阻止了一个模块被包含的动作。"
   ]
  },
  {
   "cell_type": "markdown",
   "metadata": {
    "collapsed": true
   },
   "source": [
    "`append_feature`方法是`Concern`类的一个实例方法，因此在扩展`Concern`的模块中，它会称为一个类方法。"
   ]
  },
  {
   "cell_type": "markdown",
   "metadata": {
    "collapsed": true
   },
   "source": [
    "Returns true if mod is a subclass of other. Returns nil if there’s no relationship between the two. (Think of the relationship in terms of the class definition: “class A<B” implies “A<B”)."
   ]
  },
  {
   "cell_type": "code",
   "execution_count": 20,
   "metadata": {},
   "outputs": [
    {
     "ename": "SyntaxError",
     "evalue": "(pry):137: syntax error, unexpected end-of-input",
     "output_type": "error",
     "traceback": [
      "\u001b[31mSyntaxError\u001b[0m: (pry):137: syntax error, unexpected end-of-input",
      "\u001b[37m/home/ceclinux/.rvm/rubies/ruby-2.4.1/lib/ruby/gems/2.4.0/gems/pry-0.11.1/lib/pry/pry_instance.rb:355:in `eval'\u001b[0m",
      "\u001b[37m/home/ceclinux/.rvm/rubies/ruby-2.4.1/lib/ruby/gems/2.4.0/gems/pry-0.11.1/lib/pry/pry_instance.rb:355:in `evaluate_ruby'\u001b[0m",
      "\u001b[37m/home/ceclinux/.rvm/rubies/ruby-2.4.1/lib/ruby/gems/2.4.0/gems/iruby-0.3/lib/iruby/backend.rb:73:in `eval'\u001b[0m",
      "\u001b[37m/home/ceclinux/.rvm/rubies/ruby-2.4.1/lib/ruby/gems/2.4.0/gems/iruby-0.3/lib/iruby/backend.rb:12:in `eval'\u001b[0m",
      "\u001b[37m/home/ceclinux/.rvm/rubies/ruby-2.4.1/lib/ruby/gems/2.4.0/gems/iruby-0.3/lib/iruby/kernel.rb:87:in `execute_request'\u001b[0m",
      "\u001b[37m/home/ceclinux/.rvm/rubies/ruby-2.4.1/lib/ruby/gems/2.4.0/gems/iruby-0.3/lib/iruby/kernel.rb:47:in `dispatch'\u001b[0m",
      "\u001b[37m/home/ceclinux/.rvm/rubies/ruby-2.4.1/lib/ruby/gems/2.4.0/gems/iruby-0.3/lib/iruby/kernel.rb:37:in `run'\u001b[0m",
      "\u001b[37m/home/ceclinux/.rvm/rubies/ruby-2.4.1/lib/ruby/gems/2.4.0/gems/iruby-0.3/lib/iruby/command.rb:70:in `run_kernel'\u001b[0m",
      "\u001b[37m/home/ceclinux/.rvm/rubies/ruby-2.4.1/lib/ruby/gems/2.4.0/gems/iruby-0.3/lib/iruby/command.rb:34:in `run'\u001b[0m",
      "\u001b[37m/home/ceclinux/.rvm/rubies/ruby-2.4.1/lib/ruby/gems/2.4.0/gems/iruby-0.3/bin/iruby:5:in `<top (required)>'\u001b[0m",
      "\u001b[37m/home/ceclinux/.rvm/gems/ruby-2.4.1/bin/iruby:23:in `load'\u001b[0m",
      "\u001b[37m/home/ceclinux/.rvm/gems/ruby-2.4.1/bin/iruby:23:in `<main>'\u001b[0m",
      "\u001b[37m/home/ceclinux/.rvm/gems/ruby-2.4.1/bin/ruby_executable_hooks:15:in `eval'\u001b[0m",
      "\u001b[37m/home/ceclinux/.rvm/gems/ruby-2.4.1/bin/ruby_executable_hooks:15:in `<main>'\u001b[0m"
     ]
    }
   ],
   "source": [
    "module ActiveSupport\n",
    "  module Concern\n",
    "    def append_features(base)\n",
    "      if base.instance_variable_defined?(:@_dependencies)\n",
    "        base.instance_variable_get(:@_dependencies) << self\n",
    "        return false\n",
    "      else\n",
    "        return false if base < self\n",
    "        @_dependencies.each {|dep| base.send(:include, dep)}\n",
    "        super\n",
    "        base.extend_const_get(:ClassMethods)\n",
    "         if const_defined?(:ClassMethos)"
   ]
  },
  {
   "cell_type": "markdown",
   "metadata": {},
   "source": [
    "在一个`concern`中不会包含另外一个`concern`。如果一个`concern`试图包含另一个`concern`，它只是把它们链接到一个依赖图中。如果一个`concern`被一个并非`concern`的模块包含，所有这些以来会一股脑的进入那个包含`concern`的模块中。"
   ]
  },
  {
   "cell_type": "markdown",
   "metadata": {},
   "source": [
    "在这个作用域中，`self`指向该`concern`，`base`变量则是包含该`concern`的模块。（即可能是一个`concern`，也可能不是\n",
    "）"
   ]
  },
  {
   "cell_type": "markdown",
   "metadata": {},
   "source": [
    "在进入`append_feature`方法后，首先检查包含类本身是否是一个`concern`。如果包含类也有`@_dependencies`类变量，那么它也是一个`concern`，在这种情况下，它不会进入包含类的祖先链中，只会被添加到依赖列表里。该代码同时返回`false`，用来指明模块并没有真正被包含。例如，当`ActiveModel::Validations`模块被`ActiveRecord::Validations`包含时，就会发生这种情况。"
   ]
  },
  {
   "cell_type": "markdown",
   "metadata": {},
   "source": [
    "如果包含类不是一个`concern`，例如，当`ActiveRecord::Validations`被`ActiveRecord::Base`所包含时，会发生什么呢？在这种情况下，首先要检查`concern`是否已经出现在类的祖先链中，这种情况在链式包含时有可能发生（这就是代码`base < self`所包含的意思）。如果没有出现在祖先链中，那么会进入整个代码最关键的时刻；`concern`中的依赖会被递归包含类中。这种最小化的依赖解决方式可以解决“链式包含的问题”。"
   ]
  }
 ],
 "metadata": {
  "kernelspec": {
   "display_name": "Ruby 2.4.1",
   "language": "ruby",
   "name": "ruby"
  },
  "language_info": {
   "file_extension": ".rb",
   "mimetype": "application/x-ruby",
   "name": "ruby",
   "version": "2.4.1"
  }
 },
 "nbformat": 4,
 "nbformat_minor": 2
}
