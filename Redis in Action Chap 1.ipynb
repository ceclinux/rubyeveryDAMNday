{
 "cells": [
  {
   "cell_type": "markdown",
   "metadata": {},
   "source": [
    "Redis不使用表，它的数据库也不会预定义或者强制要求用户对`Redis`存储的不同数据进行关联"
   ]
  },
  {
   "cell_type": "markdown",
   "metadata": {},
   "source": [
    "在使用类似`Redis`这样的内存数据库时，一个首先要考虑的问题就是“当服务器被关闭时，服务器的存储的数据将何去何从呢？`Redis`拥有两种不同形式的持久化方法，他们都可以用小而紧凑的格式将存储在内存中的数据写入硬盘：第一种持久化方法为时间点转储（`point-in-time dump`)，转储操作既可以在“指定时间段内有指定数量的写操作执行“这一条件被满足时执行，又可以通过调用两条转储到硬盘（`dump-to-disk`）命令中的任何一条来执行；第二种持久化方法将所有修改了数据库的命令都写入一个只追加（`append-only`）文件里面，用户可以根据数据的重要程度，将只追加写入设置为从不同步（`sync`）、每秒同步一次或者每写入一个命令就同步一次。"
   ]
  },
  {
   "cell_type": "markdown",
   "metadata": {},
   "source": [
    "为了扩展`Redis`的读性能，并为`Redis`提供故障转移（`failover`）支持，`Redis`实现了主从复制特性：执行复制的从服务器回连接上主服务器，接受主服务器发送的整个数据库的初始副本；之后主服务器执行的写命令，都会被发送给所有连接的从服务器去执行，从而实时地更行从服务器的数据集，从而实时地更新从服务器的数据集。因为从服务器包含的数据回不断地进行更新，所以客户端可以向任意一个从服务器发送读请求，以此来避免对主服务器进行集中式的访问。"
   ]
  },
  {
   "cell_type": "markdown",
   "metadata": {},
   "source": [
    "REDIS可以存储物种数据结构，分别为STRING, LIST, SET, ZSET"
   ]
  },
  {
   "cell_type": "markdown",
   "metadata": {},
   "source": [
    "STRING: 可能是字符串、整数或者是浮点数。对整数和浮点数执行自增（increment）或者自减（decrement）操作"
   ]
  },
  {
   "cell_type": "markdown",
   "metadata": {},
   "source": [
    "LIST： 一个列表，链表上每个节点都包含了一个字符串"
   ]
  },
  {
   "cell_type": "markdown",
   "metadata": {},
   "source": [
    "SET：包含字符串的unordered collection，并且被包含的每个字符串都是独一无二，各不相同的"
   ]
  },
  {
   "cell_type": "markdown",
   "metadata": {},
   "source": [
    "HASH：包含键值对的无序散表"
   ]
  },
  {
   "cell_type": "markdown",
   "metadata": {},
   "source": [
    "ZSET：字符串成员（member）与浮点数分值（score）之间的有序映射，元素的排列书序由分值的大小决定"
   ]
  },
  {
   "cell_type": "markdown",
   "metadata": {},
   "source": [
    "```redis\n",
    "127.0.0.1:6379> set hello world\n",
    "OK\n",
    "127.0.0.1:6379> get hello\n",
    "\"world\"\n",
    "127.0.0.1:6379> del hello\n",
    "(integer) 1\n",
    "127.0.0.1:6379> get hello\n",
    "(nil)\n",
    "```"
   ]
  },
  {
   "cell_type": "markdown",
   "metadata": {},
   "source": [
    "`LPUSH`命令和`RPUSH`命令分别用于将元素推入列表的左端和右端；`LPOP`命令和`RPOP`命令分别用于从列表的左端和右端弹出元素；`LINDEX`命令用于获取列表在给定位置上的一个元素；`LRANGE`命令用于获取列表在给定范围上的所有元素。"
   ]
  },
  {
   "cell_type": "markdown",
   "metadata": {},
   "source": [
    "```redis\n",
    "127.0.0.1:6379> rpush list-key item\n",
    "(integer) 1\n",
    "127.0.0.1:6379> rpush list-key item2\n",
    "(integer) 2\n",
    "127.0.0.1:6379> rpush list-key item\n",
    "(integer) 3\n",
    "127.0.0.1:6379> lrange list-key 0 -1\n",
    "1) \"item\"\n",
    "2) \"item2\"\n",
    "3) \"item\"\n",
    "127.0.0.1:6379> lindex list-key 1\n",
    "\"item2\"\n",
    "127.0.0.1:6379> lpop list-lkey\n",
    "(nil)\n",
    "127.0.0.1:6379> lrange list-key 0 -1\n",
    "1) \"item\"\n",
    "2) \"item2\"\n",
    "3) \"item\"\n",
    "```"
   ]
  },
  {
   "cell_type": "markdown",
   "metadata": {},
   "source": [
    "向列表推入新元素之后，该命令回返回列表当前的长度。"
   ]
  },
  {
   "cell_type": "markdown",
   "metadata": {},
   "source": [
    "REDIS的集合使用无序的方式存储元素。"
   ]
  },
  {
   "cell_type": "markdown",
   "metadata": {},
   "source": [
    "```redis\n",
    "127.0.0.1:6379> sadd set-key item\n",
    "(integer) 1\n",
    "127.0.0.1:6379> sadd set-key item2\n",
    "(integer) 1\n",
    "127.0.0.1:6379> sadd set-key item3\n",
    "(integer) 1\n",
    "127.0.0.1:6379> smembers set-key\n",
    "1) \"item2\"\n",
    "2) \"item\"\n",
    "3) \"item3\"\n",
    "127.0.0.1:6379> sismember set-key item4\n",
    "(integer) 0\n",
    "127.0.0.1:6379> sismember set-key item\n",
    "(integer) 1\n",
    "127.0.0.1:6379> srem set-key item2\n",
    "(integer) 1\n",
    "127.0.0.1:6379> srem set-key item2\n",
    "(integer) 0\n",
    "127.0.0.1:6379> smembers set-key\n",
    "1) \"item\"\n",
    "2) \"item3\"\n",
    "```"
   ]
  },
  {
   "cell_type": "markdown",
   "metadata": {},
   "source": [
    "在尝试讲将一个元素添加到集合的时候，命令返回1表示这个元素被成功地添加到了集合里面，而返回0则表示这个元素已经存在于集合中"
   ]
  },
  {
   "cell_type": "markdown",
   "metadata": {},
   "source": [
    "```redis\n",
    "127.0.0.1:6379> hset hash-key sub-key1 value1\n",
    "(integer) 1\n",
    "127.0.0.1:6379> hset hash-key sub-key2 value2\n",
    "(integer) 1\n",
    "127.0.0.1:6379> hset hash-key sub-key1 value1\n",
    "(integer) 0\n",
    "127.0.0.1:6379> hgetall hash-key\n",
    "1) \"sub-key1\"\n",
    "2) \"value1\"\n",
    "3) \"sub-key2\"\n",
    "4) \"value2\"\n",
    "127.0.0.1:6379> hdel hash-key sub-key2\n",
    "(integer) 1\n",
    "127.0.0.1:6379> hdel hash-key sub-key2\n",
    "(integer) 0\n",
    "127.0.0.1:6379> hget hash-key sub-key1\n",
    "\"value1\"\n",
    "127.0.0.1:6379> hgetall hash-key\n",
    "1) \"sub-key1\"\n",
    "2) \"value1\"\n",
    "```"
   ]
  },
  {
   "cell_type": "markdown",
   "metadata": {},
   "source": [
    "有序集合和散列一样，都用于存储键值对：有序集合的键被称为成员（`member`），每个成员都是各不相同的；而有序集合的值被称为分值，分值必须为浮点数。有序集合是`Redis`里面唯一一个既可以根据成员访问元素，又可以根据分值的排列顺序来访问元素的结构。"
   ]
  },
  {
   "cell_type": "markdown",
   "metadata": {},
   "source": [
    "```redis\n",
    "127.0.0.1:6379> zadd zset-key 728 member1\n",
    "(integer) 1\n",
    "127.0.0.1:6379> zadd zset-key 982 member0\n",
    "(integer) 1\n",
    "127.0.0.1:6379> zadd zset-key 982 member0\n",
    "(integer) 0\n",
    "127.0.0.1:6379> zrange zset-key 0 -1 withscores\n",
    "1) \"member1\"\n",
    "2) \"728\"\n",
    "3) \"member0\"\n",
    "4) \"982\"\n",
    "127.0.0.1:6379> zrangebyscore zset-key 0 800 withscores\n",
    "1) \"member1\"\n",
    "2) \"728\"\n",
    "127.0.0.1:6379> zrem zset-key member1\n",
    "(integer) 1\n",
    "127.0.0.1:6379> zrem zset-key member1\n",
    "(integer) 0\n",
    "127.0.0.1:6379> zrange zset-key 0 -1 withscores\n",
    "1) \"member0\"\n",
    "2) \"982\"\n",
    "```"
   ]
  },
  {
   "cell_type": "markdown",
   "metadata": {},
   "source": [
    "`ZRANGEBYSCORE`获取有序集合在给定分值范围内的所有元素"
   ]
  },
  {
   "cell_type": "markdown",
   "metadata": {},
   "source": [
    "网站计算评分的方法\n",
    "```ruby\n",
    "def article_vote(client, user, article)\n",
    "  cutoff = Time.now.to_i - ONE_WEEK_IN_SECONDS\n",
    "  return if client.zscore('time:', article) < cutoff\n",
    "\n",
    "  article_id = article.split(':')[-1]\n",
    "\n",
    "  if client.sadd(\"voted:#{article_id}\", user)\n",
    "    client.zincrby('score:', VOTE_SCORE, article)\n",
    "    client.hincrby(article, 'votes', 1)\n",
    "  end\n",
    "end\n",
    "```"
   ]
  },
  {
   "cell_type": "code",
   "execution_count": null,
   "metadata": {},
   "outputs": [],
   "source": []
  }
 ],
 "metadata": {
  "kernelspec": {
   "display_name": "Ruby 2.5.1",
   "language": "ruby",
   "name": "ruby"
  },
  "language_info": {
   "file_extension": ".rb",
   "mimetype": "application/x-ruby",
   "name": "ruby",
   "version": "2.5.1"
  }
 },
 "nbformat": 4,
 "nbformat_minor": 2
}
