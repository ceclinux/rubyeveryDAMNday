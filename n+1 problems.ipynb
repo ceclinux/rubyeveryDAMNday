{
 "cells": [
  {
   "cell_type": "markdown",
   "metadata": {},
   "source": [
    "## Counter Cache With Condition"
   ]
  },
  {
   "cell_type": "markdown",
   "metadata": {},
   "source": [
    "思路是继续再`post`表里面加字段，记录带条件的聚合查询结果："
   ]
  },
  {
   "cell_type": "markdown",
   "metadata": {},
   "source": [
    "```ruby\n",
    "belongs_to :folder\n",
    "counter_cache_with_conditions :folder, :messages_count, {}\n",
    "counter_cache_with_conditions :folder, :unread_messages_count, :unread => true\n",
    "counter_cache_with_conditions :folder, :unread_messages_count, [:read, :source], lambda{|read, source| read == false && source == 'message'}\n",
    "counter_cache_with_conditions :folder, :published_events_count, [:published_at], lambda{|published_at| published_at != nil }\n",
    "```"
   ]
  },
  {
   "cell_type": "markdown",
   "metadata": {},
   "source": [
    "## 物化视图"
   ]
  },
  {
   "cell_type": "markdown",
   "metadata": {},
   "source": [
    "```sql\n",
    "CREATE MATERIALIZED VIEW post_agg_mv AS\n",
    "SELECT posts.id AS post_id, COUNT(comments.id) AS comments_count, COUNT(comments.apporved = 1)  AS approved_comments_count \n",
    "FROM posts \n",
    "INNER JOIN comments ON posts.id = comments.post_id \n",
    "GROUP BY posts.id\n",
    "ORDER BY posts.id ASC\n",
    "```"
   ]
  },
  {
   "cell_type": "markdown",
   "metadata": {},
   "source": [
    "## Selective Aggregates https://modern-sql.com/feature/filter"
   ]
  },
  {
   "cell_type": "markdown",
   "metadata": {},
   "source": [
    "https://ruby-china.org/topics/37712"
   ]
  },
  {
   "cell_type": "markdown",
   "metadata": {},
   "source": [
    "ALL ROWS"
   ]
  },
  {
   "cell_type": "markdown",
   "metadata": {},
   "source": [
    "```\n",
    "\"a\"\t1\n",
    "\"a\"\t2\n",
    "\"a\"\t3\n",
    "\"b\"\t3\n",
    "```"
   ]
  },
  {
   "cell_type": "markdown",
   "metadata": {},
   "source": [
    "```sql\n",
    "select count(*) filter(where number > 1),count(*) filter(where number = 1), name  from selectagg group by name\n",
    "```"
   ]
  },
  {
   "cell_type": "markdown",
   "metadata": {},
   "source": [
    "```\n",
    "\"2\"\t\"1\"\t\"a\"\n",
    "\"1\"\t\"0\"\t\"b\"\n",
    "```"
   ]
  }
 ],
 "metadata": {
  "kernelspec": {
   "display_name": "Elixir",
   "language": "Elixir",
   "name": "ielixir"
  },
  "language_info": {
   "codemirror_mode": "elixir",
   "file_extension": "ex",
   "mimetype": "text/x-elixir",
   "name": "elixir",
   "nbconvert_exporter": "",
   "pygments_lexer": "elixir",
   "version": "#Version<1.6.5>"
  }
 },
 "nbformat": 4,
 "nbformat_minor": 2
}
