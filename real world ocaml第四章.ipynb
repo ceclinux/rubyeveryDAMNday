{
 "cells": [
  {
   "cell_type": "code",
   "execution_count": 8,
   "metadata": {},
   "outputs": [
    {
     "data": {
      "text/plain": [
       "val build_counts :\n",
       "  unit -> (Core_kernel.String.t, int) Core_kernel.List.Assoc.t = <fun>\n"
      ]
     },
     "execution_count": 8,
     "metadata": {},
     "output_type": "execute_result"
    }
   ],
   "source": [
    "open Core_kernel\n",
    "\n",
    "let build_counts () =\n",
    "  In_channel.fold_lines In_channel.stdin ~init:[] ~f:(fun counts line ->\n",
    "    let count =\n",
    "      match List.Assoc.find ~equal:String.equal counts line with\n",
    "      | None -> 0\n",
    "      | Some x -> x\n",
    "    in\n",
    "    List.Assoc.add ~equal:String.equal counts line (count + 1)\n",
    "  )\n",
    "\n",
    "let () =\n",
    "  build_counts ()\n",
    "  |> List.sort ~cmp:(fun (_,x) (_,y) -> Int.descending x y)\n",
    "  |> (fun l -> List.take l 10)\n",
    "  |> List.iter ~f:(fun (line,count) -> printf \"%3d: %s\\n\" count line)"
   ]
  },
  {
   "cell_type": "code",
   "execution_count": 5,
   "metadata": {},
   "outputs": [
    {
     "name": "stderr",
     "output_type": "stream",
     "text": [
      "File \"[5]\", line 2, characters 22-27:\n",
      "Warning 3: deprecated: Core.stdin\n",
      "[since 2016-04] Use [In_channel.stdin]\n"
     ]
    },
    {
     "ename": "error",
     "evalue": "compile_error",
     "output_type": "error",
     "traceback": [
      "\u001b[32mFile \"[5]\", line 5, characters 2-6:\n\u001b[31mError: This pattern matches values of type 'a option\n       but a pattern was expected which matches values of type\n         equal:(string -> string -> bool) -> 'b option\n\u001b[36m   4: \u001b[30mmatch List.Assoc.find counts line with\n\u001b[36m   5: \u001b[30m| \u001b[4mNone\u001b[0m\u001b[30m -> 0\n\u001b[36m   6: \u001b[30m| Some x -> x\u001b[0m\n"
     ]
    }
   ],
   "source": [
    "let build_counts () = \n",
    "In_channel.fold_lines stdin ~init:[] ~f:(fun counts line -> \n",
    "let count = \n",
    "match List.Assoc.find counts line with\n",
    "| None -> 0\n",
    "| Some x -> x\n",
    "in\n",
    "List.Assoc.add counts line (count + 1)\n",
    ")"
   ]
  },
  {
   "cell_type": "code",
   "execution_count": 6,
   "metadata": {},
   "outputs": [
    {
     "data": {
      "text/plain": [
       "val assoc : (string * int) list = [(\"one\", 1); (\"two\", 2); (\"three\", 3)]\n"
      ]
     },
     "execution_count": 6,
     "metadata": {},
     "output_type": "execute_result"
    }
   ],
   "source": [
    "let assoc = [(\"one\", 1); (\"two\", 2); (\"three\",3)]"
   ]
  },
  {
   "cell_type": "code",
   "execution_count": 7,
   "metadata": {},
   "outputs": [
    {
     "ename": "error",
     "evalue": "compile_error",
     "output_type": "error",
     "traceback": [
      "\u001b[32mFile \"[7]\", line 1, characters 0-10:\n\u001b[31mError: Unbound value List.assoc\n\u001b[36m   1: \u001b[30m\u001b[4mList.assoc\u001b[0m\u001b[30m.find \"four\" 4\u001b[0m\n"
     ]
    }
   ],
   "source": [
    "List.assoc.find \"four\" 4"
   ]
  },
  {
   "cell_type": "code",
   "execution_count": 10,
   "metadata": {},
   "outputs": [
    {
     "data": {
      "text/plain": [
       "- : equal:(string -> string -> bool) ->\n",
       "    (string, int) Core_kernel.List.Assoc.t\n",
       "= <fun>\n"
      ]
     },
     "execution_count": 10,
     "metadata": {},
     "output_type": "execute_result"
    }
   ],
   "source": [
    "List.Assoc.add assoc \"two\"  4 (* overwrite an existing key *) ;;"
   ]
  },
  {
   "cell_type": "code",
   "execution_count": 13,
   "metadata": {
    "collapsed": true
   },
   "outputs": [],
   "source": [
    "let () = print_string \"something\""
   ]
  },
  {
   "cell_type": "code",
   "execution_count": 14,
   "metadata": {},
   "outputs": [
    {
     "data": {
      "text/plain": [
       "- : unit = ()\n"
      ]
     },
     "execution_count": 14,
     "metadata": {},
     "output_type": "execute_result"
    }
   ],
   "source": [
    "()"
   ]
  },
  {
   "cell_type": "code",
   "execution_count": 16,
   "metadata": {},
   "outputs": [
    {
     "data": {
      "text/plain": [
       "- : unit = ()\n"
      ]
     },
     "execution_count": 16,
     "metadata": {},
     "output_type": "execute_result"
    }
   ],
   "source": [
    "print_string \"few\""
   ]
  },
  {
   "cell_type": "markdown",
   "metadata": {},
   "source": [
    "let is the keyword used to define new variables, like in the following construct:"
   ]
  },
  {
   "cell_type": "markdown",
   "metadata": {},
   "source": [
    "let pattern = expr"
   ]
  },
  {
   "cell_type": "markdown",
   "metadata": {},
   "source": [
    "assigns the value 2 to the name a. (Note this is not a way to assign a value to an already existing variable, but this is another topic).\n",
    "\n",
    "But the pattern to the left of the = sign can be more than just a name. For instance"
   ]
  },
  {
   "cell_type": "code",
   "execution_count": 17,
   "metadata": {},
   "outputs": [
    {
     "data": {
      "text/plain": [
       "val a : int = 42\n",
       "val b : string = \"foo\"\n"
      ]
     },
     "execution_count": 17,
     "metadata": {},
     "output_type": "execute_result"
    }
   ],
   "source": [
    "let (a,b) = (42,\"foo\")"
   ]
  },
  {
   "cell_type": "markdown",
   "metadata": {},
   "source": [
    "defines both a and b, to be respectively 42 and \"foo\". Of course, the types on both sides must match. Which is the case here: both sides are of type int * string.\n",
    "\n",
    "The expressions to the right of the = sign can also be elaborated, for instance"
   ]
  },
  {
   "cell_type": "markdown",
   "metadata": {},
   "source": [
    "defines both a and b, to be respectively 42 and \"foo\". Of course, the types on both sides must match. Which is the case here: both sides are of type int * string.\n",
    "\n",
    "The expressions to the right of the = sign can also be elaborated, for instance"
   ]
  },
  {
   "cell_type": "code",
   "execution_count": 18,
   "metadata": {},
   "outputs": [
    {
     "name": "stderr",
     "output_type": "stream",
     "text": [
      "File \"[18]\", line 3, characters 2-17:\n",
      "Warning 3: deprecated: Core_kernel.String.set\n",
      "[since 2017-10] Use [Bytes.set] instead\n"
     ]
    },
    {
     "data": {
      "text/plain": [
       "val foo : Core_kernel.String.t = \"aabaaaaaaa\"\n"
      ]
     },
     "execution_count": 18,
     "metadata": {},
     "output_type": "execute_result"
    }
   ],
   "source": [
    "let foo =\n",
    "  let temp = String.make 10 'a' in\n",
    "  temp.[2] <- 'b';\n",
    "  temp"
   ]
  },
  {
   "cell_type": "markdown",
   "metadata": {},
   "source": [
    "defines foo as the string \"aabaaaaaaa\". (As a side note, it also ensures that temp is local to this code snippet).\n",
    "\n",
    "Now, let's use both: on the left, a pattern matching values of type unit, and on the right, an expression of type unit:"
   ]
  },
  {
   "cell_type": "code",
   "execution_count": 19,
   "metadata": {
    "collapsed": true
   },
   "outputs": [],
   "source": [
    "let () = Printf.printf \"Hello world!\\n\""
   ]
  },
  {
   "cell_type": "markdown",
   "metadata": {},
   "source": [
    "Which explains the let () = construct. Now, about the let _, one simply needs to know that _ can be used in a pattern as a wildcard: it matches values of any type and does not bind any name. For instance"
   ]
  },
  {
   "cell_type": "code",
   "execution_count": 20,
   "metadata": {},
   "outputs": [
    {
     "data": {
      "text/plain": [
       "val a : int = 42\n"
      ]
     },
     "execution_count": 20,
     "metadata": {},
     "output_type": "execute_result"
    }
   ],
   "source": [
    "let (a,_) = (42,\"foo\")"
   ]
  },
  {
   "cell_type": "markdown",
   "metadata": {},
   "source": [
    "defines a as 42, and discards the value \"foo\". _ means \"I know there is something here and I explicitly say I will not use it, so I don't name it\". Here _ was used to match values of type string, but it can match value of any type, like int * string:"
   ]
  },
  {
   "cell_type": "markdown",
   "metadata": {},
   "source": [
    "which does not define any variable and is not very useful. Such constructs are useful when the right hand side has side effects, like this:"
   ]
  },
  {
   "cell_type": "code",
   "execution_count": 21,
   "metadata": {},
   "outputs": [
    {
     "data": {
      "text/plain": [
       "- : unit = ()\n"
      ]
     },
     "execution_count": 21,
     "metadata": {},
     "output_type": "execute_result"
    }
   ],
   "source": [
    "let _ = Printf.printf \"Hello world!\\n\""
   ]
  },
  {
   "cell_type": "markdown",
   "metadata": {},
   "source": [
    "which explains the second part of the question."
   ]
  },
  {
   "cell_type": "markdown",
   "metadata": {},
   "source": [
    "Both are used and it's rather a matter of taste whether to use one or the other.\n",
    "\n",
    "let () = is slightly safer as it has the compiler check that the right hand side is of type unit. A value of any other type than unit is often a bug.\n",
    "\n",
    "let _ = is slightly shorter (I've seen this argument). (Note that with an editor that automatically closes parenthesizes, the number of keystrokes is the same ;-)"
   ]
  },
  {
   "cell_type": "markdown",
   "metadata": {},
   "source": [
    "与`C`不同，`Ocaml`中程序并没有一个唯一的`main`函数。执行`Ocaml`程序的时候，实现文件中的所有语句会暗器链接的顺序进行计算。这些实现文件可能包含任意的表达式，而不只是函数定义。在这个例子。在这个例子中，以`let()=`开头的声明就扮演着`main`函数的角色，启动了处理过程。不过，整个文件都会在启动时计算，所以在某种程度来看，整个代码基都是一个庞大的`main`函数。"
   ]
  },
  {
   "cell_type": "markdown",
   "metadata": {},
   "source": [
    "写`let ()=`是一个惯用法，看上去有点奇怪，不过这样有一个目的。这里的`let`绑定是对一个`unit`类型值的模式匹配，它是为了确保右边的表达式返回`unit`，对于主要为得到副作用的函数来说，这个用法很常见。"
   ]
  },
  {
   "cell_type": "markdown",
   "metadata": {
    "collapsed": true
   },
   "source": [
    "`Ocaml`附带了两个编译器：`ocamlc`字节码编译器和`ocamlopt`原生代码编译器。用`ocamlc`编译的程序将由一个虚拟机解释，而用`ocamlopt`编译的程序会编译为在一个特定的操作系统和处理器体系结构上运行的原生机器代码。使用`ocamlbuild`便宜时，以`byte`结尾的目标会构建为字节码可执行程序，以`.native`结尾的目标将构建为原生代码。"
   ]
  },
  {
   "cell_type": "markdown",
   "metadata": {},
   "source": [
    "除了性能以外，这两个编译器生成的可执行程序的行为基本上完全相同。有几点需要注意：首先，字节码编译器可以在更多体系上使用，而且字节码编译器的一些工具并不适用原生代码。例如，Ocaml调试工具只能处理字节码[不过，(gdb)确实可以处理Ocaml原生代码应用]。字节码编译器比原生代码编译器速度更快。另外，要运行一个字节码可执行程序，通过需要在当前系统上安装Ocaml。不过，这并不是一个严格的要求，因为通过`-custom`编译器标志，也可以用一个嵌入式运行时系统构建字节码可执行程序。"
   ]
  },
  {
   "cell_type": "markdown",
   "metadata": {},
   "source": [
    "一般来说，产品可执行陈旭通常应当用原生艾玛编译器来构建，不过有时也可以使用字节码完成开发构建。当然，如果原生代码编译器不支持所面向的平台，字节码编译器就很有意义。"
   ]
  },
  {
   "cell_type": "markdown",
   "metadata": {},
   "source": [
    "`Ocaml`中的源文件都关联到模块系统，每个文件编译为一个模块，模块名有文件名得出。之前已经见过模块了，如我们一斤使用过`List.Assoc`模块中的`find`和`add`等函数。考虑最简单的模块，可以认为模块就是存储在一个命名空间中的定义结合。"
   ]
  },
  {
   "cell_type": "markdown",
   "metadata": {},
   "source": [
    "文件`counter.ml`将编译为一个名为`Counter`的模块，模块名由文件名自动得出。这个模块名首字母大写（尽管文件名的首字母并不大写）。实际上，模块名都为首字母大写。"
   ]
  },
  {
   "cell_type": "code",
   "execution_count": 22,
   "metadata": {},
   "outputs": [
    {
     "name": "stderr",
     "output_type": "stream",
     "text": [
      "File \"[22]\", line 1, characters 43-48:\n",
      "Warning 3: deprecated: Core_kernel.stdin\n",
      "[since 2016-04] Use [In_channel.stdin]\n"
     ]
    },
    {
     "ename": "error",
     "evalue": "compile_error",
     "output_type": "error",
     "traceback": [
      "\u001b[32mFile \"[22]\", line 1, characters 61-74:\n\u001b[31mError: Unbound module Counter\n\u001b[36m   1: \u001b[30mlet build_counts() = In_channel.fold_lines stdin ~init:[] ~f:\u001b[4mCounter.touch\u001b[0m\n"
     ]
    }
   ],
   "source": [
    "let build_counts() = In_channel.fold_lines stdin ~init:[] ~f:Counter.touch"
   ]
  },
  {
   "cell_type": "markdown",
   "metadata": {},
   "source": [
    "尽管我们把一些逻辑放在了`Counter`模块中，但`freq.ml`中的代码仍要依赖`Counter`实现的具体细节。实际上，如果查看`build_counts`的定义，你会看到它依赖与这样一个事实：空的评述集合表示为一个空列表。我们希望避免这种依赖性，从而可以改变`Counter`的实现而不需要改变客户代码。"
   ]
  },
  {
   "cell_type": "markdown",
   "metadata": {},
   "source": [
    "模块的实现细节可以通过接口（`interface`）来影藏"
   ]
  },
  {
   "cell_type": "code",
   "execution_count": 23,
   "metadata": {
    "collapsed": true
   },
   "outputs": [],
   "source": [
    "open Core"
   ]
  },
  {
   "cell_type": "code",
   "execution_count": 24,
   "metadata": {},
   "outputs": [
    {
     "ename": "error",
     "evalue": "compile_error",
     "output_type": "error",
     "traceback": [
      "\u001b[32mFile \"[24]\", line 1, characters 9-10:\n\u001b[31mError: Syntax error\n\u001b[36m   1: \u001b[30mvar touch\u001b[4m:\u001b[0m\u001b[30m (string * int) list -> string -> (string * int) list\u001b[0m\n"
     ]
    }
   ],
   "source": [
    "var touch: (string * int) list -> string -> (string * int) list"
   ]
  },
  {
   "cell_type": "markdown",
   "metadata": {},
   "source": [
    "# 签名中的具体类型"
   ]
  },
  {
   "cell_type": "markdown",
   "metadata": {},
   "source": [
    "假设我们希望为`Counter`增加一个函数，返回评述为中位数的行。如果行数为偶数，那么并没有准确的中位数，，这个函数要返回聘书在中位数前后的行。我们将使用一个定制类型来表示有两个可能返回值的情况。"
   ]
  },
  {
   "cell_type": "code",
   "execution_count": 25,
   "metadata": {},
   "outputs": [
    {
     "ename": "error",
     "evalue": "compile_error",
     "output_type": "error",
     "traceback": [
      "\u001b[32mFile \"[25]\", line 3, characters 10-11:\n\u001b[31mError: Syntax error\n\u001b[36m   2: \u001b[30m              | Before_and_after of string * string\n\u001b[36m   3: \u001b[30mvar median\u001b[4m:\u001b[0m\u001b[30m t -> median\u001b[0m\n"
     ]
    }
   ],
   "source": [
    "type median = | Median of string\n",
    "              | Before_and_after of string * string\n",
    "var median: t -> median\n"
   ]
  },
  {
   "cell_type": "markdown",
   "metadata": {},
   "source": [
    "确定一个给定类型是抽象类型还是具体类型非常重要。抽象类型允许你对如何创建和访问值有更多的控制，除了类型本省世家的限制外，可以更容易的确保不定式：具体类型则允许以一种轻量级的方式为客户代码提供更多细节和结构。如何做出正确的选择，这很大程度上取决于所在的具体上下文。"
   ]
  },
  {
   "cell_type": "markdown",
   "metadata": {
    "collapsed": true
   },
   "source": [
    "在一个子模块中创建这样一个抽象类型如下所示："
   ]
  },
  {
   "cell_type": "code",
   "execution_count": 26,
   "metadata": {},
   "outputs": [
    {
     "data": {
      "text/plain": [
       "module Username :\n",
       "  sig type t val of_string : string -> t val to_string : t -> string end\n"
      ]
     },
     "execution_count": 26,
     "metadata": {},
     "output_type": "execute_result"
    }
   ],
   "source": [
    "module Username: sig\n",
    "type t\n",
    "val of_string : string -> t\n",
    "val to_string : t -> string\n",
    "end = struct\n",
    "type t= string\n",
    "let of_string x = x\n",
    "let to_string x = x\n",
    "end"
   ]
  },
  {
   "cell_type": "markdown",
   "metadata": {},
   "source": [
    "模块声明的基本结构是"
   ]
  },
  {
   "cell_type": "code",
   "execution_count": 27,
   "metadata": {},
   "outputs": [
    {
     "ename": "error",
     "evalue": "compile_error",
     "output_type": "error",
     "traceback": [
      "\u001b[32mFile \"[27]\", line 1, characters 7-8:\n\u001b[31mError: Syntax error\n\u001b[36m   1: \u001b[30mmodule \u001b[4m<\u001b[0m\u001b[30mname> : <signature> = <implementation>\u001b[0m\n"
     ]
    }
   ],
   "source": [
    "module <name> : <signature> = <implementation>"
   ]
  },
  {
   "cell_type": "markdown",
   "metadata": {},
   "source": [
    "还可以采用稍有不同的写法，为签名指定自己的顶层模块类型声明，从而能以一种轻量级的方式创建多个有相同底层实现的不同类型"
   ]
  },
  {
   "cell_type": "code",
   "execution_count": 37,
   "metadata": {},
   "outputs": [
    {
     "data": {
      "text/plain": [
       "module type ID =\n",
       "  sig type t val of_string : string -> t val to_string : t -> string end\n"
      ]
     },
     "execution_count": 37,
     "metadata": {},
     "output_type": "execute_result"
    },
    {
     "data": {
      "text/plain": [
       "module String_id :\n",
       "  sig type t = string val of_string : 'a -> 'a val to_string : 'a -> 'a end\n"
      ]
     },
     "execution_count": 37,
     "metadata": {},
     "output_type": "execute_result"
    },
    {
     "data": {
      "text/plain": [
       "module Username : ID\n"
      ]
     },
     "execution_count": 37,
     "metadata": {},
     "output_type": "execute_result"
    },
    {
     "data": {
      "text/plain": [
       "module Hostname : ID\n"
      ]
     },
     "execution_count": 37,
     "metadata": {},
     "output_type": "execute_result"
    },
    {
     "data": {
      "text/plain": [
       "type session_info = {\n",
       "  user : Username.t;\n",
       "  host : Hostname.t;\n",
       "  when_started : Core.Time.t;\n",
       "}\n"
      ]
     },
     "execution_count": 37,
     "metadata": {},
     "output_type": "execute_result"
    },
    {
     "ename": "error",
     "evalue": "compile_error",
     "output_type": "error",
     "traceback": [
      "\u001b[32mFile \"[37]\", line 22, characters 10-17:\n\u001b[31mError: This expression has type Hostname.t\n       but an expression was expected of type Username.t\n\u001b[36m  21: \u001b[30mlet sessions_have_same_user s1 s2 = \n\u001b[36m  22: \u001b[30ms1.user = \u001b[4ms2.host\u001b[0m\n"
     ]
    }
   ],
   "source": [
    "module type ID = sig\n",
    "type t\n",
    "val of_string : string -> t\n",
    "val to_string : t -> string\n",
    "end\n",
    "\n",
    "module String_id = struct\n",
    "type t = string\n",
    "let of_string x = x\n",
    "let to_string x = x\n",
    "end\n",
    "\n",
    "module Username : ID = String_id\n",
    "module Hostname : ID = String_id\n",
    "\n",
    "type session_info = {\n",
    "user: Username.t;\n",
    "host: Hostname.t;\n",
    "when_started: Time.t;\n",
    "}\n",
    "let sessions_have_same_user s1 s2 = \n",
    "s1.user = s2.host"
   ]
  },
  {
   "cell_type": "code",
   "execution_count": null,
   "metadata": {
    "collapsed": true
   },
   "outputs": [],
   "source": [
    "前面的代码有一个`bug`，它将一个会话中的用户名与另一个会话中的主机名进行比较，实际上本来应该比较两个会话的用户名"
   ]
  },
  {
   "cell_type": "code",
   "execution_count": 31,
   "metadata": {},
   "outputs": [
    {
     "data": {
      "text/plain": [
       "module M : sig val fooo : int end\n"
      ]
     },
     "execution_count": 31,
     "metadata": {},
     "output_type": "execute_result"
    }
   ],
   "source": [
    "module M = struct let fooo = 3 end"
   ]
  },
  {
   "cell_type": "code",
   "execution_count": 38,
   "metadata": {},
   "outputs": [
    {
     "data": {
      "text/plain": [
       "- : int = 3\n"
      ]
     },
     "execution_count": 38,
     "metadata": {},
     "output_type": "execute_result"
    }
   ],
   "source": [
    "fooo"
   ]
  },
  {
   "cell_type": "markdown",
   "metadata": {},
   "source": [
    "一般的，打开一个模块会把该模块中的所有内容增加到一个环境中，编译器要在这个环境中查找各个标识符的定义"
   ]
  },
  {
   "cell_type": "code",
   "execution_count": 34,
   "metadata": {
    "collapsed": true
   },
   "outputs": [],
   "source": [
    "open M"
   ]
  },
  {
   "cell_type": "code",
   "execution_count": 36,
   "metadata": {},
   "outputs": [
    {
     "data": {
      "text/plain": [
       "- : int = 3\n"
      ]
     },
     "execution_count": 36,
     "metadata": {},
     "output_type": "execute_result"
    }
   ],
   "source": [
    "fooo"
   ]
  },
  {
   "cell_type": "markdown",
   "metadata": {},
   "source": [
    "如果确需要打开模块，最好局部打开。局部打开有两种语法。例如，可以写为："
   ]
  },
  {
   "cell_type": "code",
   "execution_count": 39,
   "metadata": {},
   "outputs": [
    {
     "data": {
      "text/plain": [
       "val average : Core.Int64.t -> Core.Int64.t -> Core.Int64.t = <fun>\n"
      ]
     },
     "execution_count": 39,
     "metadata": {},
     "output_type": "execute_result"
    }
   ],
   "source": [
    "let average x y = let open Int64 in\n",
    "x + y / of_int 2;;"
   ]
  },
  {
   "cell_type": "markdown",
   "metadata": {},
   "source": [
    "在这里，`of_int`来自于`Int64`模块"
   ]
  },
  {
   "cell_type": "markdown",
   "metadata": {},
   "source": [
    "还有一种更轻量级的语法来完成局部打开"
   ]
  },
  {
   "cell_type": "code",
   "execution_count": 40,
   "metadata": {},
   "outputs": [
    {
     "data": {
      "text/plain": [
       "val average : Core.Int64.t -> Core.Int64.t -> Core.Int64.t = <fun>\n"
      ]
     },
     "execution_count": 40,
     "metadata": {},
     "output_type": "execute_result"
    }
   ],
   "source": [
    "let average x y = \n",
    "Int64.(x + y / of_int 2)"
   ]
  },
  {
   "cell_type": "markdown",
   "metadata": {
    "collapsed": true
   },
   "source": [
    "局部`open`还有一种替代方法，可以让你的代码更简洁，而不会损失明确性。这种方法就是局部重新绑定一个模块名，所以，使用`Counter.median`的时候，可以不这样写。"
   ]
  },
  {
   "cell_type": "code",
   "execution_count": 41,
   "metadata": {},
   "outputs": [
    {
     "ename": "error",
     "evalue": "compile_error",
     "output_type": "error",
     "traceback": [
      "\u001b[32mFile \"[41]\", line 3, characters 10-16:\n\u001b[31mError: Syntax error\n\u001b[36m   2: \u001b[30mmatch m with \n\u001b[36m   3: \u001b[30m| Counter.\u001b[4mmedian\u001b[0m\u001b[30m string -> printf \"True median:\\n %s \\n\" string\n\u001b[36m   4: \u001b[30m| Counter.Before_and_after (before, after) ->\u001b[0m\n"
     ]
    }
   ],
   "source": [
    "let print_median m =\n",
    "match m with \n",
    "| Counter.median string -> printf \"True median:\\n %s \\n\" string\n",
    "| Counter.Before_and_after (before, after) ->\n",
    "printf \"Before and after median:\\n %s \\n %s\\n\" before after"
   ]
  },
  {
   "cell_type": "markdown",
   "metadata": {},
   "source": [
    "而是写为"
   ]
  },
  {
   "cell_type": "code",
   "execution_count": 42,
   "metadata": {},
   "outputs": [
    {
     "ename": "error",
     "evalue": "compile_error",
     "output_type": "error",
     "traceback": [
      "\u001b[32mFile \"[42]\", line 4, characters 4-10:\n\u001b[31mError: Syntax error\n\u001b[36m   3: \u001b[30mmatch m with\n\u001b[36m   4: \u001b[30m| C.\u001b[4mmedian\u001b[0m\u001b[30m string -> printf...\u001b[0m\n"
     ]
    }
   ],
   "source": [
    "let print_median m = \n",
    "let module C = Counter in\n",
    "match m with\n",
    "| C.median string -> printf..."
   ]
  },
  {
   "cell_type": "markdown",
   "metadata": {},
   "source": [
    "由于模块名C值2存在于一个很小的作用域中，所以很容易阅读并记住C代表什么。如果在模块的顶层将模块重新绑定到一个非常短的名字，这通常是错误的做法"
   ]
  },
  {
   "cell_type": "markdown",
   "metadata": {},
   "source": [
    "打开一个模块会影响用来搜索标识符的环境，而包含一个模块则是要为模块增加新的标识符。考虑下面这个简单的模块，它提供一组整数值"
   ]
  },
  {
   "cell_type": "code",
   "execution_count": 47,
   "metadata": {},
   "outputs": [
    {
     "ename": "error",
     "evalue": "compile_error",
     "output_type": "error",
     "traceback": [
      "\u001b[32mFile \"[47]\", line 1, characters 19-25:\n\u001b[31mError: Syntax error: 'end' expected\n\u001b[36m   1: \u001b[30mmodule Interval  = \u001b[4mstruct\u001b[0m\u001b[30m\n\u001b[36m   2: \u001b[30mtype t = | Interval of int * int\u001b[0m\n\u001b[32mFile \"[47]\", line 1, characters 19-25:\n\u001b[31mError: This 'struct' might be unmatched\n\u001b[36m   1: \u001b[30mmodule Interval  = \u001b[4mstruct\u001b[0m\u001b[30m\n\u001b[36m   2: \u001b[30mtype t = | Interval of int * int\u001b[0m\n"
     ]
    }
   ],
   "source": [
    "module Interval  = struct\n",
    "type t = | Interval of int * int\n",
    "         | Empty"
   ]
  },
  {
   "cell_type": "code",
   "execution_count": 46,
   "metadata": {},
   "outputs": [
    {
     "ename": "error",
     "evalue": "compile_error",
     "output_type": "error",
     "traceback": [
      "\u001b[32mFile \"[46]\", line 2, characters 19-24:\n\u001b[31mError: Unbound constructor Empty\n\u001b[36m   1: \u001b[30mlet create low high = \n\u001b[36m   2: \u001b[30mif high < low then \u001b[4mEmpty\u001b[0m\u001b[30m else Interval (low, high)\u001b[0m\n"
     ]
    }
   ],
   "source": [
    "let create low high = \n",
    "if high < low then Empty else Interval (low, high)"
   ]
  },
  {
   "cell_type": "markdown",
   "metadata": {},
   "source": [
    "可以使用`include`指令来创建一个扩展版本的新的`Interval`模块"
   ]
  },
  {
   "cell_type": "code",
   "execution_count": 48,
   "metadata": {},
   "outputs": [
    {
     "ename": "error",
     "evalue": "compile_error",
     "output_type": "error",
     "traceback": [
      "\u001b[32mFile \"[48]\", line 6, characters 2-7:\n\u001b[31mError: Unbound constructor Empty\n\u001b[36m   5: \u001b[30m match t with \n\u001b[36m   6: \u001b[30m |\u001b[4mEmpty\u001b[0m\u001b[30m -> false\n\u001b[36m   7: \u001b[30m | Interval (low, high) -> x >= low && x <= high\u001b[0m\n"
     ]
    }
   ],
   "source": [
    "module Extended_interval = struct\n",
    " include Interval\n",
    " \n",
    " let contains t x = \n",
    " match t with \n",
    " |Empty -> false\n",
    " | Interval (low, high) -> x >= low && x <= high\n",
    " end;;"
   ]
  },
  {
   "cell_type": "code",
   "execution_count": 49,
   "metadata": {},
   "outputs": [
    {
     "ename": "error",
     "evalue": "compile_error",
     "output_type": "error",
     "traceback": [
      "\u001b[32mFile \"[49]\", line 7, characters 0-0:\n\u001b[31mError: Syntax error\n\u001b[36m   6: \u001b[30m end\u001b[0m\n"
     ]
    }
   ],
   "source": [
    "module Extended_interval:\n",
    "sig\n",
    " type t = Interval.t  = Interval of int * int | Empty\n",
    " val create : int -> int -> t\n",
    " val contains : t -> int -> bool\n",
    " end"
   ]
  },
  {
   "cell_type": "markdown",
   "metadata": {},
   "source": [
    "在OCaml中， 每一段代码都被包成一个模块。一个模块可以选择性地作为另外一个模块的子模块，很像文件系统中的目录-但是我们不经常这样做。\n",
    "\n",
    "当你写一个程序使用两个文件amodule.ml和bmodule.ml，它们中的每一个都自动定义一个模块，名字叫Amodule和Bmodule，模块的内容就是你写到文件中的东西。\n",
    "\n",
    "这里是文件amodule.ml里面的代码：\n",
    "\n",
    "let hello () = print_endline \"Hello\"\n",
    "\n",
    "还有bmodule.ml里面的：\n",
    "\n",
    "Amodule.hello ()\n",
    "\n",
    "通常文件一个一个编译，让我们来编译：\n",
    "\n",
    "ocamlopt -c amodule.ml\n",
    "ocamlopt -c bmodule.ml\n",
    "ocamlopt -o hello amodule.cmx bmodule.cmx\n",
    "\n",
    "现在我们有一个很好的可执行文件用来打印 “Hello”。如你所见，如果你要访问一个给定模块的任何东西，你要用模块的名字（通常是大写字母开头）后面跟一个点号，然后是你要用的东西。可能是一个值，一个类型构造器，或者是给定模块能提供的任何东西。"
   ]
  },
  {
   "cell_type": "markdown",
   "metadata": {},
   "source": [
    "不管怎样，用不用open是个人选择的问题。一些模块使用了很多很普遍的名字。List模块就是这样的例子。通常我们不用open List。像Printf的其他模块，提供通常不受冲突的名字，比如printf。为了避免到处写Printf.printf，在文件开头放一句open Printf是有道理的。"
   ]
  },
  {
   "cell_type": "code",
   "execution_count": 50,
   "metadata": {},
   "outputs": [
    {
     "data": {
      "text/plain": [
       "val my_data : string list = [\"a\"; \"beautiful\"; \"day\"]\n"
      ]
     },
     "execution_count": 50,
     "metadata": {},
     "output_type": "execute_result"
    },
    {
     "ename": "error",
     "evalue": "compile_error",
     "output_type": "error",
     "traceback": [
      "\u001b[32mFile \"[50]\", line 3, characters 21-47:\n\u001b[31mError: This expression should not be a function, the expected type is\n'a Core.List.t\n\u001b[36m   2: \u001b[30m  let my_data = [ \"a\"; \"beautiful\"; \"day\" ]\n\u001b[36m   3: \u001b[30m  let () = List.iter \u001b[4m(fun s -> printf \"%s\\n\" s)\u001b[0m\u001b[30m my_data;;\u001b[0m\n"
     ]
    }
   ],
   "source": [
    " open Printf\n",
    "  let my_data = [ \"a\"; \"beautiful\"; \"day\" ]\n",
    "  let () = List.iter (fun s -> printf \"%s\\n\" s) my_data;;"
   ]
  },
  {
   "cell_type": "markdown",
   "metadata": {},
   "source": [
    "We saw that one example.ml file results automatically in one module implementation named Example. Its module signature is automatically derived and is the broadest possible, or can be restricted by writing an example.mli file.\n",
    "\n",
    "That said, a given module can also be defined explicitly from within a file. That makes it a submodule of the current module. Let's consider this example.ml file:\n",
    "```\n",
    "module Hello = struct\n",
    "  let message = \"Hello\"\n",
    "  let hello () = print_endline message\n",
    "end\n",
    "let goodbye () = print_endline \"Goodbye\"\n",
    "let hello_goodbye () =\n",
    "  Hello.hello ();\n",
    "  goodbye ()\n",
    "```\n",
    "From another file, it is clear that we now have two levels of modules. We can write:\n",
    "```\n",
    "let () =\n",
    "  Example.Hello.hello ();\n",
    "  Example.goodbye ()\n",
    "  ```"
   ]
  },
  {
   "cell_type": "code",
   "execution_count": 51,
   "metadata": {},
   "outputs": [
    {
     "data": {
      "text/plain": [
       "- : int Core.List.t = [3; 2; 1]\n"
      ]
     },
     "execution_count": 51,
     "metadata": {},
     "output_type": "execute_result"
    }
   ],
   "source": [
    "List.rev [1; 2; 3]"
   ]
  },
  {
   "cell_type": "code",
   "execution_count": 52,
   "metadata": {},
   "outputs": [
    {
     "data": {
      "text/plain": [
       "- : int Core.Array.t = [|1; 2; 3; 4; 5|]\n"
      ]
     },
     "execution_count": 52,
     "metadata": {},
     "output_type": "execute_result"
    }
   ],
   "source": [
    "Array.append [| 1; 2 |] [| 3; 4; 5 |]"
   ]
  },
  {
   "cell_type": "code",
   "execution_count": 53,
   "metadata": {},
   "outputs": [
    {
     "data": {
      "text/plain": [
       "- : int = 32\n"
      ]
     },
     "execution_count": 53,
     "metadata": {},
     "output_type": "execute_result"
    }
   ],
   "source": [
    "[| 42; 51; 32 |].(2) "
   ]
  },
  {
   "cell_type": "code",
   "execution_count": 54,
   "metadata": {},
   "outputs": [
    {
     "data": {
      "text/plain": [
       "- : int = 42\n"
      ]
     },
     "execution_count": 54,
     "metadata": {},
     "output_type": "execute_result"
    }
   ],
   "source": [
    "fst (42, \"John\")"
   ]
  },
  {
   "cell_type": "code",
   "execution_count": 55,
   "metadata": {},
   "outputs": [
    {
     "data": {
      "text/plain": [
       "val xl : '_a list Core.ref = {contents = []}\n"
      ]
     },
     "execution_count": 55,
     "metadata": {},
     "output_type": "execute_result"
    }
   ],
   "source": [
    "let xl = ref []"
   ]
  },
  {
   "cell_type": "code",
   "execution_count": 57,
   "metadata": {},
   "outputs": [
    {
     "data": {
      "text/plain": [
       "- : int list = [10; 9; 8; 7; 6; 5; 4; 3; 2; 1; 10; 9; 8; 7; 6; 5; 4; 3; 2; 1]\n"
      ]
     },
     "execution_count": 57,
     "metadata": {},
     "output_type": "execute_result"
    }
   ],
   "source": [
    "for i = 1 to 10 do\n",
    "  xl := i :: !xl;\n",
    "done;\n",
    "!xl"
   ]
  },
  {
   "cell_type": "code",
   "execution_count": 58,
   "metadata": {},
   "outputs": [
    {
     "data": {
      "text/plain": [
       "- : int list =\n",
       "[1; 2; 3; 4; 5; 6; 7; 8; 9; 10; 10; 9; 8; 7; 6; 5; 4; 3; 2; 1; 10; 9; 8; 7;\n",
       " 6; 5; 4; 3; 2; 1]\n"
      ]
     },
     "execution_count": 58,
     "metadata": {},
     "output_type": "execute_result"
    }
   ],
   "source": [
    "for i = 10 downto 1 do\n",
    " xl := i :: !xl\n",
    "done;\n",
    "!xl"
   ]
  },
  {
   "cell_type": "markdown",
   "metadata": {},
   "source": [
    "To test equality, you can use =, and for inequality, there is <>. For example:\n",
    "```\n",
    "1 = 1\n",
    "\n",
    "1 <> 1\n",
    "\n",
    "\"1\" = 1\n",
    "```\n",
    "Oops, OCaml does not allow you to compare values with different types, so we must be more careful:\n",
    "```\n",
    "\"1\" = string_of_int 1\n",
    "```"
   ]
  },
  {
   "cell_type": "code",
   "execution_count": 59,
   "metadata": {},
   "outputs": [
    {
     "data": {
      "text/plain": [
       "val a : int = 1\n",
       "val b : int = 2\n"
      ]
     },
     "execution_count": 59,
     "metadata": {},
     "output_type": "execute_result"
    }
   ],
   "source": [
    "let a = 1 and b = 2"
   ]
  },
  {
   "cell_type": "code",
   "execution_count": 63,
   "metadata": {},
   "outputs": [
    {
     "name": "stderr",
     "output_type": "stream",
     "text": [
      "File \"[63]\", line 3, characters 4-17:\n",
      "Warning 3: deprecated: Core.print_newline\n",
      "[since 2016-04] Use [Out_channel.newline stdout]\n"
     ]
    },
    {
     "name": "stdout",
     "output_type": "stream",
     "text": [
      "return at least 100 !\n"
     ]
    },
    {
     "data": {
      "text/plain": [
       "val z : int = 100\n"
      ]
     },
     "execution_count": 63,
     "metadata": {},
     "output_type": "execute_result"
    }
   ],
   "source": [
    "let z = if a < 100 then begin\n",
    "    print_string \"return at least 100 !\";\n",
    "    print_newline ();\n",
    "    100\n",
    " end else a"
   ]
  },
  {
   "cell_type": "code",
   "execution_count": 64,
   "metadata": {},
   "outputs": [
    {
     "data": {
      "text/plain": [
       "val x : int Core.ref = {contents = 1}\n"
      ]
     },
     "execution_count": 64,
     "metadata": {},
     "output_type": "execute_result"
    }
   ],
   "source": [
    "let x = ref 1"
   ]
  },
  {
   "cell_type": "code",
   "execution_count": 65,
   "metadata": {},
   "outputs": [
    {
     "name": "stderr",
     "output_type": "stream",
     "text": [
      "File \"[65]\", line 2, characters 2-11:\n",
      "Warning 3: deprecated: Core.print_int\n",
      "[since 2016-04] Use [Out_channel.output_string stdout]\n",
      "File \"[65]\", line 2, characters 16-29:\n",
      "Warning 3: deprecated: Core.print_newline\n",
      "[since 2016-04] Use [Out_channel.newline stdout]\n"
     ]
    },
    {
     "data": {
      "text/plain": [
       "- : unit = ()\n"
      ]
     },
     "execution_count": 65,
     "metadata": {},
     "output_type": "execute_result"
    }
   ],
   "source": [
    "while !x > 20 do\n",
    "  print_int !x; print_newline ();\n",
    "  x := !x - 2\n",
    "done"
   ]
  },
  {
   "cell_type": "code",
   "execution_count": null,
   "metadata": {
    "collapsed": true
   },
   "outputs": [],
   "source": []
  }
 ],
 "metadata": {
  "kernelspec": {
   "display_name": "OCaml 4.04.1",
   "language": "OCaml",
   "name": "ocaml-jupyter"
  },
  "language_info": {
   "codemirror_mode": "text/x-ocaml",
   "file_extension": ".ml",
   "mimetype": "text/x-ocaml",
   "name": "OCaml",
   "nbconverter_exporter": null,
   "pygments_lexer": "OCaml",
   "version": "4.04.1"
  }
 },
 "nbformat": 4,
 "nbformat_minor": 2
}
