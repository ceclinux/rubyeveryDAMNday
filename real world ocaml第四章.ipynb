{
 "cells": [
  {
   "cell_type": "code",
   "execution_count": 8,
   "metadata": {},
   "outputs": [
    {
     "data": {
      "text/plain": [
       "val build_counts :\n",
       "  unit -> (Core_kernel.String.t, int) Core_kernel.List.Assoc.t = <fun>\n"
      ]
     },
     "execution_count": 8,
     "metadata": {},
     "output_type": "execute_result"
    }
   ],
   "source": [
    "open Core_kernel\n",
    "\n",
    "let build_counts () =\n",
    "  In_channel.fold_lines In_channel.stdin ~init:[] ~f:(fun counts line ->\n",
    "    let count =\n",
    "      match List.Assoc.find ~equal:String.equal counts line with\n",
    "      | None -> 0\n",
    "      | Some x -> x\n",
    "    in\n",
    "    List.Assoc.add ~equal:String.equal counts line (count + 1)\n",
    "  )\n",
    "\n",
    "let () =\n",
    "  build_counts ()\n",
    "  |> List.sort ~cmp:(fun (_,x) (_,y) -> Int.descending x y)\n",
    "  |> (fun l -> List.take l 10)\n",
    "  |> List.iter ~f:(fun (line,count) -> printf \"%3d: %s\\n\" count line)"
   ]
  },
  {
   "cell_type": "code",
   "execution_count": 5,
   "metadata": {},
   "outputs": [
    {
     "name": "stderr",
     "output_type": "stream",
     "text": [
      "File \"[5]\", line 2, characters 22-27:\n",
      "Warning 3: deprecated: Core.stdin\n",
      "[since 2016-04] Use [In_channel.stdin]\n"
     ]
    },
    {
     "ename": "error",
     "evalue": "compile_error",
     "output_type": "error",
     "traceback": [
      "\u001b[32mFile \"[5]\", line 5, characters 2-6:\n\u001b[31mError: This pattern matches values of type 'a option\n       but a pattern was expected which matches values of type\n         equal:(string -> string -> bool) -> 'b option\n\u001b[36m   4: \u001b[30mmatch List.Assoc.find counts line with\n\u001b[36m   5: \u001b[30m| \u001b[4mNone\u001b[0m\u001b[30m -> 0\n\u001b[36m   6: \u001b[30m| Some x -> x\u001b[0m\n"
     ]
    }
   ],
   "source": [
    "let build_counts () = \n",
    "In_channel.fold_lines stdin ~init:[] ~f:(fun counts line -> \n",
    "let count = \n",
    "match List.Assoc.find counts line with\n",
    "| None -> 0\n",
    "| Some x -> x\n",
    "in\n",
    "List.Assoc.add counts line (count + 1)\n",
    ")"
   ]
  },
  {
   "cell_type": "code",
   "execution_count": 6,
   "metadata": {},
   "outputs": [
    {
     "data": {
      "text/plain": [
       "val assoc : (string * int) list = [(\"one\", 1); (\"two\", 2); (\"three\", 3)]\n"
      ]
     },
     "execution_count": 6,
     "metadata": {},
     "output_type": "execute_result"
    }
   ],
   "source": [
    "let assoc = [(\"one\", 1); (\"two\", 2); (\"three\",3)]"
   ]
  },
  {
   "cell_type": "code",
   "execution_count": 7,
   "metadata": {},
   "outputs": [
    {
     "ename": "error",
     "evalue": "compile_error",
     "output_type": "error",
     "traceback": [
      "\u001b[32mFile \"[7]\", line 1, characters 0-10:\n\u001b[31mError: Unbound value List.assoc\n\u001b[36m   1: \u001b[30m\u001b[4mList.assoc\u001b[0m\u001b[30m.find \"four\" 4\u001b[0m\n"
     ]
    }
   ],
   "source": [
    "List.assoc.find \"four\" 4"
   ]
  },
  {
   "cell_type": "code",
   "execution_count": 10,
   "metadata": {},
   "outputs": [
    {
     "data": {
      "text/plain": [
       "- : equal:(string -> string -> bool) ->\n",
       "    (string, int) Core_kernel.List.Assoc.t\n",
       "= <fun>\n"
      ]
     },
     "execution_count": 10,
     "metadata": {},
     "output_type": "execute_result"
    }
   ],
   "source": [
    "List.Assoc.add assoc \"two\"  4 (* overwrite an existing key *) ;;"
   ]
  },
  {
   "cell_type": "code",
   "execution_count": 13,
   "metadata": {
    "collapsed": true
   },
   "outputs": [],
   "source": [
    "let () = print_string \"something\""
   ]
  },
  {
   "cell_type": "code",
   "execution_count": 14,
   "metadata": {},
   "outputs": [
    {
     "data": {
      "text/plain": [
       "- : unit = ()\n"
      ]
     },
     "execution_count": 14,
     "metadata": {},
     "output_type": "execute_result"
    }
   ],
   "source": [
    "()"
   ]
  },
  {
   "cell_type": "code",
   "execution_count": 16,
   "metadata": {},
   "outputs": [
    {
     "data": {
      "text/plain": [
       "- : unit = ()\n"
      ]
     },
     "execution_count": 16,
     "metadata": {},
     "output_type": "execute_result"
    }
   ],
   "source": [
    "print_string \"few\""
   ]
  },
  {
   "cell_type": "markdown",
   "metadata": {},
   "source": [
    "let is the keyword used to define new variables, like in the following construct:"
   ]
  },
  {
   "cell_type": "markdown",
   "metadata": {},
   "source": [
    "let pattern = expr"
   ]
  },
  {
   "cell_type": "markdown",
   "metadata": {},
   "source": [
    "assigns the value 2 to the name a. (Note this is not a way to assign a value to an already existing variable, but this is another topic).\n",
    "\n",
    "But the pattern to the left of the = sign can be more than just a name. For instance"
   ]
  },
  {
   "cell_type": "code",
   "execution_count": 17,
   "metadata": {},
   "outputs": [
    {
     "data": {
      "text/plain": [
       "val a : int = 42\n",
       "val b : string = \"foo\"\n"
      ]
     },
     "execution_count": 17,
     "metadata": {},
     "output_type": "execute_result"
    }
   ],
   "source": [
    "let (a,b) = (42,\"foo\")"
   ]
  },
  {
   "cell_type": "markdown",
   "metadata": {},
   "source": [
    "defines both a and b, to be respectively 42 and \"foo\". Of course, the types on both sides must match. Which is the case here: both sides are of type int * string.\n",
    "\n",
    "The expressions to the right of the = sign can also be elaborated, for instance"
   ]
  },
  {
   "cell_type": "markdown",
   "metadata": {},
   "source": [
    "defines both a and b, to be respectively 42 and \"foo\". Of course, the types on both sides must match. Which is the case here: both sides are of type int * string.\n",
    "\n",
    "The expressions to the right of the = sign can also be elaborated, for instance"
   ]
  },
  {
   "cell_type": "code",
   "execution_count": 18,
   "metadata": {},
   "outputs": [
    {
     "name": "stderr",
     "output_type": "stream",
     "text": [
      "File \"[18]\", line 3, characters 2-17:\n",
      "Warning 3: deprecated: Core_kernel.String.set\n",
      "[since 2017-10] Use [Bytes.set] instead\n"
     ]
    },
    {
     "data": {
      "text/plain": [
       "val foo : Core_kernel.String.t = \"aabaaaaaaa\"\n"
      ]
     },
     "execution_count": 18,
     "metadata": {},
     "output_type": "execute_result"
    }
   ],
   "source": [
    "let foo =\n",
    "  let temp = String.make 10 'a' in\n",
    "  temp.[2] <- 'b';\n",
    "  temp"
   ]
  },
  {
   "cell_type": "markdown",
   "metadata": {},
   "source": [
    "defines foo as the string \"aabaaaaaaa\". (As a side note, it also ensures that temp is local to this code snippet).\n",
    "\n",
    "Now, let's use both: on the left, a pattern matching values of type unit, and on the right, an expression of type unit:"
   ]
  },
  {
   "cell_type": "code",
   "execution_count": 19,
   "metadata": {
    "collapsed": true
   },
   "outputs": [],
   "source": [
    "let () = Printf.printf \"Hello world!\\n\""
   ]
  },
  {
   "cell_type": "markdown",
   "metadata": {},
   "source": [
    "Which explains the let () = construct. Now, about the let _, one simply needs to know that _ can be used in a pattern as a wildcard: it matches values of any type and does not bind any name. For instance"
   ]
  },
  {
   "cell_type": "code",
   "execution_count": 20,
   "metadata": {},
   "outputs": [
    {
     "data": {
      "text/plain": [
       "val a : int = 42\n"
      ]
     },
     "execution_count": 20,
     "metadata": {},
     "output_type": "execute_result"
    }
   ],
   "source": [
    "let (a,_) = (42,\"foo\")"
   ]
  },
  {
   "cell_type": "markdown",
   "metadata": {},
   "source": [
    "defines a as 42, and discards the value \"foo\". _ means \"I know there is something here and I explicitly say I will not use it, so I don't name it\". Here _ was used to match values of type string, but it can match value of any type, like int * string:"
   ]
  },
  {
   "cell_type": "markdown",
   "metadata": {},
   "source": [
    "which does not define any variable and is not very useful. Such constructs are useful when the right hand side has side effects, like this:"
   ]
  },
  {
   "cell_type": "code",
   "execution_count": 21,
   "metadata": {},
   "outputs": [
    {
     "data": {
      "text/plain": [
       "- : unit = ()\n"
      ]
     },
     "execution_count": 21,
     "metadata": {},
     "output_type": "execute_result"
    }
   ],
   "source": [
    "let _ = Printf.printf \"Hello world!\\n\""
   ]
  },
  {
   "cell_type": "markdown",
   "metadata": {},
   "source": [
    "which explains the second part of the question."
   ]
  },
  {
   "cell_type": "markdown",
   "metadata": {},
   "source": [
    "Both are used and it's rather a matter of taste whether to use one or the other.\n",
    "\n",
    "let () = is slightly safer as it has the compiler check that the right hand side is of type unit. A value of any other type than unit is often a bug.\n",
    "\n",
    "let _ = is slightly shorter (I've seen this argument). (Note that with an editor that automatically closes parenthesizes, the number of keystrokes is the same ;-)"
   ]
  },
  {
   "cell_type": "markdown",
   "metadata": {},
   "source": [
    "与`C`不同，`Ocaml`中程序并没有一个唯一的`main`函数。执行`Ocaml`程序的时候，实现文件中的所有语句会暗器链接的顺序进行计算。这些实现文件可能包含任意的表达式，而不只是函数定义。在这个例子。在这个例子中，以`let()=`开头的声明就扮演着`main`函数的角色，启动了处理过程。不过，整个文件都会在启动时计算，所以在某种程度来看，整个代码基都是一个庞大的`main`函数。"
   ]
  },
  {
   "cell_type": "markdown",
   "metadata": {},
   "source": [
    "写`let ()=`是一个惯用法，看上去有点奇怪，不过这样有一个目的。这里的`let`绑定是对一个`unit`类型值的模式匹配，它是为了确保右边的表达式返回`unit`，对于主要为得到副作用的函数来说，这个用法很常见。"
   ]
  },
  {
   "cell_type": "markdown",
   "metadata": {
    "collapsed": true
   },
   "source": [
    "`Ocaml`附带了两个编译器：`ocamlc`字节码编译器和`ocamlopt`原生代码编译器。用`ocamlc`编译的程序将由一个虚拟机解释，而用`ocamlopt`编译的程序会编译为在一个特定的操作系统和处理器体系结构上运行的原生机器代码。使用`ocamlbuild`便宜时，以`byte`结尾的目标会构建为字节码可执行程序，以`.native`结尾的目标将构建为原生代码。"
   ]
  },
  {
   "cell_type": "markdown",
   "metadata": {},
   "source": [
    "除了性能以外，这两个编译器生成的可执行程序的行为基本上完全相同。有几点需要注意：首先，字节码编译器可以在更多体系上使用，而且字节码编译器的一些工具并不适用原生代码。例如，Ocaml调试工具只能处理字节码[不过，(gdb)确实可以处理Ocaml原生代码应用]。字节码编译器比原生代码编译器速度更快。另外，要运行一个字节码可执行程序，通过需要在当前系统上安装Ocaml。不过"
   ]
  }
 ],
 "metadata": {
  "kernelspec": {
   "display_name": "OCaml 4.04.1",
   "language": "OCaml",
   "name": "ocaml-jupyter"
  },
  "language_info": {
   "codemirror_mode": "text/x-ocaml",
   "file_extension": ".ml",
   "mimetype": "text/x-ocaml",
   "name": "OCaml",
   "nbconverter_exporter": null,
   "pygments_lexer": "OCaml",
   "version": "4.04.1"
  }
 },
 "nbformat": 4,
 "nbformat_minor": 2
}
