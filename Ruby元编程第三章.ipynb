{
 "cells": [
  {
   "cell_type": "code",
   "execution_count": 1,
   "metadata": {},
   "outputs": [
    {
     "data": {
      "text/plain": [
       "6"
      ]
     },
     "execution_count": 1,
     "metadata": {},
     "output_type": "execute_result"
    }
   ],
   "source": [
    "class MyClass\n",
    "  def my_method(my_arg)\n",
    "    my_arg * 2\n",
    "  end\n",
    "end\n",
    "\n",
    "obj = MyClass.new\n",
    "obj.my_method(3)"
   ]
  },
  {
   "cell_type": "code",
   "execution_count": 2,
   "metadata": {},
   "outputs": [
    {
     "data": {
      "text/plain": [
       "6"
      ]
     },
     "execution_count": 2,
     "metadata": {},
     "output_type": "execute_result"
    }
   ],
   "source": [
    "obj.send(:my_method, 3)"
   ]
  },
  {
   "cell_type": "markdown",
   "metadata": {},
   "source": [
    "为什么要用`send`方法，而不用原先的点标识符呢？这个是因为在`send`方法里，你想调用的方法名编程了参数，这样就可以在代码运行的最后一刻决定调用哪个方法。这个技巧叫做**动态转发**。"
   ]
  },
  {
   "cell_type": "code",
   "execution_count": 4,
   "metadata": {
    "scrolled": true
   },
   "outputs": [
    {
     "data": {
      "text/plain": [
       "false"
      ]
     },
     "execution_count": 4,
     "metadata": {},
     "output_type": "execute_result"
    }
   ],
   "source": [
    "require 'pry'"
   ]
  },
  {
   "cell_type": "code",
   "execution_count": 10,
   "metadata": {},
   "outputs": [
    {
     "data": {
      "text/plain": [
       ":refresh"
      ]
     },
     "execution_count": 10,
     "metadata": {},
     "output_type": "execute_result"
    }
   ],
   "source": [
    "class Pry\n",
    "def rf(options = {})\n",
    "  defaults = {}\n",
    "  attributes = [:input, :output, :commands, :print, :quiet, :execution_handler, :hooks, :custom_completions, :prompt, :memory_size, :extra_sticky_locals]\n",
    "  \n",
    "  attributes.each do |attribute|\n",
    "    defaults[attribute] = Pry.send attribute\n",
    "  end\n",
    "  \n",
    "  defaults.merge!(options).each do |key, value|\n",
    "    send(\"#{key}=\", value) if respond_to?(\"#{key}=\")\n",
    "  end\n",
    "  true\n",
    "end\n",
    "end"
   ]
  },
  {
   "cell_type": "markdown",
   "metadata": {},
   "source": [
    "这段代码用`send`方法把每个属性的默认值放入一张哈希表中，然后把这张哈希表和传入参数的`options`合并。最后使用`send`方法调用每个属性的写方法（如`memery_size=`)。`Kernel#respond_to?`方法检测注入`Pry#memory_size=`这样的方法是否存在，如果存在则返回`true`。这样，如果参数`options`哈希表中设置了当前属性中不存在的属性，这些属性就会被忽略。"
   ]
  },
  {
   "cell_type": "markdown",
   "metadata": {},
   "source": [
    "你可以用`Module#define_method()`方法随时定义一个方法，只需要提供给一个方法名和充当方法主体的块："
   ]
  },
  {
   "cell_type": "code",
   "execution_count": 26,
   "metadata": {},
   "outputs": [
    {
     "data": {
      "text/plain": [
       "6"
      ]
     },
     "execution_count": 26,
     "metadata": {},
     "output_type": "execute_result"
    }
   ],
   "source": [
    "class MyClass\n",
    "  define_method :my_method do |my_arg|\n",
    "    my_arg * 3\n",
    "  end\n",
    "end\n",
    "\n",
    "obj = MyClass.new\n",
    "obj.my_method(2)"
   ]
  },
  {
   "cell_type": "markdown",
   "metadata": {},
   "source": [
    "`defind_method`方法在`MyClass`内部执行，因此`my_method`定义为`MyClass`的实例方法。这种在运行时定义方法的技术称为动态方法"
   ]
  },
  {
   "cell_type": "code",
   "execution_count": 27,
   "metadata": {},
   "outputs": [
    {
     "data": {
      "text/plain": [
       ":component"
      ]
     },
     "execution_count": 27,
     "metadata": {},
     "output_type": "execute_result"
    }
   ],
   "source": [
    "class Computer\n",
    "  def initialize(computer_id, data_source)\n",
    "    @id = computer_id\n",
    "    @data_source = data_source\n",
    "  end\n",
    "  \n",
    "  def mouse\n",
    "    component :mouse\n",
    "  end\n",
    "  \n",
    "  def cpu\n",
    "    component :cpu\n",
    "  end\n",
    "  \n",
    "  def keyboard\n",
    "    component :keyboard\n",
    "  end\n",
    "  \n",
    "  def component(name)\n",
    "    info = @data_source.send \"get_#{name}_info\", @id\n",
    "    price = @data_source.send \"get_#{name}_price\", @id\n",
    "    result = \"#{name.capitalize}: #{info} ($#{price})\"\n",
    "    return \"* #{result}\" if price >= 100\n",
    "    result\n",
    "  end\n",
    "end"
   ]
  },
  {
   "cell_type": "code",
   "execution_count": 29,
   "metadata": {},
   "outputs": [
    {
     "ename": "NameError",
     "evalue": "uninitialized constant DS",
     "output_type": "error",
     "traceback": [
      "\u001b[31mNameError\u001b[0m: uninitialized constant DS",
      "\u001b[37m(pry):205:in `<main>'\u001b[0m",
      "\u001b[37m/home/ceclinux/.rvm/rubies/ruby-2.4.1/lib/ruby/gems/2.4.0/gems/pry-0.11.1/lib/pry/pry_instance.rb:355:in `eval'\u001b[0m",
      "\u001b[37m/home/ceclinux/.rvm/rubies/ruby-2.4.1/lib/ruby/gems/2.4.0/gems/pry-0.11.1/lib/pry/pry_instance.rb:355:in `evaluate_ruby'\u001b[0m",
      "\u001b[37m/home/ceclinux/.rvm/rubies/ruby-2.4.1/lib/ruby/gems/2.4.0/gems/pry-0.11.1/lib/pry/pry_instance.rb:323:in `handle_line'\u001b[0m",
      "\u001b[37m/home/ceclinux/.rvm/rubies/ruby-2.4.1/lib/ruby/gems/2.4.0/gems/pry-0.11.1/lib/pry/pry_instance.rb:243:in `block (2 levels) in eval'\u001b[0m",
      "\u001b[37m/home/ceclinux/.rvm/rubies/ruby-2.4.1/lib/ruby/gems/2.4.0/gems/pry-0.11.1/lib/pry/pry_instance.rb:242:in `catch'\u001b[0m",
      "\u001b[37m/home/ceclinux/.rvm/rubies/ruby-2.4.1/lib/ruby/gems/2.4.0/gems/pry-0.11.1/lib/pry/pry_instance.rb:242:in `block in eval'\u001b[0m",
      "\u001b[37m/home/ceclinux/.rvm/rubies/ruby-2.4.1/lib/ruby/gems/2.4.0/gems/pry-0.11.1/lib/pry/pry_instance.rb:241:in `catch'\u001b[0m",
      "\u001b[37m/home/ceclinux/.rvm/rubies/ruby-2.4.1/lib/ruby/gems/2.4.0/gems/pry-0.11.1/lib/pry/pry_instance.rb:241:in `eval'\u001b[0m",
      "\u001b[37m/home/ceclinux/.rvm/rubies/ruby-2.4.1/lib/ruby/gems/2.4.0/gems/iruby-0.3/lib/iruby/backend.rb:66:in `eval'\u001b[0m",
      "\u001b[37m/home/ceclinux/.rvm/rubies/ruby-2.4.1/lib/ruby/gems/2.4.0/gems/iruby-0.3/lib/iruby/backend.rb:12:in `eval'\u001b[0m",
      "\u001b[37m/home/ceclinux/.rvm/rubies/ruby-2.4.1/lib/ruby/gems/2.4.0/gems/iruby-0.3/lib/iruby/kernel.rb:87:in `execute_request'\u001b[0m",
      "\u001b[37m/home/ceclinux/.rvm/rubies/ruby-2.4.1/lib/ruby/gems/2.4.0/gems/iruby-0.3/lib/iruby/kernel.rb:47:in `dispatch'\u001b[0m",
      "\u001b[37m/home/ceclinux/.rvm/rubies/ruby-2.4.1/lib/ruby/gems/2.4.0/gems/iruby-0.3/lib/iruby/kernel.rb:37:in `run'\u001b[0m",
      "\u001b[37m/home/ceclinux/.rvm/rubies/ruby-2.4.1/lib/ruby/gems/2.4.0/gems/iruby-0.3/lib/iruby/command.rb:70:in `run_kernel'\u001b[0m",
      "\u001b[37m/home/ceclinux/.rvm/rubies/ruby-2.4.1/lib/ruby/gems/2.4.0/gems/iruby-0.3/lib/iruby/command.rb:34:in `run'\u001b[0m",
      "\u001b[37m/home/ceclinux/.rvm/rubies/ruby-2.4.1/lib/ruby/gems/2.4.0/gems/iruby-0.3/bin/iruby:5:in `<top (required)>'\u001b[0m",
      "\u001b[37m/home/ceclinux/.rvm/gems/ruby-2.4.1/bin/iruby:23:in `load'\u001b[0m",
      "\u001b[37m/home/ceclinux/.rvm/gems/ruby-2.4.1/bin/iruby:23:in `<main>'\u001b[0m",
      "\u001b[37m/home/ceclinux/.rvm/gems/ruby-2.4.1/bin/ruby_executable_hooks:15:in `eval'\u001b[0m",
      "\u001b[37m/home/ceclinux/.rvm/gems/ruby-2.4.1/bin/ruby_executable_hooks:15:in `<main>'\u001b[0m"
     ]
    }
   ],
   "source": [
    "my_computer = Computer.new(42, DS.new)\n",
    "my_computer.cpu"
   ]
  },
  {
   "cell_type": "code",
   "execution_count": 31,
   "metadata": {},
   "outputs": [
    {
     "data": {
      "text/plain": [
       ":keyboard"
      ]
     },
     "execution_count": 31,
     "metadata": {},
     "output_type": "execute_result"
    }
   ],
   "source": [
    "class Computer\n",
    "  def initialize(computer_id, data_source)\n",
    "    @id = computer_id\n",
    "    @data_source = data_source\n",
    "  end\n",
    "  \n",
    "  def self.define_component(name)\n",
    "    define_method(name) do\n",
    "      info = @data_source.send \"get_#{name}_info\", @id\n",
    "      price = @data_source.send \"get_#{name}_price\", @id\n",
    "      result = \"#{name.capitalize}: #{info} ($@{price})\"\n",
    "      return \"* #{result}\" if price >= 100\n",
    "      result\n",
    "    end\n",
    "  end\n",
    "  \n",
    "  define_component :mouse\n",
    "  define_component :cpu\n",
    "  define_component :keyboard\n",
    "end"
   ]
  }
 ],
 "metadata": {
  "kernelspec": {
   "display_name": "Ruby 2.4.1",
   "language": "ruby",
   "name": "ruby"
  },
  "language_info": {
   "file_extension": ".rb",
   "mimetype": "application/x-ruby",
   "name": "ruby",
   "version": "2.4.1"
  }
 },
 "nbformat": 4,
 "nbformat_minor": 2
}
