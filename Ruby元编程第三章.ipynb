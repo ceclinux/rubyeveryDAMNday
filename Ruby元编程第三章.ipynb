{
 "cells": [
  {
   "cell_type": "code",
   "execution_count": 1,
   "metadata": {},
   "outputs": [
    {
     "data": {
      "text/plain": [
       "6"
      ]
     },
     "execution_count": 1,
     "metadata": {},
     "output_type": "execute_result"
    }
   ],
   "source": [
    "class MyClass\n",
    "  def my_method(my_arg)\n",
    "    my_arg * 2\n",
    "  end\n",
    "end\n",
    "\n",
    "obj = MyClass.new\n",
    "obj.my_method(3)"
   ]
  },
  {
   "cell_type": "code",
   "execution_count": 2,
   "metadata": {},
   "outputs": [
    {
     "data": {
      "text/plain": [
       "6"
      ]
     },
     "execution_count": 2,
     "metadata": {},
     "output_type": "execute_result"
    }
   ],
   "source": [
    "obj.send(:my_method, 3)"
   ]
  },
  {
   "cell_type": "markdown",
   "metadata": {},
   "source": [
    "为什么要用`send`方法，而不用原先的点标识符呢？这个是因为在`send`方法里，你想调用的方法名编程了参数，这样就可以在代码运行的最后一刻决定调用哪个方法。这个技巧叫做**动态转发**。"
   ]
  },
  {
   "cell_type": "code",
   "execution_count": 4,
   "metadata": {
    "scrolled": true
   },
   "outputs": [
    {
     "data": {
      "text/plain": [
       "false"
      ]
     },
     "execution_count": 4,
     "metadata": {},
     "output_type": "execute_result"
    }
   ],
   "source": [
    "require 'pry'"
   ]
  },
  {
   "cell_type": "code",
   "execution_count": 10,
   "metadata": {},
   "outputs": [
    {
     "data": {
      "text/plain": [
       ":refresh"
      ]
     },
     "execution_count": 10,
     "metadata": {},
     "output_type": "execute_result"
    }
   ],
   "source": [
    "class Pry\n",
    "def rf(options = {})\n",
    "  defaults = {}\n",
    "  attributes = [:input, :output, :commands, :print, :quiet, :execution_handler, :hooks, :custom_completions, :prompt, :memory_size, :extra_sticky_locals]\n",
    "  \n",
    "  attributes.each do |attribute|\n",
    "    defaults[attribute] = Pry.send attribute\n",
    "  end\n",
    "  \n",
    "  defaults.merge!(options).each do |key, value|\n",
    "    send(\"#{key}=\", value) if respond_to?(\"#{key}=\")\n",
    "  end\n",
    "  true\n",
    "end\n",
    "end"
   ]
  },
  {
   "cell_type": "markdown",
   "metadata": {},
   "source": [
    "这段代码用`send`方法把每个属性的默认值放入一张哈希表中，然后把这张哈希表和传入参数的`options`合并。最后使用`send`方法调用每个属性的写方法（如`memery_size=`)。`Kernel#respond_to?`方法检测注入`Pry#memory_size=`这样的方法是否存在，如果存在则返回`true`。这样，如果参数`options`哈希表中设置了当前属性中不存在的属性，这些属性就会被忽略。"
   ]
  }
 ],
 "metadata": {
  "kernelspec": {
   "display_name": "Ruby 2.4.1",
   "language": "ruby",
   "name": "ruby"
  },
  "language_info": {
   "file_extension": ".rb",
   "mimetype": "application/x-ruby",
   "name": "ruby",
   "version": "2.4.1"
  }
 },
 "nbformat": 4,
 "nbformat_minor": 2
}
