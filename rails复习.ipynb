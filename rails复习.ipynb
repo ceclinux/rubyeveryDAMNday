{
 "cells": [
  {
   "cell_type": "markdown",
   "metadata": {},
   "source": [
    "把程序逻辑放在控制器而不是视图中仍有起用处。例如，将来我们可能需要扩展这个应用，支持多个国家的用户，为此需要对所显示的时间进行本地化，根据用户所在的时区正确显示时间。要实现这一功能，需要编写相当数量的代码，而把这么多代码放到视图中就不太合适了。通过在控制器中获得时间，可以增加应用的灵活性;只需修改控制器，更具时区获得当前时间，而无需对视图进行任何修改。时间作为数据，应该由控制器提供给视图。"
   ]
  },
  {
   "cell_type": "markdown",
   "metadata": {},
   "source": [
    "## 我们做了什么"
   ]
  },
  {
   "cell_type": "markdown",
   "metadata": {},
   "source": [
    "1. 用户访问应用。在本列中，我们可以通过本地`URL`地址（如`http://localhost:3000/say/hello`）访问应用\n",
    "2. Rails使用路由对URL地址进行模式匹配，得到的匹配结果包括两部分，第一部分的`say`将作为控制器的名称，因此`Rails`会新建`SayController`类的实例\n",
    "3. 模式匹配第二部分的`hello`将作为动作的名称，因此`Rails`会调用控制器中的同名动作。该动作会调用控制器中的同名动作。该动作会新建当前时间的`Time`对象，把它赋值给`@time`实例变量。\n",
    "4. Rails查找用于显示结果页面的模板文件。具体来说是查找`app/views`目录下和控制器同名的子目录`say`，然后在该子目录下查找和动作同名的模板文件（`hello.html.erb`）。\n",
    "5. Rails使用ERB系统处理模板文件，执行嵌入其中的`Ruby`代码，并使用控制器中设置的值对模板中的实例变量进行替换。\n",
    "6. Rails把处理结果放会给浏览器，结束对本次请求的处理。"
   ]
  },
  {
   "cell_type": "markdown",
   "metadata": {},
   "source": [
    "## MVC架构"
   ]
  },
  {
   "cell_type": "markdown",
   "metadata": {},
   "source": [
    "模型负责维护应用的状态。有时这种状态是暂时的，应用与用户进行几次交互后状态就会结束；有时这种状态是持久的，存储在应用之外（通常寸处在数据库中）\n",
    "\n",
    "模型不仅包含数据，还包含英语于数据的所有业务规则。例如，金额不足20美元的订单不享受折扣，这样的限制应该通过模型来实现这种做法自由其高明之处，即可确保应用的其他部分无法产生非法数据。模型同时扮演了守门员和数据存储器的角色。\n",
    "\n",
    "视图负责生成用户界面（通过基于模型中的数据生成）。但视图本身从来不处理输入的数据，视图只负责显示数据。为满足不同的需求"
   ]
  },
  {
   "cell_type": "markdown",
   "metadata": {},
   "source": [
    "The simplest template that would work in this case would be one located at app/views/articles/new.html.erb. The extension of this file name is important: the first extension is the format of the template, and the second extension is the handler that will be used to render the template."
   ]
  },
  {
   "cell_type": "markdown",
   "metadata": {},
   "source": [
    "ORM库会把表映射到类，把记录映射到对象，把字段映射到对象属性"
   ]
  },
  {
   "cell_type": "code",
   "execution_count": 1,
   "metadata": {},
   "outputs": [
    {
     "ename": "SyntaxError",
     "evalue": "<main>: syntax error, unexpected tLABEL, expecting keyword_do or '{' or '('\n...oduct title:string description:text image_url:string price:d...\n...                   ^~~~~~~~~~~~\n<main>: syntax error, unexpected tLABEL, expecting keyword_do or '{' or '('\n...on:text image_url:string price:decimal\n...                         ^~~~~~",
     "output_type": "error",
     "traceback": [
      "\u001b[31mSyntaxError\u001b[0m: <main>: syntax error, unexpected tLABEL, expecting keyword_do or '{' or '('\n...oduct title:string description:text image_url:string price:d...\n...                   ^~~~~~~~~~~~\n<main>: syntax error, unexpected tLABEL, expecting keyword_do or '{' or '('\n...on:text image_url:string price:decimal\n...                         ^~~~~~",
      "\u001b[37m/usr/local/lib64/ruby/gems/2.5.0/gems/iruby-0.3/lib/iruby/backend.rb:44:in `eval'\u001b[0m",
      "\u001b[37m/usr/local/lib64/ruby/gems/2.5.0/gems/iruby-0.3/lib/iruby/backend.rb:44:in `eval'\u001b[0m",
      "\u001b[37m/usr/local/lib64/ruby/gems/2.5.0/gems/iruby-0.3/lib/iruby/backend.rb:12:in `eval'\u001b[0m",
      "\u001b[37m/usr/local/lib64/ruby/gems/2.5.0/gems/iruby-0.3/lib/iruby/kernel.rb:87:in `execute_request'\u001b[0m",
      "\u001b[37m/usr/local/lib64/ruby/gems/2.5.0/gems/iruby-0.3/lib/iruby/kernel.rb:47:in `dispatch'\u001b[0m",
      "\u001b[37m/usr/local/lib64/ruby/gems/2.5.0/gems/iruby-0.3/lib/iruby/kernel.rb:37:in `run'\u001b[0m",
      "\u001b[37m/usr/local/lib64/ruby/gems/2.5.0/gems/iruby-0.3/lib/iruby/command.rb:70:in `run_kernel'\u001b[0m",
      "\u001b[37m/usr/local/lib64/ruby/gems/2.5.0/gems/iruby-0.3/lib/iruby/command.rb:34:in `run'\u001b[0m",
      "\u001b[37m/usr/local/lib64/ruby/gems/2.5.0/gems/iruby-0.3/bin/iruby:5:in `<top (required)>'\u001b[0m",
      "\u001b[37m/usr/local/bin/iruby:23:in `load'\u001b[0m",
      "\u001b[37m/usr/local/bin/iruby:23:in `<main>'\u001b[0m"
     ]
    }
   ],
   "source": [
    "rails generate scaffold Product title:string description:text image_url:string price:decimal"
   ]
  },
  {
   "cell_type": "markdown",
   "metadata": {},
   "source": [
    "To add initial data after a database is created, Rails has a built-in 'seeds' feature that makes the process quick and easy. This is especially useful when reloading the database frequently in development and test environments. It's easy to get started with this feature: just fill up db/seeds.rb with some Ruby code, and run rails db:seed:\n",
    "```ruby\n",
    "5.times do |i|\n",
    "  Product.create(name: \"Product ##{i}\", description: \"A product.\")\n",
    "end\n",
    "```\n",
    "This is generally a much cleaner way to set up the database of a blank application.\n"
   ]
  }
 ],
 "metadata": {
  "kernelspec": {
   "display_name": "Ruby 2.5.1",
   "language": "ruby",
   "name": "ruby"
  },
  "language_info": {
   "file_extension": ".rb",
   "mimetype": "application/x-ruby",
   "name": "ruby",
   "version": "2.5.1"
  }
 },
 "nbformat": 4,
 "nbformat_minor": 2
}
