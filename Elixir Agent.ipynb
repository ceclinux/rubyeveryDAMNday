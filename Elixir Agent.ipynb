{
 "cells": [
  {
   "cell_type": "markdown",
   "metadata": {},
   "source": [
    "```elixir\n",
    "iex|1 ▶ {:ok, agent} = Agent.start_link fn -> [] end\n",
    "{:ok, #PID<0.136.0>}\n",
    "iex|2 ▶ Agent.update(agent, fn list -> [\"eggs\" | list] end)\n",
    ":ok\n",
    "iex|3 ▶ Agent.get(agent, fn list -> list end)\n",
    "[\"eggs\"]\n",
    "iex|4 ▶ Agent.stop(agent)\n",
    ":ok\n",
    "```"
   ]
  },
  {
   "cell_type": "markdown",
   "metadata": {},
   "source": [
    "We startd an agent with an initial state of an empty list. We updated the   \n",
    " agent's state, adding our new item to the head of the list. The second argument of `Agent.update/3` is a function that thats the state as input and returns the value that `Agent.get/3` itself will return. Once we are done with the agent, we can call `Agent.stop/3` to terminate the agent process."
   ]
  },
  {
   "cell_type": "code",
   "execution_count": 1,
   "metadata": {},
   "outputs": [
    {
     "ename": "RuntimeError",
     "evalue": "1",
     "output_type": "error",
     "traceback": [
      "** %RuntimeError{message: \"cannot use ExUnit.Case without starting the ExUnit application, please call ExUnit.start() or explicitly start the :ex_unit app\"}"
     ]
    }
   ],
   "source": [
    "defmodule KV.BucketTest do\n",
    "  use ExUnit.Case, async: true\n",
    "\n",
    "  test \"stores value by key\" do\n",
    "    {:ok, bucket} = KV.Bucket.start_link([])\n",
    "    assert KV.Bucket.get(bucket, \"milk\") == nil\n",
    "\n",
    "    {:ok, bucket} = KV.Bucket.put(bucket, \"milk\", 3)\n",
    "    assert KV.Bucket.get(bucket, \"milk\") == 3\n",
    "  end\n",
    "end\n"
   ]
  },
  {
   "cell_type": "markdown",
   "metadata": {},
   "source": [
    "Note the `async: true` option passed to `ExUnit.Case`. This option makes the test case run in parallel with other `:saync` test cases by using mulitiple cores in our matchine. This is extrememly useful to speed up our test suite. However, `:async` must only be set if the test case does not rely on or change any global values. For example, if the test requires writing to the filesystem or acces a database, keep it synchronus to avoid race conditions between tests."
   ]
  },
  {
   "cell_type": "code",
   "execution_count": 1,
   "metadata": {},
   "outputs": [
    {
     "data": {
      "text/plain": [
       "{:module, Bucket, <<70, 79, 82, 49, 0, 0, 6, 160, 66, 69, 65, 77, 65, 116, 85, 56, 0, 0, 0, 217, 0, 0, 0, 22, 13, 69, 108, 105, 120, 105, 114, 46, 66, 117, 99, 107, 101, 116, 8, 95, 95, 105, 110, 102, 111, 95, 95, ...>>, {:put, 3}}"
      ]
     },
     "execution_count": 1,
     "metadata": {},
     "output_type": "execute_result"
    }
   ],
   "source": [
    "defmodule KV.Bucket do\n",
    "  use agent\n",
    "\n",
    "  def put do\n",
    "    Agent.start_link(fn -> %{} end)\n",
    "  end\n",
    "\n",
    "  def get(bucket, key) do\n",
    "    Agent.get(bucket, &Map.get(&1, key))\n",
    "  end\n",
    "\n",
    "  def put(bucket, key, value) do\n",
    "    Agent.update(bucket, &Map.put(&1, key, value))\n",
    "  end\n",
    "end\n"
   ]
  },
  {
   "cell_type": "markdown",
   "metadata": {},
   "source": [
    "The first step in our implementation is to call `use agent`."
   ]
  },
  {
   "cell_type": "markdown",
   "metadata": {},
   "source": [
    "Then we define a `start_link/1` function, which will effectively start the agent."
   ]
  },
  {
   "cell_type": "code",
   "execution_count": null,
   "metadata": {},
   "outputs": [],
   "source": []
  }
 ],
 "metadata": {
  "kernelspec": {
   "display_name": "Elixir",
   "language": "Elixir",
   "name": "ielixir"
  },
  "language_info": {
   "codemirror_mode": "elixir",
   "file_extension": "ex",
   "mimetype": "text/x-elixir",
   "name": "elixir",
   "nbconvert_exporter": "",
   "pygments_lexer": "elixir",
   "version": "#Version<1.6.5>"
  }
 },
 "nbformat": 4,
 "nbformat_minor": 2
}
