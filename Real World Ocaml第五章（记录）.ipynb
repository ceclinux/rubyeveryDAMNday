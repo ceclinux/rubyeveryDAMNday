{
 "cells": [
  {
   "cell_type": "code",
   "execution_count": 1,
   "metadata": {},
   "outputs": [
    {
     "name": "stdout",
     "output_type": "stream",
     "text": [
      "Findlib has been successfully loaded. Additional directives:\n",
      "  #require \"package\";;      to load a package\n",
      "  #list;;                   to list the available packages\n",
      "  #camlp4o;;                to load camlp4 (standard syntax)\n",
      "  #camlp4r;;                to load camlp4 (revised syntax)\n",
      "  #predicates \"p,q,...\";;   to set these predicates\n",
      "  Topfind.reset();;         to force that packages will be reloaded\n",
      "  #thread;;                 to enable threads\n",
      "\n"
     ]
    },
    {
     "name": "stderr",
     "output_type": "stream",
     "text": [
      "/home/ceclinux/.opam/4.04.1/lib/ocaml/dynlink.cma: loaded\n",
      "/home/ceclinux/.opam/4.04.1/lib/ocaml/camlp4: added to search path\n",
      "/home/ceclinux/.opam/4.04.1/lib/ocaml/camlp4/camlp4o.cma: loaded\n",
      "/home/ceclinux/.opam/4.04.1/lib/ocaml/threads: added to search path\n"
     ]
    },
    {
     "name": "stdout",
     "output_type": "stream",
     "text": [
      "Cannot find file /home/ceclinux/.opam/4.04.1/lib/ocaml/camlp4/camlp4o.cma.\n"
     ]
    },
    {
     "name": "stderr",
     "output_type": "stream",
     "text": [
      "/home/ceclinux/.opam/4.04.1/lib/ocaml/unix.cma: loaded\n",
      "/home/ceclinux/.opam/4.04.1/lib/ocaml/threads/threads.cma: loaded\n",
      "/home/ceclinux/.opam/4.04.1/lib/base/caml: added to search path\n",
      "/home/ceclinux/.opam/4.04.1/lib/base/caml/caml.cma: loaded\n",
      "/home/ceclinux/.opam/4.04.1/lib/base/shadow_stdlib: added to search path\n",
      "/home/ceclinux/.opam/4.04.1/lib/base/shadow_stdlib/shadow_stdlib.cma: loaded\n",
      "/home/ceclinux/.opam/4.04.1/lib/sexplib/0: added to search path\n",
      "/home/ceclinux/.opam/4.04.1/lib/sexplib/0/sexplib0.cma: loaded\n",
      "/home/ceclinux/.opam/4.04.1/lib/base: added to search path\n",
      "/home/ceclinux/.opam/4.04.1/lib/base/base.cma: loaded\n",
      "/home/ceclinux/.opam/4.04.1/lib/base/md5: added to search path\n",
      "/home/ceclinux/.opam/4.04.1/lib/base/md5/md5_lib.cma: loaded\n",
      "/home/ceclinux/.opam/4.04.1/lib/ocaml/bigarray.cma: loaded\n",
      "/home/ceclinux/.opam/4.04.1/lib/fieldslib: added to search path\n",
      "/home/ceclinux/.opam/4.04.1/lib/fieldslib/fieldslib.cma: loaded\n",
      "/home/ceclinux/.opam/4.04.1/lib/ppx_compare/runtime-lib: added to search path\n",
      "/home/ceclinux/.opam/4.04.1/lib/ppx_compare/runtime-lib/ppx_compare_lib.cma: loaded\n",
      "/home/ceclinux/.opam/4.04.1/lib/sexplib: added to search path\n",
      "/home/ceclinux/.opam/4.04.1/lib/sexplib/sexplib.cma: loaded\n",
      "/home/ceclinux/.opam/4.04.1/lib/variantslib: added to search path\n",
      "/home/ceclinux/.opam/4.04.1/lib/variantslib/variantslib.cma: loaded\n",
      "/home/ceclinux/.opam/4.04.1/lib/bin_prot/shape: added to search path\n",
      "/home/ceclinux/.opam/4.04.1/lib/bin_prot/shape/bin_shape_lib.cma: loaded\n",
      "/home/ceclinux/.opam/4.04.1/lib/bin_prot: added to search path\n",
      "/home/ceclinux/.opam/4.04.1/lib/bin_prot/bin_prot.cma: loaded\n",
      "/home/ceclinux/.opam/4.04.1/lib/ocaml/compiler-libs: added to search path\n",
      "/home/ceclinux/.opam/4.04.1/lib/ocaml/compiler-libs/ocamlcommon.cma: loaded\n",
      "/home/ceclinux/.opam/4.04.1/lib/ocaml/compiler-libs/ocamlbytecomp.cma: loaded\n",
      "/home/ceclinux/.opam/4.04.1/lib/ocaml/compiler-libs/ocamltoplevel.cma: loaded\n",
      "/home/ceclinux/.opam/4.04.1/lib/ppx_hash/runtime-lib: added to search path\n",
      "/home/ceclinux/.opam/4.04.1/lib/ppx_hash/runtime-lib/ppx_hash_lib.cma: loaded\n",
      "/home/ceclinux/.opam/4.04.1/lib/ppx_inline_test/config: added to search path\n",
      "/home/ceclinux/.opam/4.04.1/lib/ppx_inline_test/config/inline_test_config.cma: loaded\n",
      "/home/ceclinux/.opam/4.04.1/lib/ppx_inline_test/runtime-lib: added to search path\n",
      "/home/ceclinux/.opam/4.04.1/lib/ppx_inline_test/runtime-lib/ppx_inline_test_lib.cma: loaded\n",
      "/home/ceclinux/.opam/4.04.1/lib/core_kernel/base_for_tests: added to search path\n",
      "/home/ceclinux/.opam/4.04.1/lib/core_kernel/base_for_tests/base_for_tests.cma: loaded\n",
      "/home/ceclinux/.opam/4.04.1/lib/jane-street-headers: added to search path\n",
      "/home/ceclinux/.opam/4.04.1/lib/jane-street-headers/jane_street_headers.cma: loaded\n",
      "/home/ceclinux/.opam/4.04.1/lib/ppx_assert/runtime-lib: added to search path\n",
      "/home/ceclinux/.opam/4.04.1/lib/ppx_assert/runtime-lib/ppx_assert_lib.cma: loaded\n",
      "/home/ceclinux/.opam/4.04.1/lib/ppx_bench/runtime-lib: added to search path\n",
      "/home/ceclinux/.opam/4.04.1/lib/ppx_bench/runtime-lib/ppx_bench_lib.cma: loaded\n",
      "/home/ceclinux/.opam/4.04.1/lib/ppx_expect/common: added to search path\n",
      "/home/ceclinux/.opam/4.04.1/lib/ppx_expect/common/expect_test_common.cma: loaded\n",
      "/home/ceclinux/.opam/4.04.1/lib/ppx_expect/config: added to search path\n",
      "/home/ceclinux/.opam/4.04.1/lib/ppx_expect/config/expect_test_config.cma: loaded\n",
      "/home/ceclinux/.opam/4.04.1/lib/ppx_expect/collector: added to search path\n",
      "/home/ceclinux/.opam/4.04.1/lib/ppx_expect/collector/expect_test_collector.cma: loaded\n",
      "/home/ceclinux/.opam/4.04.1/lib/stdio: added to search path\n",
      "/home/ceclinux/.opam/4.04.1/lib/stdio/stdio.cma: loaded\n",
      "/home/ceclinux/.opam/4.04.1/lib/typerep: added to search path\n",
      "/home/ceclinux/.opam/4.04.1/lib/typerep/typerep_lib.cma: loaded\n",
      "/home/ceclinux/.opam/4.04.1/lib/core_kernel: added to search path\n",
      "/home/ceclinux/.opam/4.04.1/lib/core_kernel/core_kernel.cma: loaded\n",
      "/home/ceclinux/.opam/4.04.1/lib/sexplib/unix: added to search path\n",
      "/home/ceclinux/.opam/4.04.1/lib/sexplib/unix/sexplib_unix.cma: loaded\n",
      "/home/ceclinux/.opam/4.04.1/lib/spawn: added to search path\n",
      "/home/ceclinux/.opam/4.04.1/lib/spawn/spawn.cma: loaded\n",
      "/home/ceclinux/.opam/4.04.1/lib/core: added to search path\n",
      "/home/ceclinux/.opam/4.04.1/lib/core/core.cma: loaded\n",
      "/home/ceclinux/.opam/4.04.1/lib/core/top: added to search path\n",
      "/home/ceclinux/.opam/4.04.1/lib/core/top/core_top.cma: loaded\n"
     ]
    }
   ],
   "source": [
    "open Core"
   ]
  },
  {
   "cell_type": "markdown",
   "metadata": {},
   "source": [
    "Ocaml最棒的特性之一是，它提供了一个简洁而且表达能力很强的系统来声明新的数据类型，记录则是这个系统中一个关键的要素"
   ]
  },
  {
   "cell_type": "markdown",
   "metadata": {},
   "source": [
    "需要说明，记录字段名必须以一个小写的子母开头"
   ]
  },
  {
   "cell_type": "code",
   "execution_count": 2,
   "metadata": {},
   "outputs": [
    {
     "data": {
      "text/plain": [
       "type host_info = {\n",
       "  hostname : string;\n",
       "  os_name : string;\n",
       "  cpu_arch : string;\n",
       "  timestamp : Core.Time.t;\n",
       "}\n"
      ]
     },
     "execution_count": 2,
     "metadata": {},
     "output_type": "execute_result"
    }
   ],
   "source": [
    "type host_info = \n",
    "{hostname: string;\n",
    "os_name:string;\n",
    "cpu_arch:string;\n",
    "timestamp:Time.t;\n",
    "}"
   ]
  },
  {
   "cell_type": "code",
   "execution_count": 3,
   "metadata": {},
   "outputs": [
    {
     "name": "stdout",
     "output_type": "stream",
     "text": [
      "No such package: core_extended\n"
     ]
    }
   ],
   "source": [
    "# require \"core_extended\" "
   ]
  },
  {
   "cell_type": "code",
   "execution_count": 4,
   "metadata": {},
   "outputs": [
    {
     "ename": "error",
     "evalue": "compile_error",
     "output_type": "error",
     "traceback": [
      "\u001b[32mFile \"[4]\", line 1, characters 5-18:\n\u001b[31mError: Unbound module Core_extended\n\u001b[36m   1: \u001b[30mopen \u001b[4mCore_extended\u001b[0m\n"
     ]
    }
   ],
   "source": [
    "open Core_extended\n"
   ]
  },
  {
   "cell_type": "code",
   "execution_count": 5,
   "metadata": {},
   "outputs": [
    {
     "data": {
      "text/plain": [
       "val my_host : host_info =\n",
       "  {hostname = \"hostname\"; os_name = \"uname -s\"; cpu_arch = \"uname -p\";\n",
       "   timestamp = 2018-02-01 06:13:47.986132-08:00}\n"
      ]
     },
     "execution_count": 5,
     "metadata": {},
     "output_type": "execute_result"
    }
   ],
   "source": [
    "let my_host = \n",
    "{\n",
    "hostname = \"hostname\";\n",
    "os_name = \"uname -s\";\n",
    "cpu_arch = \"uname -p\";\n",
    "timestamp = Time.now();\n",
    "}"
   ]
  },
  {
   "cell_type": "markdown",
   "metadata": {},
   "source": [
    "你可能想知道编译器如何推断出`my_host`类型是`host_info`。在这里，编译器确定类型的关键是记录字段名。在这一张后面，我们还会讨论多个记录类型有相同的字段名时会发生什么"
   ]
  },
  {
   "cell_type": "markdown",
   "metadata": {},
   "source": [
    "可以使用点击法来抽取元素"
   ]
  },
  {
   "cell_type": "code",
   "execution_count": 6,
   "metadata": {},
   "outputs": [
    {
     "data": {
      "text/plain": [
       "- : string = \"uname -p\"\n"
      ]
     },
     "execution_count": 6,
     "metadata": {},
     "output_type": "execute_result"
    }
   ],
   "source": [
    "my_host.cpu_arch;;"
   ]
  },
  {
   "cell_type": "markdown",
   "metadata": {},
   "source": [
    "声明Ocam类型时，都可以利用多态类型来进行参数化，在这方面记录也不例外。"
   ]
  },
  {
   "cell_type": "code",
   "execution_count": 7,
   "metadata": {},
   "outputs": [
    {
     "data": {
      "text/plain": [
       "type 'a timestamped = { item : 'a; time : Core.Time.t; }\n"
      ]
     },
     "execution_count": 7,
     "metadata": {},
     "output_type": "execute_result"
    }
   ],
   "source": [
    "type 'a timestamped = {item: 'a; time: Time.t};;"
   ]
  },
  {
   "cell_type": "code",
   "execution_count": 8,
   "metadata": {},
   "outputs": [
    {
     "data": {
      "text/plain": [
       "val first_timestamped : 'a timestamped Core.List.t -> 'a timestamped option =\n",
       "  <fun>\n"
      ]
     },
     "execution_count": 8,
     "metadata": {},
     "output_type": "execute_result"
    }
   ],
   "source": [
    "let first_timestamped list =\n",
    "List.reduce list ~f:(fun a b -> if a .time < b.time then a else b)"
   ]
  },
  {
   "cell_type": "code",
   "execution_count": 9,
   "metadata": {},
   "outputs": [
    {
     "data": {
      "text/plain": [
       "val host_info_to_string : host_info -> string = <fun>\n"
      ]
     },
     "execution_count": 9,
     "metadata": {},
     "output_type": "execute_result"
    }
   ],
   "source": [
    "let host_info_to_string {hostname = h; os_name = os; cpu_arch = c; timestamp = ts;}\n",
    "= sprintf \"%s (%s / %s, on %s)\" h os c \"wa\";;"
   ]
  },
  {
   "cell_type": "code",
   "execution_count": 10,
   "metadata": {},
   "outputs": [
    {
     "data": {
      "text/plain": [
       "- : string = \"hostname (uname -s / uname -p, on wa)\"\n"
      ]
     },
     "execution_count": 10,
     "metadata": {},
     "output_type": "execute_result"
    }
   ],
   "source": [
    "host_info_to_string my_host"
   ]
  },
  {
   "cell_type": "markdown",
   "metadata": {},
   "source": [
    "需要说明的是，我们使用的模式只有一种情况，这里没有使用由|分割的多个情况。我们只要一个模式，因为记录模式是“不可否定的”，只标明运行时记录模式匹配绝对不会失败。这是有道理的，因为记录中的字段集总是一样的。一般来讲，对于有固定结构的类型（如记录和元祖），其模式都是不可否定的，这与有可变结构的类型不同。"
   ]
  },
  {
   "cell_type": "markdown",
   "metadata": {},
   "source": [
    "举个例子，假设我们希望向`host_info`记录添加一个新字段，名为`os_release`"
   ]
  },
  {
   "cell_type": "code",
   "execution_count": 11,
   "metadata": {},
   "outputs": [
    {
     "data": {
      "text/plain": [
       "type host_info = {\n",
       "  hostname : string;\n",
       "  os_name : string;\n",
       "  cpu_arch : string;\n",
       "  os_release : string;\n",
       "  timestamp : Core.Time.t;\n",
       "}\n"
      ]
     },
     "execution_count": 11,
     "metadata": {},
     "output_type": "execute_result"
    }
   ],
   "source": [
    "type host_info = {\n",
    "hostname: string;\n",
    "os_name: string;\n",
    "cpu_arch :string;\n",
    "os_release: string;\n",
    "timestamp: Time.t;\n",
    "}"
   ]
  },
  {
   "cell_type": "code",
   "execution_count": 12,
   "metadata": {},
   "outputs": [
    {
     "data": {
      "text/plain": [
       "- : host_info -> string = <fun>\n"
      ]
     },
     "execution_count": 12,
     "metadata": {},
     "output_type": "execute_result"
    },
    {
     "data": {
      "text/plain": [
       "val host_info_to_string : host_info -> string = <fun>\n"
      ]
     },
     "execution_count": 12,
     "metadata": {},
     "output_type": "execute_result"
    }
   ],
   "source": [
    "host_info_to_string\n",
    "let host_info_to_string {hostname = h; os_name = os; cpu_arch = c; timestamp = ts;}\n",
    "= sprintf \"%s (%s / %s, on %s)\" h os c \"wa\";;"
   ]
  },
  {
   "cell_type": "markdown",
   "metadata": {},
   "source": [
    "host_info_to_string的代码不做修改仍能编译。对于这个情况，很显然你可能希望`host_info_to_string`来包含`os_release`，如果类型系统能对这个修改提供一个警告就好了"
   ]
  },
  {
   "cell_type": "code",
   "execution_count": 13,
   "metadata": {},
   "outputs": [],
   "source": [
    "#warnings \"+9\""
   ]
  },
  {
   "cell_type": "markdown",
   "metadata": {},
   "source": [
    "变量名与记录名恰好相同时，Ocaml提供了一些方便的语法快捷方式，例如，以下函数中的模式会把当前所有地段绑定到同名的变量，这称为字段双关"
   ]
  },
  {
   "cell_type": "code",
   "execution_count": 14,
   "metadata": {},
   "outputs": [
    {
     "name": "stderr",
     "output_type": "stream",
     "text": [
      "File \"[14]\", line 1, characters 24-83:\n",
      "Warning 9: the following labels are not bound in this record pattern:\n",
      "os_release\n",
      "Either bind these labels explicitly or add '; _' to the pattern.\n"
     ]
    },
    {
     "data": {
      "text/plain": [
       "val host_info_to_string : host_info -> string = <fun>\n"
      ]
     },
     "execution_count": 14,
     "metadata": {},
     "output_type": "execute_result"
    }
   ],
   "source": [
    "let host_info_to_string {hostname = h; os_name = os; cpu_arch = c; timestamp = ts;}\n",
    "= sprintf \"%s (%s / %s, on %s)\" h os c \"wa\";;"
   ]
  },
  {
   "cell_type": "markdown",
   "metadata": {},
   "source": [
    "可以禁用对一个给定模式的警告，明确地确认我们打算忽略额外的字段。为此可以为模式增加一个下划线"
   ]
  },
  {
   "cell_type": "code",
   "execution_count": 15,
   "metadata": {},
   "outputs": [
    {
     "data": {
      "text/plain": [
       "- : host_info -> string = <fun>\n"
      ]
     },
     "execution_count": 15,
     "metadata": {},
     "output_type": "execute_result"
    },
    {
     "data": {
      "text/plain": [
       "val host_info_to_string : host_info -> string = <fun>\n"
      ]
     },
     "execution_count": 15,
     "metadata": {},
     "output_type": "execute_result"
    }
   ],
   "source": [
    "host_info_to_string\n",
    "let host_info_to_string {hostname = h; os_name = os; cpu_arch = c; timestamp = ts;_}\n",
    "= sprintf \"%s (%s / %s, on %s)\" h os c \"wa\";;"
   ]
  },
  {
   "cell_type": "code",
   "execution_count": 16,
   "metadata": {},
   "outputs": [
    {
     "data": {
      "text/plain": [
       "val host_info_to_string : host_info -> string = <fun>\n"
      ]
     },
     "execution_count": 16,
     "metadata": {},
     "output_type": "execute_result"
    }
   ],
   "source": [
    "let host_info_to_string {hostname; os_name; cpu_arch; timestamp;_} =\n",
    "sprintf \"%s (%s / %s) <%s>\" hostname os_name cpu_arch (Time.to_string timestamp)"
   ]
  },
  {
   "cell_type": "markdown",
   "metadata": {},
   "source": [
    "字段双管也可以用来构造一个记录。考虑以下的代码，这用来生成host_info记录"
   ]
  },
  {
   "cell_type": "code",
   "execution_count": 17,
   "metadata": {},
   "outputs": [
    {
     "ename": "error",
     "evalue": "compile_error",
     "output_type": "error",
     "traceback": [
      "\u001b[32mFile \"[17]\", line 3, characters 18-19:\n\u001b[31mError: Syntax error\n\u001b[36m   2: \u001b[30mlet sh cmd = Shell.sh_one_exn cmd in\n\u001b[36m   3: \u001b[30mlet hostname = sh \u001b[4m'\u001b[0m\u001b[30mhostname' in\n\u001b[36m   4: \u001b[30mlet host_name = sh 'uname -s' in\u001b[0m\n"
     ]
    }
   ],
   "source": [
    "let my_host = \n",
    "let sh cmd = Shell.sh_one_exn cmd in\n",
    "let hostname = sh 'hostname' in\n",
    "let host_name = sh 'uname -s' in\n",
    "let cpu_arch = sh 'uname -p' in\n",
    "let os_release = sh 'uname -r' in\n",
    "{hostname;os_name; cpu_arch; os_release; timestamp}"
   ]
  },
  {
   "cell_type": "markdown",
   "metadata": {},
   "source": [
    "编写函数由标签参数构建一个记录时，可以同时利用字段双关和标签双关"
   ]
  },
  {
   "cell_type": "code",
   "execution_count": 18,
   "metadata": {},
   "outputs": [
    {
     "data": {
      "text/plain": [
       "val create_host_info :\n",
       "  hostname:Core.String.t ->\n",
       "  os_name:string -> cpu_arch:string -> os_release:string -> host_info = <fun>\n"
      ]
     },
     "execution_count": 18,
     "metadata": {},
     "output_type": "execute_result"
    }
   ],
   "source": [
    "let create_host_info ~hostname ~os_name ~cpu_arch ~os_release = \n",
    "{os_name; cpu_arch; os_release; hostname = String.lowercase hostname; timestamp = Time.now()};;"
   ]
  },
  {
   "cell_type": "code",
   "execution_count": 19,
   "metadata": {},
   "outputs": [
    {
     "data": {
      "text/plain": [
       "type log_entry = {\n",
       "  session_id : string;\n",
       "  time : Core.Time.t;\n",
       "  important : bool;\n",
       "  message : string;\n",
       "}\n"
      ]
     },
     "execution_count": 19,
     "metadata": {},
     "output_type": "execute_result"
    },
    {
     "data": {
      "text/plain": [
       "type heartbeat = {\n",
       "  session_id : string;\n",
       "  time : Core.Time.t;\n",
       "  status_message : string;\n",
       "}\n"
      ]
     },
     "execution_count": 19,
     "metadata": {},
     "output_type": "execute_result"
    },
    {
     "data": {
      "text/plain": [
       "type logon = {\n",
       "  session_id : string;\n",
       "  time : Core.Time.t;\n",
       "  user : string;\n",
       "  credentials : string;\n",
       "}\n"
      ]
     },
     "execution_count": 19,
     "metadata": {},
     "output_type": "execute_result"
    }
   ],
   "source": [
    "type log_entry = \n",
    "{ session_id: string;\n",
    "time: Time.t;\n",
    "important: bool;\n",
    "message:string;\n",
    "};;\n",
    "type heartbeat = \n",
    "{\n",
    "session_id:string;\n",
    "time: Time.t;\n",
    "status_message: string;\n",
    "};;\n",
    "type logon = \n",
    "{\n",
    "session_id: string;\n",
    "time: Time.t;\n",
    "user: string;\n",
    "credentials: string;\n",
    "}"
   ]
  },
  {
   "cell_type": "code",
   "execution_count": 20,
   "metadata": {},
   "outputs": [
    {
     "data": {
      "text/plain": [
       "val get_session_id : logon -> string = <fun>\n"
      ]
     },
     "execution_count": 20,
     "metadata": {},
     "output_type": "execute_result"
    }
   ],
   "source": [
    "let get_session_id t = t.session_id"
   ]
  },
  {
   "cell_type": "markdown",
   "metadata": {},
   "source": [
    "在这种情况，`Ocaml`只是选择这个记录字段的最新定义"
   ]
  },
  {
   "cell_type": "code",
   "execution_count": 21,
   "metadata": {},
   "outputs": [
    {
     "data": {
      "text/plain": [
       "val get_heartbeat_session_id : heartbeat -> string = <fun>\n"
      ]
     },
     "execution_count": 21,
     "metadata": {},
     "output_type": "execute_result"
    }
   ],
   "source": [
    "let get_heartbeat_session_id (t:heartbeat) = t.session_id"
   ]
  },
  {
   "cell_type": "code",
   "execution_count": 22,
   "metadata": {},
   "outputs": [
    {
     "data": {
      "text/plain": [
       "val status_and_session : heartbeat -> string * string = <fun>\n"
      ]
     },
     "execution_count": 22,
     "metadata": {},
     "output_type": "execute_result"
    }
   ],
   "source": [
    "let status_and_session t = (t.status_message, t.session_id)"
   ]
  },
  {
   "cell_type": "code",
   "execution_count": 23,
   "metadata": {},
   "outputs": [
    {
     "ename": "error",
     "evalue": "compile_error",
     "output_type": "error",
     "traceback": [
      "\u001b[32mFile \"[23]\", line 1, characters 43-57:\n\u001b[31mError: This expression has type logon\n       The field status_message does not belong to type logon\n\u001b[36m   1: \u001b[30mlet status_and_session t = (t.session_id,t.\u001b[4mstatus_message\u001b[0m\u001b[30m )\u001b[0m\n"
     ]
    }
   ],
   "source": [
    "let status_and_session t = (t.session_id,t.status_message )"
   ]
  },
  {
   "cell_type": "markdown",
   "metadata": {},
   "source": [
    "为什么第一个定义没有类型标注也能成功？而第二个定义没有类型标注就失败了呢？区别在于，第一种情况下，类型检查代码首先考虑`status_message`字段，因此可以得出结论这个记录是一个`heartbeat`。交换顺序后，则会先考虑`session_id`字段，所以会认为这个类型是一个`logon`，这样一来，`t.status_message`就没有意义了。"
   ]
  },
  {
   "cell_type": "markdown",
   "metadata": {},
   "source": [
    "可以使用不重叠的字段名避免这种二义性，或者更一般的，为每个类型分别构造一个模块。把类型包装在各自的模块中（也是Core中大量使用的方法）"
   ]
  },
  {
   "cell_type": "code",
   "execution_count": 32,
   "metadata": {},
   "outputs": [
    {
     "data": {
      "text/plain": [
       "module Log_entry :\n",
       "  sig\n",
       "    type t = {\n",
       "      session_id : string;\n",
       "      time : Core.Time.t;\n",
       "      important : bool;\n",
       "      message : string;\n",
       "    }\n",
       "  end\n"
      ]
     },
     "execution_count": 32,
     "metadata": {},
     "output_type": "execute_result"
    },
    {
     "data": {
      "text/plain": [
       "module Heartbeat :\n",
       "  sig\n",
       "    type t = {\n",
       "      session_id : string;\n",
       "      time : Core.Time.t;\n",
       "      user : string;\n",
       "      credentials : string;\n",
       "    }\n",
       "  end\n"
      ]
     },
     "execution_count": 32,
     "metadata": {},
     "output_type": "execute_result"
    }
   ],
   "source": [
    "module Log_entry = struct\n",
    "type t = \n",
    "{\n",
    "session_id: string;\n",
    "time: Time.t;\n",
    "important: bool;\n",
    "message: string;\n",
    "}\n",
    "end\n",
    "module Heartbeat = struct\n",
    "type t = \n",
    "{\n",
    "session_id: string;\n",
    "time: Time.t;\n",
    "user:string;\n",
    "credentials: string;\n",
    "}\n",
    "end"
   ]
  },
  {
   "cell_type": "markdown",
   "metadata": {},
   "source": [
    "你会发现进场遇到遮掩过一种情况：可能需要创建一个新纪录，它与一个已有的记录基本上相同，只是一小部分字段不同。"
   ]
  },
  {
   "cell_type": "code",
   "execution_count": 25,
   "metadata": {},
   "outputs": [
    {
     "data": {
      "text/plain": [
       "type client_info = {\n",
       "  addr : Core.Unix.Inet_addr.t;\n",
       "  port : int;\n",
       "  user : string;\n",
       "  credentials : string;\n",
       "  last_heartbeat_time : Core.Time.t;\n",
       "}\n"
      ]
     },
     "execution_count": 25,
     "metadata": {},
     "output_type": "execute_result"
    }
   ],
   "source": [
    "type client_info = \n",
    "{\n",
    "addr: Unix.Inet_addr.t;\n",
    "port: int;\n",
    "user:string;\n",
    "credentials: string;\n",
    "last_heartbeat_time: Time.t;\n",
    "}"
   ]
  },
  {
   "cell_type": "code",
   "execution_count": null,
   "metadata": {},
   "outputs": [],
   "source": []
  },
  {
   "cell_type": "markdown",
   "metadata": {},
   "source": [
    "Modules in OCaml are implemented by module definitions that have the following syntax:"
   ]
  },
  {
   "cell_type": "markdown",
   "metadata": {},
   "source": [
    "module ModuleName = struct \n",
    "  (* definitions *)\n",
    "end"
   ]
  },
  {
   "cell_type": "code",
   "execution_count": 28,
   "metadata": {},
   "outputs": [
    {
     "data": {
      "text/plain": [
       "module ListStack :\n",
       "  sig\n",
       "    val empty : 'a list\n",
       "    val is_empty : 'a list -> bool\n",
       "    val push : 'a -> 'a list -> 'a list\n",
       "    val peek : 'a list -> 'a\n",
       "    val pop : 'a list -> 'a list\n",
       "  end\n"
      ]
     },
     "execution_count": 28,
     "metadata": {},
     "output_type": "execute_result"
    }
   ],
   "source": [
    "module ListStack = struct\n",
    "  let empty = []\n",
    "  let is_empty s = (s = [])\n",
    "\n",
    "  let push x s = x :: s\n",
    "\n",
    "  let peek = function\n",
    "    | [] -> failwith \"Empty\"\n",
    "    | x::_ -> x\n",
    "\n",
    "  let pop = function\n",
    "    | [] -> failwith \"Empty\"\n",
    "    | _::xs -> xs\n",
    "end"
   ]
  },
  {
   "cell_type": "markdown",
   "metadata": {},
   "source": [
    "is called a structure. A structure is simply a sequence of definitions. The structure itself is anonymous—it has no name—until it is bound to a name by a module definition.\n",
    "\n",
    "Modules partition the namespace, so that any symbol x that is bound in the implementation of a module named Module must be referenced by the qualifed name Module.x outside the implementation of the module (unless the namespace has been exposed using open).\n",
    "\n",
    "The implementation of a module can contain type definitions, exception definitions, let definitions, open statements, as well as some other things we haven't seen so far. All the definitions inside a module are permitted to end with double semicolon ;; for compatibility with the toplevel, but 3110 considers it unidiomatic to do so.\n",
    "\n",
    "Modules are not as first-class in OCaml as functions. There are some language extensions that make it possible to bundle up modules as values, but we won't be looking at them. If you're curious you can have a look at the manual."
   ]
  },
  {
   "cell_type": "code",
   "execution_count": 34,
   "metadata": {},
   "outputs": [
    {
     "data": {
      "text/plain": [
       "val register_heartbeat : client_info -> Heartbeat.t -> client_info = <fun>\n"
      ]
     },
     "execution_count": 34,
     "metadata": {},
     "output_type": "execute_result"
    }
   ],
   "source": [
    "let register_heartbeat t hb = \n",
    "{\n",
    "addr = t.addr;\n",
    "port = t.port;\n",
    "user = t.user;\n",
    "credentials = t.credentials;\n",
    "last_heartbeat_time = hb.Heartbeat.time;\n",
    "}"
   ]
  },
  {
   "cell_type": "code",
   "execution_count": 35,
   "metadata": {},
   "outputs": [
    {
     "data": {
      "text/plain": [
       "val create_log_entry :\n",
       "  session_id:string -> important:bool -> string -> Log_entry.t = <fun>\n"
      ]
     },
     "execution_count": 35,
     "metadata": {},
     "output_type": "execute_result"
    }
   ],
   "source": [
    "let create_log_entry ~session_id ~important message = \n",
    "{\n",
    "Log_entry.time = Time.now(); Log_entry.session_id;\n",
    "Log_entry.important; Log_entry.message;\n",
    "}"
   ]
  },
  {
   "cell_type": "markdown",
   "metadata": {},
   "source": [
    "模块名Log_entry是必要的，用于限定字段，因为这个函数的在定义记录的`Log_entry`模块之外。不过，`Ocaml`只要求对一个记录字段用模块限定，所以这个代码还可以写的更简洁。需要说明，允许在模块路径和字段名之间插入空白符"
   ]
  },
  {
   "cell_type": "markdown",
   "metadata": {},
   "source": [
    "这种技巧不仅限于构造记录，完成模式匹配时也可以使用相同的技巧"
   ]
  },
  {
   "cell_type": "code",
   "execution_count": 37,
   "metadata": {},
   "outputs": [
    {
     "data": {
      "text/plain": [
       "val message_to_string : Log_entry.t -> Core.String.t = <fun>\n"
      ]
     },
     "execution_count": 37,
     "metadata": {},
     "output_type": "execute_result"
    }
   ],
   "source": [
    "let message_to_string {Log_entry.important; message;_} = if important then String.uppercase message else message;;"
   ]
  },
  {
   "cell_type": "code",
   "execution_count": 41,
   "metadata": {},
   "outputs": [
    {
     "data": {
      "text/plain": [
       "val is_important : Log_entry.t -> bool = <fun>\n"
      ]
     },
     "execution_count": 41,
     "metadata": {},
     "output_type": "execute_result"
    }
   ],
   "source": [
    "let is_important t = t.Log_entry.important"
   ]
  },
  {
   "cell_type": "markdown",
   "metadata": {},
   "source": [
    "**要记住，点（.)有两种用法**"
   ]
  },
  {
   "cell_type": "markdown",
   "metadata": {},
   "source": [
    "第一个点是访问一个记录字段，点有比那的所有部分都要解释为一个字段名；第二个点是访问一个模块的内容，只是模块`Log_entry`中的记录字段`important`。`Log_entry`首字母大写，所以这不可能是一个字段名，可以用这一点区分这两种用法"
   ]
  },
  {
   "cell_type": "markdown",
   "metadata": {},
   "source": [
    "与大多数`Ocaml`值类似，记录默认是不可变的。不过，可以把单个的记录字段声明为可变字段。"
   ]
  },
  {
   "cell_type": "code",
   "execution_count": 50,
   "metadata": {},
   "outputs": [
    {
     "data": {
      "text/plain": [
       "type client_info = {\n",
       "  addr : Core.Unix.Inet_addr.t;\n",
       "  port : int;\n",
       "  user : string;\n",
       "  credentials : string;\n",
       "  mutable last_heartbeat_time : Core.Time.t;\n",
       "  mutable last_hreatbeat_status : string;\n",
       "}\n"
      ]
     },
     "execution_count": 50,
     "metadata": {},
     "output_type": "execute_result"
    }
   ],
   "source": [
    "type client_info = {\n",
    "addr:Unix.Inet_addr.t;\n",
    "port:int;\n",
    "user:string;\n",
    "credentials:string;\n",
    "mutable last_heartbeat_time: Time.t;\n",
    "mutable last_hreatbeat_status:string;\n",
    "}"
   ]
  },
  {
   "cell_type": "markdown",
   "metadata": {},
   "source": [
    "`<-`操作符用于设置可变字段。相应的`register_heartbeat`版本可以写为："
   ]
  },
  {
   "cell_type": "code",
   "execution_count": 55,
   "metadata": {},
   "outputs": [
    {
     "data": {
      "text/plain": [
       "val register_heartbeat : client_info -> Heartbeat.t -> unit = <fun>\n"
      ]
     },
     "execution_count": 55,
     "metadata": {},
     "output_type": "execute_result"
    }
   ],
   "source": [
    "let register_heartbeat t hb = \n",
    "t.last_heartbeat_time <- hb.Heartbeat.time;\n"
   ]
  },
  {
   "cell_type": "code",
   "execution_count": null,
   "metadata": {
    "collapsed": true
   },
   "outputs": [],
   "source": []
  }
 ],
 "metadata": {
  "kernelspec": {
   "display_name": "OCaml 4.04.1",
   "language": "OCaml",
   "name": "ocaml-jupyter"
  },
  "language_info": {
   "codemirror_mode": "text/x-ocaml",
   "file_extension": ".ml",
   "mimetype": "text/x-ocaml",
   "name": "OCaml",
   "nbconverter_exporter": null,
   "pygments_lexer": "OCaml",
   "version": "4.04.1"
  }
 },
 "nbformat": 4,
 "nbformat_minor": 2
}
