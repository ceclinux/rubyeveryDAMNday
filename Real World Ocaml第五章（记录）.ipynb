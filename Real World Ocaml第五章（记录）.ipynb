{
 "cells": [
  {
   "cell_type": "code",
   "execution_count": 1,
   "metadata": {},
   "outputs": [
    {
     "name": "stdout",
     "output_type": "stream",
     "text": [
      "Findlib has been successfully loaded. Additional directives:\n",
      "  #require \"package\";;      to load a package\n",
      "  #list;;                   to list the available packages\n",
      "  #camlp4o;;                to load camlp4 (standard syntax)\n",
      "  #camlp4r;;                to load camlp4 (revised syntax)\n",
      "  #predicates \"p,q,...\";;   to set these predicates\n",
      "  Topfind.reset();;         to force that packages will be reloaded\n",
      "  #thread;;                 to enable threads\n",
      "\n"
     ]
    },
    {
     "name": "stderr",
     "output_type": "stream",
     "text": [
      "/home/ceclinux/.opam/4.04.1/lib/ocaml/dynlink.cma: loaded\n",
      "/home/ceclinux/.opam/4.04.1/lib/ocaml/camlp4: added to search path\n",
      "/home/ceclinux/.opam/4.04.1/lib/ocaml/camlp4/camlp4o.cma: loaded\n",
      "/home/ceclinux/.opam/4.04.1/lib/ocaml/threads: added to search path\n"
     ]
    },
    {
     "name": "stdout",
     "output_type": "stream",
     "text": [
      "Cannot find file /home/ceclinux/.opam/4.04.1/lib/ocaml/camlp4/camlp4o.cma.\n"
     ]
    },
    {
     "name": "stderr",
     "output_type": "stream",
     "text": [
      "/home/ceclinux/.opam/4.04.1/lib/ocaml/unix.cma: loaded\n",
      "/home/ceclinux/.opam/4.04.1/lib/ocaml/threads/threads.cma: loaded\n",
      "/home/ceclinux/.opam/4.04.1/lib/base/caml: added to search path\n",
      "/home/ceclinux/.opam/4.04.1/lib/base/caml/caml.cma: loaded\n",
      "/home/ceclinux/.opam/4.04.1/lib/base/shadow_stdlib: added to search path\n",
      "/home/ceclinux/.opam/4.04.1/lib/base/shadow_stdlib/shadow_stdlib.cma: loaded\n",
      "/home/ceclinux/.opam/4.04.1/lib/sexplib/0: added to search path\n",
      "/home/ceclinux/.opam/4.04.1/lib/sexplib/0/sexplib0.cma: loaded\n",
      "/home/ceclinux/.opam/4.04.1/lib/base: added to search path\n",
      "/home/ceclinux/.opam/4.04.1/lib/base/base.cma: loaded\n",
      "/home/ceclinux/.opam/4.04.1/lib/base/md5: added to search path\n",
      "/home/ceclinux/.opam/4.04.1/lib/base/md5/md5_lib.cma: loaded\n",
      "/home/ceclinux/.opam/4.04.1/lib/ocaml/bigarray.cma: loaded\n",
      "/home/ceclinux/.opam/4.04.1/lib/fieldslib: added to search path\n",
      "/home/ceclinux/.opam/4.04.1/lib/fieldslib/fieldslib.cma: loaded\n",
      "/home/ceclinux/.opam/4.04.1/lib/ppx_compare/runtime-lib: added to search path\n",
      "/home/ceclinux/.opam/4.04.1/lib/ppx_compare/runtime-lib/ppx_compare_lib.cma: loaded\n",
      "/home/ceclinux/.opam/4.04.1/lib/sexplib: added to search path\n",
      "/home/ceclinux/.opam/4.04.1/lib/sexplib/sexplib.cma: loaded\n",
      "/home/ceclinux/.opam/4.04.1/lib/variantslib: added to search path\n",
      "/home/ceclinux/.opam/4.04.1/lib/variantslib/variantslib.cma: loaded\n",
      "/home/ceclinux/.opam/4.04.1/lib/bin_prot/shape: added to search path\n",
      "/home/ceclinux/.opam/4.04.1/lib/bin_prot/shape/bin_shape_lib.cma: loaded\n",
      "/home/ceclinux/.opam/4.04.1/lib/bin_prot: added to search path\n",
      "/home/ceclinux/.opam/4.04.1/lib/bin_prot/bin_prot.cma: loaded\n",
      "/home/ceclinux/.opam/4.04.1/lib/ocaml/compiler-libs: added to search path\n",
      "/home/ceclinux/.opam/4.04.1/lib/ocaml/compiler-libs/ocamlcommon.cma: loaded\n",
      "/home/ceclinux/.opam/4.04.1/lib/ocaml/compiler-libs/ocamlbytecomp.cma: loaded\n",
      "/home/ceclinux/.opam/4.04.1/lib/ocaml/compiler-libs/ocamltoplevel.cma: loaded\n",
      "/home/ceclinux/.opam/4.04.1/lib/ppx_hash/runtime-lib: added to search path\n",
      "/home/ceclinux/.opam/4.04.1/lib/ppx_hash/runtime-lib/ppx_hash_lib.cma: loaded\n",
      "/home/ceclinux/.opam/4.04.1/lib/ppx_inline_test/config: added to search path\n",
      "/home/ceclinux/.opam/4.04.1/lib/ppx_inline_test/config/inline_test_config.cma: loaded\n",
      "/home/ceclinux/.opam/4.04.1/lib/ppx_inline_test/runtime-lib: added to search path\n",
      "/home/ceclinux/.opam/4.04.1/lib/ppx_inline_test/runtime-lib/ppx_inline_test_lib.cma: loaded\n",
      "/home/ceclinux/.opam/4.04.1/lib/core_kernel/base_for_tests: added to search path\n",
      "/home/ceclinux/.opam/4.04.1/lib/core_kernel/base_for_tests/base_for_tests.cma: loaded\n",
      "/home/ceclinux/.opam/4.04.1/lib/jane-street-headers: added to search path\n",
      "/home/ceclinux/.opam/4.04.1/lib/jane-street-headers/jane_street_headers.cma: loaded\n",
      "/home/ceclinux/.opam/4.04.1/lib/ppx_assert/runtime-lib: added to search path\n",
      "/home/ceclinux/.opam/4.04.1/lib/ppx_assert/runtime-lib/ppx_assert_lib.cma: loaded\n",
      "/home/ceclinux/.opam/4.04.1/lib/ppx_bench/runtime-lib: added to search path\n",
      "/home/ceclinux/.opam/4.04.1/lib/ppx_bench/runtime-lib/ppx_bench_lib.cma: loaded\n",
      "/home/ceclinux/.opam/4.04.1/lib/ppx_expect/common: added to search path\n",
      "/home/ceclinux/.opam/4.04.1/lib/ppx_expect/common/expect_test_common.cma: loaded\n",
      "/home/ceclinux/.opam/4.04.1/lib/ppx_expect/config: added to search path\n",
      "/home/ceclinux/.opam/4.04.1/lib/ppx_expect/config/expect_test_config.cma: loaded\n",
      "/home/ceclinux/.opam/4.04.1/lib/ppx_expect/collector: added to search path\n",
      "/home/ceclinux/.opam/4.04.1/lib/ppx_expect/collector/expect_test_collector.cma: loaded\n",
      "/home/ceclinux/.opam/4.04.1/lib/stdio: added to search path\n",
      "/home/ceclinux/.opam/4.04.1/lib/stdio/stdio.cma: loaded\n",
      "/home/ceclinux/.opam/4.04.1/lib/typerep: added to search path\n",
      "/home/ceclinux/.opam/4.04.1/lib/typerep/typerep_lib.cma: loaded\n",
      "/home/ceclinux/.opam/4.04.1/lib/core_kernel: added to search path\n",
      "/home/ceclinux/.opam/4.04.1/lib/core_kernel/core_kernel.cma: loaded\n",
      "/home/ceclinux/.opam/4.04.1/lib/sexplib/unix: added to search path\n",
      "/home/ceclinux/.opam/4.04.1/lib/sexplib/unix/sexplib_unix.cma: loaded\n",
      "/home/ceclinux/.opam/4.04.1/lib/spawn: added to search path\n",
      "/home/ceclinux/.opam/4.04.1/lib/spawn/spawn.cma: loaded\n",
      "/home/ceclinux/.opam/4.04.1/lib/core: added to search path\n",
      "/home/ceclinux/.opam/4.04.1/lib/core/core.cma: loaded\n",
      "/home/ceclinux/.opam/4.04.1/lib/core/top: added to search path\n",
      "/home/ceclinux/.opam/4.04.1/lib/core/top/core_top.cma: loaded\n"
     ]
    }
   ],
   "source": [
    "open Core"
   ]
  },
  {
   "cell_type": "markdown",
   "metadata": {},
   "source": [
    "Ocaml最棒的特性之一是，它提供了一个简洁而且表达能力很强的系统来声明新的数据类型，记录则是这个系统中一个关键的要素"
   ]
  },
  {
   "cell_type": "markdown",
   "metadata": {},
   "source": [
    "需要说明，记录字段名必须以一个小写的子母开头"
   ]
  },
  {
   "cell_type": "code",
   "execution_count": 2,
   "metadata": {},
   "outputs": [
    {
     "data": {
      "text/plain": [
       "type host_info = {\n",
       "  hostname : string;\n",
       "  os_name : string;\n",
       "  cpu_arch : string;\n",
       "  timestamp : Core.Time.t;\n",
       "}\n"
      ]
     },
     "execution_count": 2,
     "metadata": {},
     "output_type": "execute_result"
    }
   ],
   "source": [
    "type host_info = \n",
    "{hostname: string;\n",
    "os_name:string;\n",
    "cpu_arch:string;\n",
    "timestamp:Time.t;\n",
    "}"
   ]
  },
  {
   "cell_type": "code",
   "execution_count": 3,
   "metadata": {},
   "outputs": [
    {
     "name": "stdout",
     "output_type": "stream",
     "text": [
      "No such package: core_extended\n"
     ]
    }
   ],
   "source": [
    "# require \"core_extended\" "
   ]
  },
  {
   "cell_type": "code",
   "execution_count": 4,
   "metadata": {},
   "outputs": [
    {
     "ename": "error",
     "evalue": "compile_error",
     "output_type": "error",
     "traceback": [
      "\u001b[32mFile \"[4]\", line 1, characters 5-18:\n\u001b[31mError: Unbound module Core_extended\n\u001b[36m   1: \u001b[30mopen \u001b[4mCore_extended\u001b[0m\n"
     ]
    }
   ],
   "source": [
    "open Core_extended\n"
   ]
  },
  {
   "cell_type": "code",
   "execution_count": 5,
   "metadata": {},
   "outputs": [
    {
     "data": {
      "text/plain": [
       "val my_host : host_info =\n",
       "  {hostname = \"hostname\"; os_name = \"uname -s\"; cpu_arch = \"uname -p\";\n",
       "   timestamp = 2018-01-30 08:24:20.673660-08:00}\n"
      ]
     },
     "execution_count": 5,
     "metadata": {},
     "output_type": "execute_result"
    }
   ],
   "source": [
    "let my_host = \n",
    "{\n",
    "hostname = \"hostname\";\n",
    "os_name = \"uname -s\";\n",
    "cpu_arch = \"uname -p\";\n",
    "timestamp = Time.now();\n",
    "}"
   ]
  },
  {
   "cell_type": "markdown",
   "metadata": {},
   "source": [
    "你可能想知道编译器如何推断出`my_host`类型是`host_info`。在这里，编译器确定类型的关键是记录字段名。在这一张后面，我们还会讨论多个记录类型有相同的字段名时会发生什么"
   ]
  },
  {
   "cell_type": "markdown",
   "metadata": {},
   "source": [
    "可以使用点击法来抽取元素"
   ]
  },
  {
   "cell_type": "code",
   "execution_count": 6,
   "metadata": {},
   "outputs": [
    {
     "data": {
      "text/plain": [
       "- : string = \"uname -p\"\n"
      ]
     },
     "execution_count": 6,
     "metadata": {},
     "output_type": "execute_result"
    }
   ],
   "source": [
    "my_host.cpu_arch;;"
   ]
  },
  {
   "cell_type": "markdown",
   "metadata": {},
   "source": [
    "声明Ocam类型时，都可以利用多态类型来进行参数化，在这方面记录也不例外。"
   ]
  },
  {
   "cell_type": "code",
   "execution_count": 7,
   "metadata": {},
   "outputs": [
    {
     "data": {
      "text/plain": [
       "type 'a timestamped = { item : 'a; time : Core.Time.t; }\n"
      ]
     },
     "execution_count": 7,
     "metadata": {},
     "output_type": "execute_result"
    }
   ],
   "source": [
    "type 'a timestamped = {item: 'a; time: Time.t};;"
   ]
  },
  {
   "cell_type": "code",
   "execution_count": 8,
   "metadata": {},
   "outputs": [
    {
     "data": {
      "text/plain": [
       "val first_timestamped : 'a timestamped Core.List.t -> 'a timestamped option =\n",
       "  <fun>\n"
      ]
     },
     "execution_count": 8,
     "metadata": {},
     "output_type": "execute_result"
    }
   ],
   "source": [
    "let first_timestamped list =\n",
    "List.reduce list ~f:(fun a b -> if a .time < b.time then a else b)"
   ]
  },
  {
   "cell_type": "code",
   "execution_count": 9,
   "metadata": {},
   "outputs": [
    {
     "data": {
      "text/plain": [
       "val host_info_to_string : host_info -> string = <fun>\n"
      ]
     },
     "execution_count": 9,
     "metadata": {},
     "output_type": "execute_result"
    }
   ],
   "source": [
    "let host_info_to_string {hostname = h; os_name = os; cpu_arch = c; timestamp = ts;}\n",
    "= sprintf \"%s (%s / %s, on %s)\" h os c \"wa\";;"
   ]
  },
  {
   "cell_type": "code",
   "execution_count": 10,
   "metadata": {},
   "outputs": [
    {
     "data": {
      "text/plain": [
       "- : string = \"hostname (uname -s / uname -p, on wa)\"\n"
      ]
     },
     "execution_count": 10,
     "metadata": {},
     "output_type": "execute_result"
    }
   ],
   "source": [
    "host_info_to_string my_host"
   ]
  },
  {
   "cell_type": "markdown",
   "metadata": {},
   "source": [
    "需要说明的是，我们使用的模式只有一种情况，这里没有使用由|分割的多个情况。我们只要一个模式，因为记录模式是“不可否定的”，只标明运行时记录模式匹配绝对不会失败。这是有道理的，因为记录中的字段集总是一样的。一般来讲，对于有固定结构的类型（如记录和元祖），其模式都是不可否定的，这与有可变结构的类型不同。"
   ]
  },
  {
   "cell_type": "markdown",
   "metadata": {},
   "source": [
    "举个例子，假设我们希望向`host_info`记录添加一个新字段，名为`os_release`"
   ]
  },
  {
   "cell_type": "code",
   "execution_count": 11,
   "metadata": {},
   "outputs": [
    {
     "data": {
      "text/plain": [
       "type host_info = {\n",
       "  hostname : string;\n",
       "  os_name : string;\n",
       "  cpu_arch : string;\n",
       "  os_release : string;\n",
       "  timestamp : Core.Time.t;\n",
       "}\n"
      ]
     },
     "execution_count": 11,
     "metadata": {},
     "output_type": "execute_result"
    }
   ],
   "source": [
    "type host_info = {\n",
    "hostname: string;\n",
    "os_name: string;\n",
    "cpu_arch :string;\n",
    "os_release: string;\n",
    "timestamp: Time.t;\n",
    "}"
   ]
  },
  {
   "cell_type": "code",
   "execution_count": 12,
   "metadata": {},
   "outputs": [
    {
     "data": {
      "text/plain": [
       "- : host_info -> string = <fun>\n"
      ]
     },
     "execution_count": 12,
     "metadata": {},
     "output_type": "execute_result"
    },
    {
     "data": {
      "text/plain": [
       "val host_info_to_string : host_info -> string = <fun>\n"
      ]
     },
     "execution_count": 12,
     "metadata": {},
     "output_type": "execute_result"
    }
   ],
   "source": [
    "host_info_to_string\n",
    "let host_info_to_string {hostname = h; os_name = os; cpu_arch = c; timestamp = ts;}\n",
    "= sprintf \"%s (%s / %s, on %s)\" h os c \"wa\";;"
   ]
  },
  {
   "cell_type": "markdown",
   "metadata": {},
   "source": [
    "host_info_to_string的代码不做修改仍能编译。对于这个情况，很显然你可能希望`host_info_to_string`来包含`os_release`，如果类型系统能对这个修改提供一个警告就好了"
   ]
  },
  {
   "cell_type": "code",
   "execution_count": 13,
   "metadata": {},
   "outputs": [],
   "source": [
    "#warnings \"+9\""
   ]
  },
  {
   "cell_type": "code",
   "execution_count": 17,
   "metadata": {},
   "outputs": [
    {
     "name": "stderr",
     "output_type": "stream",
     "text": [
      "File \"[17]\", line 1, characters 24-83:\n",
      "Warning 9: the following labels are not bound in this record pattern:\n",
      "os_release\n",
      "Either bind these labels explicitly or add '; _' to the pattern.\n"
     ]
    },
    {
     "data": {
      "text/plain": [
       "val host_info_to_string : host_info -> string = <fun>\n"
      ]
     },
     "execution_count": 17,
     "metadata": {},
     "output_type": "execute_result"
    }
   ],
   "source": [
    "let host_info_to_string {hostname = h; os_name = os; cpu_arch = c; timestamp = ts;}\n",
    "= sprintf \"%s (%s / %s, on %s)\" h os c \"wa\";;"
   ]
  },
  {
   "cell_type": "markdown",
   "metadata": {},
   "source": [
    "可以禁用对一个给定模式的警告，明确地确认我们打算忽略额外的字段。为此可以为模式增加一个下划线"
   ]
  },
  {
   "cell_type": "code",
   "execution_count": 16,
   "metadata": {},
   "outputs": [
    {
     "data": {
      "text/plain": [
       "- : host_info -> string = <fun>\n"
      ]
     },
     "execution_count": 16,
     "metadata": {},
     "output_type": "execute_result"
    },
    {
     "data": {
      "text/plain": [
       "val host_info_to_string : host_info -> string = <fun>\n"
      ]
     },
     "execution_count": 16,
     "metadata": {},
     "output_type": "execute_result"
    }
   ],
   "source": [
    "host_info_to_string\n",
    "let host_info_to_string {hostname = h; os_name = os; cpu_arch = c; timestamp = ts;_}\n",
    "= sprintf \"%s (%s / %s, on %s)\" h os c \"wa\";;"
   ]
  }
 ],
 "metadata": {
  "kernelspec": {
   "display_name": "OCaml 4.04.1",
   "language": "OCaml",
   "name": "ocaml-jupyter"
  },
  "language_info": {
   "codemirror_mode": "text/x-ocaml",
   "file_extension": ".ml",
   "mimetype": "text/x-ocaml",
   "name": "OCaml",
   "nbconverter_exporter": null,
   "pygments_lexer": "OCaml",
   "version": "4.04.1"
  }
 },
 "nbformat": 4,
 "nbformat_minor": 2
}
