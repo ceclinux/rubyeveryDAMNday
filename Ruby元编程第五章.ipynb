{
 "cells": [
  {
   "cell_type": "markdown",
   "metadata": {},
   "source": [
    "在`Ruby`中，类的定义有所不同，使用`class`关键字时。你不仅仅在规定对象的行为方式，你实际上在运行代码。"
   ]
  },
  {
   "cell_type": "markdown",
   "metadata": {},
   "source": [
    "类只不过是一个增强的模块；因此本章学到的所有只是也都可以应用于模块。"
   ]
  },
  {
   "cell_type": "markdown",
   "metadata": {},
   "source": [
    "你可能认为定义类就是定义方法。其实，你可以在类定义中放入任何代码"
   ]
  },
  {
   "cell_type": "code",
   "execution_count": 1,
   "metadata": {},
   "outputs": [
    {
     "data": {
      "text/plain": [
       ":MyClass"
      ]
     },
     "execution_count": 1,
     "metadata": {},
     "output_type": "execute_result"
    }
   ],
   "source": [
    "def MyClass\n",
    "  puts 'Hello'\n",
    "end"
   ]
  },
  {
   "cell_type": "code",
   "execution_count": 2,
   "metadata": {},
   "outputs": [
    {
     "data": {
      "text/plain": [
       "MyClass"
      ]
     },
     "execution_count": 2,
     "metadata": {},
     "output_type": "execute_result"
    }
   ],
   "source": [
    "result = class MyClass\n",
    "  self\n",
    "end"
   ]
  },
  {
   "cell_type": "code",
   "execution_count": 3,
   "metadata": {},
   "outputs": [
    {
     "data": {
      "text/plain": [
       ":testt"
      ]
     },
     "execution_count": 3,
     "metadata": {},
     "output_type": "execute_result"
    }
   ],
   "source": [
    "def testt\n",
    "end"
   ]
  },
  {
   "cell_type": "markdown",
   "metadata": {},
   "source": [
    "在程序的顶层，当前类是`Object`，这是`main`对象所属的类（这就是你在顶层定义方法会称为`Object`实例方法的原因。）"
   ]
  },
  {
   "cell_type": "code",
   "execution_count": 4,
   "metadata": {},
   "outputs": [
    {
     "name": "stdout",
     "output_type": "stream",
     "text": [
      "Object\n"
     ]
    },
    {
     "data": {
      "text/plain": [
       "Object"
      ]
     },
     "execution_count": 4,
     "metadata": {},
     "output_type": "execute_result"
    }
   ],
   "source": [
    "p self.class"
   ]
  },
  {
   "cell_type": "code",
   "execution_count": 5,
   "metadata": {},
   "outputs": [
    {
     "name": "stdout",
     "output_type": "stream",
     "text": [
      "main\n"
     ]
    },
    {
     "data": {
      "text/plain": [
       "main"
      ]
     },
     "execution_count": 5,
     "metadata": {},
     "output_type": "execute_result"
    }
   ],
   "source": [
    "p self"
   ]
  },
  {
   "cell_type": "code",
   "execution_count": 6,
   "metadata": {},
   "outputs": [
    {
     "data": {
      "text/plain": [
       "Object"
      ]
     },
     "execution_count": 6,
     "metadata": {},
     "output_type": "execute_result"
    }
   ],
   "source": [
    "self.class"
   ]
  },
  {
   "cell_type": "code",
   "execution_count": 7,
   "metadata": {},
   "outputs": [
    {
     "data": {
      "text/plain": [
       "[:include, :using, :public, :private, :define_method, :DelegateClass, :Digest, :MyClass, :testt, :sprintf, :format, :Integer, :Float, :String, :Array, :Hash, :fail, :iterator?, :__method__, :catch, :__dir__, :loop, :global_variables, :throw, :block_given?, :raise, :binding, :URI, :__callee__, :eval, :trace_var, :untrace_var, :at_exit, :Rational, :Complex, :select, :set_trace_func, :gem, :caller, :caller_locations, :`, :test, :fork, :exit, :Pathname, :sleep, :respond_to_missing?, :load, :gem_original_require, :syscall, :open, :printf, :print, :putc, :puts, :gets, :readlines, :readline, :initialize_copy, :initialize_clone, :initialize_dup, :system, :p, :exec, :exit!, :proc, :lambda, :srand, :rand, :spawn, :abort, :pp, :trap, :require, :require_relative, :autoload, :autoload?, :local_variables, :warn, :method_missing, :singleton_method_added, :singleton_method_removed, :singleton_method_undefined, :initialize]"
      ]
     },
     "execution_count": 7,
     "metadata": {},
     "output_type": "execute_result"
    }
   ],
   "source": [
    "self.private_methods"
   ]
  },
  {
   "cell_type": "code",
   "execution_count": 8,
   "metadata": {},
   "outputs": [
    {
     "data": {
      "text/plain": [
       "[:m1, :m2]"
      ]
     },
     "execution_count": 8,
     "metadata": {},
     "output_type": "execute_result"
    }
   ],
   "source": [
    "class C\n",
    "  def m1\n",
    "    def m2; end\n",
    "  end\n",
    "end\n",
    "\n",
    "class D < C; end\n",
    "\n",
    "obj = D.new\n",
    "obj.m1\n",
    "\n",
    "C.instance_methods(false)"
   ]
  },
  {
   "cell_type": "markdown",
   "metadata": {},
   "source": [
    "在一个方法中，当前类就是当前对象的类。（试着在一个方法中用`def`关键字定义另外一个方法，你会发现这个新方法会定义在`self`所属的类中）"
   ]
  },
  {
   "cell_type": "markdown",
   "metadata": {},
   "source": [
    "`Module#class_eval`方法会在一个已存在类的上下文中执行一个块"
   ]
  },
  {
   "cell_type": "code",
   "execution_count": 9,
   "metadata": {},
   "outputs": [
    {
     "data": {
      "text/plain": [
       "\"Hello!\""
      ]
     },
     "execution_count": 9,
     "metadata": {},
     "output_type": "execute_result"
    }
   ],
   "source": [
    "def add_method_to(a_class)\n",
    "  a_class.class_eval do\n",
    "    def m; 'Hello!';end\n",
    "  end\n",
    "end\n",
    "\n",
    "add_method_to String\n",
    "\"abc\".m"
   ]
  },
  {
   "cell_type": "markdown",
   "metadata": {},
   "source": [
    "`Module#class_eval`方法和`Object#instance_eval`方法截然不同。`instance_eval`方法只修改`self`，而`class_eval`方法会同时修改`self`和当前类"
   ]
  },
  {
   "cell_type": "markdown",
   "metadata": {},
   "source": [
    "`Module#class_eval`方法实际上比`class`关键字更加灵活。可以对任何代表类的变量使用`class_eval`方法，而`class`关键字只能使用常量。另外,`class`关键字会打开一个新的作用域，这样将丧失当前绑定的可见性。而`class_eval`方法则使用**扁平作用域**"
   ]
  },
  {
   "cell_type": "markdown",
   "metadata": {},
   "source": [
    "`instance_eval`和`class_eval`方法该如何选择呢？通常我们用`instance_eval`打开非类的对象；而用`class_eval`打开类定义，然后用`def`定义方法。如果要打开的对象也是类，那该用`instance_eval`还是`class_eval`呢？"
   ]
  },
  {
   "cell_type": "markdown",
   "metadata": {},
   "source": [
    "如果你只想修改`self`，那么`instance_eval`方法和`class_eval`方法都可以出色的完成任务。不过，你应该选择更能准确表达你意图的方法。如果你希望打开一个对象，但并不关心它是不是一个类，那么`instance_eval`就很很好。如果你想使用打开类技巧来修改类，那么`class_eval`方法显然是更好的选择。"
   ]
  },
  {
   "cell_type": "markdown",
   "metadata": {},
   "source": [
    "Ruby解释器假定所有的实例变量都属于当前对象`self`。在类定义时也如此。"
   ]
  },
  {
   "cell_type": "code",
   "execution_count": 11,
   "metadata": {},
   "outputs": [
    {
     "data": {
      "text/plain": [
       "1"
      ]
     },
     "execution_count": 11,
     "metadata": {},
     "output_type": "execute_result"
    }
   ],
   "source": [
    "class MyClass\n",
    "  @my_val = 1\n",
    "end"
   ]
  },
  {
   "cell_type": "code",
   "execution_count": 13,
   "metadata": {},
   "outputs": [
    {
     "data": {
      "text/plain": [
       ":read"
      ]
     },
     "execution_count": 13,
     "metadata": {},
     "output_type": "execute_result"
    }
   ],
   "source": [
    "class MyClass\n",
    "  @my_val = 1\n",
    "  def self.read; @my_var; end\n",
    "  def write; @my_var = 2; end\n",
    "  def read; @my_var; end\n",
    "end"
   ]
  },
  {
   "cell_type": "code",
   "execution_count": 16,
   "metadata": {},
   "outputs": [
    {
     "name": "stdout",
     "output_type": "stream",
     "text": [
      "nil\n",
      "2\n",
      "2\n",
      "nil\n"
     ]
    }
   ],
   "source": [
    "obj = MyClass.new\n",
    "p obj.read\n",
    "p obj.write\n",
    "p obj.read\n",
    "p MyClass.read"
   ]
  },
  {
   "cell_type": "markdown",
   "metadata": {},
   "source": [
    "上面的程序定义了两个实例变量，它们正好都叫`@my_var`，但是它们分属不同的作用域。要清楚怎么回事，需要牢记类也是对象。"
   ]
  },
  {
   "cell_type": "markdown",
   "metadata": {},
   "source": [
    "## 类变量"
   ]
  },
  {
   "cell_type": "code",
   "execution_count": 22,
   "metadata": {},
   "outputs": [
    {
     "data": {
      "text/plain": [
       "1"
      ]
     },
     "execution_count": 22,
     "metadata": {},
     "output_type": "execute_result"
    }
   ],
   "source": [
    "class C\n",
    "  @@v = 1\n",
    "end"
   ]
  },
  {
   "cell_type": "code",
   "execution_count": 23,
   "metadata": {},
   "outputs": [
    {
     "data": {
      "text/plain": [
       ":my_method"
      ]
     },
     "execution_count": 23,
     "metadata": {},
     "output_type": "execute_result"
    }
   ],
   "source": [
    "class D < C\n",
    "  def my_method; @@v; end\n",
    "end"
   ]
  },
  {
   "cell_type": "markdown",
   "metadata": {},
   "source": [
    "类变量和类实例变量不同，它们可以被子类或者类的实例所使用。"
   ]
  },
  {
   "cell_type": "code",
   "execution_count": 25,
   "metadata": {},
   "outputs": [
    {
     "data": {
      "text/plain": [
       "1"
      ]
     },
     "execution_count": 25,
     "metadata": {},
     "output_type": "execute_result"
    }
   ],
   "source": [
    "D.new.my_method"
   ]
  },
  {
   "cell_type": "markdown",
   "metadata": {},
   "source": [
    "不幸的是，类变量有一个不好的怪癖，下面是一个例子："
   ]
  },
  {
   "cell_type": "code",
   "execution_count": 27,
   "metadata": {},
   "outputs": [
    {
     "name": "stderr",
     "output_type": "stream",
     "text": [
      "(pry):90: warning: class variable access from toplevel\n",
      "(pry):96: warning: class variable access from toplevel\n"
     ]
    },
    {
     "data": {
      "text/plain": [
       "2"
      ]
     },
     "execution_count": 27,
     "metadata": {},
     "output_type": "execute_result"
    }
   ],
   "source": [
    "@@v = 1\n",
    "\n",
    "class MyClass\n",
    "  @@v = 2\n",
    "end\n",
    "\n",
    "@@v"
   ]
  },
  {
   "cell_type": "markdown",
   "metadata": {},
   "source": [
    "得到这样的结果是因为类变量并不真正属于类，它属于类体系结构。由于`@@v`定义于`main`的上下文，它属于`main`的类`Object`，所以也属于`Object`所有的后代。"
   ]
  },
  {
   "cell_type": "code",
   "execution_count": 29,
   "metadata": {},
   "outputs": [
    {
     "data": {
      "text/plain": [
       "#<Class:0x1b80640>"
      ]
     },
     "execution_count": 29,
     "metadata": {},
     "output_type": "execute_result"
    }
   ],
   "source": [
    "c = Class.new(Array) do\n",
    "  def my_method\n",
    "    'Hello!'\n",
    "  end\n",
    "end"
   ]
  },
  {
   "cell_type": "code",
   "execution_count": 32,
   "metadata": {},
   "outputs": [],
   "source": [
    "c.name"
   ]
  },
  {
   "cell_type": "code",
   "execution_count": 35,
   "metadata": {},
   "outputs": [
    {
     "name": "stderr",
     "output_type": "stream",
     "text": [
      "(pry):114: warning: already initialized constant MyClass\n",
      "(pry):112: warning: previous definition of MyClass was here\n"
     ]
    },
    {
     "data": {
      "text/plain": [
       "\"MyClass\""
      ]
     },
     "execution_count": 35,
     "metadata": {},
     "output_type": "execute_result"
    }
   ],
   "source": [
    "MyClass = c\n",
    "MyClass.name"
   ]
  },
  {
   "cell_type": "markdown",
   "metadata": {},
   "source": [
    "有趣的是，`Ruby`在这里耍了一个小把戏。当你把一个匿名类赋值给一个变量时，`Ruby`知道你是想给这个类命名，他会对这个类说，这是你的新名字"
   ]
  }
 ],
 "metadata": {
  "kernelspec": {
   "display_name": "Ruby 2.4.1",
   "language": "ruby",
   "name": "ruby"
  },
  "language_info": {
   "file_extension": ".rb",
   "mimetype": "application/x-ruby",
   "name": "ruby",
   "version": "2.4.1"
  }
 },
 "nbformat": 4,
 "nbformat_minor": 2
}
