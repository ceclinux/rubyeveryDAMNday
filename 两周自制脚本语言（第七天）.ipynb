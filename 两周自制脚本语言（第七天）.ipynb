{
 "cells": [
  {
   "cell_type": "markdown",
   "metadata": {},
   "source": [
    "在手机环境时，必须考虑两个重要概念，即作用域(scope)与生命周期(extent)。变量的作用域是指该变量在程序中玉箫访问的范围。例如，Java语言中放的参数只能在方法内部引用。也就是说，一个方法的参数的作用域限定于该方法的内部。而变量的生存周期则是该变量存在的时间期限。例如，Java语言某个方法的参数`p`的生存周期就是该方法的执行期。"
   ]
  },
  {
   "cell_type": "markdown",
   "metadata": {},
   "source": [
    "换言之，参数`p`在方法执行古城中将始终有效。例如该方法中途调用了其他方法，就会离开原方法的作用域新调用的方法无法原来方法的的参数`p`。不过，虽然参数`p`此时无法引用，他仍会继续存在，保存当前值。当程序返回原来的方法后又回到了参数`p`的作用域，将能够再次引用参数`p`。引用参数`p`得到的自然是原来的值。方法结束后，参数`p`的生存周期也将一同结束，参数`p`不再有效，环境中保存的的相应名值也不复存在。实际上，环境也美誉哦必要继续保持该名值对。之后如果程序再次调用该方法，参数也将与新的值（实参）关联。"
   ]
  },
  {
   "cell_type": "markdown",
   "metadata": {},
   "source": [
    "# 自由变量和约束变量"
   ]
  },
  {
   "cell_type": "markdown",
   "metadata": {},
   "source": [
    "```\n",
    "def counter(c){\n",
    "  fun () {c = c + 1}\n",
    "}\n",
    "```"
   ]
  },
  {
   "cell_type": "markdown",
   "metadata": {},
   "source": [
    "```\n",
    "c1 = counter(0)\n",
    "c2 = counter(0)\n",
    "c1()\n",
    "c1()\n",
    "c2()\n",
    "```"
   ]
  },
  {
   "cell_type": "markdown",
   "metadata": {
    "collapsed": true
   },
   "source": [
    "函数中的变量，如果既不是函数的参数，也不是一个局部变量，我们通常把它称为自由变量（free variabe）。反之，参数与局部变量被称为约束变量，上例中，闭包中出现的`c`是一个自由变量。"
   ]
  },
  {
   "cell_type": "markdown",
   "metadata": {
    "collapsed": true
   },
   "source": [
    "自由变量的初始值从函数（或闭包）之外获得。因此如果函数转移至其他环境中执行，自由变量的值也将相应改变。而闭包将根据函数定义时的环境设定自由变量的初始值，并在之后一月书变量的方法处理自由变量。由于它消除了自由变量，使函数闭合，故而得名闭包。"
   ]
  },
  {
   "cell_type": "markdown",
   "metadata": {},
   "source": [
    "如果程序设计语言不支持赋值，以上就是闭包的完整说明。对于stone语言这类支持复制的语言，我们必须考虑将自由变量`c`赋以新值的情况。"
   ]
  },
  {
   "cell_type": "markdown",
   "metadata": {},
   "source": [
    "目前存在多种处理方式，Stone语言将采用被应用于Scheme等一些语言的最为常见的的一种方式。在定义闭包时，如果自由变量引用的是全局变量，则应将其定义为全局变量的引用。解释器在执行闭包时，将引用这些全局变量。如果需要进行赋值操作，解释器将把值赋给相应的全局变量。"
   ]
  },
  {
   "cell_type": "markdown",
   "metadata": {},
   "source": [
    "如果自由变量引用的是全局变量，则应将其定义为局部变量的引用。然而，局部变量的生存周期仅为函数的执行期间，但闭包却可以在函数调用结束后继续存在。以`counter`函数为例，参数`c`的生存周期在函数调用结束后终止，但它返回的闭包显然将在之后才被执行。"
   ]
  },
  {
   "cell_type": "markdown",
   "metadata": {},
   "source": [
    "为了避免这个问题，闭包中引用的变量的生存周期将延长至闭包被（垃圾回收机制）清除位置。从实例的角度看，旱藕该变量的环境（Environment对象）将随闭包一同存在。"
   ]
  },
  {
   "cell_type": "markdown",
   "metadata": {},
   "source": [
    "通过以上说明，就不难理解为什么最后三行会依次返回1、2、1了。赋值给变量`c1`的闭包将始终个保持对参数`c`的引用，执行时`c`的值会不断增加。"
   ]
  },
  {
   "cell_type": "code",
   "execution_count": null,
   "metadata": {
    "collapsed": true
   },
   "outputs": [],
   "source": []
  }
 ],
 "metadata": {
  "kernelspec": {
   "display_name": "Ruby 2.4.1",
   "language": "ruby",
   "name": "ruby"
  },
  "language_info": {
   "file_extension": ".rb",
   "mimetype": "application/x-ruby",
   "name": "ruby",
   "version": "2.4.1"
  }
 },
 "nbformat": 4,
 "nbformat_minor": 2
}
