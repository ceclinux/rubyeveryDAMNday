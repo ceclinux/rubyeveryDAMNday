{
 "cells": [
  {
   "cell_type": "markdown",
   "metadata": {},
   "source": [
    "在手机环境时，必须考虑两个重要概念，即作用域(scope)与生命周期(extent)。变量的作用域是指该变量在程序中玉箫访问的范围。例如，Java语言中放的参数只能在方法内部引用。也就是说，一个方法的参数的作用域限定于该方法的内部。而变量的生存周期则是该变量存在的时间期限。例如，Java语言某个方法的参数`p`的生存周期就是该方法的执行期。"
   ]
  },
  {
   "cell_type": "markdown",
   "metadata": {},
   "source": [
    "换言之，参数`p`在方法执行古城中将始终有效。例如该方法中途调用了其他方法，就会离开原方法的作用域新调用的方法无法原来方法的的参数`p`。不过，虽然参数`p`此时无法引用，他仍会继续存在，保存当前值。当程序返回原来的方法后又回到了参数`p`的作用域，将能够再次引用参数`p`。引用参数`p`得到的自然是原来的值。方法结束后，参数`p`的生存周期也将一同结束，参数`p`不再有效，环境中保存的的相应名值也不复存在。实际上，环境也美誉哦必要继续保持该名值对。之后如果程序再次调用该方法，参数也将与新的值（实参）关联。"
   ]
  },
  {
   "cell_type": "code",
   "execution_count": null,
   "metadata": {
    "collapsed": true
   },
   "outputs": [],
   "source": []
  }
 ],
 "metadata": {
  "kernelspec": {
   "display_name": "Ruby 2.4.1",
   "language": "ruby",
   "name": "ruby"
  },
  "language_info": {
   "file_extension": ".rb",
   "mimetype": "application/x-ruby",
   "name": "ruby",
   "version": "2.4.1"
  }
 },
 "nbformat": 4,
 "nbformat_minor": 2
}
