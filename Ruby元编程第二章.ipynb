{
 "cells": [
  {
   "cell_type": "markdown",
   "metadata": {},
   "source": [
    "列出Array类中所有以`re`开头的方法："
   ]
  },
  {
   "cell_type": "code",
   "execution_count": 1,
   "metadata": {},
   "outputs": [
    {
     "data": {
      "text/plain": [
       "[:reject!, :repeated_permutation, :repeated_combination, :reject, :reverse_each, :replace, :reverse, :reverse!, :reduce, :remove_instance_variable, :respond_to?]"
      ]
     },
     "execution_count": 1,
     "metadata": {},
     "output_type": "execute_result"
    }
   ],
   "source": [
    "[].methods.grep /^re/"
   ]
  },
  {
   "cell_type": "markdown",
   "metadata": {},
   "source": [
    "猴子补丁可能会覆盖原来的方法"
   ]
  },
  {
   "cell_type": "markdown",
   "metadata": {},
   "source": [
    "# 对象中有什么"
   ]
  },
  {
   "cell_type": "code",
   "execution_count": 2,
   "metadata": {},
   "outputs": [
    {
     "data": {
      "text/plain": [
       ":my_method"
      ]
     },
     "execution_count": 2,
     "metadata": {},
     "output_type": "execute_result"
    }
   ],
   "source": [
    "class MyClass\n",
    "  def my_method\n",
    "    @v = 1\n",
    "  end\n",
    "end"
   ]
  },
  {
   "cell_type": "code",
   "execution_count": 3,
   "metadata": {},
   "outputs": [
    {
     "name": "stdout",
     "output_type": "stream",
     "text": [
      "\"here\"\n",
      "[]\n",
      "1\n"
     ]
    },
    {
     "data": {
      "text/plain": [
       "1"
      ]
     },
     "execution_count": 3,
     "metadata": {},
     "output_type": "execute_result"
    }
   ],
   "source": [
    "obj = MyClass.new\n",
    "p \"here\"\n",
    "p obj.instance_variables\n",
    "p obj.my_method\n"
   ]
  },
  {
   "cell_type": "code",
   "execution_count": 4,
   "metadata": {},
   "outputs": [
    {
     "data": {
      "text/plain": [
       "[:@v]"
      ]
     },
     "execution_count": 4,
     "metadata": {},
     "output_type": "execute_result"
    }
   ],
   "source": [
    "obj.instance_variables"
   ]
  },
  {
   "cell_type": "markdown",
   "metadata": {},
   "source": [
    "与Java这类的的静态语言不同，Ruby中对象的类与它的实例变量没有关系，当给实例变量时，它们就突然出现了。因此，对于同一个类，你可以创建具有不同实例变量的对象。例如，**如果你没有调用过`obj.my_method`方法，`obj`对象就不会有任何实例变量**。"
   ]
  },
  {
   "cell_type": "code",
   "execution_count": 5,
   "metadata": {},
   "outputs": [
    {
     "name": "stdout",
     "output_type": "stream",
     "text": [
      "true\n"
     ]
    },
    {
     "data": {
      "text/plain": [
       "false"
      ]
     },
     "execution_count": 5,
     "metadata": {},
     "output_type": "execute_result"
    }
   ],
   "source": [
    "p String.instance_methods == \"abc\".methods\n",
    "String.methods == \"abc\".methods"
   ]
  },
  {
   "cell_type": "markdown",
   "metadata": {},
   "source": [
    "一个对象的实例变量存在于对象本身之中，而一个对象的方法村子啊与对象自身的类中。这就是同一个类的对象共享同样的方法，但不共享实例变量的原因。"
   ]
  },
  {
   "cell_type": "markdown",
   "metadata": {},
   "source": [
    "**类本身也是对象**"
   ]
  },
  {
   "cell_type": "markdown",
   "metadata": {},
   "source": [
    "既然类也是对象，那么使用于对象的规则也就适用于类。"
   ]
  },
  {
   "cell_type": "code",
   "execution_count": 6,
   "metadata": {},
   "outputs": [
    {
     "data": {
      "text/plain": [
       "Class"
      ]
     },
     "execution_count": 6,
     "metadata": {},
     "output_type": "execute_result"
    }
   ],
   "source": [
    "\"hello\".class\n",
    "String.class"
   ]
  },
  {
   "cell_type": "code",
   "execution_count": 7,
   "metadata": {},
   "outputs": [
    {
     "data": {
      "text/plain": [
       "[:new, :allocate, :superclass, :json_creatable?]"
      ]
     },
     "execution_count": 7,
     "metadata": {},
     "output_type": "execute_result"
    }
   ],
   "source": [
    "# 参数\"false\"表示在这忽略继承的方法\n",
    "Class.instance_methods(false)"
   ]
  },
  {
   "cell_type": "markdown",
   "metadata": {},
   "source": [
    "Array类继继承自Object类，换句话说，“数组是对象”。而Object本身又继承自BasicObject。**BasicObject是Ruby对象体系中的根节点，它只有少数几个方法**"
   ]
  },
  {
   "cell_type": "code",
   "execution_count": 8,
   "metadata": {},
   "outputs": [
    {
     "data": {
      "text/plain": [
       "Module"
      ]
     },
     "execution_count": 8,
     "metadata": {},
     "output_type": "execute_result"
    }
   ],
   "source": [
    "Class.superclass"
   ]
  },
  {
   "cell_type": "markdown",
   "metadata": {},
   "source": [
    "也就是说，每个类就是一个模块"
   ]
  },
  {
   "cell_type": "code",
   "execution_count": 9,
   "metadata": {},
   "outputs": [
    {
     "ename": "NameError",
     "evalue": "undefined local variable or method `想通过绝对路径来访问外层的常量，则可以使用一个双猫好开头来表示路径的根位置' for main:Object",
     "output_type": "error",
     "traceback": [
      "\u001b[31mNameError\u001b[0m: undefined local variable or method `想通过绝对路径来访问外层的常量，则可以使用一个双猫好开头来表示路径的根位置' for main:Object",
      "\u001b[37m<main>:in `<main>'\u001b[0m",
      "\u001b[37m/home/ceclinux/.rvm/rubies/ruby-2.4.1/lib/ruby/gems/2.4.0/gems/iruby-0.3/lib/iruby/backend.rb:44:in `eval'\u001b[0m",
      "\u001b[37m/home/ceclinux/.rvm/rubies/ruby-2.4.1/lib/ruby/gems/2.4.0/gems/iruby-0.3/lib/iruby/backend.rb:44:in `eval'\u001b[0m",
      "\u001b[37m/home/ceclinux/.rvm/rubies/ruby-2.4.1/lib/ruby/gems/2.4.0/gems/iruby-0.3/lib/iruby/backend.rb:12:in `eval'\u001b[0m",
      "\u001b[37m/home/ceclinux/.rvm/rubies/ruby-2.4.1/lib/ruby/gems/2.4.0/gems/iruby-0.3/lib/iruby/kernel.rb:87:in `execute_request'\u001b[0m",
      "\u001b[37m/home/ceclinux/.rvm/rubies/ruby-2.4.1/lib/ruby/gems/2.4.0/gems/iruby-0.3/lib/iruby/kernel.rb:47:in `dispatch'\u001b[0m",
      "\u001b[37m/home/ceclinux/.rvm/rubies/ruby-2.4.1/lib/ruby/gems/2.4.0/gems/iruby-0.3/lib/iruby/kernel.rb:37:in `run'\u001b[0m",
      "\u001b[37m/home/ceclinux/.rvm/rubies/ruby-2.4.1/lib/ruby/gems/2.4.0/gems/iruby-0.3/lib/iruby/command.rb:70:in `run_kernel'\u001b[0m",
      "\u001b[37m/home/ceclinux/.rvm/rubies/ruby-2.4.1/lib/ruby/gems/2.4.0/gems/iruby-0.3/lib/iruby/command.rb:34:in `run'\u001b[0m",
      "\u001b[37m/home/ceclinux/.rvm/rubies/ruby-2.4.1/lib/ruby/gems/2.4.0/gems/iruby-0.3/bin/iruby:5:in `<top (required)>'\u001b[0m",
      "\u001b[37m/home/ceclinux/.rvm/gems/ruby-2.4.1/bin/iruby:23:in `load'\u001b[0m",
      "\u001b[37m/home/ceclinux/.rvm/gems/ruby-2.4.1/bin/iruby:23:in `<main>'\u001b[0m",
      "\u001b[37m/home/ceclinux/.rvm/gems/ruby-2.4.1/bin/ruby_executable_hooks:15:in `eval'\u001b[0m",
      "\u001b[37m/home/ceclinux/.rvm/gems/ruby-2.4.1/bin/ruby_executable_hooks:15:in `<main>'\u001b[0m"
     ]
    }
   ],
   "source": [
    "想通过绝对路径来访问外层的常量，则可以使用一个双猫好开头来表示路径的根位置"
   ]
  },
  {
   "cell_type": "code",
   "execution_count": 10,
   "metadata": {},
   "outputs": [
    {
     "name": "stdout",
     "output_type": "stream",
     "text": [
      "\"a constant in M\"\n"
     ]
    },
    {
     "data": {
      "text/plain": [
       "\"a root-level constant\""
      ]
     },
     "execution_count": 10,
     "metadata": {},
     "output_type": "execute_result"
    }
   ],
   "source": [
    "class Wa\n",
    "  S = 1\n",
    "end\n",
    "T = 'lol'\n",
    "Y = 'a root-level constant'\n",
    "\n",
    "module M\n",
    "    Y = 'a constant in M'\n",
    "    p Y\n",
    "    ::Y\n",
    "end"
   ]
  },
  {
   "cell_type": "markdown",
   "metadata": {},
   "source": [
    "Module类还有一个实例方法和一个类方法，它们的方法名都叫`constants`。`Module#constants`方法返回当前范围内的所有常量。`Module.constants`方法返回当前程序中所有顶层的常量，其中也包括类名"
   ]
  },
  {
   "cell_type": "code",
   "execution_count": 11,
   "metadata": {},
   "outputs": [
    {
     "data": {
      "text/plain": [
       "[:Y]"
      ]
     },
     "execution_count": 11,
     "metadata": {},
     "output_type": "execute_result"
    }
   ],
   "source": [
    "M.constants\n"
   ]
  },
  {
   "cell_type": "code",
   "execution_count": 12,
   "metadata": {},
   "outputs": [
    {
     "data": {
      "text/plain": [
       "true"
      ]
     },
     "execution_count": 12,
     "metadata": {},
     "output_type": "execute_result"
    }
   ],
   "source": [
    "Module.constants.include? :Object"
   ]
  },
  {
   "cell_type": "code",
   "execution_count": 13,
   "metadata": {},
   "outputs": [
    {
     "data": {
      "text/plain": [
       "true"
      ]
     },
     "execution_count": 13,
     "metadata": {},
     "output_type": "execute_result"
    }
   ],
   "source": [
    "Module.constants.include? :Module"
   ]
  },
  {
   "cell_type": "code",
   "execution_count": 14,
   "metadata": {},
   "outputs": [
    {
     "data": {
      "text/plain": [
       "[:SingleForwardable, :OpenStruct, :Logger, :Math, :OpenSSL, :SystemStackError, :Integer, :Float, :String, :Array, :Hash, :NilClass, :STDOUT, :STDIN, :NIL, :STDERR, :SecureRandom, :MultiJson, :SimpleDelegator, :BasicSocket, :ARGF, :Delegator, :UncaughtThrowError, :FileTest, :File, :T, :MyClass, :Y, :Addrinfo, :GC, :Socket, :JSON, :Digest, :Wa, :Fiber, :FiberError, :Data, :TrueClass, :TRUE, :FalseClass, :FALSE, :Encoding, :ZeroDivisionError, :FloatDomainError, :Numeric, :Rational, :MimeMagic, :ObjectSpace, :Gem, :DidYouMean, :ENV, :Complex, :Struct, :Tempfile, :RegexpError, :Noexec, :Comparable, :Enumerator, :Enumerable, :StringIO, :Regexp, :RUBY_VERSION, :RUBY_RELEASE_DATE, :StopIteration, :RUBY_PLATFORM, :Fixnum, :RubyVM, :Thread, :RUBY_REVISION, :RUBY_DESCRIPTION, :RUBY_PATCHLEVEL, :RUBY_ENGINE, :RUBY_ENGINE_VERSION, :RUBY_COPYRIGHT, :TCPSocket, :TracePoint, :MatchData, :TOPLEVEL_BINDING, :FFI, :CZMQ, :Singleton, :UDPSocket, :CROSS_COMPILING, :Bundler, :Readline, :Bignum, :UNIXSocket, :TCPServer, :CZTop, :UNIXServer, :ARGV, :SortedSet, :M, :ThreadGroup, :Dir, :Pathname, :ThreadError, :Mutex, :Queue, :ClosedQueueError, :SizedQueue, :ConditionVariable, :Marshal, :Time, :Etc, :Set, :Range, :In, :IOError, :EOFError, :Monitor, :Out, :Bond, :Process, :MonitorMixin, :IO, :FileUtils, :RbConfig, :Random, :Symbol, :Forwardable, :Exception, :IPSocket, :Signal, :SocketError, :SystemExit, :BasicObject, :Object, :Module, :Class, :SignalException, :Kernel, :TypeError, :Proc, :StandardError, :KeyError, :ArgumentError, :Interrupt, :SyntaxError, :RangeError, :ScriptError, :IndexError, :NotImplementedError, :NameError, :NoMethodError, :Method, :RuntimeError, :SecurityError, :NoMemoryError, :EncodingError, :LocalJumpError, :LoadError, :SystemCallError, :Errno, :Warning, :UnboundMethod, :URI, :IRuby, :Binding, :RUBYGEMS_ACTIVATION_MONITOR]"
      ]
     },
     "execution_count": 14,
     "metadata": {},
     "output_type": "execute_result"
    }
   ],
   "source": [
    "Module.constants"
   ]
  },
  {
   "cell_type": "markdown",
   "metadata": {
    "collapsed": true
   },
   "source": [
    "如果想知道当前代码所在的路径，则可以使用`Module.nesting`方法"
   ]
  },
  {
   "cell_type": "code",
   "execution_count": 15,
   "metadata": {},
   "outputs": [
    {
     "data": {
      "text/plain": [
       "[M::C::M2, M::C, M]"
      ]
     },
     "execution_count": 15,
     "metadata": {},
     "output_type": "execute_result"
    }
   ],
   "source": [
    "module M\n",
    "  class C\n",
    "    module M2\n",
    "      Module.nesting\n",
    "    end\n",
    "  end\n",
    "end"
   ]
  },
  {
   "cell_type": "code",
   "execution_count": 16,
   "metadata": {
    "collapsed": true
   },
   "outputs": [],
   "source": [
    "module Rake\n",
    "  class Task\n",
    "  end\n",
    "end"
   ]
  },
  {
   "cell_type": "markdown",
   "metadata": {},
   "source": [
    "像`Rake`这样只是用来充当常量容器的模块，被称为**命名空间(Namespace)**。"
   ]
  },
  {
   "cell_type": "markdown",
   "metadata": {},
   "source": [
    "什么是对象？对象就是一组实例变量外加一个指向其类的引用。对象的方法并不存在于对象本身，而是存在于对象的类中。在类中，这些方法被称为类的实例方法。 "
   ]
  },
  {
   "cell_type": "markdown",
   "metadata": {},
   "source": [
    "什么是类？类就是i一个对象（Class类的一个实例）外加一组实例方法和一个对其超类的引用。`Class`类是`Module`类的子类，因此一个类也是一个模块。"
   ]
  },
  {
   "cell_type": "code",
   "execution_count": 17,
   "metadata": {},
   "outputs": [
    {
     "data": {
      "text/plain": [
       "\"my_method()\""
      ]
     },
     "execution_count": 17,
     "metadata": {},
     "output_type": "execute_result"
    }
   ],
   "source": [
    "class MyClass\n",
    "  def my_method; 'my_method()'; end\n",
    "end\n",
    "\n",
    "class MySubClass < MyClass\n",
    "end\n",
    "\n",
    "obj = MySubClass.new\n",
    "obj.my_method()\n",
    "\n"
   ]
  },
  {
   "cell_type": "code",
   "execution_count": 18,
   "metadata": {},
   "outputs": [
    {
     "data": {
      "text/plain": [
       "[MySubClass, MyClass, Object, JSON::Ext::Generator::GeneratorMethods::Object, Kernel, BasicObject]"
      ]
     },
     "execution_count": 18,
     "metadata": {},
     "output_type": "execute_result"
    }
   ],
   "source": [
    "MySubClass.ancestors"
   ]
  },
  {
   "cell_type": "code",
   "execution_count": 19,
   "metadata": {},
   "outputs": [
    {
     "data": {
      "text/plain": [
       "[D, C, M1, Object, JSON::Ext::Generator::GeneratorMethods::Object, Kernel, BasicObject]"
      ]
     },
     "execution_count": 19,
     "metadata": {},
     "output_type": "execute_result"
    }
   ],
   "source": [
    "module M1\n",
    "  def my_method\n",
    "    'M1#my_method()'\n",
    "  end\n",
    "end\n",
    "\n",
    "class C\n",
    "  include M1\n",
    "end\n",
    "\n",
    "class D < C; end\n",
    "\n",
    "D.ancestors"
   ]
  },
  {
   "cell_type": "markdown",
   "metadata": {},
   "source": [
    "`prepend`与`include`相似，不过这个方法会把模块插入祖先联众包含它的下方，而不是像`include`方法一样插入上方"
   ]
  },
  {
   "cell_type": "code",
   "execution_count": 20,
   "metadata": {},
   "outputs": [
    {
     "data": {
      "text/plain": [
       "[D2, M1, C2, Object, JSON::Ext::Generator::GeneratorMethods::Object, Kernel, BasicObject]"
      ]
     },
     "execution_count": 20,
     "metadata": {},
     "output_type": "execute_result"
    }
   ],
   "source": [
    "# module M2\n",
    "# end\n",
    "\n",
    "class C2\n",
    "  prepend M1\n",
    "end\n",
    "\n",
    "class D2 < C2; end\n",
    "D2.ancestors"
   ]
  },
  {
   "cell_type": "markdown",
   "metadata": {},
   "source": [
    "如果该模块已经存在于祖先链中，那么Ruby会悄悄的忽略这个包含（`include`或`prepend`）命令。因此，一个模块只会在一条祖先链中出现一次。"
   ]
  },
  {
   "cell_type": "code",
   "execution_count": 21,
   "metadata": {},
   "outputs": [
    {
     "data": {
      "text/plain": [
       "[M1, M3, M4]"
      ]
     },
     "execution_count": 21,
     "metadata": {},
     "output_type": "execute_result"
    }
   ],
   "source": [
    "module M1\n",
    "end\n",
    "\n",
    "module M4\n",
    "  include M1\n",
    "end\n",
    "\n",
    "module M3\n",
    "  prepend M1\n",
    "  include M4\n",
    "end\n",
    "\n",
    "M3.ancestors"
   ]
  },
  {
   "cell_type": "code",
   "execution_count": 22,
   "metadata": {},
   "outputs": [
    {
     "data": {
      "text/plain": [
       "[:printf, :print, :proc]"
      ]
     },
     "execution_count": 22,
     "metadata": {},
     "output_type": "execute_result"
    }
   ],
   "source": [
    "Kernel.private_instance_methods.grep(/^pr/)"
   ]
  },
  {
   "cell_type": "code",
   "execution_count": 24,
   "metadata": {},
   "outputs": [
    {
     "name": "stdout",
     "output_type": "stream",
     "text": [
      "{\n",
      "    :city => \"Rome\",\n",
      "     :now => 2017-09-27 09:03:58 -0700\n",
      "}\n"
     ]
    },
    {
     "data": {
      "text/plain": [
       "{:city=>\"Rome\", :now=>2017-09-27 09:03:58 -0700}"
      ]
     },
     "execution_count": 24,
     "metadata": {},
     "output_type": "execute_result"
    }
   ],
   "source": [
    "require 'awesome_print'\n",
    "\n",
    "local_time = {city: \"Rome\", now: Time.now}\n",
    "ap local_time, :index => 2"
   ]
  },
  {
   "cell_type": "markdown",
   "metadata": {},
   "source": [
    "Ruby的每一行代码都会在一个对象中被执行----这个对象就是所谓的当前对象。当前对象也可以用`self`表示，因为可以用`self`关键字来对它进行访问。"
   ]
  },
  {
   "cell_type": "markdown",
   "metadata": {},
   "source": [
    "任何时候，只有一个对象能充当当前对象，而且没有哪个对象能长期充当这一角色。调用一个方法时，接收者就成为`self`。在这一刻起，**所有的实例变量都是`self`的实例变量**。所有没有明确指明接收者的方法都在`self`上调用。一旦你的代码转而调用其他对象的方法，这个对象就成为了`self`。"
   ]
  },
  {
   "cell_type": "code",
   "execution_count": 26,
   "metadata": {},
   "outputs": [
    {
     "data": {
      "text/plain": [
       "#<MyClass:0x12f2850 @var=11>"
      ]
     },
     "execution_count": 26,
     "metadata": {},
     "output_type": "execute_result"
    }
   ],
   "source": [
    "class MyClass\n",
    "  def testing_self\n",
    "    @var = 10\n",
    "    my_method()\n",
    "    self\n",
    "  end\n",
    "  \n",
    "  def my_method\n",
    "    @var = @var + 1\n",
    "  end\n",
    "end\n",
    "\n",
    "obj = MyClass.new\n",
    "obj.testing_self"
   ]
  },
  {
   "cell_type": "markdown",
   "metadata": {},
   "source": [
    "调用`testing_self`方法时，接收者`obj`就称为`self`。因此，实例变量`@var`就是`obj`对象的实例变量，而`my_method`方法也在`obj`上被调用。在`my_method`方法执行期间，`self`还是`obj`，因此`@var`还是`obj`对象的实例变量。最后，`testing_self`方法返回`self`的应用，此时`@var`是11"
   ]
  },
  {
   "cell_type": "markdown",
   "metadata": {},
   "source": [
    "**私有方法服从一条简单的规则：不能明确指定接受者来调用私有方法**。换言之，私有方法智能通过隐性的的接受者`self`调用。下面看一个极端例子：\n"
   ]
  },
  {
   "cell_type": "code",
   "execution_count": 31,
   "metadata": {},
   "outputs": [
    {
     "ename": "NoMethodError",
     "evalue": "private method `private_method' called for #<C:0x1887d80>\nDid you mean?  private_methods",
     "output_type": "error",
     "traceback": [
      "\u001b[31mNoMethodError\u001b[0m: private method `private_method' called for #<C:0x1887d80>\nDid you mean?  private_methods",
      "\u001b[37m<main>:2:in `public_method'\u001b[0m",
      "\u001b[37m<main>:9:in `<main>'\u001b[0m",
      "\u001b[37m/home/ceclinux/.rvm/rubies/ruby-2.4.1/lib/ruby/gems/2.4.0/gems/iruby-0.3/lib/iruby/backend.rb:44:in `eval'\u001b[0m",
      "\u001b[37m/home/ceclinux/.rvm/rubies/ruby-2.4.1/lib/ruby/gems/2.4.0/gems/iruby-0.3/lib/iruby/backend.rb:44:in `eval'\u001b[0m",
      "\u001b[37m/home/ceclinux/.rvm/rubies/ruby-2.4.1/lib/ruby/gems/2.4.0/gems/iruby-0.3/lib/iruby/backend.rb:12:in `eval'\u001b[0m",
      "\u001b[37m/home/ceclinux/.rvm/rubies/ruby-2.4.1/lib/ruby/gems/2.4.0/gems/iruby-0.3/lib/iruby/kernel.rb:87:in `execute_request'\u001b[0m",
      "\u001b[37m/home/ceclinux/.rvm/rubies/ruby-2.4.1/lib/ruby/gems/2.4.0/gems/iruby-0.3/lib/iruby/kernel.rb:47:in `dispatch'\u001b[0m",
      "\u001b[37m/home/ceclinux/.rvm/rubies/ruby-2.4.1/lib/ruby/gems/2.4.0/gems/iruby-0.3/lib/iruby/kernel.rb:37:in `run'\u001b[0m",
      "\u001b[37m/home/ceclinux/.rvm/rubies/ruby-2.4.1/lib/ruby/gems/2.4.0/gems/iruby-0.3/lib/iruby/command.rb:70:in `run_kernel'\u001b[0m",
      "\u001b[37m/home/ceclinux/.rvm/rubies/ruby-2.4.1/lib/ruby/gems/2.4.0/gems/iruby-0.3/lib/iruby/command.rb:34:in `run'\u001b[0m",
      "\u001b[37m/home/ceclinux/.rvm/rubies/ruby-2.4.1/lib/ruby/gems/2.4.0/gems/iruby-0.3/bin/iruby:5:in `<top (required)>'\u001b[0m",
      "\u001b[37m/home/ceclinux/.rvm/gems/ruby-2.4.1/bin/iruby:23:in `load'\u001b[0m",
      "\u001b[37m/home/ceclinux/.rvm/gems/ruby-2.4.1/bin/iruby:23:in `<main>'\u001b[0m",
      "\u001b[37m/home/ceclinux/.rvm/gems/ruby-2.4.1/bin/ruby_executable_hooks:15:in `eval'\u001b[0m",
      "\u001b[37m/home/ceclinux/.rvm/gems/ruby-2.4.1/bin/ruby_executable_hooks:15:in `<main>'\u001b[0m"
     ]
    }
   ],
   "source": [
    "class C\n",
    "  def public_method\n",
    "    self.private_method\n",
    "  end\n",
    "  private\n",
    "  \n",
    "  def private_method;end\n",
    "end\n",
    "\n",
    "C.new.public_method"
   ]
  },
  {
   "cell_type": "markdown",
   "metadata": {},
   "source": [
    "如果去掉`self`关键字，这段代码就可以正常运行了，这个自理说明私有方法同时遵守两条规则：首先，如果调用方法的接受者不是自己，就必须明确指明接收者；其次，私有方法只能通过接收者调用。根据这两条规则，你只能在自身中调用私有方法。"
   ]
  },
  {
   "cell_type": "markdown",
   "metadata": {},
   "source": [
    "如果对象`x`和对象`y`都是同一个类的对象，那么`x`能够调用`y`的私有方法么？答案是不能，因为不管属于哪个类，你始终需要明确指明接受者来调用另一个对象的方法。那么，可以调用从超类中继承来的私有方法么？可以，因为调用集成来的方法不用明确指明调用者。"
   ]
  },
  {
   "cell_type": "code",
   "execution_count": 37,
   "metadata": {},
   "outputs": [
    {
     "ename": "NoMethodError",
     "evalue": "private method `hehe' called for #<A:0x169dfd0>",
     "output_type": "error",
     "traceback": [
      "\u001b[31mNoMethodError\u001b[0m: private method `hehe' called for #<A:0x169dfd0>",
      "\u001b[37m<main>:9:in `<main>'\u001b[0m",
      "\u001b[37m/home/ceclinux/.rvm/rubies/ruby-2.4.1/lib/ruby/gems/2.4.0/gems/iruby-0.3/lib/iruby/backend.rb:44:in `eval'\u001b[0m",
      "\u001b[37m/home/ceclinux/.rvm/rubies/ruby-2.4.1/lib/ruby/gems/2.4.0/gems/iruby-0.3/lib/iruby/backend.rb:44:in `eval'\u001b[0m",
      "\u001b[37m/home/ceclinux/.rvm/rubies/ruby-2.4.1/lib/ruby/gems/2.4.0/gems/iruby-0.3/lib/iruby/backend.rb:12:in `eval'\u001b[0m",
      "\u001b[37m/home/ceclinux/.rvm/rubies/ruby-2.4.1/lib/ruby/gems/2.4.0/gems/iruby-0.3/lib/iruby/kernel.rb:87:in `execute_request'\u001b[0m",
      "\u001b[37m/home/ceclinux/.rvm/rubies/ruby-2.4.1/lib/ruby/gems/2.4.0/gems/iruby-0.3/lib/iruby/kernel.rb:47:in `dispatch'\u001b[0m",
      "\u001b[37m/home/ceclinux/.rvm/rubies/ruby-2.4.1/lib/ruby/gems/2.4.0/gems/iruby-0.3/lib/iruby/kernel.rb:37:in `run'\u001b[0m",
      "\u001b[37m/home/ceclinux/.rvm/rubies/ruby-2.4.1/lib/ruby/gems/2.4.0/gems/iruby-0.3/lib/iruby/command.rb:70:in `run_kernel'\u001b[0m",
      "\u001b[37m/home/ceclinux/.rvm/rubies/ruby-2.4.1/lib/ruby/gems/2.4.0/gems/iruby-0.3/lib/iruby/command.rb:34:in `run'\u001b[0m",
      "\u001b[37m/home/ceclinux/.rvm/rubies/ruby-2.4.1/lib/ruby/gems/2.4.0/gems/iruby-0.3/bin/iruby:5:in `<top (required)>'\u001b[0m",
      "\u001b[37m/home/ceclinux/.rvm/gems/ruby-2.4.1/bin/iruby:23:in `load'\u001b[0m",
      "\u001b[37m/home/ceclinux/.rvm/gems/ruby-2.4.1/bin/iruby:23:in `<main>'\u001b[0m",
      "\u001b[37m/home/ceclinux/.rvm/gems/ruby-2.4.1/bin/ruby_executable_hooks:15:in `eval'\u001b[0m",
      "\u001b[37m/home/ceclinux/.rvm/gems/ruby-2.4.1/bin/ruby_executable_hooks:15:in `<main>'\u001b[0m"
     ]
    }
   ],
   "source": [
    "class A\n",
    "  private \n",
    "  def hehe\n",
    "    p 'hehe'\n",
    "  end\n",
    "  a = A.new\n",
    "end\n",
    "\n",
    "a = A.new\n",
    "a.hehe\n"
   ]
  },
  {
   "cell_type": "code",
   "execution_count": 38,
   "metadata": {},
   "outputs": [
    {
     "name": "stdout",
     "output_type": "stream",
     "text": [
      "\"lala\"\n"
     ]
    },
    {
     "data": {
      "text/plain": [
       "\"lala\""
      ]
     },
     "execution_count": 38,
     "metadata": {},
     "output_type": "execute_result"
    }
   ],
   "source": [
    "\n",
    "class B < A\n",
    "  def hehe\n",
    "    p 'lala'\n",
    "  end\n",
    "end\n",
    "\n",
    "b = B.new\n",
    "b.hehe"
   ]
  },
  {
   "cell_type": "markdown",
   "metadata": {},
   "source": [
    "如果没有调用任何方法，这时谁是`self`呢？你可以运行`irb`来向`Ruby`要答案"
   ]
  },
  {
   "cell_type": "code",
   "execution_count": 39,
   "metadata": {},
   "outputs": [
    {
     "data": {
      "text/plain": [
       "main"
      ]
     },
     "execution_count": 39,
     "metadata": {},
     "output_type": "execute_result"
    }
   ],
   "source": [
    "self"
   ]
  },
  {
   "cell_type": "code",
   "execution_count": 41,
   "metadata": {},
   "outputs": [
    {
     "data": {
      "text/plain": [
       "Object"
      ]
     },
     "execution_count": 41,
     "metadata": {},
     "output_type": "execute_result"
    }
   ],
   "source": [
    "self.class"
   ]
  },
  {
   "cell_type": "markdown",
   "metadata": {},
   "source": [
    "Ruby程序开始运行是，Ruby解释器会创建一个名为`main`的对象作为当前对象。这个对象被称为顶层上下文(top level context),这个名字的由来是因为你处在调用堆栈的顶层：要么还没有调用任何方法，要么调用的所有方法都已经返回。"
   ]
  },
  {
   "cell_type": "markdown",
   "metadata": {},
   "source": [
    "在类和模块定义之中（且在任何方法定义之外），`self`的角色有这个类或模块本身担任："
   ]
  },
  {
   "cell_type": "code",
   "execution_count": 42,
   "metadata": {},
   "outputs": [
    {
     "data": {
      "text/plain": [
       "MyClass"
      ]
     },
     "execution_count": 42,
     "metadata": {},
     "output_type": "execute_result"
    }
   ],
   "source": [
    "class MyClass\n",
    "  self\n",
    "end"
   ]
  },
  {
   "cell_type": "markdown",
   "metadata": {},
   "source": [
    "# 细化"
   ]
  },
  {
   "cell_type": "code",
   "execution_count": 43,
   "metadata": {},
   "outputs": [
    {
     "data": {
      "text/plain": [
       "#<refinement:String@StringExtentsions>"
      ]
     },
     "execution_count": 43,
     "metadata": {},
     "output_type": "execute_result"
    }
   ],
   "source": [
    "module StringExtentsions\n",
    "  refine String do\n",
    "    def to_alphanumeric\n",
    "      gsub(/[^\\w\\s]/,'')\n",
    "    end\n",
    "  end\n",
    "end"
   ]
  },
  {
   "cell_type": "markdown",
   "metadata": {},
   "source": [
    "细化在默认情况下并不生效"
   ]
  },
  {
   "cell_type": "code",
   "execution_count": 45,
   "metadata": {},
   "outputs": [
    {
     "ename": "NoMethodError",
     "evalue": "undefined method `to_alphanumeric' for \"FWE\":String",
     "output_type": "error",
     "traceback": [
      "\u001b[31mNoMethodError\u001b[0m: undefined method `to_alphanumeric' for \"FWE\":String",
      "\u001b[37m<main>:in `<main>'\u001b[0m",
      "\u001b[37m/home/ceclinux/.rvm/rubies/ruby-2.4.1/lib/ruby/gems/2.4.0/gems/iruby-0.3/lib/iruby/backend.rb:44:in `eval'\u001b[0m",
      "\u001b[37m/home/ceclinux/.rvm/rubies/ruby-2.4.1/lib/ruby/gems/2.4.0/gems/iruby-0.3/lib/iruby/backend.rb:44:in `eval'\u001b[0m",
      "\u001b[37m/home/ceclinux/.rvm/rubies/ruby-2.4.1/lib/ruby/gems/2.4.0/gems/iruby-0.3/lib/iruby/backend.rb:12:in `eval'\u001b[0m",
      "\u001b[37m/home/ceclinux/.rvm/rubies/ruby-2.4.1/lib/ruby/gems/2.4.0/gems/iruby-0.3/lib/iruby/kernel.rb:87:in `execute_request'\u001b[0m",
      "\u001b[37m/home/ceclinux/.rvm/rubies/ruby-2.4.1/lib/ruby/gems/2.4.0/gems/iruby-0.3/lib/iruby/kernel.rb:47:in `dispatch'\u001b[0m",
      "\u001b[37m/home/ceclinux/.rvm/rubies/ruby-2.4.1/lib/ruby/gems/2.4.0/gems/iruby-0.3/lib/iruby/kernel.rb:37:in `run'\u001b[0m",
      "\u001b[37m/home/ceclinux/.rvm/rubies/ruby-2.4.1/lib/ruby/gems/2.4.0/gems/iruby-0.3/lib/iruby/command.rb:70:in `run_kernel'\u001b[0m",
      "\u001b[37m/home/ceclinux/.rvm/rubies/ruby-2.4.1/lib/ruby/gems/2.4.0/gems/iruby-0.3/lib/iruby/command.rb:34:in `run'\u001b[0m",
      "\u001b[37m/home/ceclinux/.rvm/rubies/ruby-2.4.1/lib/ruby/gems/2.4.0/gems/iruby-0.3/bin/iruby:5:in `<top (required)>'\u001b[0m",
      "\u001b[37m/home/ceclinux/.rvm/gems/ruby-2.4.1/bin/iruby:23:in `load'\u001b[0m",
      "\u001b[37m/home/ceclinux/.rvm/gems/ruby-2.4.1/bin/iruby:23:in `<main>'\u001b[0m",
      "\u001b[37m/home/ceclinux/.rvm/gems/ruby-2.4.1/bin/ruby_executable_hooks:15:in `eval'\u001b[0m",
      "\u001b[37m/home/ceclinux/.rvm/gems/ruby-2.4.1/bin/ruby_executable_hooks:15:in `<main>'\u001b[0m"
     ]
    }
   ],
   "source": [
    "\"FWE\".to_alphanumeric"
   ]
  },
  {
   "cell_type": "markdown",
   "metadata": {},
   "source": [
    "必须调用`using`方法"
   ]
  },
  {
   "cell_type": "code",
   "execution_count": 49,
   "metadata": {},
   "outputs": [
    {
     "data": {
      "text/plain": [
       "\"FWE\""
      ]
     },
     "execution_count": 49,
     "metadata": {},
     "output_type": "execute_result"
    }
   ],
   "source": [
    "using StringExtentsions\n",
    "\n",
    "\"FWE\".to_alphanumeric"
   ]
  },
  {
   "cell_type": "markdown",
   "metadata": {},
   "source": [
    "从调用`using`方法的这一刻起，所有的`ruby`源代码都知道了这个变化："
   ]
  },
  {
   "cell_type": "markdown",
   "metadata": {},
   "source": [
    "从Ruby 2.1开始，你甚至可以在一个模块内部调用`using`方法。这样，细化的作用范围只在该模块内部有效。下面的代码修改了`String#reverse`方法，但是这个修改只在`StringStuff`模块定义的范围内有效"
   ]
  },
  {
   "cell_type": "code",
   "execution_count": 55,
   "metadata": {},
   "outputs": [
    {
     "data": {
      "text/plain": [
       "#<refinement:String@StringExtensions>"
      ]
     },
     "execution_count": 55,
     "metadata": {},
     "output_type": "execute_result"
    }
   ],
   "source": [
    "module StringExtensions\n",
    "  refine String do\n",
    "    def reverse\n",
    "      \"esrever\"\n",
    "    end\n",
    "  end\n",
    "end"
   ]
  },
  {
   "cell_type": "code",
   "execution_count": 53,
   "metadata": {},
   "outputs": [
    {
     "data": {
      "text/plain": [
       "\"esrever\""
      ]
     },
     "execution_count": 53,
     "metadata": {},
     "output_type": "execute_result"
    }
   ],
   "source": [
    "module StringStuff\n",
    "  using StringExtensions\n",
    "  \"my_string\".reverse\n",
    "end"
   ]
  },
  {
   "cell_type": "code",
   "execution_count": 56,
   "metadata": {},
   "outputs": [
    {
     "data": {
      "text/plain": [
       "\"gnirts_ym\""
      ]
     },
     "execution_count": 56,
     "metadata": {},
     "output_type": "execute_result"
    }
   ],
   "source": [
    "\"my_string\".reverse"
   ]
  },
  {
   "cell_type": "markdown",
   "metadata": {},
   "source": [
    "细化和打开类的作用相似，区别在于细化不是全局性的。细化只在两种场合有效：1.`refind`代码块内部 2.从`using`语句的位置开始到模块结束(如果在模块内部调用`using`语句)，或者到文件结束（如果在顶层上下文调用`using`）"
   ]
  },
  {
   "cell_type": "markdown",
   "metadata": {},
   "source": [
    "**这里与书中不同，细化的坑已经没有了？**"
   ]
  },
  {
   "cell_type": "code",
   "execution_count": 59,
   "metadata": {},
   "outputs": [
    {
     "name": "stdout",
     "output_type": "stream",
     "text": [
      "\"refined my_method()\"\n",
      "\"refined my_method()\"\n"
     ]
    },
    {
     "data": {
      "text/plain": [
       "\"refined my_method()\""
      ]
     },
     "execution_count": 59,
     "metadata": {},
     "output_type": "execute_result"
    }
   ],
   "source": [
    "class MyClass\n",
    "  def my_method\n",
    "    \"original my_method()\"\n",
    "  end\n",
    "  def another_method\n",
    "    my_method\n",
    "  end\n",
    "end\n",
    "\n",
    "module MyClassRefinement\n",
    "  refine MyClass do\n",
    "    def my_method\n",
    "      \"refined my_method()\"\n",
    "    end\n",
    "  end\n",
    "end\n",
    "\n",
    "using MyClassRefinement\n",
    "p MyClass.new.my_method\n",
    "p MyClass.new.another_method"
   ]
  },
  {
   "cell_type": "code",
   "execution_count": 65,
   "metadata": {},
   "outputs": [
    {
     "name": "stdout",
     "output_type": "stream",
     "text": [
      "\"print cover\"\n",
      "\"format_for_screen\"\n",
      "\"print Printable\"\n"
     ]
    },
    {
     "data": {
      "text/plain": [
       "\"print Printable\""
      ]
     },
     "execution_count": 65,
     "metadata": {},
     "output_type": "execute_result"
    }
   ],
   "source": [
    "module Printable\n",
    "  def print\n",
    "    p \"print Printable\"\n",
    "  end\n",
    "  \n",
    "  def prepare_cover\n",
    "    p \"print cover\"\n",
    "  end\n",
    "end\n",
    "\n",
    "module Document\n",
    "  def print_to_screen\n",
    "    prepare_cover\n",
    "    format_for_screen\n",
    "    print\n",
    "  end\n",
    "  \n",
    "  def format_for_screen\n",
    "    p \"format_for_screen\"\n",
    "  end\n",
    "  \n",
    "  def print\n",
    "    p \"print document\"\n",
    "  end\n",
    "end\n",
    "\n",
    "class Book\n",
    "  include Document\n",
    "  include Printable\n",
    "end\n",
    "\n",
    "b = Book.new\n",
    "b.print_to_screen"
   ]
  },
  {
   "cell_type": "code",
   "execution_count": 67,
   "metadata": {},
   "outputs": [
    {
     "data": {
      "text/plain": [
       "[Book, Printable, Document, Object, JSON::Ext::Generator::GeneratorMethods::Object, Kernel, BasicObject]"
      ]
     },
     "execution_count": 67,
     "metadata": {},
     "output_type": "execute_result"
    }
   ],
   "source": [
    "Book.ancestors"
   ]
  },
  {
   "cell_type": "markdown",
   "metadata": {},
   "source": [
    "调用`b.print_to_screen`方法时，对象`b`称为`self`，并且开始进行方法查找。Ruby在`Document`模块中找到了`print_to_screen`方法，并且这个方法还调用了其他方法，其中就包括`print`方法。**所有没有明确制定接受者的调用多会作用于`self`**，因此又开从`Book`类(`self`所属于的类）开始进行方法查找，直到找到名为`print`的方法。在祖先链中最近一次定义`print`方法的是`Printable#print`，因此这个方法被调用了。"
   ]
  }
 ],
 "metadata": {
  "kernelspec": {
   "display_name": "Ruby 2.4.1",
   "language": "ruby",
   "name": "ruby"
  },
  "language_info": {
   "file_extension": ".rb",
   "mimetype": "application/x-ruby",
   "name": "ruby",
   "version": "2.4.1"
  }
 },
 "nbformat": 4,
 "nbformat_minor": 2
}
