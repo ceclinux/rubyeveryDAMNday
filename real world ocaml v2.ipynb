{
 "cells": [
  {
   "cell_type": "code",
   "execution_count": 13,
   "metadata": {},
   "outputs": [
    {
     "name": "stdout",
     "output_type": "stream",
     "text": [
      "- : unit = ()\n",
      "Findlib has been successfully loaded. Additional directives:\n",
      "  #require \"package\";;      to load a package\n",
      "  #list;;                   to list the available packages\n",
      "  #camlp4o;;                to load camlp4 (standard syntax)\n",
      "  #camlp4r;;                to load camlp4 (revised syntax)\n",
      "  #predicates \"p,q,...\";;   to set these predicates\n",
      "  Topfind.reset();;         to force that packages will be reloaded\n",
      "  #thread;;                 to enable threads\n",
      "\n",
      "- : unit = ()\n"
     ]
    },
    {
     "name": "stderr",
     "output_type": "stream",
     "text": [
      "/home/demouser/.opam/default/lib/base/caml: added to search path\n",
      "/home/demouser/.opam/default/lib/base/caml/caml.cma: loaded\n",
      "/home/demouser/.opam/default/lib/base/shadow_stdlib: added to search path\n",
      "/home/demouser/.opam/default/lib/base/shadow_stdlib/shadow_stdlib.cma: loaded\n",
      "/home/demouser/.opam/default/lib/sexplib0: added to search path\n",
      "/home/demouser/.opam/default/lib/sexplib0/sexplib0.cma: loaded\n",
      "/home/demouser/.opam/default/lib/base: added to search path\n",
      "/home/demouser/.opam/default/lib/base/base.cma: loaded\n"
     ]
    }
   ],
   "source": [
    "#use \"topfind\"\n",
    "#require \"base\";;\n",
    "open Base;;"
   ]
  },
  {
   "cell_type": "code",
   "execution_count": 14,
   "metadata": {},
   "outputs": [
    {
     "data": {
      "text/plain": [
       "val ratio : int -> int -> Base.Float.t = <fun>\n"
      ]
     },
     "execution_count": 14,
     "metadata": {},
     "output_type": "execute_result"
    }
   ],
   "source": [
    "let ratio x y = \n",
    "Float.of_int x /. Float.of_int y"
   ]
  },
  {
   "cell_type": "markdown",
   "metadata": {},
   "source": [
    "Modules can also be opened to make their contents available without explicitly qualifying by the module name. We did that once already, when we opened `Base` earlier. We can use that to make this code a littele easier to read, both avoiding the repetition of `Float` above, and avoiding use of the slightly awkaward `/.` operator. In the following example ,we open the `Float.O` module, which has a bunch of useful operators and functions that are designed to be used in this kind of context. Note that this causes the standard int-only arithmetic operators to be shadowed locally."
   ]
  },
  {
   "cell_type": "code",
   "execution_count": 16,
   "metadata": {},
   "outputs": [
    {
     "data": {
      "text/plain": [
       "val ratio : int -> int -> Base.Float.t = <fun>\n"
      ]
     },
     "execution_count": 16,
     "metadata": {},
     "output_type": "execute_result"
    }
   ],
   "source": [
    "let ratio x y = \n",
    "let open Float.O in\n",
    "of_int x / of_int y;;"
   ]
  },
  {
   "cell_type": "code",
   "execution_count": 19,
   "metadata": {},
   "outputs": [
    {
     "data": {
      "text/plain": [
       "- : Base.Float.t = 0.66666666666666663\n"
      ]
     },
     "execution_count": 19,
     "metadata": {},
     "output_type": "execute_result"
    }
   ],
   "source": [
    "ratio 4 6"
   ]
  },
  {
   "cell_type": "markdown",
   "metadata": {},
   "source": [
    "Note that we used a slightly different syntax for opening the module, since we only opening it in the local scope inside the difinition of `ratio`. There's also a more concise syntax for local opens"
   ]
  },
  {
   "cell_type": "code",
   "execution_count": 21,
   "metadata": {},
   "outputs": [
    {
     "data": {
      "text/plain": [
       "val ratio : int -> int -> Base.Float.t = <fun>\n"
      ]
     },
     "execution_count": 21,
     "metadata": {},
     "output_type": "execute_result"
    }
   ],
   "source": [
    "let ratio x y = \n",
    "  Float.O.(of_int x / of_int y);;\n"
   ]
  },
  {
   "cell_type": "markdown",
   "metadata": {},
   "source": [
    "Over time, you'll build a rought inition for how the Ocaml inference engine works, which makes it easier to reason through your programs. You can also make it easier to understand the types of a given expression by adding explicit type annotations. There annotations don't change the behavior of an Ocaml program, but they can serve as useful documentaiton, as well as catch unintended type changes."
   ]
  },
  {
   "cell_type": "code",
   "execution_count": 22,
   "metadata": {},
   "outputs": [
    {
     "data": {
      "text/plain": [
       "val first_if_true : ('a -> bool) -> 'a -> 'a -> 'a = <fun>\n"
      ]
     },
     "execution_count": 22,
     "metadata": {},
     "output_type": "execute_result"
    }
   ],
   "source": [
    "let first_if_true test x y = \n",
    "if test x then x else y"
   ]
  },
  {
   "cell_type": "markdown",
   "metadata": {},
   "source": [
    "Indeed, if we look at the type returned by the toplevel, we see that rather than choose a single concrete type, Ocaml has introduced a `type variable 'a` to express that the type is generic. In particular, the type of the `test` argument is `(a -> bool)`, which means that `test` is one-argument function whose return value is `bool` and whose argument could be any type `'a`. But, whatever type `'a` is, it has to be the same as the type of the other two arguments, `x` and `y`, and of the return value of `first_if_true`. This kind of genericity is called `parametic polymorphism` because it works by parameterizing the type in question with a type variale"
   ]
  },
  {
   "cell_type": "code",
   "execution_count": 24,
   "metadata": {},
   "outputs": [
    {
     "data": {
      "text/plain": [
       "val languages : string list = [\"French\"; \"Spanish\"; \"OCaml\"; \"Perl\"; \"C\"]\n"
      ]
     },
     "execution_count": 24,
     "metadata": {},
     "output_type": "execute_result"
    }
   ],
   "source": [
    "let languages = [\"French\"; \"Spanish\"; \"OCaml\"; \"Perl\"; \"C\"]"
   ]
  },
  {
   "cell_type": "code",
   "execution_count": 25,
   "metadata": {},
   "outputs": [
    {
     "data": {
      "text/plain": [
       "- : int Base.List.t = [6; 7; 5; 4; 1]\n"
      ]
     },
     "execution_count": 25,
     "metadata": {},
     "output_type": "execute_result"
    }
   ],
   "source": [
    "List.map languages ~f:String.length"
   ]
  },
  {
   "cell_type": "code",
   "execution_count": 26,
   "metadata": {},
   "outputs": [
    {
     "data": {
      "text/plain": [
       "- : int Base.List.t = [6; 7; 5; 4; 1]\n"
      ]
     },
     "execution_count": 26,
     "metadata": {},
     "output_type": "execute_result"
    }
   ],
   "source": [
    "List.map ~f:String.length languages"
   ]
  },
  {
   "cell_type": "markdown",
   "metadata": {},
   "source": [
    "Notably, the function passed to `List.map` is passed under a `labeled argumetn ~f`. Labeled arguments are specified by name rather than by position, and thus allow you to change the order in which arguments are presented to a function without changing its behavior, as you can see here:"
   ]
  },
  {
   "cell_type": "markdown",
   "metadata": {},
   "source": [
    "comma creates a tuple, even if there are no surrounding parens."
   ]
  },
  {
   "cell_type": "code",
   "execution_count": 28,
   "metadata": {},
   "outputs": [
    {
     "data": {
      "text/plain": [
       "- : int * int * int = (1, 2, 3)\n"
      ]
     },
     "execution_count": 28,
     "metadata": {},
     "output_type": "execute_result"
    }
   ],
   "source": [
    "1,2,3;;"
   ]
  },
  {
   "cell_type": "markdown",
   "metadata": {},
   "source": [
    "concatenate two lists"
   ]
  },
  {
   "cell_type": "code",
   "execution_count": 30,
   "metadata": {},
   "outputs": [
    {
     "data": {
      "text/plain": [
       "- : int Base.List.t = [1; 2; 3; 4; 5; 6]\n"
      ]
     },
     "execution_count": 30,
     "metadata": {},
     "output_type": "execute_result"
    }
   ],
   "source": [
    "[1;2;3]@[4;5;6]"
   ]
  },
  {
   "cell_type": "code",
   "execution_count": 35,
   "metadata": {},
   "outputs": [
    {
     "name": "stderr",
     "output_type": "stream",
     "text": [
      "File \"[35]\", line 1, characters 25-64:\n",
      "Warning 8: this pattern-matching is not exhaustive.\n",
      "Here is an example of a case that is not matched:\n",
      "[]\n"
     ]
    },
    {
     "data": {
      "text/plain": [
       "val my_favorite_language : 'a list -> 'a = <fun>\n"
      ]
     },
     "execution_count": 35,
     "metadata": {},
     "output_type": "execute_result"
    }
   ],
   "source": [
    "let my_favorite_language (my_favorite :: the_rest) = my_favorite"
   ]
  },
  {
   "cell_type": "markdown",
   "metadata": {},
   "source": [
    "the pattern is not exhausive. This means that there are values of type in question that won't be captured by the pattern"
   ]
  },
  {
   "cell_type": "code",
   "execution_count": 32,
   "metadata": {},
   "outputs": [
    {
     "data": {
      "text/plain": [
       "- : string = \"English\"\n"
      ]
     },
     "execution_count": 32,
     "metadata": {},
     "output_type": "execute_result"
    }
   ],
   "source": [
    "my_favorite_language [\"English\";\"Spanish\";\"French\"]"
   ]
  },
  {
   "cell_type": "code",
   "execution_count": 33,
   "metadata": {},
   "outputs": [
    {
     "ename": "error",
     "evalue": "runtime_error",
     "output_type": "error",
     "traceback": [
      "\u001b[31mException: Match_failure (\"[31]\", 1, 25).\nCalled from file \"toplevel/toploop.ml\", line 180, characters 17-56\n\u001b[0m"
     ]
    }
   ],
   "source": [
    "my_favorite_language []"
   ]
  },
  {
   "cell_type": "markdown",
   "metadata": {},
   "source": [
    "An option is used to express that a value might or might not be present."
   ]
  },
  {
   "cell_type": "code",
   "execution_count": 37,
   "metadata": {},
   "outputs": [
    {
     "data": {
      "text/plain": [
       "val divide : Base.Int.t -> Base.Int.t -> Base.Int.t option = <fun>\n"
      ]
     },
     "execution_count": 37,
     "metadata": {},
     "output_type": "execute_result"
    }
   ],
   "source": [
    "let divide x y = \n",
    "if y = 0 then None else Some (x / y)"
   ]
  },
  {
   "cell_type": "code",
   "execution_count": 38,
   "metadata": {},
   "outputs": [
    {
     "data": {
      "text/plain": [
       "- : Base.Int.t option = None\n"
      ]
     },
     "execution_count": 38,
     "metadata": {},
     "output_type": "execute_result"
    }
   ],
   "source": [
    "divide 4 0"
   ]
  },
  {
   "cell_type": "code",
   "execution_count": 42,
   "metadata": {},
   "outputs": [
    {
     "data": {
      "text/plain": [
       "- : Base.Int.t option = Some 2\n"
      ]
     },
     "execution_count": 42,
     "metadata": {},
     "output_type": "execute_result"
    }
   ],
   "source": [
    "divide 5 2"
   ]
  },
  {
   "cell_type": "markdown",
   "metadata": {},
   "source": [
    "Note that `String.rsplit2` has return type `(string * string) option`, returning `None` when no character was found to split on. "
   ]
  },
  {
   "cell_type": "code",
   "execution_count": 41,
   "metadata": {},
   "outputs": [
    {
     "data": {
      "text/plain": [
       "val downcase_extension : Base.String.t -> Base.String.t = <fun>\n"
      ]
     },
     "execution_count": 41,
     "metadata": {},
     "output_type": "execute_result"
    }
   ],
   "source": [
    "let downcase_extension filename = \n",
    "match String.rsplit2  filename ~on:'.' with\n",
    "| None ->filename\n",
    "| Some (base, ext) ->\n",
    "base ^ \".\" ^ String.lowercase ext"
   ]
  },
  {
   "cell_type": "markdown",
   "metadata": {},
   "source": [
    "Options are important because they are the standard way in Ocaml to encode a value that might not be there; there's no such thing as `NullPointerException` in Ocaml. This is different from most other languages, including Java and C#, where most if not all data types are nullable."
   ]
  },
  {
   "cell_type": "code",
   "execution_count": 43,
   "metadata": {},
   "outputs": [
    {
     "data": {
      "text/plain": [
       "type point2d = { x : Base.float; y : Base.float; }\n"
      ]
     },
     "execution_count": 43,
     "metadata": {},
     "output_type": "execute_result"
    }
   ],
   "source": [
    "type point2d = {x : float; y : float};;"
   ]
  },
  {
   "cell_type": "code",
   "execution_count": 46,
   "metadata": {},
   "outputs": [
    {
     "data": {
      "text/plain": [
       "val p : point2d = {x = 3.; y = -4.}\n"
      ]
     },
     "execution_count": 46,
     "metadata": {},
     "output_type": "execute_result"
    }
   ],
   "source": [
    "let p = { x = 3.; y = -4.};;"
   ]
  },
  {
   "cell_type": "markdown",
   "metadata": {},
   "source": [
    "And we can get access to the contents of these types using pattern matching"
   ]
  },
  {
   "cell_type": "code",
   "execution_count": 45,
   "metadata": {},
   "outputs": [
    {
     "data": {
      "text/plain": [
       "val magnitude : point2d -> Base.Float.t = <fun>\n"
      ]
     },
     "execution_count": 45,
     "metadata": {},
     "output_type": "execute_result"
    }
   ],
   "source": [
    "let magnitude { x = x_pos; y = y_pos} = Float.sqrt (x_pos **. 2. +. y_pos **. 2.);;"
   ]
  },
  {
   "cell_type": "markdown",
   "metadata": {},
   "source": [
    "We can write this more tersely using what's called `field punning`. In particular, when the name of the field and the name of the variable it is bound to coincide, we don't have to write them both down."
   ]
  },
  {
   "cell_type": "markdown",
   "metadata": {},
   "source": [
    "Alternatively, we can use dot notation for accessing record fields:"
   ]
  },
  {
   "cell_type": "code",
   "execution_count": 47,
   "metadata": {},
   "outputs": [
    {
     "data": {
      "text/plain": [
       "val distance : point2d -> point2d -> Base.Float.t = <fun>\n"
      ]
     },
     "execution_count": 47,
     "metadata": {},
     "output_type": "execute_result"
    }
   ],
   "source": [
    "let distance v1 v2 = magnitude {x = v1.x -. v2.x; y = v1.y -. v2.y}"
   ]
  },
  {
   "cell_type": "code",
   "execution_count": 53,
   "metadata": {},
   "outputs": [
    {
     "data": {
      "text/plain": [
       "- : point2d = {x = 1.; y = 2.}\n"
      ]
     },
     "execution_count": 53,
     "metadata": {},
     "output_type": "execute_result"
    }
   ],
   "source": [
    "{x = 1.0;y = 2.0}"
   ]
  },
  {
   "cell_type": "markdown",
   "metadata": {},
   "source": [
    "And we can of course include our newly defined types as components in larger types."
   ]
  },
  {
   "cell_type": "code",
   "execution_count": 54,
   "metadata": {},
   "outputs": [
    {
     "data": {
      "text/plain": [
       "type circle_desc = { center : point2d; radius : Base.float; }\n"
      ]
     },
     "execution_count": 54,
     "metadata": {},
     "output_type": "execute_result"
    }
   ],
   "source": [
    "type circle_desc = {center: point2d; radius: float};;"
   ]
  },
  {
   "cell_type": "code",
   "execution_count": 55,
   "metadata": {},
   "outputs": [
    {
     "data": {
      "text/plain": [
       "type rect_desc = {\n",
       "  lower_left : point2d;\n",
       "  width : Base.float;\n",
       "  height : Base.float;\n",
       "}\n"
      ]
     },
     "execution_count": 55,
     "metadata": {},
     "output_type": "execute_result"
    }
   ],
   "source": [
    "type rect_desc = {lower_left: point2d; width: float; height: float}"
   ]
  },
  {
   "cell_type": "code",
   "execution_count": 57,
   "metadata": {},
   "outputs": [
    {
     "data": {
      "text/plain": [
       "type segment_desc = { endpoint1 : point2d; endpoint2 : point2d; }\n"
      ]
     },
     "execution_count": 57,
     "metadata": {},
     "output_type": "execute_result"
    }
   ],
   "source": [
    "type segment_desc = {endpoint1: point2d; endpoint2:point2d}"
   ]
  },
  {
   "cell_type": "markdown",
   "metadata": {},
   "source": [
    "Now, imagine that you want to combine multiple objects of these types together as a descriptin of a multi-object scene. You need some unified way of representing these objects together in a single type. One way of doing this is using a `variant type`:"
   ]
  },
  {
   "cell_type": "code",
   "execution_count": 58,
   "metadata": {},
   "outputs": [
    {
     "data": {
      "text/plain": [
       "type scene_element =\n",
       "    Circle of circle_desc\n",
       "  | Rect of rect_desc\n",
       "  | Segment of segment_desc\n"
      ]
     },
     "execution_count": 58,
     "metadata": {},
     "output_type": "execute_result"
    }
   ],
   "source": [
    "type scene_element = \n",
    "| Circle of circle_desc\n",
    "| Rect of rect_desc\n",
    "| Segment of segment_desc"
   ]
  },
  {
   "cell_type": "markdown",
   "metadata": {},
   "source": [
    "Here's how we might write a function for testing whether a point is in the interior of some element of a list of `scene_elements`"
   ]
  },
  {
   "cell_type": "code",
   "execution_count": 59,
   "metadata": {},
   "outputs": [
    {
     "data": {
      "text/plain": [
       "val is_inside_scene_element : point2d -> scene_element -> Base.bool = <fun>\n"
      ]
     },
     "execution_count": 59,
     "metadata": {},
     "output_type": "execute_result"
    }
   ],
   "source": [
    "let is_inside_scene_element point scene_element = \n",
    "let open Float.O in\n",
    "match scene_element with\n",
    "|Circle {center; radius} ->\n",
    "distance center point < radius\n",
    "| Rect {lower_left; width; height} ->\n",
    "point.x > lower_left.x && point.x < lower_left.x + width\n",
    "&& point.y > lower_left.y && point.y < lower_left.y + height\n",
    "| Segment {endpoint1;endpoint2} -> false"
   ]
  },
  {
   "cell_type": "code",
   "execution_count": 60,
   "metadata": {},
   "outputs": [
    {
     "data": {
      "text/plain": [
       "val is_inside_scene : point2d -> scene_element Base.List.t -> bool = <fun>\n"
      ]
     },
     "execution_count": 60,
     "metadata": {},
     "output_type": "execute_result"
    }
   ],
   "source": [
    "let is_inside_scene point scene = \n",
    "List.exists scene\n",
    "~f:(fun el -> is_inside_scene_element point el)"
   ]
  },
  {
   "cell_type": "code",
   "execution_count": 62,
   "metadata": {},
   "outputs": [
    {
     "data": {
      "text/plain": [
       "- : bool = false\n"
      ]
     },
     "execution_count": 62,
     "metadata": {},
     "output_type": "execute_result"
    }
   ],
   "source": [
    "is_inside_scene {x=3.;y=7.} [ Circle {center = {x=4.;y= 4.}; radius = 0.5 } ]"
   ]
  },
  {
   "cell_type": "code",
   "execution_count": 65,
   "metadata": {},
   "outputs": [
    {
     "data": {
      "text/plain": [
       "- : bool = true\n"
      ]
     },
     "execution_count": 65,
     "metadata": {},
     "output_type": "execute_result"
    }
   ],
   "source": [
    "is_inside_scene {x=3.;y=7.}\n",
    "[ Circle {center = {x=4.;y= 4.}; radius = 5.0 };Circle {center = {x=4.;y= 4.}; radius = 0.5 }]"
   ]
  },
  {
   "cell_type": "code",
   "execution_count": 74,
   "metadata": {},
   "outputs": [
    {
     "data": {
      "text/plain": [
       "- : Base.bool = false\n"
      ]
     },
     "execution_count": 74,
     "metadata": {},
     "output_type": "execute_result"
    }
   ],
   "source": [
    " is_inside_scene_element {x=3.;y=7.} (Circle {center = {x=4.;y= 4.}; radius = 0.5 })"
   ]
  },
  {
   "cell_type": "code",
   "execution_count": 75,
   "metadata": {},
   "outputs": [
    {
     "data": {
      "text/plain": [
       "- : Base.bool = true\n"
      ]
     },
     "execution_count": 75,
     "metadata": {},
     "output_type": "execute_result"
    }
   ],
   "source": [
    " is_inside_scene_element {x=3.;y=7.} (Circle {center = {x=4.;y= 4.}; radius = 5. })"
   ]
  }
 ],
 "metadata": {
  "kernelspec": {
   "display_name": "OCaml default",
   "language": "OCaml",
   "name": "ocaml-jupyter"
  },
  "language_info": {
   "codemirror_mode": "text/x-ocaml",
   "file_extension": ".ml",
   "mimetype": "text/x-ocaml",
   "name": "OCaml",
   "nbconverter_exporter": null,
   "pygments_lexer": "OCaml",
   "version": "4.07.1"
  }
 },
 "nbformat": 4,
 "nbformat_minor": 2
}
