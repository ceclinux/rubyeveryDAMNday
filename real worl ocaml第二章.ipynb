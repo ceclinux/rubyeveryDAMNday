{
 "cells": [
  {
   "cell_type": "markdown",
   "metadata": {
    "collapsed": true
   },
   "source": [
    "在Ocaml中，`let`绑定是不可变的。尽管Ocaml有很多可变的值，不过不存在可变的变量。"
   ]
  },
  {
   "cell_type": "code",
   "execution_count": 2,
   "metadata": {
    "collapsed": true
   },
   "outputs": [],
   "source": [
    "open Core"
   ]
  },
  {
   "cell_type": "code",
   "execution_count": 3,
   "metadata": {},
   "outputs": [
    {
     "data": {
      "text/plain": [
       "val ints : int Core.List.t = [1; 2; 3]\n",
       "val strings : string Core.List.t = [\"one\"; \"two\"; \"three\"]\n"
      ]
     },
     "execution_count": 3,
     "metadata": {},
     "output_type": "execute_result"
    }
   ],
   "source": [
    "let (ints, strings) = List.unzip [(1, \"one\"); (2, \"two\"); (3, \"three\")];;"
   ]
  },
  {
   "cell_type": "markdown",
   "metadata": {},
   "source": [
    "这里的(ints, strings)是一个模式，`let`绑定会为出现在该模式的两个标识符赋值。模式实际上就是对**数据结构形状的一个描述**，其中一些分量是要绑定的标识符。"
   ]
  },
  {
   "cell_type": "markdown",
   "metadata": {},
   "source": [
    " 在`let`绑定中使用模式对于”不可否定“的模式最有意义，也就是说，当前类型中的所有值都肯定能与该模式匹配。元祖和记录模式就是不可否定的，但列表模式并非如此。"
   ]
  },
  {
   "cell_type": "code",
   "execution_count": 4,
   "metadata": {},
   "outputs": [
    {
     "name": "stderr",
     "output_type": "stream",
     "text": [
      "File \"[4]\", line 1, characters 34-47:\n",
      "Warning 8: this pattern-matching is not exhaustive.\n",
      "Here is an example of a case that is not matched:\n",
      "[]\n"
     ]
    },
    {
     "data": {
      "text/plain": [
       "val upcase_first_entry : Core.String.t -> Core.String.t = <fun>\n"
      ]
     },
     "execution_count": 4,
     "metadata": {},
     "output_type": "execute_result"
    }
   ],
   "source": [
    "let upcase_first_entry line = let (first::rest) = String.split ~on:',' line in \n",
    "String.concat ~sep:\",\" (String.uppercase first::rest)"
   ]
  },
  {
   "cell_type": "markdown",
   "metadata": {},
   "source": [
    "实际中这种情况并不会出现，因为`String.split`总会返回一个至少包含一个元素的列表。不过，编译器并不知道这一点，所以它还是会发出警告。通常最好使用一个`match`语句来显示处理这些情况。"
   ]
  },
  {
   "cell_type": "code",
   "execution_count": 7,
   "metadata": {},
   "outputs": [
    {
     "data": {
      "text/plain": [
       "val upcase_first_entry : Core.String.t -> Core.String.t = <fun>\n"
      ]
     },
     "execution_count": 7,
     "metadata": {},
     "output_type": "execute_result"
    }
   ],
   "source": [
    "let upcase_first_entry line = \n",
    "match String.split ~on:',' line with\n",
    "| [] -> assert false\n",
    "| first :: rest -> String.concat ~sep:\",\" (String.uppercase first::rest)"
   ]
  },
  {
   "cell_type": "markdown",
   "metadata": {},
   "source": [
    "可以应用一个科里函数来得到一个新函数，这种做法称为部分应用。"
   ]
  },
  {
   "cell_type": "code",
   "execution_count": 10,
   "metadata": {},
   "outputs": [
    {
     "data": {
      "text/plain": [
       "val find_first_shutter : 'a list -> 'a option = <fun>\n"
      ]
     },
     "execution_count": 10,
     "metadata": {},
     "output_type": "execute_result"
    }
   ],
   "source": [
    "let rec find_first_shutter list = \n",
    "match list with\n",
    "|[] | [_] ->\n",
    "None\n",
    "| x :: y :: tl ->\n",
    "if x = y then Some x else find_first_shutter(y::tl)"
   ]
  },
  {
   "cell_type": "code",
   "execution_count": 13,
   "metadata": {},
   "outputs": [
    {
     "data": {
      "text/plain": [
       "- : int option = Some 5\n"
      ]
     },
     "execution_count": 13,
     "metadata": {},
     "output_type": "execute_result"
    }
   ],
   "source": [
    "find_first_shutter [2;4;5;5;2;1]"
   ]
  },
  {
   "cell_type": "markdown",
   "metadata": {},
   "source": [
    "Ocaml区分了非递归定义（使用`let`）和递归定义（使用`let rec`），这很大程度上是由于技术上的原因：如果一组函数定义是相互递归的，类型推断算法必须要知道这一点。"
   ]
  },
  {
   "cell_type": "markdown",
   "metadata": {},
   "source": [
    "如果一个中缀操作符两边加上括号，就可以把它当作一个常规的前缀函数使用了"
   ]
  },
  {
   "cell_type": "code",
   "execution_count": 14,
   "metadata": {},
   "outputs": [
    {
     "data": {
      "text/plain": [
       "- : int = 7\n"
      ]
     },
     "execution_count": 14,
     "metadata": {},
     "output_type": "execute_result"
    }
   ],
   "source": [
    "(+) 3 4"
   ]
  },
  {
   "cell_type": "code",
   "execution_count": 15,
   "metadata": {},
   "outputs": [
    {
     "data": {
      "text/plain": [
       "val ( +! ) : int * int -> int * int -> int * int = <fun>\n"
      ]
     },
     "execution_count": 15,
     "metadata": {},
     "output_type": "execute_result"
    }
   ],
   "source": [
    "let (+!) (x1, y1) (x2, y2) = (x1 + x2, y1 + y2)"
   ]
  },
  {
   "cell_type": "code",
   "execution_count": 23,
   "metadata": {},
   "outputs": [
    {
     "data": {
      "text/plain": [
       "- : int * int = (1, 6)\n"
      ]
     },
     "execution_count": 23,
     "metadata": {},
     "output_type": "execute_result"
    }
   ],
   "source": [
    "(3,2) +! (-2,4)"
   ]
  },
  {
   "cell_type": "markdown",
   "metadata": {},
   "source": [
    "`|>`还扮演一个很有用的角色，能够对操作符排序，从本质上类似于`Unix shell`中使用的管道字符。例如，考虑下面的代码，它会打印出`PATH`的各个不同的元素。需要说明，后面的`List.dedup`会删除列表中重复的元素，并将使用所提供的比较函数对列表排序"
   ]
  },
  {
   "cell_type": "code",
   "execution_count": 19,
   "metadata": {},
   "outputs": [
    {
     "data": {
      "text/plain": [
       "val path : string = \"/usr/bin:/usr/local/bin:/bin:/sbin\"\n"
      ]
     },
     "execution_count": 19,
     "metadata": {},
     "output_type": "execute_result"
    }
   ],
   "source": [
    "let path = \"/usr/bin:/usr/local/bin:/bin:/sbin\""
   ]
  },
  {
   "cell_type": "code",
   "execution_count": 22,
   "metadata": {},
   "outputs": [
    {
     "name": "stderr",
     "output_type": "stream",
     "text": [
      "File \"[22]\", line 2, characters 3-13:\n",
      "Warning 3: deprecated: Core.List.dedup\n",
      "[since 2017-04] Use [dedup_and_sort] instead\n"
     ]
    },
    {
     "name": "stdout",
     "output_type": "stream",
     "text": [
      "/bin\n",
      "/sbin\n",
      "/usr/bin\n",
      "/usr/local/bin\n"
     ]
    },
    {
     "data": {
      "text/plain": [
       "- : unit = ()\n"
      ]
     },
     "execution_count": 22,
     "metadata": {},
     "output_type": "execute_result"
    }
   ],
   "source": [
    "String.split ~on:':' path\n",
    "|> List.dedup ~compare:String.compare\n",
    "|> List.iter ~f:print_endline"
   ]
  },
  {
   "cell_type": "code",
   "execution_count": 25,
   "metadata": {},
   "outputs": [
    {
     "name": "stderr",
     "output_type": "stream",
     "text": [
      "File \"[25]\", line 1, characters 0-1:\n",
      "Warning 3: deprecated: ISO-Latin1 characters in identifiers\n"
     ]
    }
   ],
   "source": [
    "要注意，不用`|>`也可以做到这一点，不过结果有点繁琐："
   ]
  },
  {
   "cell_type": "code",
   "execution_count": 26,
   "metadata": {},
   "outputs": [
    {
     "name": "stderr",
     "output_type": "stream",
     "text": [
      "File \"[26]\", line 1, characters 31-34:\n",
      "Warning 3: deprecated: ISO-Latin1 characters in identifiers\n"
     ]
    }
   ],
   "source": [
    "let split_path = String.split ~on：':' path in\n",
    "let deduped_path  = List.dedup ~compare:String.compare split_path in\n",
    "List.iter ~f:print_endline deduped_path"
   ]
  },
  {
   "cell_type": "markdown",
   "metadata": {},
   "source": [
    "`(^>)`是右结合的"
   ]
  },
  {
   "cell_type": "code",
   "execution_count": 29,
   "metadata": {},
   "outputs": [
    {
     "data": {
      "text/plain": [
       "val ( ^> ) : 'a -> ('a -> 'b) -> 'b = <fun>\n"
      ]
     },
     "execution_count": 29,
     "metadata": {},
     "output_type": "execute_result"
    }
   ],
   "source": [
    "let (^>) x  f = f x;;"
   ]
  },
  {
   "cell_type": "code",
   "execution_count": 30,
   "metadata": {},
   "outputs": [
    {
     "name": "stderr",
     "output_type": "stream",
     "text": [
      "File \"[30]\", line 3, characters 3-13:\n",
      "Warning 3: deprecated: Core.List.dedup\n",
      "[since 2017-04] Use [dedup_and_sort] instead\n"
     ]
    },
    {
     "ename": "error",
     "evalue": "compile_error",
     "output_type": "error",
     "traceback": [
      "\u001b[32mFile \"[30]\", line 4, characters 3-29:\n\u001b[31mError: This expression has type string Core.List.t -> unit\n       but an expression was expected of type\n         (Core.String.t Core.List.t -> Core.String.t Core.List.t) -> 'a\n       Type string Core.List.t = string list is not compatible with type\n         Core.String.t Core.List.t -> Core.String.t Core.List.t \n\u001b[36m   3: \u001b[30m^> List.dedup ~compare:String.compare\n\u001b[36m   4: \u001b[30m^> \u001b[4mList.iter ~f:print_endline\u001b[0m\n"
     ]
    }
   ],
   "source": [
    "Sys.getenv_exn \"PATH\"\n",
    "^> String.split ~on:':' path\n",
    "^> List.dedup ~compare:String.compare\n",
    "^> List.iter ~f:print_endline"
   ]
  },
  {
   "cell_type": "markdown",
   "metadata": {},
   "source": [
    "这里的问题是，由于`^>`是右结合的，这个操作符试图把值`List.dup ~compare:String.compare`传入函数`List.iter` `~f:print_endline`。不过`List.iter~f:print_endline`希望得到一个字符串列表作为输入，而不是一个函数。"
   ]
  },
  {
   "cell_type": "code",
   "execution_count": 31,
   "metadata": {},
   "outputs": [
    {
     "data": {
      "text/plain": [
       "val some_or_zero : int option -> int = <fun>\n"
      ]
     },
     "execution_count": 31,
     "metadata": {},
     "output_type": "execute_result"
    }
   ],
   "source": [
    "let some_or_zero = function\n",
    "| Some x -> x\n",
    "| None -> 0"
   ]
  },
  {
   "cell_type": "code",
   "execution_count": 33,
   "metadata": {},
   "outputs": [
    {
     "data": {
      "text/plain": [
       "- : int Core.List.t = [3; 0; 4]\n"
      ]
     },
     "execution_count": 33,
     "metadata": {},
     "output_type": "execute_result"
    }
   ],
   "source": [
    "List.map ~f:some_or_zero [Some 3; None; Some 4];;"
   ]
  },
  {
   "cell_type": "markdown",
   "metadata": {},
   "source": [
    "这等价于将一个常规的函数定义与一个`match`相结合"
   ]
  },
  {
   "cell_type": "code",
   "execution_count": 34,
   "metadata": {},
   "outputs": [
    {
     "data": {
      "text/plain": [
       "val some_or_zero : int option -> int = <fun>\n"
      ]
     },
     "execution_count": 34,
     "metadata": {},
     "output_type": "execute_result"
    }
   ],
   "source": [
    "let some_or_zero num_opt = \n",
    "match num_opt with\n",
    "|Some x -> x\n",
    "|None -> 0\n"
   ]
  },
  {
   "cell_type": "markdown",
   "metadata": {},
   "source": [
    "还可以把不同的函数声明结合在一起，如下面的例子所示，这里我们声明了一个链参数（科里）函数，并对第二个参数进完成了一个模式匹配"
   ]
  },
  {
   "cell_type": "code",
   "execution_count": 37,
   "metadata": {},
   "outputs": [
    {
     "data": {
      "text/plain": [
       "val some_or_default : 'a -> 'a option -> 'a = <fun>\n"
      ]
     },
     "execution_count": 37,
     "metadata": {},
     "output_type": "execute_result"
    }
   ],
   "source": [
    "let some_or_default default = function\n",
    "| Some x -> x\n",
    "| None -> default"
   ]
  },
  {
   "cell_type": "code",
   "execution_count": 40,
   "metadata": {},
   "outputs": [
    {
     "data": {
      "text/plain": [
       "- : int = 5\n"
      ]
     },
     "execution_count": 40,
     "metadata": {},
     "output_type": "execute_result"
    }
   ],
   "source": [
    "some_or_default 3 (Some 5);;"
   ]
  },
  {
   "cell_type": "code",
   "execution_count": 41,
   "metadata": {},
   "outputs": [
    {
     "data": {
      "text/plain": [
       "- : int Core.List.t = [3; 100; 4]\n"
      ]
     },
     "execution_count": 41,
     "metadata": {},
     "output_type": "execute_result"
    }
   ],
   "source": [
    "List.map ~f:(some_or_default 100) [Some 3; None; Some 4];;"
   ]
  }
 ],
 "metadata": {
  "kernelspec": {
   "display_name": "OCaml 4.04.1",
   "language": "OCaml",
   "name": "ocaml-jupyter"
  },
  "language_info": {
   "codemirror_mode": "text/x-ocaml",
   "file_extension": ".ml",
   "mimetype": "text/x-ocaml",
   "name": "OCaml",
   "nbconverter_exporter": null,
   "pygments_lexer": "OCaml",
   "version": "4.04.1"
  }
 },
 "nbformat": 4,
 "nbformat_minor": 2
}
