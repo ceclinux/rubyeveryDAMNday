{
 "cells": [
  {
   "cell_type": "markdown",
   "metadata": {},
   "source": [
    "抽象语法树仅用于表示语法分析的结构，因此通过词法分析得到的单词并不一定要与抽象语法树一一对应。抽象语法树是一种过去出了多余信息的抽象树形结构。例如\n",
    "\n",
    "```\n",
    "(13 + x) * 2\n",
    "```\n",
    "\n",
    "这样的一个表达式来收，它与之前的例子不同，包含了括号。惩罚运算的佐治不再是`x`而是`13 + x`。一般来说，这段程序的叶节点和中间节点都不含括号。\n",
    "\n",
    "`13 + x` 是乘法的左值，必须在做乘法计算之前算好。即使图中的抽象语法树不含括号，这一信息也得到了明确的表达。除了括号，句尾的分号等无关紧要的单词通常也不会出现在抽象语法树中。"
   ]
  }
 ],
 "metadata": {
  "kernelspec": {
   "display_name": "Ruby 2.4.1",
   "language": "ruby",
   "name": "ruby"
  },
  "language_info": {
   "file_extension": ".rb",
   "mimetype": "application/x-ruby",
   "name": "ruby",
   "version": "2.4.1"
  }
 },
 "nbformat": 4,
 "nbformat_minor": 2
}
