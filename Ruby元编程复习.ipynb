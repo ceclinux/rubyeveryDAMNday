{
 "cells": [
  {
   "cell_type": "markdown",
   "metadata": {},
   "source": [
    "与Java这样的静态语言不同，`Ruby`中对象的类和它的实例变量没有关系，当给实例变量复制时，他们就突然出现了。因此，对于同一个类，你可以创建具有不同示例变量的对象。例如，你没有调用过`obj.my_method`方法，`obj`对象就不会有任何实例变量"
   ]
  },
  {
   "cell_type": "markdown",
   "metadata": {},
   "source": [
    "实例变量存放在对象中，而方法存放在类中"
   ]
  },
  {
   "cell_type": "code",
   "execution_count": 1,
   "metadata": {},
   "outputs": [
    {
     "name": "stdout",
     "output_type": "stream",
     "text": [
      "String\n",
      "Class\n"
     ]
    },
    {
     "data": {
      "text/plain": [
       "Class"
      ]
     },
     "execution_count": 1,
     "metadata": {},
     "output_type": "execute_result"
    }
   ],
   "source": [
    "p \"hello\".class\n",
    "p String.class"
   ]
  },
  {
   "cell_type": "markdown",
   "metadata": {},
   "source": [
    "其他语言只允许你读取类的信息，而`Ruby`允许你在运行时修改这些信息"
   ]
  },
  {
   "cell_type": "code",
   "execution_count": 2,
   "metadata": {},
   "outputs": [
    {
     "data": {
      "text/plain": [
       "Module"
      ]
     },
     "execution_count": 2,
     "metadata": {},
     "output_type": "execute_result"
    }
   ],
   "source": [
    " Class.superclass"
   ]
  },
  {
   "cell_type": "markdown",
   "metadata": {},
   "source": [
    "如果你希望把自己的代码包含到别的代码中，就应该使用模块；如果你希望某段代码被实例化或者被继承，就应该使用类"
   ]
  },
  {
   "cell_type": "code",
   "execution_count": 3,
   "metadata": {},
   "outputs": [
    {
     "data": {
      "text/plain": [
       "1"
      ]
     },
     "execution_count": 3,
     "metadata": {},
     "output_type": "execute_result"
    }
   ],
   "source": [
    "T = 1"
   ]
  },
  {
   "cell_type": "code",
   "execution_count": 4,
   "metadata": {},
   "outputs": [
    {
     "data": {
      "text/plain": [
       "Class"
      ]
     },
     "execution_count": 4,
     "metadata": {},
     "output_type": "execute_result"
    }
   ],
   "source": [
    "Class.class"
   ]
  },
  {
   "cell_type": "code",
   "execution_count": 5,
   "metadata": {},
   "outputs": [
    {
     "name": "stderr",
     "output_type": "stream",
     "text": [
      "<main>: warning: already initialized constant T\n"
     ]
    },
    {
     "data": {
      "text/plain": [
       "2"
      ]
     },
     "execution_count": 5,
     "metadata": {},
     "output_type": "execute_result"
    }
   ],
   "source": [
    "T = 2"
   ]
  },
  {
   "cell_type": "code",
   "execution_count": 6,
   "metadata": {},
   "outputs": [
    {
     "data": {
      "text/plain": [
       "2"
      ]
     },
     "execution_count": 6,
     "metadata": {},
     "output_type": "execute_result"
    }
   ],
   "source": [
    "T"
   ]
  },
  {
   "cell_type": "markdown",
   "metadata": {},
   "source": [
    "常量的值可以修改，那么常量和变量又有什么区别呢？最大的区别在与他们的作用域不同"
   ]
  },
  {
   "cell_type": "code",
   "execution_count": 7,
   "metadata": {},
   "outputs": [
    {
     "name": "stdout",
     "output_type": "stream",
     "text": [
      "main\n"
     ]
    },
    {
     "data": {
      "text/plain": [
       "main"
      ]
     },
     "execution_count": 7,
     "metadata": {},
     "output_type": "execute_result"
    }
   ],
   "source": [
    "p self"
   ]
  },
  {
   "cell_type": "markdown",
   "metadata": {},
   "source": [
    "Class类是`module`的子类。一个模块基本上就是由一组方法组成的包。类除了具有模块的特性之外，还可以被实例化（使用`new`方法），或者按一定的层次结构来组织。"
   ]
  },
  {
   "cell_type": "markdown",
   "metadata": {},
   "source": [
    "为了消灭`display`方法的`bug`，应该把`computer`类变成一个白板类。你和Bill把他改成了`BasicObject`的子类"
   ]
  },
  {
   "cell_type": "code",
   "execution_count": 8,
   "metadata": {},
   "outputs": [],
   "source": [
    "class Computer <BasicObject\n",
    "end"
   ]
  },
  {
   "cell_type": "code",
   "execution_count": 9,
   "metadata": {},
   "outputs": [
    {
     "data": {
      "text/plain": [
       ":testClosure"
      ]
     },
     "execution_count": 9,
     "metadata": {},
     "output_type": "execute_result"
    }
   ],
   "source": [
    "def testClosure\n",
    "  a = 1\n",
    "  proc { a += 1; p a}\n",
    "end"
   ]
  },
  {
   "cell_type": "code",
   "execution_count": 10,
   "metadata": {},
   "outputs": [
    {
     "name": "stdout",
     "output_type": "stream",
     "text": [
      "2\n"
     ]
    },
    {
     "data": {
      "text/plain": [
       "2"
      ]
     },
     "execution_count": 10,
     "metadata": {},
     "output_type": "execute_result"
    }
   ],
   "source": [
    "testClosure.call"
   ]
  },
  {
   "cell_type": "code",
   "execution_count": 11,
   "metadata": {},
   "outputs": [
    {
     "name": "stdout",
     "output_type": "stream",
     "text": [
      "value of x before: 5\n",
      "value of x after: 8\n"
     ]
    }
   ],
   "source": [
    "def thrice\n",
    "  yield\n",
    "  yield\n",
    "  yield\n",
    "end\n",
    " \n",
    "x = 5\n",
    "puts \"value of x before: #{x}\"\n",
    "thrice { x += 1 }\n",
    "puts \"value of x after: #{x}\""
   ]
  },
  {
   "cell_type": "code",
   "execution_count": 12,
   "metadata": {},
   "outputs": [
    {
     "name": "stdout",
     "output_type": "stream",
     "text": [
      "value of x at end of thrice_with_local_x: 100\n"
     ]
    }
   ],
   "source": [
    "def thrice_with_local_x\n",
    "  x = 100\n",
    "  yield\n",
    "  yield\n",
    "  yield\n",
    "  puts \"value of x at end of thrice_with_local_x: #{x}\"\n",
    "end\n",
    " \n",
    "x = 5\n",
    "thrice_with_local_x { x += 1 }"
   ]
  },
  {
   "cell_type": "code",
   "execution_count": 13,
   "metadata": {},
   "outputs": [
    {
     "name": "stdout",
     "output_type": "stream",
     "text": [
      "Is y defined inside the block where it is first set?\n",
      "Yes.\n",
      "Is y defined inside the block where it is first set?\n",
      "Yes.\n",
      "Is y defined inside the block where it is first set?\n",
      "Yes.\n",
      "Is y defined in the outer context after being set in the block?\n",
      "No!\n"
     ]
    }
   ],
   "source": [
    "thrice do  # note that {...} and do...end are completely equivalent\n",
    "  y = 10\n",
    "  puts \"Is y defined inside the block where it is first set?\"\n",
    "  puts \"Yes.\" if defined? y\n",
    "end\n",
    "puts \"Is y defined in the outer context after being set in the block?\"\n",
    "puts \"No!\" unless defined? y"
   ]
  },
  {
   "cell_type": "code",
   "execution_count": 14,
   "metadata": {},
   "outputs": [
    {
     "data": {
      "text/plain": [
       "\"@x:1, @y: \""
      ]
     },
     "execution_count": 14,
     "metadata": {},
     "output_type": "execute_result"
    }
   ],
   "source": [
    "class C\n",
    "  def initialize\n",
    "    @x = 1\n",
    "  end\n",
    "end\n",
    "\n",
    "class D\n",
    "  def twisted_method\n",
    "    @y = 2\n",
    "    C.new.instance_eval {\"@x:#{@x}, @y: #{@y}\"}\n",
    "  end\n",
    "end\n",
    "\n",
    "D.new.twisted_method"
   ]
  },
  {
   "cell_type": "markdown",
   "metadata": {},
   "source": [
    "下面代码演示了`BasicObject#instance_eval`方法，它在一个对象的上下文中执行块"
   ]
  },
  {
   "cell_type": "code",
   "execution_count": 15,
   "metadata": {},
   "outputs": [
    {
     "data": {
      "text/plain": [
       "1"
      ]
     },
     "execution_count": 15,
     "metadata": {},
     "output_type": "execute_result"
    }
   ],
   "source": [
    "class MyClass\n",
    "  def initialize\n",
    "    @v = 1\n",
    "  end\n",
    "end\n",
    "\n",
    "obj = MyClass.new\n",
    "\n",
    "obj.instance_eval do\n",
    "  self\n",
    "  @v\n",
    "end"
   ]
  },
  {
   "cell_type": "code",
   "execution_count": 16,
   "metadata": {},
   "outputs": [
    {
     "data": {
      "text/plain": [
       ":twisted_method"
      ]
     },
     "execution_count": 16,
     "metadata": {},
     "output_type": "execute_result"
    }
   ],
   "source": [
    "class D\n",
    "  def twisted_method\n",
    "    @y = 2\n",
    "    C.new.instance_exec(@y) {|y| \"@x:#{@x}, @y:#{y}\"}\n",
    "  end\n",
    "end\n"
   ]
  },
  {
   "cell_type": "code",
   "execution_count": 17,
   "metadata": {},
   "outputs": [
    {
     "data": {
      "text/plain": [
       "\"@x:1, @y:2\""
      ]
     },
     "execution_count": 17,
     "metadata": {},
     "output_type": "execute_result"
    }
   ],
   "source": [
    "D.new.twisted_method"
   ]
  },
  {
   "cell_type": "markdown",
   "metadata": {},
   "source": [
    "instance_eval只修改`self`，而`class_eval`方法同时修改`self`和当前类"
   ]
  },
  {
   "cell_type": "code",
   "execution_count": 18,
   "metadata": {},
   "outputs": [
    {
     "data": {
      "text/plain": [
       ":read"
      ]
     },
     "execution_count": 18,
     "metadata": {},
     "output_type": "execute_result"
    }
   ],
   "source": [
    "class MyClass\n",
    "  @my_var = 1\n",
    "  def self.read; @my_var; end\n",
    "  def write; @my_var = 2; end\n",
    "  def read; @my_var; end\n",
    "end"
   ]
  },
  {
   "cell_type": "code",
   "execution_count": 19,
   "metadata": {},
   "outputs": [
    {
     "name": "stdout",
     "output_type": "stream",
     "text": [
      "nil\n",
      "2\n",
      "2\n",
      "1\n"
     ]
    },
    {
     "data": {
      "text/plain": [
       "1"
      ]
     },
     "execution_count": 19,
     "metadata": {},
     "output_type": "execute_result"
    }
   ],
   "source": [
    "obj = MyClass.new\n",
    "p obj.read\n",
    "p obj.write\n",
    "p obj.read\n",
    "p MyClass.read"
   ]
  },
  {
   "cell_type": "code",
   "execution_count": 20,
   "metadata": {},
   "outputs": [
    {
     "data": {
      "text/plain": [
       ":read"
      ]
     },
     "execution_count": 20,
     "metadata": {},
     "output_type": "execute_result"
    }
   ],
   "source": [
    "class MyClass\n",
    "  @my_var = 1\n",
    "  def self.read; @my_var; end\n",
    "  def write; @my_var = 2; end\n",
    "  def read; @my_var; end\n",
    "end"
   ]
  },
  {
   "cell_type": "markdown",
   "metadata": {},
   "source": [
    "上面的代码定义了两个实例变量，它们正好都叫`@my_var`，但是它们分属不同的作用于，并属于不同的对象。要清楚怎么回事，要牢记类也是对象，而且需要自己在程序中追踪`self`。其中一个`@my_var`变量定义于`obj`充当`self`的时刻，他是`obj`对象的实例变量。另外一个`@my_var`变量定义域`MyClass`充当`self`的时候，因此它是`MyClass`的实例变量，也就是类实例变量"
   ]
  },
  {
   "cell_type": "markdown",
   "metadata": {},
   "source": [
    "由于类是`Class`类的一个实例，所以可以通过调用`Class#new`方法来创建它"
   ]
  },
  {
   "cell_type": "code",
   "execution_count": 22,
   "metadata": {},
   "outputs": [
    {
     "name": "stdout",
     "output_type": "stream",
     "text": [
      "false\n",
      "[:title?]\n",
      "[:title?]\n"
     ]
    },
    {
     "data": {
      "text/plain": [
       "[:title?]"
      ]
     },
     "execution_count": 22,
     "metadata": {},
     "output_type": "execute_result"
    }
   ],
   "source": [
    "str = \"just a regualr string\"\n",
    "\n",
    "def str.title?\n",
    "  self.upcase == self\n",
    "end\n",
    "\n",
    "p str.title?\n",
    "p str.methods.grep(/title?/)\n",
    "p str.singleton_methods"
   ]
  },
  {
   "cell_type": "markdown",
   "metadata": {},
   "source": [
    "类方法的实质是：它是一个类的单件方法"
   ]
  },
  {
   "cell_type": "markdown",
   "metadata": {},
   "source": [
    "每个单件类只有一个实例（这就是它们被称为单件类的原因），而且不能被继承。更重要的是，单件类是一个对象的存活之所。"
   ]
  },
  {
   "cell_type": "markdown",
   "metadata": {},
   "source": [
    "一个对象的单件类是这个对象的类；一个类的单件类的超类是这个类的超类的单件类"
   ]
  },
  {
   "cell_type": "code",
   "execution_count": 24,
   "metadata": {},
   "outputs": [
    {
     "data": {
      "text/plain": [
       "1"
      ]
     },
     "execution_count": 24,
     "metadata": {},
     "output_type": "execute_result"
    }
   ],
   "source": [
    "class TestInstance\n",
    "end\n",
    "\n",
    "TestInstance.instance_eval do\n",
    "  def test; 1 ; end\n",
    "end\n",
    "\n",
    "TestInstance.test"
   ]
  }
 ],
 "metadata": {
  "kernelspec": {
   "display_name": "Ruby 2.5.1",
   "language": "ruby",
   "name": "ruby"
  },
  "language_info": {
   "file_extension": ".rb",
   "mimetype": "application/x-ruby",
   "name": "ruby",
   "version": "2.5.1"
  }
 },
 "nbformat": 4,
 "nbformat_minor": 2
}
