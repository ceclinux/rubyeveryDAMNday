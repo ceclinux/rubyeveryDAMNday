{
 "cells": [
  {
   "cell_type": "markdown",
   "metadata": {},
   "source": [
    "`Time.now`是一个间接输入。首先我们引用了`Time`类，然后把`#now`消息发送给`Time`。我们想要的其实是方法`now`的返回值，而不是`Time`常量本身。任何时候为了得到方法返回值，而向其他对象发送消息，其实就是在使用间接输入。"
   ]
  },
  {
   "cell_type": "markdown",
   "metadata": {},
   "source": [
    "间接输入层次越深，代码的耦合程度就越高"
   ]
  },
  {
   "cell_type": "code",
   "execution_count": 1,
   "metadata": {},
   "outputs": [
    {
     "data": {
      "text/plain": [
       "Place"
      ]
     },
     "execution_count": 1,
     "metadata": {},
     "output_type": "execute_result"
    }
   ],
   "source": [
    "Place = Struct.new(:index, :name, :prize)"
   ]
  },
  {
   "cell_type": "code",
   "execution_count": 2,
   "metadata": {},
   "outputs": [
    {
     "data": {
      "text/plain": [
       "#<struct Place index=0, name=\"first\", prize=\"Peasant's Quest game\">"
      ]
     },
     "execution_count": 2,
     "metadata": {},
     "output_type": "execute_result"
    }
   ],
   "source": [
    "first = Place.new(0, \"first\", \"Peasant's Quest game\")"
   ]
  },
  {
   "cell_type": "code",
   "execution_count": 3,
   "metadata": {},
   "outputs": [
    {
     "data": {
      "text/plain": [
       "#<struct Place index=1, name=\"second\", prize=\"Limozeen Album\">"
      ]
     },
     "execution_count": 3,
     "metadata": {},
     "output_type": "execute_result"
    }
   ],
   "source": [
    "second = Place.new(1, \"second\", \"Limozeen Album\")"
   ]
  },
  {
   "cell_type": "code",
   "execution_count": 4,
   "metadata": {},
   "outputs": [
    {
     "data": {
      "text/plain": [
       "#<struct Place index=2, name=\"third\", prize=\"butter-da\">"
      ]
     },
     "execution_count": 4,
     "metadata": {},
     "output_type": "execute_result"
    }
   ],
   "source": [
    "thrid = Place.new(2, \"third\", \"butter-da\")"
   ]
  },
  {
   "cell_type": "code",
   "execution_count": 5,
   "metadata": {},
   "outputs": [
    {
     "data": {
      "text/plain": [
       "[\"a\", \"b\"]"
      ]
     },
     "execution_count": 5,
     "metadata": {},
     "output_type": "execute_result"
    }
   ],
   "source": [
    "winners = [\"a\", \"b\"]"
   ]
  },
  {
   "cell_type": "code",
   "execution_count": 6,
   "metadata": {},
   "outputs": [
    {
     "name": "stdout",
     "output_type": "stream",
     "text": [
      "\"In first place, a\"\n",
      "\"you wind: Peasant's Quest game\"\n",
      "\"In second place, b\"\n",
      "\"you wind: Limozeen Album\"\n",
      "\"In third place, \"\n",
      "\"you wind: butter-da\"\n"
     ]
    },
    {
     "data": {
      "text/plain": [
       "[#<struct Place index=0, name=\"first\", prize=\"Peasant's Quest game\">, #<struct Place index=1, name=\"second\", prize=\"Limozeen Album\">, #<struct Place index=2, name=\"third\", prize=\"butter-da\">]"
      ]
     },
     "execution_count": 6,
     "metadata": {},
     "output_type": "execute_result"
    }
   ],
   "source": [
    "[first, second, thrid].each do |place|\n",
    "  p \"In #{place.name} place, #{winners[place.index]}\"\n",
    "  p \"you wind: #{place.prize}\"\n",
    "end"
   ]
  },
  {
   "cell_type": "markdown",
   "metadata": {},
   "source": [
    "`#to_s`就是一个显式转换方法。显式转换一般用于这样的情形：源类型和目标类型很大程度上不相关或者毫无关联"
   ]
  },
  {
   "cell_type": "markdown",
   "metadata": {},
   "source": [
    "与之对应，`#to_str`就是一个隐式类型转换方法。隐式类型转换适用于元类型和目标类型很相近的情形"
   ]
  },
  {
   "cell_type": "code",
   "execution_count": 7,
   "metadata": {},
   "outputs": [
    {
     "data": {
      "text/plain": [
       ":to_path"
      ]
     },
     "execution_count": 7,
     "metadata": {},
     "output_type": "execute_result"
    }
   ],
   "source": [
    "class EmacsConfigFile\n",
    "  def initialize\n",
    "    @filename = \"#{ENV['HOME']}/.vimrc\"\n",
    "  end\n",
    "  \n",
    "  def to_path\n",
    "    @filename\n",
    "  end\n",
    "end"
   ]
  },
  {
   "cell_type": "code",
   "execution_count": 8,
   "metadata": {},
   "outputs": [
    {
     "data": {
      "text/plain": [
       "#<EmacsConfigFile:0x000000559842e170 @filename=\"/home/demouser/.vimrc\">"
      ]
     },
     "execution_count": 8,
     "metadata": {},
     "output_type": "execute_result"
    }
   ],
   "source": [
    "emacs_config = EmacsConfigFile.new"
   ]
  },
  {
   "cell_type": "code",
   "execution_count": 9,
   "metadata": {},
   "outputs": [
    {
     "name": "stderr",
     "output_type": "stream",
     "text": [
      "<main>: warning: IO#lines is deprecated; use #each_line instead\n"
     ]
    },
    {
     "data": {
      "text/plain": [
       "740"
      ]
     },
     "execution_count": 9,
     "metadata": {},
     "output_type": "execute_result"
    }
   ],
   "source": [
    "File.open(emacs_config).lines.count"
   ]
  },
  {
   "cell_type": "markdown",
   "metadata": {},
   "source": [
    "这是因为，`EmacsConfig`类定义了转换方法`#to_path`，而`File#open`又会在参数对象上调用`#to_path`方法，以便得到文件名字符串。这样一来，这个非字符串对象也能工作得很好。"
   ]
  },
  {
   "cell_type": "markdown",
   "metadata": {},
   "source": [
    "下面的例子可以说明两者（隐式转化和显示转化的区别）。`Time`对象并非`String`，有太多方式可以将`Time`转化成`String`了。另外，这两种类型还是不想管的，因此`Time`只预定义了显式的类型转换方法`#to_s`，而没有定义隐式版的`#to_str`"
   ]
  },
  {
   "cell_type": "code",
   "execution_count": 10,
   "metadata": {},
   "outputs": [
    {
     "data": {
      "text/plain": [
       "false"
      ]
     },
     "execution_count": 10,
     "metadata": {},
     "output_type": "execute_result"
    }
   ],
   "source": [
    "now = Time.now\n",
    "now.respond_to?(:to_s)\n",
    "now.to_s\n",
    "now.respond_to?(:to_str)"
   ]
  },
  {
   "cell_type": "code",
   "execution_count": 11,
   "metadata": {},
   "outputs": [
    {
     "data": {
      "text/plain": [
       "\"hello, world\""
      ]
     },
     "execution_count": 11,
     "metadata": {},
     "output_type": "execute_result"
    }
   ],
   "source": [
    "\"hello, \" + \"world\""
   ]
  },
  {
   "cell_type": "markdown",
   "metadata": {},
   "source": [
    "如果`#to_str`所做的一切就是返回字符串自身，那么它看起来意义不大。`#to_str`的意义在于：许多`Ruby`方法都期望得到字符串输入，它们隐式地在输入对象上调用`#to_str`方法（这正是“隐式类型转换”这个术语的来源）"
   ]
  },
  {
   "cell_type": "code",
   "execution_count": 12,
   "metadata": {},
   "outputs": [
    {
     "data": {
      "text/plain": [
       "\"I am a String\""
      ]
     },
     "execution_count": 12,
     "metadata": {},
     "output_type": "execute_result"
    }
   ],
   "source": [
    "\"I am a String\".to_str"
   ]
  },
  {
   "cell_type": "code",
   "execution_count": 13,
   "metadata": {},
   "outputs": [
    {
     "data": {
      "text/plain": [
       ":to_s"
      ]
     },
     "execution_count": 13,
     "metadata": {},
     "output_type": "execute_result"
    }
   ],
   "source": [
    "class ArticleTitle\n",
    "  def initialize(text)\n",
    "    @text = text\n",
    "  end\n",
    "  \n",
    "  def slug\n",
    "    @text.strip.tr_s(\"A-Za-z0-0\", \"-\").downcase\n",
    "  end\n",
    "  \n",
    "  def to_str\n",
    "    @text\n",
    "  end\n",
    "  \n",
    "  def to_s\n",
    "    to_str\n",
    "  end\n",
    "end"
   ]
  },
  {
   "cell_type": "code",
   "execution_count": 14,
   "metadata": {},
   "outputs": [
    {
     "data": {
      "text/plain": [
       "\"Today's futureA Modest Proposal\""
      ]
     },
     "execution_count": 14,
     "metadata": {},
     "output_type": "execute_result"
    }
   ],
   "source": [
    "title = ArticleTitle.new(\"A Modest Proposal\")\n",
    "\"Today's future\" +title"
   ]
  },
  {
   "cell_type": "markdown",
   "metadata": {},
   "source": [
    "你可能还记得我说过Ruby核心类从来不会自动调用显式类型转换方法，但仍有例外，有一种情况下，Ruby语言却会自动调用显式类型转换方法。"
   ]
  },
  {
   "cell_type": "code",
   "execution_count": 15,
   "metadata": {},
   "outputs": [
    {
     "data": {
      "text/plain": [
       "\"The time is now: 2019-01-12 15:29:02 +0000\""
      ]
     },
     "execution_count": 15,
     "metadata": {},
     "output_type": "execute_result"
    }
   ],
   "source": [
    "\"The time is now: #{Time.now}\""
   ]
  },
  {
   "cell_type": "code",
   "execution_count": 16,
   "metadata": {},
   "outputs": [
    {
     "name": "stdout",
     "output_type": "stream",
     "text": [
      "Please hold while you are connected to Operator\n"
     ]
    }
   ],
   "source": [
    "PHONE_EXTENSIONS=[\"Operator\", \"Sales\", \"Customer Service\"]\n",
    "\n",
    "def dial_extension(dialed_number)\n",
    "  dialed_number = dialed_number.to_i\n",
    "  extension = PHONE_EXTENSIONS[dialed_number]\n",
    "  puts \"Please hold while you are connected to #{extension}\"\n",
    "end\n",
    "\n",
    "dial_extension(nil)"
   ]
  },
  {
   "cell_type": "markdown",
   "metadata": {},
   "source": [
    "如果只关心得到预期输入类型而不深究其源类型，则可以使用显式类型转化方法。"
   ]
  },
  {
   "cell_type": "code",
   "execution_count": 17,
   "metadata": {},
   "outputs": [
    {
     "data": {
      "text/plain": [
       ":set_centrifuge_speed"
      ]
     },
     "execution_count": 17,
     "metadata": {},
     "output_type": "execute_result"
    }
   ],
   "source": [
    "def set_centrifuge_speed(new_rpm)\n",
    "  new_rpm = new_rpm.to_int\n",
    "  puts \"Adjusting centrifuge to #{new_rpm} RPM\"\n",
    "end"
   ]
  },
  {
   "cell_type": "code",
   "execution_count": 18,
   "metadata": {},
   "outputs": [
    {
     "ename": "NoMethodError",
     "evalue": "undefined method `to_int' for nil:NilClass",
     "output_type": "error",
     "traceback": [
      "\u001b[31mNoMethodError\u001b[0m: undefined method `to_int' for nil:NilClass",
      "\u001b[37m<main>:1:in `set_centrifuge_speed'\u001b[0m",
      "\u001b[37m<main>:1:in `<main>'\u001b[0m",
      "\u001b[37m/usr/local/lib64/ruby/gems/2.5.0/gems/iruby-0.3/lib/iruby/backend.rb:44:in `eval'\u001b[0m",
      "\u001b[37m/usr/local/lib64/ruby/gems/2.5.0/gems/iruby-0.3/lib/iruby/backend.rb:44:in `eval'\u001b[0m",
      "\u001b[37m/usr/local/lib64/ruby/gems/2.5.0/gems/iruby-0.3/lib/iruby/backend.rb:12:in `eval'\u001b[0m",
      "\u001b[37m/usr/local/lib64/ruby/gems/2.5.0/gems/iruby-0.3/lib/iruby/kernel.rb:87:in `execute_request'\u001b[0m",
      "\u001b[37m/usr/local/lib64/ruby/gems/2.5.0/gems/iruby-0.3/lib/iruby/kernel.rb:47:in `dispatch'\u001b[0m",
      "\u001b[37m/usr/local/lib64/ruby/gems/2.5.0/gems/iruby-0.3/lib/iruby/kernel.rb:37:in `run'\u001b[0m",
      "\u001b[37m/usr/local/lib64/ruby/gems/2.5.0/gems/iruby-0.3/lib/iruby/command.rb:70:in `run_kernel'\u001b[0m",
      "\u001b[37m/usr/local/lib64/ruby/gems/2.5.0/gems/iruby-0.3/lib/iruby/command.rb:34:in `run'\u001b[0m",
      "\u001b[37m/usr/local/lib64/ruby/gems/2.5.0/gems/iruby-0.3/bin/iruby:5:in `<top (required)>'\u001b[0m",
      "\u001b[37m/usr/local/bin/iruby:23:in `load'\u001b[0m",
      "\u001b[37m/usr/local/bin/iruby:23:in `<main>'\u001b[0m"
     ]
    }
   ],
   "source": [
    "bad_input = nil\n",
    "set_centrifuge_speed(bad_input)"
   ]
  },
  {
   "cell_type": "code",
   "execution_count": 19,
   "metadata": {},
   "outputs": [
    {
     "data": {
      "text/plain": [
       "\"fe\""
      ]
     },
     "execution_count": 19,
     "metadata": {},
     "output_type": "execute_result"
    }
   ],
   "source": [
    "aaa = nil\n",
    "\"fe#{aaa}\""
   ]
  },
  {
   "cell_type": "markdown",
   "metadata": {},
   "source": [
    "某种情况下，如果方法的参数不符合预期类型或者与预期不接近，就会为程序带来隐患，这时最好用隐式类型转换"
   ]
  },
  {
   "cell_type": "markdown",
   "metadata": {},
   "source": [
    "这里的隐式类型转换起到了“门卫”的作用：用以确保方法接受到的参数要么是`Integer`，要么可以很好地被转化为`Integer`。当参数不满足条件时，`NoMethodError`清楚地告诉了代码调用者调用非法。"
   ]
  },
  {
   "cell_type": "code",
   "execution_count": 20,
   "metadata": {},
   "outputs": [
    {
     "data": {
      "text/plain": [
       ":draw_line"
      ]
     },
     "execution_count": 20,
     "metadata": {},
     "output_type": "execute_result"
    }
   ],
   "source": [
    "def draw_line(start, endpoint)\n",
    "  start = start.to_coords if start.respond_to?(:to_coords)\n",
    "  start = start.to_ary\n",
    "end"
   ]
  },
  {
   "cell_type": "code",
   "execution_count": 21,
   "metadata": {},
   "outputs": [
    {
     "data": {
      "text/plain": [
       ":to_coords"
      ]
     },
     "execution_count": 21,
     "metadata": {},
     "output_type": "execute_result"
    }
   ],
   "source": [
    "class Point\n",
    "  attr_reader :x, :y, :name\n",
    "  def initialize(x, y, name = nil)\n",
    "    @x, @y, @name = x, y, name\n",
    "  end\n",
    "  \n",
    "  def to_coords\n",
    "    [x, y]\n",
    "  end\n",
    "end"
   ]
  },
  {
   "cell_type": "code",
   "execution_count": 22,
   "metadata": {},
   "outputs": [
    {
     "data": {
      "text/plain": [
       "[23, 37]"
      ]
     },
     "execution_count": 22,
     "metadata": {},
     "output_type": "execute_result"
    }
   ],
   "source": [
    "start = Point.new(23,37)\n",
    "endpoint = [45, 89]\n",
    "\n",
    "draw_line(start, endpoint)"
   ]
  },
  {
   "cell_type": "markdown",
   "metadata": {},
   "source": [
    "方法就可以提供这样的接口：既可以接受普通输入，还能向前兼容那些更具语义的输入（如Point）"
   ]
  },
  {
   "cell_type": "code",
   "execution_count": 23,
   "metadata": {},
   "outputs": [
    {
     "data": {
      "text/plain": [
       ":record_number"
      ]
     },
     "execution_count": 23,
     "metadata": {},
     "output_type": "execute_result"
    }
   ],
   "source": [
    "require 'forwardable'\n",
    "\n",
    "class RecordCollection\n",
    "  attr_accessor :records\n",
    "  extend Forwardable\n",
    "  def_delegator :@records, :[], :record_number\n",
    "end"
   ]
  },
  {
   "cell_type": "code",
   "execution_count": 24,
   "metadata": {},
   "outputs": [
    {
     "data": {
      "text/plain": [
       "4"
      ]
     },
     "execution_count": 24,
     "metadata": {},
     "output_type": "execute_result"
    }
   ],
   "source": [
    "r = RecordCollection.new\n",
    "r.records = [4,5,6]\n",
    "r.record_number(0)  # => 4"
   ]
  },
  {
   "cell_type": "markdown",
   "metadata": {},
   "source": [
    "For example, say you have a class RecordCollection which contains an array @records. You could provide the lookup method record_number(), which simpley calls [] on the `records` array, like this"
   ]
  },
  {
   "cell_type": "markdown",
   "metadata": {},
   "source": [
    "我们不能保证所有输入都是`Meter`类型而非Integer类型。我们也想支持那些能够用英尺表示，且能在运算中混合使用的度量单位。我们得想办法隐式地将`Meter`转换为`Feet`，以及将`Feet`转换为`Meter`"
   ]
  },
  {
   "cell_type": "code",
   "execution_count": 25,
   "metadata": {},
   "outputs": [
    {
     "data": {
      "text/plain": [
       ":to_meters"
      ]
     },
     "execution_count": 25,
     "metadata": {},
     "output_type": "execute_result"
    }
   ],
   "source": [
    "class Meters\n",
    "  def to_meters\n",
    "  end\n",
    "end\n",
    "\n",
    "class Feet\n",
    "  def to_meters\n",
    "  end\n",
    "end"
   ]
  },
  {
   "cell_type": "markdown",
   "metadata": {},
   "source": [
    "现在汇报还把变化，再也不用担心单位混淆了。因为我们确信任何不支持`to_meters`协议的对象都将触发`NoMethodError`异常"
   ]
  },
  {
   "cell_type": "markdown",
   "metadata": {},
   "source": [
    "虽然`Integer()`可转换更多参数类型，但是对待字符串参数，它却比`#to_i`还挑剔"
   ]
  },
  {
   "cell_type": "code",
   "execution_count": 26,
   "metadata": {},
   "outputs": [
    {
     "data": {
      "text/plain": [
       "0"
      ]
     },
     "execution_count": 26,
     "metadata": {},
     "output_type": "execute_result"
    }
   ],
   "source": [
    "\"ham sandwich\".to_i"
   ]
  },
  {
   "cell_type": "markdown",
   "metadata": {},
   "source": [
    "无论输入的原有类型是什么，你都渴望将其转换成特定原生类型。例如，无论输入的是`Float`类型的数字还是`nil`，甚至是十六进制字符串，只要可行，就将其转换成`Integer`类型"
   ]
  },
  {
   "cell_type": "markdown",
   "metadata": {},
   "source": [
    "Ruby的类型转换方法可不止前面章节谈到的那些`#to_*`方法，Ruby核心模块还提供了一系列命名独特的强制类型转换方法，如`Array(), Float(), String(), Integer(),Rational()和Complex()`。通常，相对于对应`#to_*`版本的转换方法，它们可以转换更多的输入类型。"
   ]
  },
  {
   "cell_type": "markdown",
   "metadata": {},
   "source": [
    "部分标准库也提供了强制类型转换方法"
   ]
  },
  {
   "cell_type": "code",
   "execution_count": 27,
   "metadata": {},
   "outputs": [
    {
     "name": "stdout",
     "output_type": "stream",
     "text": [
      "#<Pathname:/etc/hosts>\n",
      "#<Pathname:/etc/hosts>\n",
      "#<URI::HTTP http://example.org>\n",
      "#<URI::HTTP http://example.org>\n"
     ]
    },
    {
     "data": {
      "text/plain": [
       "#<URI::HTTP http://example.org>"
      ]
     },
     "execution_count": 27,
     "metadata": {},
     "output_type": "execute_result"
    }
   ],
   "source": [
    "require 'pathname'\n",
    "require 'uri'\n",
    "\n",
    "path = Pathname.new(\"/etc/hosts\")\n",
    "p Pathname(path)\n",
    "p Pathname(\"/etc/hosts\")\n",
    "\n",
    "uri_str = \"http://example.org\"\n",
    "uri = URI.parse(uri_str)\n",
    "p URI(uri_str)\n",
    "p URI(uri)"
   ]
  },
  {
   "cell_type": "markdown",
   "metadata": {},
   "source": [
    "下面的方法接受文件名为参数，报告文件大小。这里的文件名可以是`Pathname`对象，也可以是其他任何可悲转换为`Pathname`的对象"
   ]
  },
  {
   "cell_type": "code",
   "execution_count": 28,
   "metadata": {},
   "outputs": [
    {
     "data": {
      "text/plain": [
       ":file_size"
      ]
     },
     "execution_count": 28,
     "metadata": {},
     "output_type": "execute_result"
    }
   ],
   "source": [
    "def file_size(filename)\n",
    "  filename = Pathname(filename)\n",
    "  filename.size\n",
    "end"
   ]
  },
  {
   "cell_type": "code",
   "execution_count": 29,
   "metadata": {},
   "outputs": [
    {
     "data": {
      "text/plain": [
       "1223"
      ]
     },
     "execution_count": 29,
     "metadata": {},
     "output_type": "execute_result"
    }
   ],
   "source": [
    "file_size(Pathname.new(\"/etc/hosts\"))\n",
    "file_size(\"/etc/hosts\")"
   ]
  },
  {
   "cell_type": "markdown",
   "metadata": {},
   "source": [
    "`Kernel#Array`会不遗余力地将输入转换为数组"
   ]
  },
  {
   "cell_type": "code",
   "execution_count": 30,
   "metadata": {},
   "outputs": [
    {
     "data": {
      "text/plain": [
       "[\"foo\"]"
      ]
     },
     "execution_count": 30,
     "metadata": {},
     "output_type": "execute_result"
    }
   ],
   "source": [
    "Array(\"foo\")"
   ]
  },
  {
   "cell_type": "code",
   "execution_count": 31,
   "metadata": {},
   "outputs": [
    {
     "data": {
      "text/plain": [
       "[1, 2, 3]"
      ]
     },
     "execution_count": 31,
     "metadata": {},
     "output_type": "execute_result"
    }
   ],
   "source": [
    "Array([1,2,3])"
   ]
  },
  {
   "cell_type": "code",
   "execution_count": 32,
   "metadata": {},
   "outputs": [
    {
     "data": {
      "text/plain": [
       "[]"
      ]
     },
     "execution_count": 32,
     "metadata": {},
     "output_type": "execute_result"
    }
   ],
   "source": [
    "Array([])"
   ]
  },
  {
   "cell_type": "code",
   "execution_count": 33,
   "metadata": {},
   "outputs": [
    {
     "data": {
      "text/plain": [
       "[]"
      ]
     },
     "execution_count": 33,
     "metadata": {},
     "output_type": "execute_result"
    }
   ],
   "source": [
    "Array(nil)"
   ]
  },
  {
   "cell_type": "code",
   "execution_count": 34,
   "metadata": {},
   "outputs": [
    {
     "data": {
      "text/plain": [
       "[[:a, 1], [:b, 2]]"
      ]
     },
     "execution_count": 34,
     "metadata": {},
     "output_type": "execute_result"
    }
   ],
   "source": [
    "Array({:a =>  1, :b => 2})"
   ]
  },
  {
   "cell_type": "code",
   "execution_count": 35,
   "metadata": {},
   "outputs": [
    {
     "data": {
      "text/plain": [
       "[1, 2, 3, 4, 5]"
      ]
     },
     "execution_count": 35,
     "metadata": {},
     "output_type": "execute_result"
    }
   ],
   "source": [
    "Array(1..5)"
   ]
  },
  {
   "cell_type": "code",
   "execution_count": 36,
   "metadata": {},
   "outputs": [
    {
     "data": {
      "text/plain": [
       ":log_reading"
      ]
     },
     "execution_count": 36,
     "metadata": {},
     "output_type": "execute_result"
    }
   ],
   "source": [
    "def log_reading(reading_or_readings)\n",
    "  readings = Array(reading_or_readings)\n",
    "  readings.each do |reading|\n",
    "    puts \"[READING] %3.2f\" % reading.to_f\n",
    "  end\n",
    "end"
   ]
  },
  {
   "cell_type": "code",
   "execution_count": 37,
   "metadata": {},
   "outputs": [
    {
     "name": "stdout",
     "output_type": "stream",
     "text": [
      "[READING] 3.14\n"
     ]
    },
    {
     "data": {
      "text/plain": [
       "[3.14]"
      ]
     },
     "execution_count": 37,
     "metadata": {},
     "output_type": "execute_result"
    }
   ],
   "source": [
    "log_reading(3.14)"
   ]
  },
  {
   "cell_type": "code",
   "execution_count": 38,
   "metadata": {},
   "outputs": [
    {
     "data": {
      "text/plain": [
       "[]"
      ]
     },
     "execution_count": 38,
     "metadata": {},
     "output_type": "execute_result"
    }
   ],
   "source": [
    "log_reading([])"
   ]
  },
  {
   "cell_type": "code",
   "execution_count": 39,
   "metadata": {},
   "outputs": [
    {
     "name": "stdout",
     "output_type": "stream",
     "text": [
      "[READING] 87.50\n",
      "[READING] 45.88\n",
      "[READING] 22.00\n"
     ]
    },
    {
     "data": {
      "text/plain": [
       "[87.5, 45.8765, 22]"
      ]
     },
     "execution_count": 39,
     "metadata": {},
     "output_type": "execute_result"
    }
   ],
   "source": [
    "log_reading([87.5, 45.8765, 22])"
   ]
  },
  {
   "cell_type": "code",
   "execution_count": 40,
   "metadata": {},
   "outputs": [
    {
     "data": {
      "text/plain": [
       "[]"
      ]
     },
     "execution_count": 40,
     "metadata": {},
     "output_type": "execute_result"
    }
   ],
   "source": [
    "log_reading(nil)"
   ]
  },
  {
   "cell_type": "markdown",
   "metadata": {},
   "source": [
    "一个对象提出的要求越少，就越容易被使用。若一个对象能为多种不同类型的的对象提供服务，那么将它作为一个辅助对象，在履行自身职责的时候，就不会向周围对象提出要求。"
   ]
  },
  {
   "cell_type": "markdown",
   "metadata": {},
   "source": [
    "我们将采用Ruby核心类和标准库中强制类型转换方法的风格来定义一个名称特别的转换方法，它们目标类Point来命名"
   ]
  },
  {
   "cell_type": "code",
   "execution_count": 41,
   "metadata": {},
   "outputs": [
    {
     "data": {
      "text/plain": [
       "Graphics::Point"
      ]
     },
     "execution_count": 41,
     "metadata": {},
     "output_type": "execute_result"
    }
   ],
   "source": [
    "module Graphics\n",
    "  module Conversions\n",
    "    module_function\n",
    "    def Point(*args)\n",
    "      case args.first\n",
    "      when Point then args.first\n",
    "      when Array then Point.new(*args.first)\n",
    "      when Integer then Point.new(*args)\n",
    "      when String then\n",
    "        Point.new(*args.first.split(':').map(&:to_i))\n",
    "      else\n",
    "        raise TypeError, \"Cannot convert #{args.inspect} to Point\"\n",
    "      end\n",
    "      end\n",
    "      end\n",
    "        Point = Struct.new(:x, :y) do\n",
    "          def inspect\n",
    "            \"#{x}:#{y}\"\n",
    "          end\n",
    "        end\n",
    "      end"
   ]
  },
  {
   "cell_type": "code",
   "execution_count": 42,
   "metadata": {},
   "outputs": [
    {
     "ename": "TypeError",
     "evalue": "Cannot convert [#<Point:0x00000055982d8c30 @x=2, @y=3, @name=nil>] to Point",
     "output_type": "error",
     "traceback": [
      "\u001b[31mTypeError\u001b[0m: Cannot convert [#<Point:0x00000055982d8c30 @x=2, @y=3, @name=nil>] to Point",
      "\u001b[37m<main>:11:in `Point'\u001b[0m",
      "\u001b[37m<main>:2:in `<main>'\u001b[0m",
      "\u001b[37m/usr/local/lib64/ruby/gems/2.5.0/gems/iruby-0.3/lib/iruby/backend.rb:44:in `eval'\u001b[0m",
      "\u001b[37m/usr/local/lib64/ruby/gems/2.5.0/gems/iruby-0.3/lib/iruby/backend.rb:44:in `eval'\u001b[0m",
      "\u001b[37m/usr/local/lib64/ruby/gems/2.5.0/gems/iruby-0.3/lib/iruby/backend.rb:12:in `eval'\u001b[0m",
      "\u001b[37m/usr/local/lib64/ruby/gems/2.5.0/gems/iruby-0.3/lib/iruby/kernel.rb:87:in `execute_request'\u001b[0m",
      "\u001b[37m/usr/local/lib64/ruby/gems/2.5.0/gems/iruby-0.3/lib/iruby/kernel.rb:47:in `dispatch'\u001b[0m",
      "\u001b[37m/usr/local/lib64/ruby/gems/2.5.0/gems/iruby-0.3/lib/iruby/kernel.rb:37:in `run'\u001b[0m",
      "\u001b[37m/usr/local/lib64/ruby/gems/2.5.0/gems/iruby-0.3/lib/iruby/command.rb:70:in `run_kernel'\u001b[0m",
      "\u001b[37m/usr/local/lib64/ruby/gems/2.5.0/gems/iruby-0.3/lib/iruby/command.rb:34:in `run'\u001b[0m",
      "\u001b[37m/usr/local/lib64/ruby/gems/2.5.0/gems/iruby-0.3/bin/iruby:5:in `<top (required)>'\u001b[0m",
      "\u001b[37m/usr/local/bin/iruby:23:in `load'\u001b[0m",
      "\u001b[37m/usr/local/bin/iruby:23:in `<main>'\u001b[0m"
     ]
    }
   ],
   "source": [
    "include Graphics\n",
    "include Graphics::Conversions\n",
    "Point(Point.new(2,3))\n",
    "Point([9,7])\n",
    "Point(3,5)\n",
    "Point(\"8:10\")"
   ]
  },
  {
   "cell_type": "markdown",
   "metadata": {},
   "source": [
    "接着我们就可以在代码中使用该转换方法了，尤其是和外来输入打交道的时候。无论何处，当不能确定输入类型时候，我们要做的不是浪费时间来摸清各种可能性，而是简单地用`Point()`方法将其包起来。然后，既然知道只会和`Point`对象打交道，便可将注意力转移到手边的业务逻辑上来。"
   ]
  },
  {
   "cell_type": "markdown",
   "metadata": {},
   "source": [
    "`module_function`做了两件事，首先，将紧跟其后的方法都标注成了私有方法；其次，让紧跟其后的方法成了低昂前模块的单例方法"
   ]
  },
  {
   "cell_type": "markdown",
   "metadata": {},
   "source": [
    "通过将#Point标注成私有方法，我们就可以将其封装在内部，从而有别于那些共有的接口方法。举个例子，假设有一个`canvas`对象已经引入了`Conversations`模块，那么应该没必要在该对象之外再来调用`canvas.Point(1,2)`吧。"
   ]
  },
  {
   "cell_type": "code",
   "execution_count": 43,
   "metadata": {},
   "outputs": [
    {
     "ename": "SyntaxError",
     "evalue": "<main>:4: syntax error, unexpected keyword_when, expecting ')'\n    when ->(arg) {arg.respond_to?(:to...\n    ^~~~\n<main>:4: syntax error, unexpected ')', expecting '}'\n...g) {arg.respond_to?(:to_point))}\n...                              ^\n<main>:6: syntax error, unexpected keyword_when, expecting '}'\n    when ->(arg) {arg.respond_to?(:to...\n    ^~~~\n<main>:8: syntax error, unexpected keyword_else, expecting '}'\n    else\n    ^~~~\n<main>:10: syntax error, unexpected keyword_end, expecting '}'\n    end\n    ^~~",
     "output_type": "error",
     "traceback": [
      "\u001b[31mSyntaxError\u001b[0m: <main>:4: syntax error, unexpected keyword_when, expecting ')'\n    when ->(arg) {arg.respond_to?(:to...\n    ^~~~\n<main>:4: syntax error, unexpected ')', expecting '}'\n...g) {arg.respond_to?(:to_point))}\n...                              ^\n<main>:6: syntax error, unexpected keyword_when, expecting '}'\n    when ->(arg) {arg.respond_to?(:to...\n    ^~~~\n<main>:8: syntax error, unexpected keyword_else, expecting '}'\n    else\n    ^~~~\n<main>:10: syntax error, unexpected keyword_end, expecting '}'\n    end\n    ^~~",
      "\u001b[37m/usr/local/lib64/ruby/gems/2.5.0/gems/iruby-0.3/lib/iruby/backend.rb:44:in `eval'\u001b[0m",
      "\u001b[37m/usr/local/lib64/ruby/gems/2.5.0/gems/iruby-0.3/lib/iruby/backend.rb:44:in `eval'\u001b[0m",
      "\u001b[37m/usr/local/lib64/ruby/gems/2.5.0/gems/iruby-0.3/lib/iruby/backend.rb:12:in `eval'\u001b[0m",
      "\u001b[37m/usr/local/lib64/ruby/gems/2.5.0/gems/iruby-0.3/lib/iruby/kernel.rb:87:in `execute_request'\u001b[0m",
      "\u001b[37m/usr/local/lib64/ruby/gems/2.5.0/gems/iruby-0.3/lib/iruby/kernel.rb:47:in `dispatch'\u001b[0m",
      "\u001b[37m/usr/local/lib64/ruby/gems/2.5.0/gems/iruby-0.3/lib/iruby/kernel.rb:37:in `run'\u001b[0m",
      "\u001b[37m/usr/local/lib64/ruby/gems/2.5.0/gems/iruby-0.3/lib/iruby/command.rb:70:in `run_kernel'\u001b[0m",
      "\u001b[37m/usr/local/lib64/ruby/gems/2.5.0/gems/iruby-0.3/lib/iruby/command.rb:34:in `run'\u001b[0m",
      "\u001b[37m/usr/local/lib64/ruby/gems/2.5.0/gems/iruby-0.3/bin/iruby:5:in `<top (required)>'\u001b[0m",
      "\u001b[37m/usr/local/bin/iruby:23:in `load'\u001b[0m",
      "\u001b[37m/usr/local/bin/iruby:23:in `<main>'\u001b[0m"
     ]
    }
   ],
   "source": [
    "def Point(*args)\n",
    "  case args.first\n",
    "    when Integer then Point.new(*args)\n",
    "    when String then Point.new(*(args.first.split(':').map(&:to_i))\n",
    "    when ->(arg) {arg.respond_to?(:to_point))}\n",
    "      args.first.to_point\n",
    "    when ->(arg) {arg.respond_to?(:to_ary)}\n",
    "      Point.new(*args.first.to_ary)\n",
    "    else\n",
    "      raise TypeError, \"Cannot convert #{args.inspect} to Point\"\n",
    "    end\n",
    "    end"
   ]
  },
  {
   "cell_type": "markdown",
   "metadata": {},
   "source": [
    "  1. 标准库`#to_ary`，匹配数组，以及不是数组但可以转换为数组的对象\n",
    "  2. 我们库中的`#to_point`，匹配那些定义了将自己转换为Point的对象"
   ]
  },
  {
   "cell_type": "markdown",
   "metadata": {},
   "source": [
    "现在我们为程序提供了两个扩展点。我们不再排斥类数组对象（就差从`Array`继承了），并且现在的客户端代码可以自定义`#to_point`方法了（而非原来那样强制输入类型必须为`Point`）。"
   ]
  },
  {
   "cell_type": "code",
   "execution_count": 44,
   "metadata": {},
   "outputs": [
    {
     "data": {
      "text/plain": [
       "#<Proc:0x00000055981705c8@<main>:0 (lambda)>"
      ]
     },
     "execution_count": 44,
     "metadata": {},
     "output_type": "execute_result"
    }
   ],
   "source": [
    "even = ->(x) {(x % 2) == 0}"
   ]
  },
  {
   "cell_type": "code",
   "execution_count": 45,
   "metadata": {},
   "outputs": [
    {
     "data": {
      "text/plain": [
       "true"
      ]
     },
     "execution_count": 45,
     "metadata": {},
     "output_type": "execute_result"
    }
   ],
   "source": [
    "even === 4"
   ]
  },
  {
   "cell_type": "code",
   "execution_count": 46,
   "metadata": {},
   "outputs": [
    {
     "data": {
      "text/plain": [
       "false"
      ]
     },
     "execution_count": 46,
     "metadata": {},
     "output_type": "execute_result"
    }
   ],
   "source": [
    "even === 9"
   ]
  },
  {
   "cell_type": "markdown",
   "metadata": {},
   "source": [
    "`case`语句使用三等运算符`（#===）` 来判定分支是否匹配，而`Ruby`的`Proc`对象正好定义了三等运算符（`#call`的别名）"
   ]
  },
  {
   "cell_type": "code",
   "execution_count": 47,
   "metadata": {},
   "outputs": [
    {
     "data": {
      "text/plain": [
       ":ring_warning_bell"
      ]
     },
     "execution_count": 47,
     "metadata": {},
     "output_type": "execute_result"
    }
   ],
   "source": [
    "class TrafficLight\n",
    "  def change_to(state)\n",
    "    @state = state\n",
    "  end\n",
    "  \n",
    "  def signal\n",
    "    case @state\n",
    "    when \"stop\" then turn_on_lamp(:red)\n",
    "    when \"caution\"\n",
    "      turn_on_lamp(:yellow)\n",
    "      rignt_warning_bell\n",
    "    when \"proceed\" then turn_on_lamp(:green)\n",
    "    end\n",
    "    end\n",
    "  \n",
    "  def next_state\n",
    "    case @state\n",
    "    when \"stop\" then \"proceed\"\n",
    "    when \"caution\" then \"stop\"\n",
    "    when \"proceed\" then \"caution\"\n",
    "    end\n",
    "    end\n",
    "      \n",
    "  def turn_on_lamp(color)\n",
    "    puts \"Turning on #{color} lamp\"\n",
    "  end\n",
    "      \n",
    "  def ring_warning_bell\n",
    "    puts \"Ring ring ring\"\n",
    "  end\n",
    "end"
   ]
  },
  {
   "cell_type": "code",
   "execution_count": 48,
   "metadata": {},
   "outputs": [
    {
     "name": "stdout",
     "output_type": "stream",
     "text": [
      "Next state:nil\n",
      "Next state:nil\n"
     ]
    }
   ],
   "source": [
    "light = TrafficLight.new\n",
    "light.change_to(\"PROCEED\")\n",
    "light.signal\n",
    "puts \"Next state:#{light.next_state.inspect}\"\n",
    "\n",
    "light.change_to(:stop)\n",
    "light.signal\n",
    "puts \"Next state:#{light.next_state.inspect}\""
   ]
  },
  {
   "cell_type": "markdown",
   "metadata": {},
   "source": [
    "该`case`并无`else`分支，这就意味着如果`@state`不是`stop`、`caution`或者`proceed`其中之一时，该方法会悄然出错。"
   ]
  },
  {
   "cell_type": "markdown",
   "metadata": {},
   "source": [
    "我们可以通过改进`#change_to`方法，让它防范非法输入。"
   ]
  },
  {
   "cell_type": "code",
   "execution_count": 49,
   "metadata": {},
   "outputs": [
    {
     "data": {
      "text/plain": [
       ":change_to"
      ]
     },
     "execution_count": 49,
     "metadata": {},
     "output_type": "execute_result"
    }
   ],
   "source": [
    "def change_to(state)\n",
    "  raise ArgementError unless [\"stop\", \"proceed\", \"caution\"].include?(state)\n",
    "  @state = state\n",
    "end"
   ]
  },
  {
   "cell_type": "markdown",
   "metadata": {},
   "source": [
    "如果分别用独立的对象来表示红绿灯状态，会不会好点呢"
   ]
  },
  {
   "cell_type": "code",
   "execution_count": 56,
   "metadata": {},
   "outputs": [
    {
     "data": {
      "text/plain": [
       ":next_state"
      ]
     },
     "execution_count": 56,
     "metadata": {},
     "output_type": "execute_result"
    }
   ],
   "source": [
    "class TrafficLight\n",
    "  State = Struct.new(:name) do\n",
    "    def to_s\n",
    "      name\n",
    "    end\n",
    "  end\n",
    "  \n",
    "  VALID_STATES = [\n",
    "    STOP = State.new(\"stop\"),\n",
    "    CAUTION = State.new(\"caution\"),\n",
    "    PROCEED = State.new(\"proceed\")\n",
    "    ]\n",
    "  \n",
    "  def change_to(state)\n",
    "    raise ArgumentError unless VALID_STATES.include?(state)\n",
    "    @state = state\n",
    "    end\n",
    "    \n",
    "  def signal\n",
    "    case @state\n",
    "    when STOP then turn_on_lamp(:red)\n",
    "    when CAUTION\n",
    "      turn_on_lamp(:yellow)\n",
    "      ring_warning_bell\n",
    "    when PROCEED then turn_on_lamp(:green)\n",
    "    end\n",
    "    end\n",
    "  \n",
    "  def next_state\n",
    "    case @state\n",
    "    when STOP then 'proceed'\n",
    "    when CAUTION then 'stop'\n",
    "    when PROCEED then 'caution'\n",
    "    end\n",
    "    end    \n",
    "    end"
   ]
  },
  {
   "cell_type": "markdown",
   "metadata": {},
   "source": [
    "我们再次探讨`state`的定义。这次将其申明为子类，而不再是实例对象。"
   ]
  },
  {
   "cell_type": "code",
   "execution_count": 65,
   "metadata": {},
   "outputs": [
    {
     "data": {
      "text/plain": [
       ":next_state"
      ]
     },
     "execution_count": 65,
     "metadata": {},
     "output_type": "execute_result"
    }
   ],
   "source": [
    "class TrafficLight\n",
    "  class State\n",
    "    def to_s\n",
    "      name\n",
    "    end\n",
    "    \n",
    "    def name\n",
    "      self.class.name.split('::').last.downcase\n",
    "    end\n",
    "    \n",
    "    def signal(traffic_light)\n",
    "      traffic_light.turn_on_lamp(color.to_sym)\n",
    "    end\n",
    "    \n",
    "  end\n",
    "    class Stop < State\n",
    "      def color; 'red'; end\n",
    "      \n",
    "      def next_state; Proceed.new; end\n",
    "    end\n",
    "    \n",
    "    class Caution < State\n",
    "      def color; 'yellow'; end\n",
    "      def next_state;  Stop.new; end\n",
    "    \n",
    "    \n",
    "    \n",
    "    def signal(traffic_light)\n",
    "      super\n",
    "      traffic_light.ring_warning_bell\n",
    "    end\n",
    "  end\n",
    "  \n",
    "  class Proceed < State\n",
    "    def color; 'green'; end\n",
    "    \n",
    "    def next_state; Caution.new; end\n",
    "  end\n",
    "end"
   ]
  },
  {
   "cell_type": "code",
   "execution_count": 61,
   "metadata": {},
   "outputs": [
    {
     "data": {
      "text/plain": [
       ":signal"
      ]
     },
     "execution_count": 61,
     "metadata": {},
     "output_type": "execute_result"
    }
   ],
   "source": [
    "class TrafficLight\n",
    "  \n",
    "  def next_state\n",
    "    @state.next_state\n",
    "  end\n",
    "  \n",
    "  def signal\n",
    "    @state.signal(self)\n",
    "  end\n",
    "  \n",
    "end"
   ]
  },
  {
   "cell_type": "markdown",
   "metadata": {},
   "source": [
    "不幸的是,`TrafficLight`使用`State`的便利性反而变更糟了"
   ]
  },
  {
   "cell_type": "code",
   "execution_count": 66,
   "metadata": {},
   "outputs": [
    {
     "ename": "ArgumentError",
     "evalue": "ArgumentError",
     "output_type": "error",
     "traceback": [
      "\u001b[31mArgumentError\u001b[0m: ArgumentError",
      "\u001b[37m<main>:14:in `change_to'\u001b[0m",
      "\u001b[37m<main>:1:in `<main>'\u001b[0m",
      "\u001b[37m/usr/local/lib64/ruby/gems/2.5.0/gems/iruby-0.3/lib/iruby/backend.rb:44:in `eval'\u001b[0m",
      "\u001b[37m/usr/local/lib64/ruby/gems/2.5.0/gems/iruby-0.3/lib/iruby/backend.rb:44:in `eval'\u001b[0m",
      "\u001b[37m/usr/local/lib64/ruby/gems/2.5.0/gems/iruby-0.3/lib/iruby/backend.rb:12:in `eval'\u001b[0m",
      "\u001b[37m/usr/local/lib64/ruby/gems/2.5.0/gems/iruby-0.3/lib/iruby/kernel.rb:87:in `execute_request'\u001b[0m",
      "\u001b[37m/usr/local/lib64/ruby/gems/2.5.0/gems/iruby-0.3/lib/iruby/kernel.rb:47:in `dispatch'\u001b[0m",
      "\u001b[37m/usr/local/lib64/ruby/gems/2.5.0/gems/iruby-0.3/lib/iruby/kernel.rb:37:in `run'\u001b[0m",
      "\u001b[37m/usr/local/lib64/ruby/gems/2.5.0/gems/iruby-0.3/lib/iruby/command.rb:70:in `run_kernel'\u001b[0m",
      "\u001b[37m/usr/local/lib64/ruby/gems/2.5.0/gems/iruby-0.3/lib/iruby/command.rb:34:in `run'\u001b[0m",
      "\u001b[37m/usr/local/lib64/ruby/gems/2.5.0/gems/iruby-0.3/bin/iruby:5:in `<top (required)>'\u001b[0m",
      "\u001b[37m/usr/local/bin/iruby:23:in `load'\u001b[0m",
      "\u001b[37m/usr/local/bin/iruby:23:in `<main>'\u001b[0m"
     ]
    }
   ],
   "source": [
    "light = TrafficLight.new\n",
    "light.change_to(TrafficLight::Caution.new)\n",
    "light.signal"
   ]
  },
  {
   "cell_type": "code",
   "execution_count": 67,
   "metadata": {},
   "outputs": [
    {
     "data": {
      "text/plain": [
       ":State"
      ]
     },
     "execution_count": 67,
     "metadata": {},
     "output_type": "execute_result"
    }
   ],
   "source": [
    "class TrafficLight\n",
    "  def change_to(state)\n",
    "    @state = State(state)\n",
    "  end\n",
    "  \n",
    "  private\n",
    "  \n",
    "  def State(state)\n",
    "    case state\n",
    "    when State then state\n",
    "    else self.class.const_get(state.to_s.capitalize).new\n",
    "    end\n",
    "    end\n",
    "  end"
   ]
  },
  {
   "cell_type": "markdown",
   "metadata": {},
   "source": [
    "现在可以这样使用了"
   ]
  },
  {
   "cell_type": "code",
   "execution_count": 68,
   "metadata": {},
   "outputs": [
    {
     "name": "stdout",
     "output_type": "stream",
     "text": [
      "Turning on yellow lamp\n",
      "Ring ring ring\n",
      "Next state is: stop\n"
     ]
    }
   ],
   "source": [
    "light = TrafficLight.new\n",
    "light.change_to(:caution)\n",
    "light.signal\n",
    "puts \"Next state is: #{light.next_state}\""
   ]
  },
  {
   "cell_type": "markdown",
   "metadata": {},
   "source": []
  }
 ],
 "metadata": {
  "kernelspec": {
   "display_name": "Ruby 2.5.1",
   "language": "ruby",
   "name": "ruby"
  },
  "language_info": {
   "file_extension": ".rb",
   "mimetype": "application/x-ruby",
   "name": "ruby",
   "version": "2.5.1"
  }
 },
 "nbformat": 4,
 "nbformat_minor": 2
}
