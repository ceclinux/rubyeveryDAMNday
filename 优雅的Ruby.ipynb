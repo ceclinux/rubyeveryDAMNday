{
 "cells": [
  {
   "cell_type": "markdown",
   "metadata": {},
   "source": [
    "#### `Time.now`是一个间接输入。首先我们引用了`Time`类，然后把`#now`消息发送给`Time`。我们想要的其实是方法`now`的返回值，而不是`Time`常量本身。任何时候为了得到方法返回值，而向其他对象发送消息，其实就是在使用间接输入。"
   ]
  },
  {
   "cell_type": "markdown",
   "metadata": {},
   "source": [
    "间接输入层次越深，代码的耦合程度就越高"
   ]
  },
  {
   "cell_type": "code",
   "execution_count": 1,
   "metadata": {},
   "outputs": [
    {
     "data": {
      "text/plain": [
       "Place"
      ]
     },
     "execution_count": 1,
     "metadata": {},
     "output_type": "execute_result"
    }
   ],
   "source": [
    "Place = Struct.new(:index, :name, :prize)"
   ]
  },
  {
   "cell_type": "code",
   "execution_count": 2,
   "metadata": {},
   "outputs": [
    {
     "data": {
      "text/plain": [
       "#<struct Place index=0, name=\"first\", prize=\"Peasant's Quest game\">"
      ]
     },
     "execution_count": 2,
     "metadata": {},
     "output_type": "execute_result"
    }
   ],
   "source": [
    "first = Place.new(0, \"first\", \"Peasant's Quest game\")"
   ]
  },
  {
   "cell_type": "code",
   "execution_count": 3,
   "metadata": {},
   "outputs": [
    {
     "data": {
      "text/plain": [
       "#<struct Place index=1, name=\"second\", prize=\"Limozeen Album\">"
      ]
     },
     "execution_count": 3,
     "metadata": {},
     "output_type": "execute_result"
    }
   ],
   "source": [
    "second = Place.new(1, \"second\", \"Limozeen Album\")"
   ]
  },
  {
   "cell_type": "code",
   "execution_count": 4,
   "metadata": {},
   "outputs": [
    {
     "data": {
      "text/plain": [
       "#<struct Place index=2, name=\"third\", prize=\"butter-da\">"
      ]
     },
     "execution_count": 4,
     "metadata": {},
     "output_type": "execute_result"
    }
   ],
   "source": [
    "thrid = Place.new(2, \"third\", \"butter-da\")"
   ]
  },
  {
   "cell_type": "code",
   "execution_count": 5,
   "metadata": {},
   "outputs": [
    {
     "data": {
      "text/plain": [
       "[\"a\", \"b\"]"
      ]
     },
     "execution_count": 5,
     "metadata": {},
     "output_type": "execute_result"
    }
   ],
   "source": [
    "winners = [\"a\", \"b\"]"
   ]
  },
  {
   "cell_type": "code",
   "execution_count": 6,
   "metadata": {},
   "outputs": [
    {
     "name": "stdout",
     "output_type": "stream",
     "text": [
      "\"In first place, a\"\n",
      "\"you wind: Peasant's Quest game\"\n",
      "\"In second place, b\"\n",
      "\"you wind: Limozeen Album\"\n",
      "\"In third place, \"\n",
      "\"you wind: butter-da\"\n"
     ]
    },
    {
     "data": {
      "text/plain": [
       "[#<struct Place index=0, name=\"first\", prize=\"Peasant's Quest game\">, #<struct Place index=1, name=\"second\", prize=\"Limozeen Album\">, #<struct Place index=2, name=\"third\", prize=\"butter-da\">]"
      ]
     },
     "execution_count": 6,
     "metadata": {},
     "output_type": "execute_result"
    }
   ],
   "source": [
    "[first, second, thrid].each do |place|\n",
    "  p \"In #{place.name} place, #{winners[place.index]}\"\n",
    "  p \"you wind: #{place.prize}\"\n",
    "end"
   ]
  },
  {
   "cell_type": "markdown",
   "metadata": {},
   "source": [
    "`#to_s`就是一个显式转换方法。显式转换一般用于这样的情形：源类型和目标类型很大程度上不相关或者毫无关联"
   ]
  },
  {
   "cell_type": "markdown",
   "metadata": {},
   "source": [
    "与之对应，`#to_str`就是一个隐式类型转换方法。隐式类型转换适用于元类型和目标类型很相近的情形"
   ]
  },
  {
   "cell_type": "code",
   "execution_count": 7,
   "metadata": {},
   "outputs": [
    {
     "data": {
      "text/plain": [
       ":to_path"
      ]
     },
     "execution_count": 7,
     "metadata": {},
     "output_type": "execute_result"
    }
   ],
   "source": [
    "class EmacsConfigFile\n",
    "  def initialize\n",
    "    @filename = \"#{ENV['HOME']}/.vimrc\"\n",
    "  end\n",
    "  \n",
    "  def to_path\n",
    "    @filename\n",
    "  end\n",
    "end"
   ]
  },
  {
   "cell_type": "code",
   "execution_count": 8,
   "metadata": {},
   "outputs": [
    {
     "data": {
      "text/plain": [
       "#<EmacsConfigFile:0x000000558f4cec50 @filename=\"/home/demouser/.vimrc\">"
      ]
     },
     "execution_count": 8,
     "metadata": {},
     "output_type": "execute_result"
    }
   ],
   "source": [
    "emacs_config = EmacsConfigFile.new"
   ]
  },
  {
   "cell_type": "code",
   "execution_count": 9,
   "metadata": {},
   "outputs": [
    {
     "name": "stderr",
     "output_type": "stream",
     "text": [
      "<main>: warning: IO#lines is deprecated; use #each_line instead\n"
     ]
    },
    {
     "data": {
      "text/plain": [
       "740"
      ]
     },
     "execution_count": 9,
     "metadata": {},
     "output_type": "execute_result"
    }
   ],
   "source": [
    "File.open(emacs_config).lines.count"
   ]
  },
  {
   "cell_type": "markdown",
   "metadata": {},
   "source": [
    "这是因为，`EmacsConfig`类定义了转换方法`#to_path`，而`File#open`又会在参数对象上调用`#to_path`方法，以便得到文件名字符串。这样一来，这个非字符串对象也能工作得很好。"
   ]
  },
  {
   "cell_type": "markdown",
   "metadata": {},
   "source": [
    "下面的例子可以说明两者（隐式转化和显示转化的区别）。`Time`对象并非`String`，有太多方式可以将`Time`转化成`String`了。另外，这两种类型还是不想管的，因此`Time`只预定义了显式的类型转换方法`#to_s`，而没有定义隐式版的`#to_str`"
   ]
  },
  {
   "cell_type": "code",
   "execution_count": 10,
   "metadata": {},
   "outputs": [
    {
     "data": {
      "text/plain": [
       "false"
      ]
     },
     "execution_count": 10,
     "metadata": {},
     "output_type": "execute_result"
    }
   ],
   "source": [
    "now = Time.now\n",
    "now.respond_to?(:to_s)\n",
    "now.to_s\n",
    "now.respond_to?(:to_str)"
   ]
  },
  {
   "cell_type": "code",
   "execution_count": 11,
   "metadata": {},
   "outputs": [
    {
     "data": {
      "text/plain": [
       "\"hello, world\""
      ]
     },
     "execution_count": 11,
     "metadata": {},
     "output_type": "execute_result"
    }
   ],
   "source": [
    "\"hello, \" + \"world\""
   ]
  },
  {
   "cell_type": "markdown",
   "metadata": {},
   "source": [
    "如果`#to_str`所做的一切就是返回字符串自身，那么它看起来意义不大。`#to_str`的意义在于：许多`Ruby`方法都期望得到字符串输入，它们隐式地在输入对象上调用`#to_str`方法（这正是“隐式类型转换”这个术语的来源）"
   ]
  },
  {
   "cell_type": "code",
   "execution_count": 12,
   "metadata": {},
   "outputs": [
    {
     "data": {
      "text/plain": [
       "\"I am a String\""
      ]
     },
     "execution_count": 12,
     "metadata": {},
     "output_type": "execute_result"
    }
   ],
   "source": [
    "\"I am a String\".to_str"
   ]
  },
  {
   "cell_type": "code",
   "execution_count": 13,
   "metadata": {},
   "outputs": [
    {
     "data": {
      "text/plain": [
       ":to_s"
      ]
     },
     "execution_count": 13,
     "metadata": {},
     "output_type": "execute_result"
    }
   ],
   "source": [
    "class ArticleTitle\n",
    "  def initialize(text)\n",
    "    @text = text\n",
    "  end\n",
    "  \n",
    "  def slug\n",
    "    @text.strip.tr_s(\"A-Za-z0-0\", \"-\").downcase\n",
    "  end\n",
    "  \n",
    "  def to_str\n",
    "    @text\n",
    "  end\n",
    "  \n",
    "  def to_s\n",
    "    to_str\n",
    "  end\n",
    "end"
   ]
  },
  {
   "cell_type": "code",
   "execution_count": 14,
   "metadata": {},
   "outputs": [
    {
     "data": {
      "text/plain": [
       "\"Today's futureA Modest Proposal\""
      ]
     },
     "execution_count": 14,
     "metadata": {},
     "output_type": "execute_result"
    }
   ],
   "source": [
    "title = ArticleTitle.new(\"A Modest Proposal\")\n",
    "\"Today's future\" +title"
   ]
  },
  {
   "cell_type": "markdown",
   "metadata": {},
   "source": [
    "你可能还记得我说过Ruby核心类从来不会自动调用显式类型转换方法，但仍有例外，有一种情况下，Ruby语言却会自动调用显式类型转换方法。"
   ]
  },
  {
   "cell_type": "code",
   "execution_count": 15,
   "metadata": {},
   "outputs": [
    {
     "data": {
      "text/plain": [
       "\"The time is now: 2019-01-29 14:55:05 +0000\""
      ]
     },
     "execution_count": 15,
     "metadata": {},
     "output_type": "execute_result"
    }
   ],
   "source": [
    "\"The time is now: #{Time.now}\""
   ]
  },
  {
   "cell_type": "code",
   "execution_count": 16,
   "metadata": {},
   "outputs": [
    {
     "name": "stdout",
     "output_type": "stream",
     "text": [
      "Please hold while you are connected to Operator\n"
     ]
    }
   ],
   "source": [
    "PHONE_EXTENSIONS=[\"Operator\", \"Sales\", \"Customer Service\"]\n",
    "\n",
    "def dial_extension(dialed_number)\n",
    "  dialed_number = dialed_number.to_i\n",
    "  extension = PHONE_EXTENSIONS[dialed_number]\n",
    "  puts \"Please hold while you are connected to #{extension}\"\n",
    "end\n",
    "\n",
    "dial_extension(nil)"
   ]
  },
  {
   "cell_type": "markdown",
   "metadata": {},
   "source": [
    "如果只关心得到预期输入类型而不深究其源类型，则可以使用显式类型转化方法。"
   ]
  },
  {
   "cell_type": "code",
   "execution_count": 17,
   "metadata": {},
   "outputs": [
    {
     "data": {
      "text/plain": [
       ":set_centrifuge_speed"
      ]
     },
     "execution_count": 17,
     "metadata": {},
     "output_type": "execute_result"
    }
   ],
   "source": [
    "def set_centrifuge_speed(new_rpm)\n",
    "  new_rpm = new_rpm.to_int\n",
    "  puts \"Adjusting centrifuge to #{new_rpm} RPM\"\n",
    "end"
   ]
  },
  {
   "cell_type": "code",
   "execution_count": 18,
   "metadata": {},
   "outputs": [
    {
     "ename": "NoMethodError",
     "evalue": "undefined method `to_int' for nil:NilClass",
     "output_type": "error",
     "traceback": [
      "\u001b[31mNoMethodError\u001b[0m: undefined method `to_int' for nil:NilClass",
      "\u001b[37m<main>:1:in `set_centrifuge_speed'\u001b[0m",
      "\u001b[37m<main>:1:in `<main>'\u001b[0m",
      "\u001b[37m/usr/local/lib64/ruby/gems/2.5.0/gems/iruby-0.3/lib/iruby/backend.rb:44:in `eval'\u001b[0m",
      "\u001b[37m/usr/local/lib64/ruby/gems/2.5.0/gems/iruby-0.3/lib/iruby/backend.rb:44:in `eval'\u001b[0m",
      "\u001b[37m/usr/local/lib64/ruby/gems/2.5.0/gems/iruby-0.3/lib/iruby/backend.rb:12:in `eval'\u001b[0m",
      "\u001b[37m/usr/local/lib64/ruby/gems/2.5.0/gems/iruby-0.3/lib/iruby/kernel.rb:87:in `execute_request'\u001b[0m",
      "\u001b[37m/usr/local/lib64/ruby/gems/2.5.0/gems/iruby-0.3/lib/iruby/kernel.rb:47:in `dispatch'\u001b[0m",
      "\u001b[37m/usr/local/lib64/ruby/gems/2.5.0/gems/iruby-0.3/lib/iruby/kernel.rb:37:in `run'\u001b[0m",
      "\u001b[37m/usr/local/lib64/ruby/gems/2.5.0/gems/iruby-0.3/lib/iruby/command.rb:70:in `run_kernel'\u001b[0m",
      "\u001b[37m/usr/local/lib64/ruby/gems/2.5.0/gems/iruby-0.3/lib/iruby/command.rb:34:in `run'\u001b[0m",
      "\u001b[37m/usr/local/lib64/ruby/gems/2.5.0/gems/iruby-0.3/bin/iruby:5:in `<top (required)>'\u001b[0m",
      "\u001b[37m/usr/local/bin/iruby:23:in `load'\u001b[0m",
      "\u001b[37m/usr/local/bin/iruby:23:in `<main>'\u001b[0m"
     ]
    }
   ],
   "source": [
    "bad_input = nil\n",
    "set_centrifuge_speed(bad_input)"
   ]
  },
  {
   "cell_type": "code",
   "execution_count": 19,
   "metadata": {},
   "outputs": [
    {
     "data": {
      "text/plain": [
       "\"fe\""
      ]
     },
     "execution_count": 19,
     "metadata": {},
     "output_type": "execute_result"
    }
   ],
   "source": [
    "aaa = nil\n",
    "\"fe#{aaa}\""
   ]
  },
  {
   "cell_type": "markdown",
   "metadata": {},
   "source": [
    "某种情况下，如果方法的参数不符合预期类型或者与预期不接近，就会为程序带来隐患，这时最好用隐式类型转换"
   ]
  },
  {
   "cell_type": "markdown",
   "metadata": {},
   "source": [
    "这里的隐式类型转换起到了“门卫”的作用：用以确保方法接受到的参数要么是`Integer`，要么可以很好地被转化为`Integer`。当参数不满足条件时，`NoMethodError`清楚地告诉了代码调用者调用非法。"
   ]
  },
  {
   "cell_type": "code",
   "execution_count": 20,
   "metadata": {},
   "outputs": [
    {
     "data": {
      "text/plain": [
       ":draw_line"
      ]
     },
     "execution_count": 20,
     "metadata": {},
     "output_type": "execute_result"
    }
   ],
   "source": [
    "def draw_line(start, endpoint)\n",
    "  start = start.to_coords if start.respond_to?(:to_coords)\n",
    "  start = start.to_ary\n",
    "end"
   ]
  },
  {
   "cell_type": "code",
   "execution_count": 21,
   "metadata": {},
   "outputs": [
    {
     "data": {
      "text/plain": [
       ":to_coords"
      ]
     },
     "execution_count": 21,
     "metadata": {},
     "output_type": "execute_result"
    }
   ],
   "source": [
    "class Point\n",
    "  attr_reader :x, :y, :name\n",
    "  def initialize(x, y, name = nil)\n",
    "    @x, @y, @name = x, y, name\n",
    "  end\n",
    "  \n",
    "  def to_coords\n",
    "    [x, y]\n",
    "  end\n",
    "end"
   ]
  },
  {
   "cell_type": "code",
   "execution_count": 22,
   "metadata": {},
   "outputs": [
    {
     "data": {
      "text/plain": [
       "[23, 37]"
      ]
     },
     "execution_count": 22,
     "metadata": {},
     "output_type": "execute_result"
    }
   ],
   "source": [
    "start = Point.new(23,37)\n",
    "endpoint = [45, 89]\n",
    "\n",
    "draw_line(start, endpoint)"
   ]
  },
  {
   "cell_type": "markdown",
   "metadata": {},
   "source": [
    "方法就可以提供这样的接口：既可以接受普通输入，还能向前兼容那些更具语义的输入（如Point）"
   ]
  },
  {
   "cell_type": "code",
   "execution_count": 23,
   "metadata": {},
   "outputs": [
    {
     "data": {
      "text/plain": [
       ":record_number"
      ]
     },
     "execution_count": 23,
     "metadata": {},
     "output_type": "execute_result"
    }
   ],
   "source": [
    "require 'forwardable'\n",
    "\n",
    "class RecordCollection\n",
    "  attr_accessor :records\n",
    "  extend Forwardable\n",
    "  def_delegator :@records, :[], :record_number\n",
    "end"
   ]
  },
  {
   "cell_type": "code",
   "execution_count": 24,
   "metadata": {},
   "outputs": [
    {
     "data": {
      "text/plain": [
       "4"
      ]
     },
     "execution_count": 24,
     "metadata": {},
     "output_type": "execute_result"
    }
   ],
   "source": [
    "r = RecordCollection.new\n",
    "r.records = [4,5,6]\n",
    "r.record_number(0)  # => 4"
   ]
  },
  {
   "cell_type": "markdown",
   "metadata": {},
   "source": [
    "For example, say you have a class RecordCollection which contains an array @records. You could provide the lookup method record_number(), which simpley calls [] on the `records` array, like this"
   ]
  },
  {
   "cell_type": "markdown",
   "metadata": {},
   "source": [
    "我们不能保证所有输入都是`Meter`类型而非Integer类型。我们也想支持那些能够用英尺表示，且能在运算中混合使用的度量单位。我们得想办法隐式地将`Meter`转换为`Feet`，以及将`Feet`转换为`Meter`"
   ]
  },
  {
   "cell_type": "code",
   "execution_count": 25,
   "metadata": {},
   "outputs": [
    {
     "data": {
      "text/plain": [
       ":to_meters"
      ]
     },
     "execution_count": 25,
     "metadata": {},
     "output_type": "execute_result"
    }
   ],
   "source": [
    "class Meters\n",
    "  def to_meters\n",
    "  end\n",
    "end\n",
    "\n",
    "class Feet\n",
    "  def to_meters\n",
    "  end\n",
    "end"
   ]
  },
  {
   "cell_type": "markdown",
   "metadata": {},
   "source": [
    "现在汇报还把变化，再也不用担心单位混淆了。因为我们确信任何不支持`to_meters`协议的对象都将触发`NoMethodError`异常"
   ]
  },
  {
   "cell_type": "markdown",
   "metadata": {},
   "source": [
    "虽然`Integer()`可转换更多参数类型，但是对待字符串参数，它却比`#to_i`还挑剔"
   ]
  },
  {
   "cell_type": "code",
   "execution_count": 26,
   "metadata": {},
   "outputs": [
    {
     "data": {
      "text/plain": [
       "0"
      ]
     },
     "execution_count": 26,
     "metadata": {},
     "output_type": "execute_result"
    }
   ],
   "source": [
    "\"ham sandwich\".to_i"
   ]
  },
  {
   "cell_type": "markdown",
   "metadata": {},
   "source": [
    "无论输入的原有类型是什么，你都渴望将其转换成特定原生类型。例如，无论输入的是`Float`类型的数字还是`nil`，甚至是十六进制字符串，只要可行，就将其转换成`Integer`类型"
   ]
  },
  {
   "cell_type": "markdown",
   "metadata": {},
   "source": [
    "Ruby的类型转换方法可不止前面章节谈到的那些`#to_*`方法，Ruby核心模块还提供了一系列命名独特的强制类型转换方法，如`Array(), Float(), String(), Integer(),Rational()和Complex()`。通常，相对于对应`#to_*`版本的转换方法，它们可以转换更多的输入类型。"
   ]
  },
  {
   "cell_type": "markdown",
   "metadata": {},
   "source": [
    "部分标准库也提供了强制类型转换方法"
   ]
  },
  {
   "cell_type": "code",
   "execution_count": 27,
   "metadata": {},
   "outputs": [
    {
     "name": "stdout",
     "output_type": "stream",
     "text": [
      "#<Pathname:/etc/hosts>\n",
      "#<Pathname:/etc/hosts>\n",
      "#<URI::HTTP http://example.org>\n",
      "#<URI::HTTP http://example.org>\n"
     ]
    },
    {
     "data": {
      "text/plain": [
       "#<URI::HTTP http://example.org>"
      ]
     },
     "execution_count": 27,
     "metadata": {},
     "output_type": "execute_result"
    }
   ],
   "source": [
    "require 'pathname'\n",
    "require 'uri'\n",
    "\n",
    "path = Pathname.new(\"/etc/hosts\")\n",
    "p Pathname(path)\n",
    "p Pathname(\"/etc/hosts\")\n",
    "\n",
    "uri_str = \"http://example.org\"\n",
    "uri = URI.parse(uri_str)\n",
    "p URI(uri_str)\n",
    "p URI(uri)"
   ]
  },
  {
   "cell_type": "markdown",
   "metadata": {},
   "source": [
    "下面的方法接受文件名为参数，报告文件大小。这里的文件名可以是`Pathname`对象，也可以是其他任何可悲转换为`Pathname`的对象"
   ]
  },
  {
   "cell_type": "code",
   "execution_count": 28,
   "metadata": {},
   "outputs": [
    {
     "data": {
      "text/plain": [
       ":file_size"
      ]
     },
     "execution_count": 28,
     "metadata": {},
     "output_type": "execute_result"
    }
   ],
   "source": [
    "def file_size(filename)\n",
    "  filename = Pathname(filename)\n",
    "  filename.size\n",
    "end"
   ]
  },
  {
   "cell_type": "code",
   "execution_count": 29,
   "metadata": {},
   "outputs": [
    {
     "data": {
      "text/plain": [
       "1223"
      ]
     },
     "execution_count": 29,
     "metadata": {},
     "output_type": "execute_result"
    }
   ],
   "source": [
    "file_size(Pathname.new(\"/etc/hosts\"))\n",
    "file_size(\"/etc/hosts\")"
   ]
  },
  {
   "cell_type": "markdown",
   "metadata": {},
   "source": [
    "`Kernel#Array`会不遗余力地将输入转换为数组"
   ]
  },
  {
   "cell_type": "code",
   "execution_count": 30,
   "metadata": {},
   "outputs": [
    {
     "data": {
      "text/plain": [
       "[\"foo\"]"
      ]
     },
     "execution_count": 30,
     "metadata": {},
     "output_type": "execute_result"
    }
   ],
   "source": [
    "Array(\"foo\")"
   ]
  },
  {
   "cell_type": "code",
   "execution_count": 31,
   "metadata": {},
   "outputs": [
    {
     "data": {
      "text/plain": [
       "[1, 2, 3]"
      ]
     },
     "execution_count": 31,
     "metadata": {},
     "output_type": "execute_result"
    }
   ],
   "source": [
    "Array([1,2,3])"
   ]
  },
  {
   "cell_type": "code",
   "execution_count": 32,
   "metadata": {},
   "outputs": [
    {
     "data": {
      "text/plain": [
       "[]"
      ]
     },
     "execution_count": 32,
     "metadata": {},
     "output_type": "execute_result"
    }
   ],
   "source": [
    "Array([])"
   ]
  },
  {
   "cell_type": "code",
   "execution_count": 33,
   "metadata": {},
   "outputs": [
    {
     "data": {
      "text/plain": [
       "[]"
      ]
     },
     "execution_count": 33,
     "metadata": {},
     "output_type": "execute_result"
    }
   ],
   "source": [
    "Array(nil)"
   ]
  },
  {
   "cell_type": "code",
   "execution_count": 34,
   "metadata": {},
   "outputs": [
    {
     "data": {
      "text/plain": [
       "[[:a, 1], [:b, 2]]"
      ]
     },
     "execution_count": 34,
     "metadata": {},
     "output_type": "execute_result"
    }
   ],
   "source": [
    "Array({:a =>  1, :b => 2})"
   ]
  },
  {
   "cell_type": "code",
   "execution_count": 35,
   "metadata": {},
   "outputs": [
    {
     "data": {
      "text/plain": [
       "[1, 2, 3, 4, 5]"
      ]
     },
     "execution_count": 35,
     "metadata": {},
     "output_type": "execute_result"
    }
   ],
   "source": [
    "Array(1..5)"
   ]
  },
  {
   "cell_type": "code",
   "execution_count": 36,
   "metadata": {},
   "outputs": [
    {
     "data": {
      "text/plain": [
       ":log_reading"
      ]
     },
     "execution_count": 36,
     "metadata": {},
     "output_type": "execute_result"
    }
   ],
   "source": [
    "def log_reading(reading_or_readings)\n",
    "  readings = Array(reading_or_readings)\n",
    "  readings.each do |reading|\n",
    "    puts \"[READING] %3.2f\" % reading.to_f\n",
    "  end\n",
    "end"
   ]
  },
  {
   "cell_type": "code",
   "execution_count": 37,
   "metadata": {},
   "outputs": [
    {
     "name": "stdout",
     "output_type": "stream",
     "text": [
      "[READING] 3.14\n"
     ]
    },
    {
     "data": {
      "text/plain": [
       "[3.14]"
      ]
     },
     "execution_count": 37,
     "metadata": {},
     "output_type": "execute_result"
    }
   ],
   "source": [
    "log_reading(3.14)"
   ]
  },
  {
   "cell_type": "code",
   "execution_count": 38,
   "metadata": {},
   "outputs": [
    {
     "data": {
      "text/plain": [
       "[]"
      ]
     },
     "execution_count": 38,
     "metadata": {},
     "output_type": "execute_result"
    }
   ],
   "source": [
    "log_reading([])"
   ]
  },
  {
   "cell_type": "code",
   "execution_count": 39,
   "metadata": {},
   "outputs": [
    {
     "name": "stdout",
     "output_type": "stream",
     "text": [
      "[READING] 87.50\n",
      "[READING] 45.88\n",
      "[READING] 22.00\n"
     ]
    },
    {
     "data": {
      "text/plain": [
       "[87.5, 45.8765, 22]"
      ]
     },
     "execution_count": 39,
     "metadata": {},
     "output_type": "execute_result"
    }
   ],
   "source": [
    "log_reading([87.5, 45.8765, 22])"
   ]
  },
  {
   "cell_type": "code",
   "execution_count": 40,
   "metadata": {},
   "outputs": [
    {
     "data": {
      "text/plain": [
       "[]"
      ]
     },
     "execution_count": 40,
     "metadata": {},
     "output_type": "execute_result"
    }
   ],
   "source": [
    "log_reading(nil)"
   ]
  },
  {
   "cell_type": "markdown",
   "metadata": {},
   "source": [
    "一个对象提出的要求越少，就越容易被使用。若一个对象能为多种不同类型的的对象提供服务，那么将它作为一个辅助对象，在履行自身职责的时候，就不会向周围对象提出要求。"
   ]
  },
  {
   "cell_type": "markdown",
   "metadata": {},
   "source": [
    "我们将采用Ruby核心类和标准库中强制类型转换方法的风格来定义一个名称特别的转换方法，它们目标类Point来命名"
   ]
  },
  {
   "cell_type": "code",
   "execution_count": 41,
   "metadata": {},
   "outputs": [
    {
     "data": {
      "text/plain": [
       "Graphics::Point"
      ]
     },
     "execution_count": 41,
     "metadata": {},
     "output_type": "execute_result"
    }
   ],
   "source": [
    "module Graphics\n",
    "  module Conversions\n",
    "    module_function\n",
    "    def Point(*args)\n",
    "      case args.first\n",
    "      when Point then args.first\n",
    "      when Array then Point.new(*args.first)\n",
    "      when Integer then Point.new(*args)\n",
    "      when String then\n",
    "        Point.new(*args.first.split(':').map(&:to_i))\n",
    "      else\n",
    "        raise TypeError, \"Cannot convert #{args.inspect} to Point\"\n",
    "      end\n",
    "      end\n",
    "      end\n",
    "        Point = Struct.new(:x, :y) do\n",
    "          def inspect\n",
    "            \"#{x}:#{y}\"\n",
    "          end\n",
    "        end\n",
    "      end"
   ]
  },
  {
   "cell_type": "code",
   "execution_count": 42,
   "metadata": {},
   "outputs": [
    {
     "ename": "TypeError",
     "evalue": "Cannot convert [#<Point:0x000000558fc51900 @x=2, @y=3, @name=nil>] to Point",
     "output_type": "error",
     "traceback": [
      "\u001b[31mTypeError\u001b[0m: Cannot convert [#<Point:0x000000558fc51900 @x=2, @y=3, @name=nil>] to Point",
      "\u001b[37m<main>:11:in `Point'\u001b[0m",
      "\u001b[37m<main>:2:in `<main>'\u001b[0m",
      "\u001b[37m/usr/local/lib64/ruby/gems/2.5.0/gems/iruby-0.3/lib/iruby/backend.rb:44:in `eval'\u001b[0m",
      "\u001b[37m/usr/local/lib64/ruby/gems/2.5.0/gems/iruby-0.3/lib/iruby/backend.rb:44:in `eval'\u001b[0m",
      "\u001b[37m/usr/local/lib64/ruby/gems/2.5.0/gems/iruby-0.3/lib/iruby/backend.rb:12:in `eval'\u001b[0m",
      "\u001b[37m/usr/local/lib64/ruby/gems/2.5.0/gems/iruby-0.3/lib/iruby/kernel.rb:87:in `execute_request'\u001b[0m",
      "\u001b[37m/usr/local/lib64/ruby/gems/2.5.0/gems/iruby-0.3/lib/iruby/kernel.rb:47:in `dispatch'\u001b[0m",
      "\u001b[37m/usr/local/lib64/ruby/gems/2.5.0/gems/iruby-0.3/lib/iruby/kernel.rb:37:in `run'\u001b[0m",
      "\u001b[37m/usr/local/lib64/ruby/gems/2.5.0/gems/iruby-0.3/lib/iruby/command.rb:70:in `run_kernel'\u001b[0m",
      "\u001b[37m/usr/local/lib64/ruby/gems/2.5.0/gems/iruby-0.3/lib/iruby/command.rb:34:in `run'\u001b[0m",
      "\u001b[37m/usr/local/lib64/ruby/gems/2.5.0/gems/iruby-0.3/bin/iruby:5:in `<top (required)>'\u001b[0m",
      "\u001b[37m/usr/local/bin/iruby:23:in `load'\u001b[0m",
      "\u001b[37m/usr/local/bin/iruby:23:in `<main>'\u001b[0m"
     ]
    }
   ],
   "source": [
    "include Graphics\n",
    "include Graphics::Conversions\n",
    "Point(Point.new(2,3))\n",
    "Point([9,7])\n",
    "Point(3,5)\n",
    "Point(\"8:10\")"
   ]
  },
  {
   "cell_type": "markdown",
   "metadata": {},
   "source": [
    "接着我们就可以在代码中使用该转换方法了，尤其是和外来输入打交道的时候。无论何处，当不能确定输入类型时候，我们要做的不是浪费时间来摸清各种可能性，而是简单地用`Point()`方法将其包起来。然后，既然知道只会和`Point`对象打交道，便可将注意力转移到手边的业务逻辑上来。"
   ]
  },
  {
   "cell_type": "markdown",
   "metadata": {},
   "source": [
    "`module_function`做了两件事，首先，将紧跟其后的方法都标注成了私有方法；其次，让紧跟其后的方法成了低昂前模块的单例方法"
   ]
  },
  {
   "cell_type": "markdown",
   "metadata": {},
   "source": [
    "通过将#Point标注成私有方法，我们就可以将其封装在内部，从而有别于那些共有的接口方法。举个例子，假设有一个`canvas`对象已经引入了`Conversations`模块，那么应该没必要在该对象之外再来调用`canvas.Point(1,2)`吧。"
   ]
  },
  {
   "cell_type": "code",
   "execution_count": 43,
   "metadata": {},
   "outputs": [
    {
     "ename": "SyntaxError",
     "evalue": "<main>:4: syntax error, unexpected keyword_when, expecting ')'\n    when ->(arg) {arg.respond_to?(:to...\n    ^~~~\n<main>:4: syntax error, unexpected ')', expecting '}'\n...g) {arg.respond_to?(:to_point))}\n...                              ^\n<main>:6: syntax error, unexpected keyword_when, expecting '}'\n    when ->(arg) {arg.respond_to?(:to...\n    ^~~~\n<main>:8: syntax error, unexpected keyword_else, expecting '}'\n    else\n    ^~~~\n<main>:10: syntax error, unexpected keyword_end, expecting '}'\n    end\n    ^~~",
     "output_type": "error",
     "traceback": [
      "\u001b[31mSyntaxError\u001b[0m: <main>:4: syntax error, unexpected keyword_when, expecting ')'\n    when ->(arg) {arg.respond_to?(:to...\n    ^~~~\n<main>:4: syntax error, unexpected ')', expecting '}'\n...g) {arg.respond_to?(:to_point))}\n...                              ^\n<main>:6: syntax error, unexpected keyword_when, expecting '}'\n    when ->(arg) {arg.respond_to?(:to...\n    ^~~~\n<main>:8: syntax error, unexpected keyword_else, expecting '}'\n    else\n    ^~~~\n<main>:10: syntax error, unexpected keyword_end, expecting '}'\n    end\n    ^~~",
      "\u001b[37m/usr/local/lib64/ruby/gems/2.5.0/gems/iruby-0.3/lib/iruby/backend.rb:44:in `eval'\u001b[0m",
      "\u001b[37m/usr/local/lib64/ruby/gems/2.5.0/gems/iruby-0.3/lib/iruby/backend.rb:44:in `eval'\u001b[0m",
      "\u001b[37m/usr/local/lib64/ruby/gems/2.5.0/gems/iruby-0.3/lib/iruby/backend.rb:12:in `eval'\u001b[0m",
      "\u001b[37m/usr/local/lib64/ruby/gems/2.5.0/gems/iruby-0.3/lib/iruby/kernel.rb:87:in `execute_request'\u001b[0m",
      "\u001b[37m/usr/local/lib64/ruby/gems/2.5.0/gems/iruby-0.3/lib/iruby/kernel.rb:47:in `dispatch'\u001b[0m",
      "\u001b[37m/usr/local/lib64/ruby/gems/2.5.0/gems/iruby-0.3/lib/iruby/kernel.rb:37:in `run'\u001b[0m",
      "\u001b[37m/usr/local/lib64/ruby/gems/2.5.0/gems/iruby-0.3/lib/iruby/command.rb:70:in `run_kernel'\u001b[0m",
      "\u001b[37m/usr/local/lib64/ruby/gems/2.5.0/gems/iruby-0.3/lib/iruby/command.rb:34:in `run'\u001b[0m",
      "\u001b[37m/usr/local/lib64/ruby/gems/2.5.0/gems/iruby-0.3/bin/iruby:5:in `<top (required)>'\u001b[0m",
      "\u001b[37m/usr/local/bin/iruby:23:in `load'\u001b[0m",
      "\u001b[37m/usr/local/bin/iruby:23:in `<main>'\u001b[0m"
     ]
    }
   ],
   "source": [
    "def Point(*args)\n",
    "  case args.first\n",
    "    when Integer then Point.new(*args)\n",
    "    when String then Point.new(*(args.first.split(':').map(&:to_i))\n",
    "    when ->(arg) {arg.respond_to?(:to_point))}\n",
    "      args.first.to_point\n",
    "    when ->(arg) {arg.respond_to?(:to_ary)}\n",
    "      Point.new(*args.first.to_ary)\n",
    "    else\n",
    "      raise TypeError, \"Cannot convert #{args.inspect} to Point\"\n",
    "    end\n",
    "    end"
   ]
  },
  {
   "cell_type": "markdown",
   "metadata": {},
   "source": [
    "  1. 标准库`#to_ary`，匹配数组，以及不是数组但可以转换为数组的对象\n",
    "  2. 我们库中的`#to_point`，匹配那些定义了将自己转换为Point的对象"
   ]
  },
  {
   "cell_type": "markdown",
   "metadata": {},
   "source": [
    "现在我们为程序提供了两个扩展点。我们不再排斥类数组对象（就差从`Array`继承了），并且现在的客户端代码可以自定义`#to_point`方法了（而非原来那样强制输入类型必须为`Point`）。"
   ]
  },
  {
   "cell_type": "code",
   "execution_count": 44,
   "metadata": {},
   "outputs": [
    {
     "data": {
      "text/plain": [
       "#<Proc:0x00000055904492e8@<main>:0 (lambda)>"
      ]
     },
     "execution_count": 44,
     "metadata": {},
     "output_type": "execute_result"
    }
   ],
   "source": [
    "even = ->(x) {(x % 2) == 0}"
   ]
  },
  {
   "cell_type": "code",
   "execution_count": 45,
   "metadata": {},
   "outputs": [
    {
     "data": {
      "text/plain": [
       "true"
      ]
     },
     "execution_count": 45,
     "metadata": {},
     "output_type": "execute_result"
    }
   ],
   "source": [
    "even === 4"
   ]
  },
  {
   "cell_type": "code",
   "execution_count": 46,
   "metadata": {},
   "outputs": [
    {
     "data": {
      "text/plain": [
       "false"
      ]
     },
     "execution_count": 46,
     "metadata": {},
     "output_type": "execute_result"
    }
   ],
   "source": [
    "even === 9"
   ]
  },
  {
   "cell_type": "markdown",
   "metadata": {},
   "source": [
    "`case`语句使用三等运算符`（#===）` 来判定分支是否匹配，而`Ruby`的`Proc`对象正好定义了三等运算符（`#call`的别名）"
   ]
  },
  {
   "cell_type": "code",
   "execution_count": 47,
   "metadata": {},
   "outputs": [
    {
     "data": {
      "text/plain": [
       ":ring_warning_bell"
      ]
     },
     "execution_count": 47,
     "metadata": {},
     "output_type": "execute_result"
    }
   ],
   "source": [
    "class TrafficLight\n",
    "  def change_to(state)\n",
    "    @state = state\n",
    "  end\n",
    "  \n",
    "  def signal\n",
    "    case @state\n",
    "    when \"stop\" then turn_on_lamp(:red)\n",
    "    when \"caution\"\n",
    "      turn_on_lamp(:yellow)\n",
    "      rignt_warning_bell\n",
    "    when \"proceed\" then turn_on_lamp(:green)\n",
    "    end\n",
    "    end\n",
    "  \n",
    "  def next_state\n",
    "    case @state\n",
    "    when \"stop\" then \"proceed\"\n",
    "    when \"caution\" then \"stop\"\n",
    "    when \"proceed\" then \"caution\"\n",
    "    end\n",
    "    end\n",
    "      \n",
    "  def turn_on_lamp(color)\n",
    "    puts \"Turning on #{color} lamp\"\n",
    "  end\n",
    "      \n",
    "  def ring_warning_bell\n",
    "    puts \"Ring ring ring\"\n",
    "  end\n",
    "end"
   ]
  },
  {
   "cell_type": "code",
   "execution_count": 48,
   "metadata": {},
   "outputs": [
    {
     "name": "stdout",
     "output_type": "stream",
     "text": [
      "Next state:nil\n",
      "Next state:nil\n"
     ]
    }
   ],
   "source": [
    "light = TrafficLight.new\n",
    "light.change_to(\"PROCEED\")\n",
    "light.signal\n",
    "puts \"Next state:#{light.next_state.inspect}\"\n",
    "\n",
    "light.change_to(:stop)\n",
    "light.signal\n",
    "puts \"Next state:#{light.next_state.inspect}\""
   ]
  },
  {
   "cell_type": "markdown",
   "metadata": {},
   "source": [
    "该`case`并无`else`分支，这就意味着如果`@state`不是`stop`、`caution`或者`proceed`其中之一时，该方法会悄然出错。"
   ]
  },
  {
   "cell_type": "markdown",
   "metadata": {},
   "source": [
    "我们可以通过改进`#change_to`方法，让它防范非法输入。"
   ]
  },
  {
   "cell_type": "code",
   "execution_count": 49,
   "metadata": {},
   "outputs": [
    {
     "data": {
      "text/plain": [
       ":change_to"
      ]
     },
     "execution_count": 49,
     "metadata": {},
     "output_type": "execute_result"
    }
   ],
   "source": [
    "def change_to(state)\n",
    "  raise ArgementError unless [\"stop\", \"proceed\", \"caution\"].include?(state)\n",
    "  @state = state\n",
    "end"
   ]
  },
  {
   "cell_type": "markdown",
   "metadata": {},
   "source": [
    "如果分别用独立的对象来表示红绿灯状态，会不会好点呢"
   ]
  },
  {
   "cell_type": "code",
   "execution_count": 50,
   "metadata": {},
   "outputs": [
    {
     "data": {
      "text/plain": [
       ":next_state"
      ]
     },
     "execution_count": 50,
     "metadata": {},
     "output_type": "execute_result"
    }
   ],
   "source": [
    "class TrafficLight\n",
    "  State = Struct.new(:name) do\n",
    "    def to_s\n",
    "      name\n",
    "    end\n",
    "  end\n",
    "  \n",
    "  VALID_STATES = [\n",
    "    STOP = State.new(\"stop\"),\n",
    "    CAUTION = State.new(\"caution\"),\n",
    "    PROCEED = State.new(\"proceed\")\n",
    "    ]\n",
    "  \n",
    "  def change_to(state)\n",
    "    raise ArgumentError unless VALID_STATES.include?(state)\n",
    "    @state = state\n",
    "    end\n",
    "    \n",
    "  def signal\n",
    "    case @state\n",
    "    when STOP then turn_on_lamp(:red)\n",
    "    when CAUTION\n",
    "      turn_on_lamp(:yellow)\n",
    "      ring_warning_bell\n",
    "    when PROCEED then turn_on_lamp(:green)\n",
    "    end\n",
    "    end\n",
    "  \n",
    "  def next_state\n",
    "    case @state\n",
    "    when STOP then 'proceed'\n",
    "    when CAUTION then 'stop'\n",
    "    when PROCEED then 'caution'\n",
    "    end\n",
    "    end    \n",
    "    end"
   ]
  },
  {
   "cell_type": "markdown",
   "metadata": {},
   "source": [
    "我们再次探讨`state`的定义。这次将其申明为子类，而不再是实例对象。"
   ]
  },
  {
   "cell_type": "code",
   "execution_count": 51,
   "metadata": {},
   "outputs": [
    {
     "data": {
      "text/plain": [
       ":next_state"
      ]
     },
     "execution_count": 51,
     "metadata": {},
     "output_type": "execute_result"
    }
   ],
   "source": [
    "class TrafficLight\n",
    "  class State\n",
    "    def to_s\n",
    "      name\n",
    "    end\n",
    "    \n",
    "    def name\n",
    "      self.class.name.split('::').last.downcase\n",
    "    end\n",
    "    \n",
    "    def signal(traffic_light)\n",
    "      traffic_light.turn_on_lamp(color.to_sym)\n",
    "    end\n",
    "    \n",
    "  end\n",
    "    class Stop < State\n",
    "      def color; 'red'; end\n",
    "      \n",
    "      def next_state; Proceed.new; end\n",
    "    end\n",
    "    \n",
    "    class Caution < State\n",
    "      def color; 'yellow'; end\n",
    "      def next_state;  Stop.new; end\n",
    "    \n",
    "    \n",
    "    \n",
    "    def signal(traffic_light)\n",
    "      super\n",
    "      traffic_light.ring_warning_bell\n",
    "    end\n",
    "  end\n",
    "  \n",
    "  class Proceed < State\n",
    "    def color; 'green'; end\n",
    "    \n",
    "    def next_state; Caution.new; end\n",
    "  end\n",
    "end"
   ]
  },
  {
   "cell_type": "code",
   "execution_count": 52,
   "metadata": {},
   "outputs": [
    {
     "data": {
      "text/plain": [
       ":signal"
      ]
     },
     "execution_count": 52,
     "metadata": {},
     "output_type": "execute_result"
    }
   ],
   "source": [
    "class TrafficLight\n",
    "  \n",
    "  def next_state\n",
    "    @state.next_state\n",
    "  end\n",
    "  \n",
    "  def signal\n",
    "    @state.signal(self)\n",
    "  end\n",
    "  \n",
    "end"
   ]
  },
  {
   "cell_type": "markdown",
   "metadata": {},
   "source": [
    "不幸的是,`TrafficLight`使用`State`的便利性反而变更糟了"
   ]
  },
  {
   "cell_type": "code",
   "execution_count": 53,
   "metadata": {},
   "outputs": [
    {
     "ename": "ArgumentError",
     "evalue": "ArgumentError",
     "output_type": "error",
     "traceback": [
      "\u001b[31mArgumentError\u001b[0m: ArgumentError",
      "\u001b[37m<main>:14:in `change_to'\u001b[0m",
      "\u001b[37m<main>:1:in `<main>'\u001b[0m",
      "\u001b[37m/usr/local/lib64/ruby/gems/2.5.0/gems/iruby-0.3/lib/iruby/backend.rb:44:in `eval'\u001b[0m",
      "\u001b[37m/usr/local/lib64/ruby/gems/2.5.0/gems/iruby-0.3/lib/iruby/backend.rb:44:in `eval'\u001b[0m",
      "\u001b[37m/usr/local/lib64/ruby/gems/2.5.0/gems/iruby-0.3/lib/iruby/backend.rb:12:in `eval'\u001b[0m",
      "\u001b[37m/usr/local/lib64/ruby/gems/2.5.0/gems/iruby-0.3/lib/iruby/kernel.rb:87:in `execute_request'\u001b[0m",
      "\u001b[37m/usr/local/lib64/ruby/gems/2.5.0/gems/iruby-0.3/lib/iruby/kernel.rb:47:in `dispatch'\u001b[0m",
      "\u001b[37m/usr/local/lib64/ruby/gems/2.5.0/gems/iruby-0.3/lib/iruby/kernel.rb:37:in `run'\u001b[0m",
      "\u001b[37m/usr/local/lib64/ruby/gems/2.5.0/gems/iruby-0.3/lib/iruby/command.rb:70:in `run_kernel'\u001b[0m",
      "\u001b[37m/usr/local/lib64/ruby/gems/2.5.0/gems/iruby-0.3/lib/iruby/command.rb:34:in `run'\u001b[0m",
      "\u001b[37m/usr/local/lib64/ruby/gems/2.5.0/gems/iruby-0.3/bin/iruby:5:in `<top (required)>'\u001b[0m",
      "\u001b[37m/usr/local/bin/iruby:23:in `load'\u001b[0m",
      "\u001b[37m/usr/local/bin/iruby:23:in `<main>'\u001b[0m"
     ]
    }
   ],
   "source": [
    "light = TrafficLight.new\n",
    "light.change_to(TrafficLight::Caution.new)\n",
    "light.signal"
   ]
  },
  {
   "cell_type": "code",
   "execution_count": 54,
   "metadata": {},
   "outputs": [
    {
     "data": {
      "text/plain": [
       ":State"
      ]
     },
     "execution_count": 54,
     "metadata": {},
     "output_type": "execute_result"
    }
   ],
   "source": [
    "class TrafficLight\n",
    "  def change_to(state)\n",
    "    @state = State(state)\n",
    "  end\n",
    "  \n",
    "  private\n",
    "  \n",
    "  def State(state)\n",
    "    case state\n",
    "    when State then state\n",
    "    else self.class.const_get(state.to_s.capitalize).new\n",
    "    end\n",
    "    end\n",
    "  end"
   ]
  },
  {
   "cell_type": "markdown",
   "metadata": {},
   "source": [
    "现在可以这样使用了"
   ]
  },
  {
   "cell_type": "code",
   "execution_count": 55,
   "metadata": {},
   "outputs": [
    {
     "name": "stdout",
     "output_type": "stream",
     "text": [
      "Turning on yellow lamp\n",
      "Ring ring ring\n",
      "Next state is: stop\n"
     ]
    }
   ],
   "source": [
    "light = TrafficLight.new\n",
    "light.change_to(:caution)\n",
    "light.signal\n",
    "puts \"Next state is: #{light.next_state}\""
   ]
  },
  {
   "cell_type": "markdown",
   "metadata": {},
   "source": [
    "高效地使用面向对象语言的要点就是：让封装和多台替你分忧解劳。面对那些来自外界的字符串或`Symbol`，简单的确保它们是合法的，然后就可以撒手不管了，这看起来比较诱人。然而，细看之下，你可能发现明显的领域概念开始浮出水面。用类来反映这些概念，不仅能减少代码出错，还有助于加深我们对问题的理解，同事替身解决该问题的程序设计。这也意味着方法减少了花费在输入检查上的时间，我们就可以腾出更多尽力来关注业务逻辑本身。"
   ]
  },
  {
   "cell_type": "code",
   "execution_count": 56,
   "metadata": {},
   "outputs": [
    {
     "data": {
      "text/plain": [
       ":info"
      ]
     },
     "execution_count": 56,
     "metadata": {},
     "output_type": "execute_result"
    }
   ],
   "source": [
    "class BenchmarkedLogger\n",
    "  def initialize(sink=$stdout)\n",
    "    @sink = sink\n",
    "  end\n",
    "  \n",
    "  def info(message)\n",
    "    start_time = Time.now\n",
    "    yield\n",
    "    duration = start_time - Time.now\n",
    "    @sink << (\"[%1.3f] %s\\n\" % [duration, message])\n",
    "  end\n",
    "end\n",
    "  "
   ]
  },
  {
   "cell_type": "markdown",
   "metadata": {},
   "source": [
    "使用文件、标准输出、标准错误输出、网络嵌套字，或者内存数组做日志终端时候，该类可以很好地工作。之所以能和这些终端很好地工作，是因为他们都支持`<<`（追加操作符）。换句话说，所有这些终端类型都共享了相同的接口。"
   ]
  },
  {
   "cell_type": "markdown",
   "metadata": {},
   "source": [
    "IRC logging bot如下"
   ]
  },
  {
   "cell_type": "code",
   "execution_count": 57,
   "metadata": {},
   "outputs": [
    {
     "ename": "LoadError",
     "evalue": "cannot load such file -- cinch",
     "output_type": "error",
     "traceback": [
      "\u001b[31mLoadError\u001b[0m: cannot load such file -- cinch",
      "\u001b[37m/usr/lib64/ruby/site_ruby/2.5.0/rubygems/core_ext/kernel_require.rb:59:in `require'\u001b[0m",
      "\u001b[37m/usr/lib64/ruby/site_ruby/2.5.0/rubygems/core_ext/kernel_require.rb:59:in `require'\u001b[0m",
      "\u001b[37m<main>:in `<main>'\u001b[0m",
      "\u001b[37m/usr/local/lib64/ruby/gems/2.5.0/gems/iruby-0.3/lib/iruby/backend.rb:44:in `eval'\u001b[0m",
      "\u001b[37m/usr/local/lib64/ruby/gems/2.5.0/gems/iruby-0.3/lib/iruby/backend.rb:44:in `eval'\u001b[0m",
      "\u001b[37m/usr/local/lib64/ruby/gems/2.5.0/gems/iruby-0.3/lib/iruby/backend.rb:12:in `eval'\u001b[0m",
      "\u001b[37m/usr/local/lib64/ruby/gems/2.5.0/gems/iruby-0.3/lib/iruby/kernel.rb:87:in `execute_request'\u001b[0m",
      "\u001b[37m/usr/local/lib64/ruby/gems/2.5.0/gems/iruby-0.3/lib/iruby/kernel.rb:47:in `dispatch'\u001b[0m",
      "\u001b[37m/usr/local/lib64/ruby/gems/2.5.0/gems/iruby-0.3/lib/iruby/kernel.rb:37:in `run'\u001b[0m",
      "\u001b[37m/usr/local/lib64/ruby/gems/2.5.0/gems/iruby-0.3/lib/iruby/command.rb:70:in `run_kernel'\u001b[0m",
      "\u001b[37m/usr/local/lib64/ruby/gems/2.5.0/gems/iruby-0.3/lib/iruby/command.rb:34:in `run'\u001b[0m",
      "\u001b[37m/usr/local/lib64/ruby/gems/2.5.0/gems/iruby-0.3/bin/iruby:5:in `<top (required)>'\u001b[0m",
      "\u001b[37m/usr/local/bin/iruby:23:in `load'\u001b[0m",
      "\u001b[37m/usr/local/bin/iruby:23:in `<main>'\u001b[0m"
     ]
    }
   ],
   "source": [
    "require 'cinch'\n",
    "\n",
    "bot = Cinch::Bot.new do\n",
    "  configure do |c|\n",
    "    c.nick = \"bm-logger\"\n",
    "    c.server = ENV[\"LOG_SERVER\"]\n",
    "    c.channels = [ENV[\"LOG_CHANNEL\"]]\n",
    "    c.verbose = true\n",
    "  end\n",
    "  on :log_info do |m, line|\n",
    "    Channel(ENV[\"LOG_CHANNEL\"]).msg(line)\n",
    "  end\n",
    "end\n",
    "\n",
    "bot_thriead = Thread.new do\n",
    "  bot.start\n",
    "end"
   ]
  },
  {
   "cell_type": "markdown",
   "metadata": {},
   "source": [
    "要想将日志信息写进IRC频道，我们得出发自定义的`:log_info`事件"
   ]
  },
  {
   "cell_type": "code",
   "execution_count": 58,
   "metadata": {},
   "outputs": [
    {
     "ename": "NoMethodError",
     "evalue": "undefined method `handlers' for nil:NilClass",
     "output_type": "error",
     "traceback": [
      "\u001b[31mNoMethodError\u001b[0m: undefined method `handlers' for nil:NilClass",
      "\u001b[37m<main>:in `<main>'\u001b[0m",
      "\u001b[37m/usr/local/lib64/ruby/gems/2.5.0/gems/iruby-0.3/lib/iruby/backend.rb:44:in `eval'\u001b[0m",
      "\u001b[37m/usr/local/lib64/ruby/gems/2.5.0/gems/iruby-0.3/lib/iruby/backend.rb:44:in `eval'\u001b[0m",
      "\u001b[37m/usr/local/lib64/ruby/gems/2.5.0/gems/iruby-0.3/lib/iruby/backend.rb:12:in `eval'\u001b[0m",
      "\u001b[37m/usr/local/lib64/ruby/gems/2.5.0/gems/iruby-0.3/lib/iruby/kernel.rb:87:in `execute_request'\u001b[0m",
      "\u001b[37m/usr/local/lib64/ruby/gems/2.5.0/gems/iruby-0.3/lib/iruby/kernel.rb:47:in `dispatch'\u001b[0m",
      "\u001b[37m/usr/local/lib64/ruby/gems/2.5.0/gems/iruby-0.3/lib/iruby/kernel.rb:37:in `run'\u001b[0m",
      "\u001b[37m/usr/local/lib64/ruby/gems/2.5.0/gems/iruby-0.3/lib/iruby/command.rb:70:in `run_kernel'\u001b[0m",
      "\u001b[37m/usr/local/lib64/ruby/gems/2.5.0/gems/iruby-0.3/lib/iruby/command.rb:34:in `run'\u001b[0m",
      "\u001b[37m/usr/local/lib64/ruby/gems/2.5.0/gems/iruby-0.3/bin/iruby:5:in `<top (required)>'\u001b[0m",
      "\u001b[37m/usr/local/bin/iruby:23:in `load'\u001b[0m",
      "\u001b[37m/usr/local/bin/iruby:23:in `<main>'\u001b[0m"
     ]
    }
   ],
   "source": [
    "bot.handlers.dispatch(:log_info, nil, \"Something happend\")"
   ]
  },
  {
   "cell_type": "markdown",
   "metadata": {},
   "source": [
    "既然`#<<message`是一种简单易懂的日志输出方式，而且支持大多数日志终端，那么不妨使用`IRC Bot`的时候就用适配器修饰它，让它支持通用的接口，避免`#info`和其他方法被类型检查干扰"
   ]
  },
  {
   "cell_type": "code",
   "execution_count": 59,
   "metadata": {},
   "outputs": [
    {
     "data": {
      "text/plain": [
       ":initialize"
      ]
     },
     "execution_count": 59,
     "metadata": {},
     "output_type": "execute_result"
    }
   ],
   "source": [
    "class BenchmarkedLogger\n",
    "  class IrcBotSink\n",
    "    def initialize\n",
    "      @bot = bot\n",
    "    end\n",
    "    \n",
    "    def <<(message)\n",
    "      @bot.handlers.dispatch(:log_info, nil, message)\n",
    "    end\n",
    "  end\n",
    "  \n",
    "  def initialize(sink)\n",
    "    @sink = case sink\n",
    "    when Cinch::Bot then IrcBotSink.new(sink)\n",
    "    else sink\n",
    "    end\n",
    "    end\n",
    "  end\n",
    "  "
   ]
  },
  {
   "cell_type": "code",
   "execution_count": 60,
   "metadata": {},
   "outputs": [
    {
     "ename": "LoadError",
     "evalue": "cannot load such file -- cinch",
     "output_type": "error",
     "traceback": [
      "\u001b[31mLoadError\u001b[0m: cannot load such file -- cinch",
      "\u001b[37m/usr/lib64/ruby/site_ruby/2.5.0/rubygems/core_ext/kernel_require.rb:59:in `require'\u001b[0m",
      "\u001b[37m/usr/lib64/ruby/site_ruby/2.5.0/rubygems/core_ext/kernel_require.rb:59:in `require'\u001b[0m",
      "\u001b[37m<main>:in `<main>'\u001b[0m",
      "\u001b[37m/usr/local/lib64/ruby/gems/2.5.0/gems/iruby-0.3/lib/iruby/backend.rb:44:in `eval'\u001b[0m",
      "\u001b[37m/usr/local/lib64/ruby/gems/2.5.0/gems/iruby-0.3/lib/iruby/backend.rb:44:in `eval'\u001b[0m",
      "\u001b[37m/usr/local/lib64/ruby/gems/2.5.0/gems/iruby-0.3/lib/iruby/backend.rb:12:in `eval'\u001b[0m",
      "\u001b[37m/usr/local/lib64/ruby/gems/2.5.0/gems/iruby-0.3/lib/iruby/kernel.rb:87:in `execute_request'\u001b[0m",
      "\u001b[37m/usr/local/lib64/ruby/gems/2.5.0/gems/iruby-0.3/lib/iruby/kernel.rb:47:in `dispatch'\u001b[0m",
      "\u001b[37m/usr/local/lib64/ruby/gems/2.5.0/gems/iruby-0.3/lib/iruby/kernel.rb:37:in `run'\u001b[0m",
      "\u001b[37m/usr/local/lib64/ruby/gems/2.5.0/gems/iruby-0.3/lib/iruby/command.rb:70:in `run_kernel'\u001b[0m",
      "\u001b[37m/usr/local/lib64/ruby/gems/2.5.0/gems/iruby-0.3/lib/iruby/command.rb:34:in `run'\u001b[0m",
      "\u001b[37m/usr/local/lib64/ruby/gems/2.5.0/gems/iruby-0.3/bin/iruby:5:in `<top (required)>'\u001b[0m",
      "\u001b[37m/usr/local/bin/iruby:23:in `load'\u001b[0m",
      "\u001b[37m/usr/local/bin/iruby:23:in `<main>'\u001b[0m"
     ]
    }
   ],
   "source": [
    "require 'cinch'\n",
    "require 'delegate'\n",
    "\n",
    "class BenchmarkedLogger\n",
    "  class IrcBotSink < DelegateClasss(Cinch::Bot)\n",
    "    def <<(message)\n",
    "      handlers.dispatch(:log_info, nil, message)\n",
    "    end\n",
    "    \n",
    "    def initialize(sink)\n",
    "      @sink = case sink\n",
    "      when Cinch::Bot then IrcBotSink.new(sink)\n",
    "      else sink\n",
    "      end\n",
    "    end\n",
    "    end\n",
    "end\n"
   ]
  },
  {
   "cell_type": "markdown",
   "metadata": {},
   "source": [
    "我们将用Ruby标准库中的`DelegateClass`类作为透明适配器的基础。它将生成这样一个类：所有调用该类的方法都将传给底层的对象。所以，在`IrcBotSink`中调用`#handlers`方法，实际上调用的是内部`Cinch::Bot`的`#handlers`。"
   ]
  },
  {
   "cell_type": "markdown",
   "metadata": {},
   "source": [
    "实际接受方法调用的底层对象`Cinch::Bot`是通过构造方法传入的。而`DelegateClass`恰好提供这样的构造方法。我们要做的只是为适配器对象提供要增加的方法。"
   ]
  },
  {
   "cell_type": "markdown",
   "metadata": {},
   "source": [
    "为了实现这一切，我们还得做些调整：将当前代码中所有引用`Cinch::Bot`的地方统统换成`IrcBotSink`。这只需要搜搜替换就能完成。"
   ]
  },
  {
   "cell_type": "markdown",
   "metadata": {},
   "source": [
    "乍看之下，这并无特别之处。但是，使用透明适配器对象替换`Cinch::Bot`对象之后，我们离统一日志终端接口又近了一步。我们逐一将蹩脚的`switch`语句都替换成统一的接口，同时又不比担心破坏尚未来的及跟新的遗留方法。"
   ]
  },
  {
   "cell_type": "markdown",
   "metadata": {},
   "source": [
    "让程序进校抛出明显的错误，总好过就不正常、将来突然出现令人困惑的一场问题"
   ]
  },
  {
   "cell_type": "code",
   "execution_count": 61,
   "metadata": {},
   "outputs": [
    {
     "data": {
      "text/plain": [
       ":bio"
      ]
     },
     "execution_count": 61,
     "metadata": {},
     "output_type": "execute_result"
    }
   ],
   "source": [
    "require 'date'\n",
    "\n",
    "class Employee\n",
    "  attr_accessor :name\n",
    "  attr_accessor :hire_date\n",
    "  \n",
    "  def initialize(name, hire_date)\n",
    "    @name = name\n",
    "    @hire_date = hire_date\n",
    "  end\n",
    "  \n",
    "  def due_for_tie_pin?\n",
    "    raise \"Missing hire date!\" unless hire_date\n",
    "    ((Date.today - hire_date) / 365).to_i >= 10\n",
    "  end\n",
    "  \n",
    "  def covered_by_pension_plan?\n",
    "    ((hire_date && hire_date.year) || 2000) < 2000\n",
    "  end\n",
    "  def bio\n",
    "    if hire_date\n",
    "      \"#{name} has been a Yoyodyne employee sinece #{hire_date.year}\"\n",
    "    else\n",
    "      \"#{name} is a proud Yoyodyne employee\"\n",
    "    end\n",
    "  end\n",
    "end"
   ]
  },
  {
   "cell_type": "markdown",
   "metadata": {},
   "source": [
    "这是一个必须做“边界检查”的例子。既然没有一种很好地方式来应对入职日期确实的情况，不如简单地坚持入职日期必须有合法值。这样就可以让那些`nil`无处藏身了。"
   ]
  },
  {
   "cell_type": "code",
   "execution_count": 62,
   "metadata": {},
   "outputs": [
    {
     "data": {
      "text/plain": [
       ":hire_date="
      ]
     },
     "execution_count": 62,
     "metadata": {},
     "output_type": "execute_result"
    }
   ],
   "source": [
    "require 'date'\n",
    "\n",
    "class Employee\n",
    "  attr_accessor :name\n",
    "  attr_reader :hire_date\n",
    "  def initialize(name, hire_date)\n",
    "    @name = name\n",
    "  end\n",
    "  \n",
    "  def hire_date=(new_hire_date)\n",
    "    raise TypeError, \"Invalid hire date\" unless\n",
    "    new_hire_date.is_a?\n",
    "    @hire_date = new_hire_date\n",
    "  end\n",
    "end"
   ]
  },
  {
   "cell_type": "markdown",
   "metadata": {},
   "source": [
    "**遵循先决条件应该是方法调用者的职责，也就是说，调用者用用不应该拿违反先决条件的输入法去调用方法**。但`Ruby`并不支持契约设计，所以我们将先决条件放到待保护方法开始部分。"
   ]
  },
  {
   "cell_type": "markdown",
   "metadata": {},
   "source": [
    "先决条件身兼双重职责。首先，它们阻止非法输入，从而避免非法输入造成方法出现难以预料的行为；其次，它们位处方法的开头部分，作为“可执行文档”表明输入要求。读代码时，第一眼看到的便是说明哪些输入不合法的先决条件。"
   ]
  },
  {
   "cell_type": "markdown",
   "metadata": {},
   "source": [
    "有些方法的输入时不可接受的。有时它们只在某个地方引起错误，这并无大碍；但在另一些条件下，非法输入则会危害系统，甚至是业务。更可怕的是，开发人员对非法输入的担心，会影响系统的统一性。在入口处及时拒绝无效输入，可以让程序变得更简装，简化内部逻辑，同时为其他开发人员提供“可执行文档”"
   ]
  },
  {
   "cell_type": "markdown",
   "metadata": {},
   "source": [
    "假设有这样一个方法，用于包装useradd，它用`Hash`来接收所得中属性输入"
   ]
  },
  {
   "cell_type": "code",
   "execution_count": 63,
   "metadata": {},
   "outputs": [
    {
     "data": {
      "text/plain": [
       ":add_user"
      ]
     },
     "execution_count": 63,
     "metadata": {},
     "output_type": "execute_result"
    }
   ],
   "source": [
    "def add_user(attributes)\n",
    "  login = attributes[:login]\n",
    "  unless login\n",
    "    raise ArgumentError, 'Login must be supplied'\n",
    "  end\n",
    "  password = attributes[:password]\n",
    "  unless password\n",
    "    raise ArgumentError, 'Password (or false) must be supplied'\n",
    "  end\n",
    "  \n",
    "  icoomand = %[useradd]\n",
    "  \n",
    "  if attributes[:home]\n",
    "    command << '--home' << attributes[:home]\n",
    "  end\n",
    "  if attributes[:shell]\n",
    "    command << '--shell' << attributes[:shell]\n",
    "  end\n",
    "  \n",
    "  if attributes[:dry_run]\n",
    "    puts command.join(\" \")\n",
    "  else\n",
    "    system *command\n",
    "  end\n",
    "end"
   ]
  },
  {
   "cell_type": "code",
   "execution_count": 64,
   "metadata": {},
   "outputs": [
    {
     "data": {
      "text/plain": [
       ":test"
      ]
     },
     "execution_count": 64,
     "metadata": {},
     "output_type": "execute_result"
    }
   ],
   "source": [
    "def test\n",
    "  value = yield\n",
    "  if value\n",
    "    \"truthy (#{value.inspect})\"\n",
    "  else\n",
    "    \"falsey (#{value.inspect})\"\n",
    "  end\n",
    "rescue =>error\n",
    "  \"error (#{error.class})\"\n",
    "end"
   ]
  },
  {
   "cell_type": "code",
   "execution_count": 65,
   "metadata": {},
   "outputs": [
    {
     "data": {
      "text/plain": [
       "{:a=>123, :b=>false, :c=>nil}"
      ]
     },
     "execution_count": 65,
     "metadata": {},
     "output_type": "execute_result"
    }
   ],
   "source": [
    "h = {:a =>123, :b =>false, :c =>nil}"
   ]
  },
  {
   "cell_type": "code",
   "execution_count": 66,
   "metadata": {},
   "outputs": [
    {
     "data": {
      "text/plain": [
       "\"truthy (123)\""
      ]
     },
     "execution_count": 66,
     "metadata": {},
     "output_type": "execute_result"
    }
   ],
   "source": [
    "test {h[:a]}"
   ]
  },
  {
   "cell_type": "code",
   "execution_count": 67,
   "metadata": {},
   "outputs": [
    {
     "data": {
      "text/plain": [
       "\"falsey (false)\""
      ]
     },
     "execution_count": 67,
     "metadata": {},
     "output_type": "execute_result"
    }
   ],
   "source": [
    "test {h[:b]}"
   ]
  },
  {
   "cell_type": "code",
   "execution_count": 68,
   "metadata": {},
   "outputs": [
    {
     "data": {
      "text/plain": [
       "\"falsey (nil)\""
      ]
     },
     "execution_count": 68,
     "metadata": {},
     "output_type": "execute_result"
    }
   ],
   "source": [
    "test {h[:c]}"
   ]
  },
  {
   "cell_type": "code",
   "execution_count": 69,
   "metadata": {},
   "outputs": [
    {
     "data": {
      "text/plain": [
       "\"falsey (nil)\""
      ]
     },
     "execution_count": 69,
     "metadata": {},
     "output_type": "execute_result"
    }
   ],
   "source": [
    "test {h[:x]}"
   ]
  },
  {
   "cell_type": "code",
   "execution_count": 70,
   "metadata": {},
   "outputs": [
    {
     "name": "stdout",
     "output_type": "stream",
     "text": [
      "nil\n"
     ]
    }
   ],
   "source": [
    "p h[:x]"
   ]
  },
  {
   "cell_type": "code",
   "execution_count": 71,
   "metadata": {},
   "outputs": [
    {
     "data": {
      "text/plain": [
       "\"truthy (123)\""
      ]
     },
     "execution_count": 71,
     "metadata": {},
     "output_type": "execute_result"
    }
   ],
   "source": [
    "test {h.fetch(:a)}"
   ]
  },
  {
   "cell_type": "code",
   "execution_count": 72,
   "metadata": {},
   "outputs": [
    {
     "data": {
      "text/plain": [
       "\"falsey (false)\""
      ]
     },
     "execution_count": 72,
     "metadata": {},
     "output_type": "execute_result"
    }
   ],
   "source": [
    "test {h.fetch(:b)}"
   ]
  },
  {
   "cell_type": "code",
   "execution_count": 73,
   "metadata": {},
   "outputs": [
    {
     "data": {
      "text/plain": [
       "\"falsey (nil)\""
      ]
     },
     "execution_count": 73,
     "metadata": {},
     "output_type": "execute_result"
    }
   ],
   "source": [
    "test {h.fetch(:c)}"
   ]
  },
  {
   "cell_type": "code",
   "execution_count": 74,
   "metadata": {},
   "outputs": [
    {
     "data": {
      "text/plain": [
       "\"error (KeyError)\""
      ]
     },
     "execution_count": 74,
     "metadata": {},
     "output_type": "execute_result"
    }
   ],
   "source": [
    "test {h.fetch(:x)}"
   ]
  },
  {
   "cell_type": "markdown",
   "metadata": {},
   "source": [
    "## Fetch写法"
   ]
  },
  {
   "cell_type": "code",
   "execution_count": 75,
   "metadata": {},
   "outputs": [
    {
     "data": {
      "text/plain": [
       ":add_user"
      ]
     },
     "execution_count": 75,
     "metadata": {},
     "output_type": "execute_result"
    }
   ],
   "source": [
    "def add_user(attributes)\n",
    "  login = attributes.fetch(:login)\n",
    "  password = attributes.fetch(:password)\n",
    "  \n",
    "  command = %w[useradd]\n",
    "  if attributes[:home]\n",
    "    command << '--home' << attributes[:home]\n",
    "  end\n",
    "  if attributes[:shell]\n",
    "    command << '--shell' << attributes[:shell]\n",
    "  end\n",
    "  \n",
    "  if passward == false\n",
    "    command << '--disabled-login'\n",
    "  else\n",
    "    command << '--password' << password\n",
    "  end\n",
    "  \n",
    "  command << login\n",
    "  \n",
    "  if attrubtes[:dry_run]\n",
    "    puts command.join(\" \")\n",
    "  else\n",
    "    system *command\n",
    "  end\n",
    "end"
   ]
  },
  {
   "cell_type": "code",
   "execution_count": 76,
   "metadata": {},
   "outputs": [
    {
     "ename": "KeyError",
     "evalue": "Password (or false) must be supplied",
     "output_type": "error",
     "traceback": [
      "\u001b[31mKeyError\u001b[0m: Password (or false) must be supplied",
      "\u001b[37m<main>:3:in `block in <main>'\u001b[0m",
      "\u001b[37m<main>:2:in `fetch'\u001b[0m",
      "\u001b[37m<main>:2:in `<main>'\u001b[0m",
      "\u001b[37m/usr/local/lib64/ruby/gems/2.5.0/gems/iruby-0.3/lib/iruby/backend.rb:44:in `eval'\u001b[0m",
      "\u001b[37m/usr/local/lib64/ruby/gems/2.5.0/gems/iruby-0.3/lib/iruby/backend.rb:44:in `eval'\u001b[0m",
      "\u001b[37m/usr/local/lib64/ruby/gems/2.5.0/gems/iruby-0.3/lib/iruby/backend.rb:12:in `eval'\u001b[0m",
      "\u001b[37m/usr/local/lib64/ruby/gems/2.5.0/gems/iruby-0.3/lib/iruby/kernel.rb:87:in `execute_request'\u001b[0m",
      "\u001b[37m/usr/local/lib64/ruby/gems/2.5.0/gems/iruby-0.3/lib/iruby/kernel.rb:47:in `dispatch'\u001b[0m",
      "\u001b[37m/usr/local/lib64/ruby/gems/2.5.0/gems/iruby-0.3/lib/iruby/kernel.rb:37:in `run'\u001b[0m",
      "\u001b[37m/usr/local/lib64/ruby/gems/2.5.0/gems/iruby-0.3/lib/iruby/command.rb:70:in `run_kernel'\u001b[0m",
      "\u001b[37m/usr/local/lib64/ruby/gems/2.5.0/gems/iruby-0.3/lib/iruby/command.rb:34:in `run'\u001b[0m",
      "\u001b[37m/usr/local/lib64/ruby/gems/2.5.0/gems/iruby-0.3/bin/iruby:5:in `<top (required)>'\u001b[0m",
      "\u001b[37m/usr/local/bin/iruby:23:in `load'\u001b[0m",
      "\u001b[37m/usr/local/bin/iruby:23:in `<main>'\u001b[0m"
     ]
    }
   ],
   "source": [
    "attributes = {}\n",
    "\n",
    "password = attributes.fetch(:password) do\n",
    "  raise KeyError, \"Password (or false) must be supplied\"\n",
    "end\n"
   ]
  },
  {
   "cell_type": "code",
   "execution_count": 77,
   "metadata": {},
   "outputs": [
    {
     "name": "stderr",
     "output_type": "stream",
     "text": [
      "WARNING: Nokogiri was built against LibXML version 2.9.9, but has dynamically loaded 2.9.8\n"
     ]
    },
    {
     "data": {
      "text/plain": [
       ":default_logger"
      ]
     },
     "execution_count": 77,
     "metadata": {},
     "output_type": "execute_result"
    }
   ],
   "source": [
    "require 'nokogiri'\n",
    "require 'net/http'\n",
    "require 'tmpdir'\n",
    "require 'logger'\n",
    "\n",
    "def emergency_kittens(options = {})\n",
    "  logger = options[:logger] || default_logger\n",
    "  uri = URI(\"http://api.flickr.com/services/feeds/photos_public.gne?tags=kittens\")\n",
    "  logger.info \"Finding cuteness\"\n",
    "  body = Net::HTTP.get_response(uri).body\n",
    "  feed = Nokogiri::XML(body)\n",
    "  image_url = feed.css('link[rel=enclosure]').to_a.sample['href']\n",
    "  image_uri = URI(image_url)\n",
    "  logger.info \"Downloading cuteness\"\n",
    "  open(File.join(Dir.tmpdir, File.basename(image_uri.path)), 'w') do |f|\n",
    "    data = Net::HTTP.get_response(URI(image_url)).body\n",
    "    f.write(data)\n",
    "    logger.info \"Cuteness written to #{f.path}\"\n",
    "    return f.path\n",
    "  end\n",
    "end\n",
    "\n",
    "def default_logger\n",
    "  l = Logger.new($stdout)\n",
    "  l.formatter = -> (severity, datetime, progname, msg){\n",
    "    \"#{severity} -- #{msg}\\n\"\n",
    "    }\n",
    "  l\n",
    "end"
   ]
  },
  {
   "cell_type": "code",
   "execution_count": 78,
   "metadata": {},
   "outputs": [
    {
     "name": "stdout",
     "output_type": "stream",
     "text": [
      "INFO -- Finding cuteness\n",
      "INFO -- Downloading cuteness\n",
      "INFO -- Cuteness written to /tmp/33028102838_d6f2817cc5_b.jpg\n"
     ]
    },
    {
     "data": {
      "text/plain": [
       "\"/tmp/33028102838_d6f2817cc5_b.jpg\""
      ]
     },
     "execution_count": 78,
     "metadata": {},
     "output_type": "execute_result"
    }
   ],
   "source": [
    "emergency_kittens"
   ]
  },
  {
   "cell_type": "code",
   "execution_count": 79,
   "metadata": {},
   "outputs": [
    {
     "name": "stdout",
     "output_type": "stream",
     "text": [
      "Finding cuteness\n",
      "Downloading cuteness\n",
      "Cuteness written to /tmp/45999975745_9ce97bfe35_b.jpg\n"
     ]
    },
    {
     "data": {
      "text/plain": [
       "\"/tmp/45999975745_9ce97bfe35_b.jpg\""
      ]
     },
     "execution_count": 79,
     "metadata": {},
     "output_type": "execute_result"
    }
   ],
   "source": [
    "simple_logger = Logger.new($stdout)\n",
    "simple_logger.formatter = -> (_, _, _, message) {\n",
    "  \"#{message}\\n\"\n",
    "  }\n",
    "\n",
    "emergency_kittens(logger: simple_logger)"
   ]
  },
  {
   "cell_type": "code",
   "execution_count": 80,
   "metadata": {},
   "outputs": [],
   "source": [
    "options = {}\n",
    "options[:logger] = false\n",
    "logger = options[:logger] || Logger.new($stdout)\n",
    "if logger == false\n",
    "  logger = Logger.new('/dev/null')\n",
    "end\n"
   ]
  },
  {
   "cell_type": "code",
   "execution_count": 81,
   "metadata": {},
   "outputs": [
    {
     "name": "stdout",
     "output_type": "stream",
     "text": [
      "INFO -- Finding cuteness\n",
      "INFO -- Downloading cuteness\n",
      "INFO -- Cuteness written to /tmp/46856059512_9ae0535988_b.jpg\n"
     ]
    },
    {
     "data": {
      "text/plain": [
       "\"/tmp/46856059512_9ae0535988_b.jpg\""
      ]
     },
     "execution_count": 81,
     "metadata": {},
     "output_type": "execute_result"
    }
   ],
   "source": [
    "emergency_kittens(logger: false)"
   ]
  },
  {
   "cell_type": "markdown",
   "metadata": {},
   "source": [
    "由于`false`表示假，故`logger = options[:logger] ||Logger.new($stdout)`会生成`$stdout`日志，而非将其设置为`false`。所以，原打算在日志属性为`false`时将其替换为`/dev/null`的代码从未触发过。"
   ]
  },
  {
   "cell_type": "code",
   "execution_count": 82,
   "metadata": {},
   "outputs": [
    {
     "data": {
      "text/plain": [
       "#<Logger:0x000000558f75e1f0 @level=0, @progname=nil, @default_formatter=#<Logger::Formatter:0x000000558f75e1a0 @datetime_format=nil>, @formatter=nil, @logdev=#<Logger::LogDevice:0x000000558f75e150 @shift_period_suffix=\"%Y%m%d\", @shift_size=1048576, @shift_age=0, @filename=\"/dev/null\", @dev=#<File:/dev/null>, @mon_owner=nil, @mon_count=0, @mon_mutex=#<Thread::Mutex:0x000000558f75e100>>>"
      ]
     },
     "execution_count": 82,
     "metadata": {},
     "output_type": "execute_result"
    }
   ],
   "source": [
    "logger = options.fetch(:logger) {Logger.new($stdout)}\n",
    "if logger == false\n",
    "  logger = Logger.new('/dev/null')\n",
    "end"
   ]
  },
  {
   "cell_type": "markdown",
   "metadata": {},
   "source": [
    "我们可以用`Hash#fetch`和代码块来根据条件提供默认日志对象，从而修复该`bug`。因为`#fetch`紧急当特定键确实时才执行并返回代码块中的内容。所以显示地设置`:logger`为false不会被覆盖"
   ]
  },
  {
   "cell_type": "markdown",
   "metadata": {},
   "source": [
    "代码块形式的`#fetch`更明确地表示了“这便是默认值”"
   ]
  },
  {
   "cell_type": "markdown",
   "metadata": {},
   "source": [
    "在某些库中，相同默认值会一遍一遍的重复。这种情况下，可以很方便的将默认值设置为`Proc`，然后将其作用每个`#fetch`的默认值"
   ]
  },
  {
   "cell_type": "markdown",
   "metadata": {},
   "source": [
    "为什么不用"
   ]
  },
  {
   "cell_type": "code",
   "execution_count": 83,
   "metadata": {},
   "outputs": [
    {
     "data": {
      "text/plain": [
       "false"
      ]
     },
     "execution_count": 83,
     "metadata": {},
     "output_type": "execute_result"
    }
   ],
   "source": [
    "logger = options.fetch(:logger, Logger.new($stdout))"
   ]
  },
  {
   "cell_type": "markdown",
   "metadata": {},
   "source": [
    "default作为参数传给`#fetch`时候，无论是否需要，它总是会被执行。现在“昂贵”代码每次都会被执行，及时所求值已然存在。这还不仅仅是性能消耗的问题，如果`default`方法中的代码有副作用呢（如向数据库插入数据）？"
   ]
  },
  {
   "cell_type": "markdown",
   "metadata": {},
   "source": [
    "## 用断言验证假设"
   ]
  },
  {
   "cell_type": "markdown",
   "metadata": {},
   "source": [
    "方法接受的输入来自外部系统（如银行交易数据），这类输入可能疏于文档，而且极不稳定"
   ]
  },
  {
   "cell_type": "markdown",
   "metadata": {},
   "source": [
    "在初次用到输入格式假设的地方，便用断言来加以假设。断言失败可以加深你对输入的理解，并且在输入格式发生变化时及时发出警告"
   ]
  },
  {
   "cell_type": "code",
   "execution_count": 84,
   "metadata": {},
   "outputs": [
    {
     "data": {
      "text/plain": [
       ":refresh_transactions"
      ]
     },
     "execution_count": 84,
     "metadata": {},
     "output_type": "execute_result"
    }
   ],
   "source": [
    "class Account\n",
    "  def refresh_transactions\n",
    "    transactions = bank.read_transactions(account_number)\n",
    "    transactions.is_a?(Array) or raise TypeError, \"transactions is not an Array\"\n",
    "  end\n",
    "end"
   ]
  },
  {
   "cell_type": "markdown",
   "metadata": {},
   "source": [
    "通常，我们将对象类型检查视为代码坏味道（code smell），但是，就现在的情况而言，还是努力抓住每根救命稻草为好。在代码边界处，我们对输入的数据的把握越明确，后期协作就越放心。"
   ]
  },
  {
   "cell_type": "markdown",
   "metadata": {},
   "source": [
    "我们更加倾向于更加明确地验证假设。用`Hash#fetch`作断言，代码如下"
   ]
  },
  {
   "cell_type": "code",
   "execution_count": 85,
   "metadata": {},
   "outputs": [
    {
     "ename": "NameError",
     "evalue": "undefined local variable or method `transactions' for main:Object",
     "output_type": "error",
     "traceback": [
      "\u001b[31mNameError\u001b[0m: undefined local variable or method `transactions' for main:Object",
      "\u001b[37m<main>:in `<main>'\u001b[0m",
      "\u001b[37m/usr/local/lib64/ruby/gems/2.5.0/gems/iruby-0.3/lib/iruby/backend.rb:44:in `eval'\u001b[0m",
      "\u001b[37m/usr/local/lib64/ruby/gems/2.5.0/gems/iruby-0.3/lib/iruby/backend.rb:44:in `eval'\u001b[0m",
      "\u001b[37m/usr/local/lib64/ruby/gems/2.5.0/gems/iruby-0.3/lib/iruby/backend.rb:12:in `eval'\u001b[0m",
      "\u001b[37m/usr/local/lib64/ruby/gems/2.5.0/gems/iruby-0.3/lib/iruby/kernel.rb:87:in `execute_request'\u001b[0m",
      "\u001b[37m/usr/local/lib64/ruby/gems/2.5.0/gems/iruby-0.3/lib/iruby/kernel.rb:47:in `dispatch'\u001b[0m",
      "\u001b[37m/usr/local/lib64/ruby/gems/2.5.0/gems/iruby-0.3/lib/iruby/kernel.rb:37:in `run'\u001b[0m",
      "\u001b[37m/usr/local/lib64/ruby/gems/2.5.0/gems/iruby-0.3/lib/iruby/command.rb:70:in `run_kernel'\u001b[0m",
      "\u001b[37m/usr/local/lib64/ruby/gems/2.5.0/gems/iruby-0.3/lib/iruby/command.rb:34:in `run'\u001b[0m",
      "\u001b[37m/usr/local/lib64/ruby/gems/2.5.0/gems/iruby-0.3/bin/iruby:5:in `<top (required)>'\u001b[0m",
      "\u001b[37m/usr/local/bin/iruby:23:in `load'\u001b[0m",
      "\u001b[37m/usr/local/bin/iruby:23:in `<main>'\u001b[0m"
     ]
    }
   ],
   "source": [
    "transactions.echo do |transaction|\n",
    "  amount = transaction.fetch(\"amount\")\n",
    "end \n"
   ]
  },
  {
   "cell_type": "markdown",
   "metadata": {},
   "source": [
    "相比于`String#to_f`,`Kernel#Float`更加严格。"
   ]
  },
  {
   "cell_type": "code",
   "execution_count": 86,
   "metadata": {},
   "outputs": [
    {
     "ename": "ArgumentError",
     "evalue": "invalid value for Float(): \"$1.23\"",
     "output_type": "error",
     "traceback": [
      "\u001b[31mArgumentError\u001b[0m: invalid value for Float(): \"$1.23\"",
      "\u001b[37m<main>:in `Float'\u001b[0m",
      "\u001b[37m<main>:in `<main>'\u001b[0m",
      "\u001b[37m/usr/local/lib64/ruby/gems/2.5.0/gems/iruby-0.3/lib/iruby/backend.rb:44:in `eval'\u001b[0m",
      "\u001b[37m/usr/local/lib64/ruby/gems/2.5.0/gems/iruby-0.3/lib/iruby/backend.rb:44:in `eval'\u001b[0m",
      "\u001b[37m/usr/local/lib64/ruby/gems/2.5.0/gems/iruby-0.3/lib/iruby/backend.rb:12:in `eval'\u001b[0m",
      "\u001b[37m/usr/local/lib64/ruby/gems/2.5.0/gems/iruby-0.3/lib/iruby/kernel.rb:87:in `execute_request'\u001b[0m",
      "\u001b[37m/usr/local/lib64/ruby/gems/2.5.0/gems/iruby-0.3/lib/iruby/kernel.rb:47:in `dispatch'\u001b[0m",
      "\u001b[37m/usr/local/lib64/ruby/gems/2.5.0/gems/iruby-0.3/lib/iruby/kernel.rb:37:in `run'\u001b[0m",
      "\u001b[37m/usr/local/lib64/ruby/gems/2.5.0/gems/iruby-0.3/lib/iruby/command.rb:70:in `run_kernel'\u001b[0m",
      "\u001b[37m/usr/local/lib64/ruby/gems/2.5.0/gems/iruby-0.3/lib/iruby/command.rb:34:in `run'\u001b[0m",
      "\u001b[37m/usr/local/lib64/ruby/gems/2.5.0/gems/iruby-0.3/bin/iruby:5:in `<top (required)>'\u001b[0m",
      "\u001b[37m/usr/local/bin/iruby:23:in `load'\u001b[0m",
      "\u001b[37m/usr/local/bin/iruby:23:in `<main>'\u001b[0m"
     ]
    }
   ],
   "source": [
    "Float(\"$1.23\")"
   ]
  },
  {
   "cell_type": "markdown",
   "metadata": {},
   "source": [
    "最终地代码充满断言，但这是必须地"
   ]
  },
  {
   "cell_type": "code",
   "execution_count": 87,
   "metadata": {},
   "outputs": [
    {
     "data": {
      "text/plain": [
       ":refresh_transactions"
      ]
     },
     "execution_count": 87,
     "metadata": {},
     "output_type": "execute_result"
    }
   ],
   "source": [
    "class Account\n",
    "  def refresh_transactions\n",
    "    transactions = bank.read_transactions(account_number)\n",
    "    transactions.is_a(Array) or raise TypeError, \"transcations is not a array\"\n",
    "    \n",
    "    transactions.each do |transaction|\n",
    "      amount  = transaction.fetch(\"amount\")\n",
    "      amount_cents = (Float(amount) * 100).to_i\n",
    "      cache_transaction(:amount => amount_cents)\n",
    "    end\n",
    "  end\n",
    "end"
   ]
  },
  {
   "cell_type": "markdown",
   "metadata": {},
   "source": [
    "该代码清除地表明了自己地假设。它包含了大量我们对阿文i不API地理解信息，它显示地建立了一系列可以放心使用地函数，一旦输入与参数不服，就会及时报错，同时带有明确地异常信息。"
   ]
  },
  {
   "cell_type": "markdown",
   "metadata": {},
   "source": [
    "及时报错而非纵容无效输入污染整个系统，可以减少类型检查和强制类型转换地使用。这些代码不仅现在验证了我们地假设，而且建立了一套预警机制，以防未来某天第三方API意外地变化。"
   ]
  },
  {
   "cell_type": "markdown",
   "metadata": {},
   "source": [
    "通过在入口处利用断言表明假设，我们永久地记录了对输入数据地假设。这样我们便保护了内部代码免受外部输入地干扰。于此同时，我们还建立了一套预警机制，一旦我们对外部系统地假设国企，就及时警告我们"
   ]
  },
  {
   "cell_type": "markdown",
   "metadata": {},
   "source": [
    "## 用卫语句来处理特殊场景"
   ]
  },
  {
   "cell_type": "markdown",
   "metadata": {},
   "source": [
    "如果使用`if-else`结构，那么其实你赋予了`if`和`else`相同地重要性，并且暗示读者：这两个分支可能性相同且同等重要。与之相反，卫语句则强调：这是特殊情况，如果发生了，稍做处理即可"
   ]
  },
  {
   "cell_type": "code",
   "execution_count": 88,
   "metadata": {},
   "outputs": [
    {
     "data": {
      "text/plain": [
       ":log_reading"
      ]
     },
     "execution_count": 88,
     "metadata": {},
     "output_type": "execute_result"
    }
   ],
   "source": [
    "def log_reading(reading_or_readings)\n",
    "  unless @quiet\n",
    "    readings = Array(reading_or_readings)\n",
    "    readings.each do |reading|\n",
    "      puts \"[READING] %3.2f\" % reading.to_f\n",
    "    end\n",
    "  end\n",
    "end"
   ]
  },
  {
   "cell_type": "markdown",
   "metadata": {},
   "source": [
    "用卫语句地写法"
   ]
  },
  {
   "cell_type": "code",
   "execution_count": 89,
   "metadata": {},
   "outputs": [
    {
     "data": {
      "text/plain": [
       ":log_reading"
      ]
     },
     "execution_count": 89,
     "metadata": {},
     "output_type": "execute_result"
    }
   ],
   "source": [
    "def log_reading(reading_or_readings)\n",
    "  return if @quiet\n",
    "  readings = Array(reading_or_readings)\n",
    "  readings.each do |reading|\n",
    "    puts \"[READING] %3.2f\" % reading.to_f\n",
    "  end\n",
    "end"
   ]
  },
  {
   "cell_type": "markdown",
   "metadata": {},
   "source": [
    "某些特许情况需要尽早处理，但有些特殊请款又没必要让其凌驾于整个方法逻辑之上。用卫语句快速处理特殊情况，可使方法体免于特殊处理地干扰。"
   ]
  },
  {
   "cell_type": "code",
   "execution_count": 91,
   "metadata": {},
   "outputs": [
    {
     "data": {
      "text/plain": [
       ":current_user"
      ]
     },
     "execution_count": 91,
     "metadata": {},
     "output_type": "execute_result"
    }
   ],
   "source": [
    "def current_user\n",
    "  if session[:user_id]\n",
    "    User.find(session[:user_id])\n",
    "  end\n",
    "end"
   ]
  },
  {
   "cell_type": "markdown",
   "metadata": {},
   "source": [
    "下面便是`current_user`的典型应用场景：先判断其返回值，若非空，则使用；否则，插入占位符："
   ]
  },
  {
   "cell_type": "code",
   "execution_count": 92,
   "metadata": {},
   "outputs": [
    {
     "data": {
      "text/plain": [
       ":greeting"
      ]
     },
     "execution_count": 92,
     "metadata": {},
     "output_type": "execute_result"
    }
   ],
   "source": [
    "def greeting\n",
    "  \"Hello,\" + current_user ? current_user.name : \"Anonymous\" +\", how are you today?\"\n",
    "end"
   ]
  },
  {
   "cell_type": "markdown",
   "metadata": {},
   "source": [
    "上面的例子都有一个特征：不确定`#current_user`到底是返回用户对象，还是`nil`。因此，对`nil`的检测一次又一次肆意的重复着。"
   ]
  },
  {
   "cell_type": "markdown",
   "metadata": {},
   "source": [
    "我们不再将匿名用户表示成`nil`，而是用一个类来表示它，取名为`GuestUser`。"
   ]
  },
  {
   "cell_type": "code",
   "execution_count": 93,
   "metadata": {},
   "outputs": [
    {
     "data": {
      "text/plain": [
       ":initialize"
      ]
     },
     "execution_count": 93,
     "metadata": {},
     "output_type": "execute_result"
    }
   ],
   "source": [
    "class GuestUser\n",
    "  def initialize\n",
    "    @session = session\n",
    "  end\n",
    "end"
   ]
  },
  {
   "cell_type": "markdown",
   "metadata": {},
   "source": [
    "下面改进`#current_user`方法，在它没有`:user_id`时返回`GuestUser`对象。"
   ]
  },
  {
   "cell_type": "code",
   "execution_count": 94,
   "metadata": {},
   "outputs": [
    {
     "data": {
      "text/plain": [
       ":current_user"
      ]
     },
     "execution_count": 94,
     "metadata": {},
     "output_type": "execute_result"
    }
   ],
   "source": [
    "def current_user\n",
    "  if session[:user_id]\n",
    "    User.find(session[:user_id])\n",
    "  else\n",
    "    GuestUser.new(session)\n",
    "  end\n",
    "end"
   ]
  },
  {
   "cell_type": "markdown",
   "metadata": {},
   "source": [
    "同时给GuestUser加上对应的`#name`属性，代码如下"
   ]
  },
  {
   "cell_type": "code",
   "execution_count": 96,
   "metadata": {},
   "outputs": [
    {
     "data": {
      "text/plain": [
       ":name"
      ]
     },
     "execution_count": 96,
     "metadata": {},
     "output_type": "execute_result"
    }
   ],
   "source": [
    "class GuestUser\n",
    "  def name\n",
    "    \"Anonymous\"\n",
    "  end\n",
    "end"
   ]
  },
  {
   "cell_type": "markdown",
   "metadata": {},
   "source": [
    "这样子，`greeting`方法的代码变得漂亮多了"
   ]
  },
  {
   "cell_type": "code",
   "execution_count": 97,
   "metadata": {},
   "outputs": [
    {
     "data": {
      "text/plain": [
       ":greeting"
      ]
     },
     "execution_count": 97,
     "metadata": {},
     "output_type": "execute_result"
    }
   ],
   "source": [
    "def greeting\n",
    "  \"Hello, #{current_user}, how are you today\"\n",
    "end"
   ]
  },
  {
   "cell_type": "markdown",
   "metadata": {},
   "source": [
    "针对根据用户登录状态来切换“登录”和“注销”按钮的情况，我们无法移除条件从句，不过可以给`User`和`GuestUser`都加上`#authenticated?`断言方法"
   ]
  },
  {
   "cell_type": "code",
   "execution_count": 98,
   "metadata": {},
   "outputs": [
    {
     "data": {
      "text/plain": [
       ":authenticaeted?"
      ]
     },
     "execution_count": 98,
     "metadata": {},
     "output_type": "execute_result"
    }
   ],
   "source": [
    "class User\n",
    "  def authenticaeted?\n",
    "    true\n",
    "  end\n",
    "end"
   ]
  },
  {
   "cell_type": "code",
   "execution_count": 100,
   "metadata": {},
   "outputs": [
    {
     "data": {
      "text/plain": [
       ":authenticated?"
      ]
     },
     "execution_count": 100,
     "metadata": {},
     "output_type": "execute_result"
    }
   ],
   "source": [
    "class GuestUser\n",
    "  def authenticated?\n",
    "    false\n",
    "  end\n",
    "end"
   ]
  },
  {
   "cell_type": "markdown",
   "metadata": {},
   "source": [
    "使用断言之后，条件从句的意图清晰多了"
   ]
  },
  {
   "cell_type": "code",
   "execution_count": 101,
   "metadata": {},
   "outputs": [
    {
     "ename": "NameError",
     "evalue": "undefined local variable or method `session' for main:Object",
     "output_type": "error",
     "traceback": [
      "\u001b[31mNameError\u001b[0m: undefined local variable or method `session' for main:Object",
      "\u001b[37m<main>:1:in `current_user'\u001b[0m",
      "\u001b[37m<main>:in `<main>'\u001b[0m",
      "\u001b[37m/usr/local/lib64/ruby/gems/2.5.0/gems/iruby-0.3/lib/iruby/backend.rb:44:in `eval'\u001b[0m",
      "\u001b[37m/usr/local/lib64/ruby/gems/2.5.0/gems/iruby-0.3/lib/iruby/backend.rb:44:in `eval'\u001b[0m",
      "\u001b[37m/usr/local/lib64/ruby/gems/2.5.0/gems/iruby-0.3/lib/iruby/backend.rb:12:in `eval'\u001b[0m",
      "\u001b[37m/usr/local/lib64/ruby/gems/2.5.0/gems/iruby-0.3/lib/iruby/kernel.rb:87:in `execute_request'\u001b[0m",
      "\u001b[37m/usr/local/lib64/ruby/gems/2.5.0/gems/iruby-0.3/lib/iruby/kernel.rb:47:in `dispatch'\u001b[0m",
      "\u001b[37m/usr/local/lib64/ruby/gems/2.5.0/gems/iruby-0.3/lib/iruby/kernel.rb:37:in `run'\u001b[0m",
      "\u001b[37m/usr/local/lib64/ruby/gems/2.5.0/gems/iruby-0.3/lib/iruby/command.rb:70:in `run_kernel'\u001b[0m",
      "\u001b[37m/usr/local/lib64/ruby/gems/2.5.0/gems/iruby-0.3/lib/iruby/command.rb:34:in `run'\u001b[0m",
      "\u001b[37m/usr/local/lib64/ruby/gems/2.5.0/gems/iruby-0.3/bin/iruby:5:in `<top (required)>'\u001b[0m",
      "\u001b[37m/usr/local/bin/iruby:23:in `load'\u001b[0m",
      "\u001b[37m/usr/local/bin/iruby:23:in `<main>'\u001b[0m"
     ]
    }
   ],
   "source": [
    "if current_user.anthenticated?\n",
    "  render_logout_button\n",
    "else\n",
    "  render_login_button\n",
    "end"
   ]
  },
  {
   "cell_type": "markdown",
   "metadata": {},
   "source": [
    "价差用户是否有`admin`权限"
   ]
  },
  {
   "cell_type": "code",
   "execution_count": 103,
   "metadata": {},
   "outputs": [
    {
     "data": {
      "text/plain": [
       ":has_role?"
      ]
     },
     "execution_count": 103,
     "metadata": {},
     "output_type": "execute_result"
    }
   ],
   "source": [
    "class GuestUser\n",
    "  def has_role?(role)\n",
    "    false\n",
    "  end\n",
    "end"
   ]
  },
  {
   "cell_type": "code",
   "execution_count": 104,
   "metadata": {},
   "outputs": [
    {
     "ename": "NameError",
     "evalue": "undefined local variable or method `session' for main:Object",
     "output_type": "error",
     "traceback": [
      "\u001b[31mNameError\u001b[0m: undefined local variable or method `session' for main:Object",
      "\u001b[37m<main>:1:in `current_user'\u001b[0m",
      "\u001b[37m<main>:in `<main>'\u001b[0m",
      "\u001b[37m/usr/local/lib64/ruby/gems/2.5.0/gems/iruby-0.3/lib/iruby/backend.rb:44:in `eval'\u001b[0m",
      "\u001b[37m/usr/local/lib64/ruby/gems/2.5.0/gems/iruby-0.3/lib/iruby/backend.rb:44:in `eval'\u001b[0m",
      "\u001b[37m/usr/local/lib64/ruby/gems/2.5.0/gems/iruby-0.3/lib/iruby/backend.rb:12:in `eval'\u001b[0m",
      "\u001b[37m/usr/local/lib64/ruby/gems/2.5.0/gems/iruby-0.3/lib/iruby/kernel.rb:87:in `execute_request'\u001b[0m",
      "\u001b[37m/usr/local/lib64/ruby/gems/2.5.0/gems/iruby-0.3/lib/iruby/kernel.rb:47:in `dispatch'\u001b[0m",
      "\u001b[37m/usr/local/lib64/ruby/gems/2.5.0/gems/iruby-0.3/lib/iruby/kernel.rb:37:in `run'\u001b[0m",
      "\u001b[37m/usr/local/lib64/ruby/gems/2.5.0/gems/iruby-0.3/lib/iruby/command.rb:70:in `run_kernel'\u001b[0m",
      "\u001b[37m/usr/local/lib64/ruby/gems/2.5.0/gems/iruby-0.3/lib/iruby/command.rb:34:in `run'\u001b[0m",
      "\u001b[37m/usr/local/lib64/ruby/gems/2.5.0/gems/iruby-0.3/bin/iruby:5:in `<top (required)>'\u001b[0m",
      "\u001b[37m/usr/local/bin/iruby:23:in `load'\u001b[0m",
      "\u001b[37m/usr/local/bin/iruby:23:in `<main>'\u001b[0m"
     ]
    }
   ],
   "source": [
    "if current_user.has_role?(:admin)\n",
    "  render_admin_panel\n",
    "end"
   ]
  },
  {
   "cell_type": "markdown",
   "metadata": {},
   "source": [
    "针对根据用户的登陆状态来调整`@listing`的情况，我们给`GuestUser`加上`#visiable_listings`方法，让其简单地返回公共资源列表"
   ]
  },
  {
   "cell_type": "code",
   "execution_count": 105,
   "metadata": {},
   "outputs": [
    {
     "data": {
      "text/plain": [
       ":visiable_listings"
      ]
     },
     "execution_count": 105,
     "metadata": {},
     "output_type": "execute_result"
    }
   ],
   "source": [
    "class GuestUser\n",
    "  def visiable_listings\n",
    "    Listing.publicly_visiable\n",
    "  end\n",
    "end"
   ]
  },
  {
   "cell_type": "markdown",
   "metadata": {},
   "source": [
    "先前地代码被简化成了单行形式，如下"
   ]
  },
  {
   "cell_type": "markdown",
   "metadata": {},
   "source": [
    "```ruby\n",
    "@listings = current_user.visible_listings\n",
    "```"
   ]
  },
  {
   "cell_type": "markdown",
   "metadata": {},
   "source": [
    "为了让`GuestUser`完全被作为普通用户对待，我们给它加上不做事地属性`setter`方法。"
   ]
  },
  {
   "cell_type": "code",
   "execution_count": 106,
   "metadata": {},
   "outputs": [
    {
     "data": {
      "text/plain": [
       ":last_seen_online="
      ]
     },
     "execution_count": 106,
     "metadata": {},
     "output_type": "execute_result"
    }
   ],
   "source": [
    "class GuestUser\n",
    "  def last_seen_online=(time)\n",
    "  end\n",
    "end"
   ]
  },
  {
   "cell_type": "markdown",
   "metadata": {},
   "source": [
    "这又简化了另一个条件语句"
   ]
  },
  {
   "cell_type": "code",
   "execution_count": 107,
   "metadata": {},
   "outputs": [
    {
     "ename": "NameError",
     "evalue": "undefined local variable or method `session' for main:Object",
     "output_type": "error",
     "traceback": [
      "\u001b[31mNameError\u001b[0m: undefined local variable or method `session' for main:Object",
      "\u001b[37m<main>:1:in `current_user'\u001b[0m",
      "\u001b[37m<main>:in `<main>'\u001b[0m",
      "\u001b[37m/usr/local/lib64/ruby/gems/2.5.0/gems/iruby-0.3/lib/iruby/backend.rb:44:in `eval'\u001b[0m",
      "\u001b[37m/usr/local/lib64/ruby/gems/2.5.0/gems/iruby-0.3/lib/iruby/backend.rb:44:in `eval'\u001b[0m",
      "\u001b[37m/usr/local/lib64/ruby/gems/2.5.0/gems/iruby-0.3/lib/iruby/backend.rb:12:in `eval'\u001b[0m",
      "\u001b[37m/usr/local/lib64/ruby/gems/2.5.0/gems/iruby-0.3/lib/iruby/kernel.rb:87:in `execute_request'\u001b[0m",
      "\u001b[37m/usr/local/lib64/ruby/gems/2.5.0/gems/iruby-0.3/lib/iruby/kernel.rb:47:in `dispatch'\u001b[0m",
      "\u001b[37m/usr/local/lib64/ruby/gems/2.5.0/gems/iruby-0.3/lib/iruby/kernel.rb:37:in `run'\u001b[0m",
      "\u001b[37m/usr/local/lib64/ruby/gems/2.5.0/gems/iruby-0.3/lib/iruby/command.rb:70:in `run_kernel'\u001b[0m",
      "\u001b[37m/usr/local/lib64/ruby/gems/2.5.0/gems/iruby-0.3/lib/iruby/command.rb:34:in `run'\u001b[0m",
      "\u001b[37m/usr/local/lib64/ruby/gems/2.5.0/gems/iruby-0.3/bin/iruby:5:in `<top (required)>'\u001b[0m",
      "\u001b[37m/usr/local/bin/iruby:23:in `load'\u001b[0m",
      "\u001b[37m/usr/local/bin/iruby:23:in `<main>'\u001b[0m"
     ]
    }
   ],
   "source": [
    "current_user.last_seen_online = Time.now"
   ]
  },
  {
   "cell_type": "markdown",
   "metadata": {},
   "source": [
    "为了让尚未登陆地游客也加上了购物车，我们让`GuestUser`地`cart`属性返回先前的`SessionCart`对象"
   ]
  },
  {
   "cell_type": "markdown",
   "metadata": {},
   "source": [
    "调整后，往购物车加商品的代码也变成了单行模式"
   ]
  },
  {
   "cell_type": "markdown",
   "metadata": {},
   "source": [
    "这里我们提取出一个适用于多个方法的通用角色——用户，同时意识到用户登录并不意味着没有用户，而是表示我们面临的是一种特殊的匿名用户。这一发现促我们从方法构建层面回到面向对象设计中去。通过着眼于方法层面的代码实现，我们最终得到了更好的领域对象设计。"
   ]
  },
  {
   "cell_type": "markdown",
   "metadata": {},
   "source": [
    "我们清楚，要打交道的是用户（无论登录是否），并且不想在代码清晰度和优雅度方面拖鞋。但是，我们还没有准备好将整个代码库从`nil`检测迁移到新的`GuestUser`上去，因此决定只在此处使用新类。下面便是引入`GuestUser`后的代码"
   ]
  },
  {
   "cell_type": "code",
   "execution_count": 109,
   "metadata": {},
   "outputs": [
    {
     "data": {
      "text/plain": [
       ":greeting"
      ]
     },
     "execution_count": 109,
     "metadata": {},
     "output_type": "execute_result"
    }
   ],
   "source": [
    "def greeting\n",
    "  user = current_user || GuestUser.new(session)\n",
    "  \"Hello, #{user.name}, how are you today\"\n",
    "end"
   ]
  },
  {
   "cell_type": "markdown",
   "metadata": {},
   "source": [
    " `GuestUser`现在有了落脚点，而`#greeting`则变成了重新设计的实验基地。如果满意`GuestUser`在这里的表现，则可推广到其他类似的代码中区。最终，将`GuestUser`对象的创建零散地分布在各处"
   ]
  },
  {
   "cell_type": "markdown",
   "metadata": {},
   "source": [
    "若多处都考虑同一特殊场景，则将导致`nil`检测不断重复。这些没完没了的对象存在性检查将代码弄得一团糟，并且非常容易因漏掉某个`nil`检测而引入`bug`。"
   ]
  },
  {
   "cell_type": "markdown",
   "metadata": {},
   "source": [
    "使用特例对象，便将普通场景和特殊场景的区别集中到了同一的地方，然后多态会确保自会有正确的代码会被执行。这样一来，最终产品将更清晰和简要，同时职责划分的也更合理。"
   ]
  },
  {
   "cell_type": "markdown",
   "metadata": {},
   "source": [
    "通过输入是否为`nil`来控制状态变迁，可以看成一种警告信号：特例对象或许是一种更好的解决方案。为了避免条件语句，我们可引入类来表示特殊场景，然后在当前方法中做试点。一旦创建好了特例类，并且确信他可优化代码中的列成和组织结构，便可重构更多的方法，让其使用特例对象而非条件语句。"
   ]
  },
  {
   "cell_type": "code",
   "execution_count": 110,
   "metadata": {},
   "outputs": [
    {
     "data": {
      "text/plain": [
       ":record_screen"
      ]
     },
     "execution_count": 110,
     "metadata": {},
     "output_type": "execute_result"
    }
   ],
   "source": [
    "class FFMPEG\n",
    "  def record_screen(filename)\n",
    "    source_options = %W[-f x11grab]\n",
    "    recording_options = %W[-s #{@width}x#{@height} -i 0:0+#{@x}#{@y} -r 30]\n",
    "    \n",
    "    ffmpeg_flags = source_options + recording_options + misc_options + output_options\n",
    "    \n",
    "    if @logger\n",
    "      @logger.info \"Executing: ffmpeg #{ffmpeg_flags.join(' ')}\"\n",
    "    end\n",
    "    system('ffmpeg', *ffmpeg_flags)\n",
    "  end\n",
    "end"
   ]
  },
  {
   "cell_type": "markdown",
   "metadata": {},
   "source": [
    "如果每次输出日志都检测`logger`的存在性，将导致代码混乱不堪。更糟糕的是，在多次进行`logger`存在性检测后可能就懈怠了，因为每次都得为此付出额外的精力。"
   ]
  },
  {
   "cell_type": "markdown",
   "metadata": {},
   "source": [
    "它们都有自己的实现，但共享了相同的接口。它们都实现了`#debug, #info, #info, #warn, #error, #fatal`这些不同级别的日志输出方式。无论底层是什么，我们得代码均可无差异地与其交互。"
   ]
  },
  {
   "cell_type": "markdown",
   "metadata": {},
   "source": [
    "从另一个角度来看，`nil`也算是`logger`的一种特例。意识到这一点后，我们想到用于特殊场景的模式或许也可以应用于此"
   ]
  },
  {
   "cell_type": "code",
   "execution_count": 111,
   "metadata": {},
   "outputs": [
    {
     "data": {
      "text/plain": [
       ":fatal"
      ]
     },
     "execution_count": 111,
     "metadata": {},
     "output_type": "execute_result"
    }
   ],
   "source": [
    "class NullLogger\n",
    "  def debug(*) end\n",
    "  def info(*) end\n",
    "  def warn(*) end\n",
    "  def error(*) end\n",
    "  def fatal(*) end\n",
    "end"
   ]
  },
  {
   "cell_type": "markdown",
   "metadata": {},
   "source": [
    "NullLogger类实现了`logger`的所有接口，但不是将日志输出到设备上，而是简单地接受参数却不做任何处理。我们可以将`NullLogger`对象用于`FFMPEG`中`@logger`地默认值"
   ]
  },
  {
   "cell_type": "code",
   "execution_count": 112,
   "metadata": {},
   "outputs": [
    {
     "data": {
      "text/plain": [
       ":initialize"
      ]
     },
     "execution_count": 112,
     "metadata": {},
     "output_type": "execute_result"
    }
   ],
   "source": [
    "class FFMPEG\n",
    "  def initialize(logger=NullLogger.new) end\n",
    "end\n"
   ]
  },
  {
   "cell_type": "markdown",
   "metadata": {},
   "source": [
    "现在，输入命令日志哪一行不再需要`if`语句了"
   ]
  },
  {
   "cell_type": "markdown",
   "metadata": {},
   "source": [
    "在当前的特殊场景下，对`logger`确实的特殊处理便是不做任何事。这里，我们需要一个不做任何事的特例对象，因它及其通用，因此有它自己的名称；空对象模式。“空对象实现了原型对象相关接口，只是这些方法的实现是不做任何事或返回恰当的默认值而已”"
   ]
  },
  {
   "cell_type": "markdown",
   "metadata": {},
   "source": [
    "### 通用空对象"
   ]
  },
  {
   "cell_type": "code",
   "execution_count": 114,
   "metadata": {},
   "outputs": [
    {
     "data": {
      "text/plain": [
       ":respond_to?"
      ]
     },
     "execution_count": 114,
     "metadata": {},
     "output_type": "execute_result"
    }
   ],
   "source": [
    "class NullObject < BasicObject\n",
    "  def method_missing(*)\n",
    "  end\n",
    "  \n",
    "  def respond_to?(name)\n",
    "    true\n",
    "  end\n",
    "end"
   ]
  },
  {
   "cell_type": "markdown",
   "metadata": {},
   "source": [
    "假设有一个方法用于创建`HTTP`请求，同时收集一些参数"
   ]
  },
  {
   "cell_type": "code",
   "execution_count": 115,
   "metadata": {},
   "outputs": [
    {
     "data": {
      "text/plain": [
       ":send_request"
      ]
     },
     "execution_count": 115,
     "metadata": {},
     "output_type": "execute_result"
    }
   ],
   "source": [
    "def send_request(http, request, metrics)\n",
    "  metrics.requests.attempted += 1\n",
    "  response = http.request(request)\n",
    "  metrics.requests.successful += 1\n",
    "  metrics.responses.codes[response.code] += 1\n",
    "  response\n",
    "rescue SocketError\n",
    "  metrics.errors.socket += 1\n",
    "  raise\n",
    "rescue IOError\n",
    "  metrics.errors.io += 1\n",
    "  raise\n",
    "raise HTTPError\n",
    "end"
   ]
  },
  {
   "cell_type": "markdown",
   "metadata": {},
   "source": [
    "这段代码极度依赖`metrics`对象，且嵌套层次颇深。例如，哪行统计套接字错误的代码就涉及4次消息发送"
   ]
  },
  {
   "cell_type": "markdown",
   "metadata": {},
   "source": [
    "1. `metrics`接收`erros`消息\n",
    "2. 前面返回的对象`errors`接收`.socket`消息\n",
    "3. 前面返回的对象`socket`接收`.+`消息\n",
    "4. 第二步返回对象`socket`接收`.socket=`"
   ]
  },
  {
   "cell_type": "markdown",
   "metadata": {},
   "source": [
    "我们并非所有时候都想手机这些参数，或许仅在打开“诊断模式”时才需收集。那其他是偶怎么办呢？不妨尝试用`Null Object`去替换`metric`对象"
   ]
  },
  {
   "cell_type": "code",
   "execution_count": 117,
   "metadata": {},
   "outputs": [
    {
     "data": {
      "text/plain": [
       ":send_request"
      ]
     },
     "execution_count": 117,
     "metadata": {},
     "output_type": "execute_result"
    }
   ],
   "source": [
    "def send_request(http, request, metrics = NullObject.new)\n",
    "end"
   ]
  },
  {
   "cell_type": "markdown",
   "metadata": {},
   "source": [
    "变异版的`NullObject`（空对象黑洞）"
   ]
  },
  {
   "cell_type": "code",
   "execution_count": 118,
   "metadata": {},
   "outputs": [
    {
     "data": {
      "text/plain": [
       ":method_missing"
      ]
     },
     "execution_count": 118,
     "metadata": {},
     "output_type": "execute_result"
    }
   ],
   "source": [
    "class NullObject\n",
    "  def method_missing(*)\n",
    "    self\n",
    "  end\n",
    "end"
   ]
  },
  {
   "cell_type": "markdown",
   "metadata": {},
   "source": [
    "我们再引入“空对象黑洞”时候，我们要格外小心。具体来说，我们要确保“空对象黑洞”永远不会泄露到对象库或兑现股社区外面去。为了方便起见，我们定义了一个特殊的转换方法。"
   ]
  },
  {
   "cell_type": "code",
   "execution_count": 119,
   "metadata": {},
   "outputs": [
    {
     "data": {
      "text/plain": [
       ":Actual"
      ]
     },
     "execution_count": 119,
     "metadata": {},
     "output_type": "execute_result"
    }
   ],
   "source": [
    "def Actual(object)\n",
    "  case object\n",
    "    when NullObject then nil\n",
    "    else object\n",
    "    end\n",
    "  end"
   ]
  },
  {
   "cell_type": "code",
   "execution_count": 120,
   "metadata": {},
   "outputs": [
    {
     "data": {
      "text/plain": [
       "#<User:0x000000558fc3a9a8>"
      ]
     },
     "execution_count": 120,
     "metadata": {},
     "output_type": "execute_result"
    }
   ],
   "source": [
    "Actual(User.new)"
   ]
  },
  {
   "cell_type": "code",
   "execution_count": 121,
   "metadata": {},
   "outputs": [],
   "source": [
    "Actual(nil)"
   ]
  },
  {
   "cell_type": "code",
   "execution_count": 122,
   "metadata": {},
   "outputs": [],
   "source": [
    "Actual(NullObject.new)"
   ]
  },
  {
   "cell_type": "markdown",
   "metadata": {},
   "source": [
    "任何时候，若方法为公共`API`，且其返回值还可能被用到，都使用`Actual`来过滤一遍，以防空对象泄露"
   ]
  },
  {
   "cell_type": "markdown",
   "metadata": {},
   "source": [
    "无论我们怎么努力尝试让空对象表现接近Ruby原生的`nil`，包括在`false`的表现，最终发现的苦苦追寻的是一条死路。"
   ]
  },
  {
   "cell_type": "code",
   "execution_count": 131,
   "metadata": {},
   "outputs": [
    {
     "data": {
      "text/plain": [
       ":render_member"
      ]
     },
     "execution_count": 131,
     "metadata": {},
     "output_type": "execute_result"
    }
   ],
   "source": [
    "def render_member\n",
    "  html = \"\"\n",
    "  html << \"<img class='photo' src='#{member.avatar_url}' />\"\n",
    "  location = Geolocation.locate(member.address)\n",
    "  html << \"<img class='map' src='#{location.map_url} />\"\n",
    "  html << \"</div>\"\n",
    "end"
   ]
  },
  {
   "cell_type": "markdown",
   "metadata": {},
   "source": [
    "显示成员地图并非必须的，而是锦上添花。即使个别成员地图不能正常显示，我们还是希望继续渲染其他成员的信息。有一下集中方式可以解决这个问题"
   ]
  },
  {
   "cell_type": "code",
   "execution_count": 133,
   "metadata": {},
   "outputs": [
    {
     "data": {
      "text/plain": [
       ":render_member"
      ]
     },
     "execution_count": 133,
     "metadata": {},
     "output_type": "execute_result"
    }
   ],
   "source": [
    "def render_member\n",
    "  html = \"\"\n",
    "  html << \"<img class='photo' src='#{member.avatar_url}' />\"\n",
    "  location = Geolocation.locate(member.address)\n",
    "  html << \"<img class='map' src='#{location.map_url} />\"\n",
    "  html << \"</div>\"\n",
    "  begin\n",
    "    location = Geolocatron.locate(member.address)\n",
    "    html << \" <img class='map' src='#{location.map_url}\"\n",
    "  rescue NoMethodError\n",
    "  end\n",
    "  html << \"</div>\"\n",
    "end"
   ]
  },
  {
   "cell_type": "markdown",
   "metadata": {},
   "source": [
    "另一种方法是在`location`对象使用前进行存在性检查"
   ]
  },
  {
   "cell_type": "code",
   "execution_count": 134,
   "metadata": {},
   "outputs": [
    {
     "data": {
      "text/plain": [
       ":render_member"
      ]
     },
     "execution_count": 134,
     "metadata": {},
     "output_type": "execute_result"
    }
   ],
   "source": [
    "def render_member\n",
    "  html = \"\"\n",
    "  html << \"<img class='photo' src='#{member.avatar_url}' />\"\n",
    "  location = Geolocation.locate(member.address)\n",
    "  html << \"<img class='map' src='#{location.map_url} />\"\n",
    "  html << \"</div>\"\n",
    "  if location\n",
    "    html <<\" <img class='map' src='#{location.map_url} />\"\n",
    "  end\n",
    "  html << \"</div>\"\n",
    "end"
   ]
  },
  {
   "cell_type": "markdown",
   "metadata": {},
   "source": [
    "就程序流畅度而言，上面两种方案都是有问题。成员地图是非必须的，属于`#render_member`方法的次要任务。但是，无论是`begin/rescue/end`还是`if`从句都把大量精力放在`location`缺失的可能性的。这样的代码正如“爱哭的小孩有糖吃”一样：它可能并非方法最重要的部分，但却得到诸多特殊关照，以至于其他部分都无足轻重了"
   ]
  },
  {
   "cell_type": "markdown",
   "metadata": {},
   "source": [
    "如果不在对`location`的缺失加以特殊关照，而是为期提供备用数据会怎么样呢？不妨用组内成员所在城市区域的`location`来作为备用数据。既然到了这一步，顺便将`location`查找的代码移动方法开始部分，这样便不会破坏渲染`HTML`文本的节奏感了"
   ]
  },
  {
   "cell_type": "code",
   "execution_count": 136,
   "metadata": {},
   "outputs": [
    {
     "ename": "SyntaxError",
     "evalue": "<main>:4: syntax error, unexpected ..., expecting keyword_end",
     "output_type": "error",
     "traceback": [
      "\u001b[31mSyntaxError\u001b[0m: <main>:4: syntax error, unexpected ..., expecting keyword_end",
      "\u001b[37m/usr/local/lib64/ruby/gems/2.5.0/gems/iruby-0.3/lib/iruby/backend.rb:44:in `eval'\u001b[0m",
      "\u001b[37m/usr/local/lib64/ruby/gems/2.5.0/gems/iruby-0.3/lib/iruby/backend.rb:44:in `eval'\u001b[0m",
      "\u001b[37m/usr/local/lib64/ruby/gems/2.5.0/gems/iruby-0.3/lib/iruby/backend.rb:12:in `eval'\u001b[0m",
      "\u001b[37m/usr/local/lib64/ruby/gems/2.5.0/gems/iruby-0.3/lib/iruby/kernel.rb:87:in `execute_request'\u001b[0m",
      "\u001b[37m/usr/local/lib64/ruby/gems/2.5.0/gems/iruby-0.3/lib/iruby/kernel.rb:47:in `dispatch'\u001b[0m",
      "\u001b[37m/usr/local/lib64/ruby/gems/2.5.0/gems/iruby-0.3/lib/iruby/kernel.rb:37:in `run'\u001b[0m",
      "\u001b[37m/usr/local/lib64/ruby/gems/2.5.0/gems/iruby-0.3/lib/iruby/command.rb:70:in `run_kernel'\u001b[0m",
      "\u001b[37m/usr/local/lib64/ruby/gems/2.5.0/gems/iruby-0.3/lib/iruby/command.rb:34:in `run'\u001b[0m",
      "\u001b[37m/usr/local/lib64/ruby/gems/2.5.0/gems/iruby-0.3/bin/iruby:5:in `<top (required)>'\u001b[0m",
      "\u001b[37m/usr/local/bin/iruby:23:in `load'\u001b[0m",
      "\u001b[37m/usr/local/bin/iruby:23:in `<main>'\u001b[0m"
     ]
    }
   ],
   "source": [
    "def render_member(member, group)\n",
    "  location = Geolocatron.locate(member.address) || group.city_location\n",
    "  html = \"\"\n",
    "  html << \"<div class='vcard'>\"\n",
    "...\n",
    "  end"
   ]
  },
  {
   "cell_type": "markdown",
   "metadata": {},
   "source": [
    "`nil`因其普遍存在性，在出现异常时传达的语义极少，甚至根本没有。那我们如何才能更好的表达异常呢?"
   ]
  },
  {
   "cell_type": "markdown",
   "metadata": {},
   "source": [
    "让我们回到`#list_widgets`方法，不过这次求助老朋友`Hash#fetch`来为`credentials`提供默认值"
   ]
  },
  {
   "cell_type": "code",
   "execution_count": 138,
   "metadata": {},
   "outputs": [
    {
     "data": {
      "text/plain": [
       ":list_widgets"
      ]
     },
     "execution_count": 138,
     "metadata": {},
     "output_type": "execute_result"
    }
   ],
   "source": [
    "def list_widgets(options = {})\n",
    "  credentials = options.fetch(:credentials) {:credentials_not_set}\n",
    "  page_size = options.fetch(:page_size)\n",
    "  page = options.fetch(:page) {1}\n",
    "  if page_size >20\n",
    "    user = credentials.fetch(:user)\n",
    "    password = credentials.fetch(:password)\n",
    "    url = \"https://https://...\"\n",
    "  else\n",
    "    url = \"http://www.example.com/widgets\"\n",
    "  end\n",
    "  puts \"Contacting #{url}\"\n",
    "end"
   ]
  },
  {
   "cell_type": "markdown",
   "metadata": {},
   "source": [
    "这次调用`list_widgets(page_size: 50)`"
   ]
  },
  {
   "cell_type": "markdown",
   "metadata": {},
   "source": [
    "-：7 in`list_widgets`:undefined method `fetch` for `:credentials_not_set:Symbol`"
   ]
  },
  {
   "cell_type": "markdown",
   "metadata": {},
   "source": [
    "虽然还是`NoMethodError`，但这次`NoMethodError`发生在`:credentials_not_set`上，这有俩明显好处"
   ]
  },
  {
   "cell_type": "markdown",
   "metadata": {},
   "source": [
    "1. 错误信息按时了我们哪里错了，看起来使我们未设置认证信息造成的\n",
    "2. 即使我们还是没能从中发生错误原因，`:credentials_not_set`也提供了查找的线索，我们还可以轻易的将错误定位到这一行"
   ]
  },
  {
   "cell_type": "markdown",
   "metadata": {},
   "source": [
    "有多种方式可以让必要输入项缺失引发的错误变得清晰起来。如果认证信息缺失是一个普遍存在的问题，且许多用户将使用该库，我们可能会显示检测，且出错抛出带语义的异常。有些场景下，我们甚至会使用特例对象作为默认值。但是，带雨衣的占位符是其中最物超所值的一个：紧需一行代码的修改，便可大幅提升后续错误信息的语义质量。"
   ]
  },
  {
   "cell_type": "markdown",
   "metadata": {},
   "source": [
    "假设有几个不同的类都和地图上的点打交道。一个点由x和y坐标组成，故自然而然地每个与点打交道的方法都接收X和Y坐标做参数，包括那些画点、画线的方法。"
   ]
  },
  {
   "cell_type": "code",
   "execution_count": 139,
   "metadata": {},
   "outputs": [
    {
     "data": {
      "text/plain": [
       ":draw_line"
      ]
     },
     "execution_count": 139,
     "metadata": {},
     "output_type": "execute_result"
    }
   ],
   "source": [
    "class Map\n",
    "  def draw_point(x, y)\n",
    "  end\n",
    "  def draw_line(x1, y1, x2, y2)\n",
    "  end\n",
    "end"
   ]
  },
  {
   "cell_type": "code",
   "execution_count": 140,
   "metadata": {},
   "outputs": [
    {
     "data": {
      "text/plain": [
       ":write_point"
      ]
     },
     "execution_count": 140,
     "metadata": {},
     "output_type": "execute_result"
    }
   ],
   "source": [
    "class MapStore\n",
    "  def write_point(x, y)\n",
    "    point_hash = {x: x, y: y}\n",
    "  end\n",
    "end"
   ]
  },
  {
   "cell_type": "markdown",
   "metadata": {},
   "source": [
    "显然，X和Y坐标总会成对出现，因而很适合将其封装到类中。这里我们使用`Struct`便轻松构造了一个类"
   ]
  },
  {
   "cell_type": "code",
   "execution_count": 141,
   "metadata": {},
   "outputs": [
    {
     "name": "stderr",
     "output_type": "stream",
     "text": [
      "<main>: warning: already initialized constant Point\n"
     ]
    },
    {
     "data": {
      "text/plain": [
       "Point"
      ]
     },
     "execution_count": 141,
     "metadata": {},
     "output_type": "execute_result"
    }
   ],
   "source": [
    "Point = Struct.new(:x, :y)"
   ]
  },
  {
   "cell_type": "markdown",
   "metadata": {},
   "source": [
    "可以让`Point`去花他们自己"
   ]
  },
  {
   "cell_type": "code",
   "execution_count": 142,
   "metadata": {},
   "outputs": [
    {
     "name": "stderr",
     "output_type": "stream",
     "text": [
      "<main>: warning: already initialized constant Point\n"
     ]
    },
    {
     "data": {
      "text/plain": [
       ":draw_line"
      ]
     },
     "execution_count": 142,
     "metadata": {},
     "output_type": "execute_result"
    }
   ],
   "source": [
    "Point = Struct.new(:x, :y) do\n",
    "  def draw_on(map)\n",
    "  end\n",
    "end\n",
    "\n",
    "class Map\n",
    "  def draw_point(point)\n",
    "    point.draw_on(self)\n",
    "  end\n",
    "  \n",
    "  def draw_line(point1, point2)\n",
    "    point1.draw_on(self)\n",
    "    point2.draw_on(self)\n",
    "  end\n",
    "end"
   ]
  },
  {
   "cell_type": "markdown",
   "metadata": {},
   "source": [
    "重构已经卓有成效，原因如下：精简了参数列表，同时改善了代码可读性；让代码更具语义性，将“点”这一概念显式地抛了出来；更容易确保X和Y的合法性，因为可以轻易地在`Point`类的构造方法中加入验证逻辑；为所有与“点”相关的行为提供了“容身之处”，否则这些行为将散落在许多与“点”打交道的方法中"
   ]
  },
  {
   "cell_type": "markdown",
   "metadata": {},
   "source": [
    "随着地图引用开发的深入进行，我们发现需要几个稍加变化的“基本点”"
   ]
  },
  {
   "cell_type": "markdown",
   "metadata": {},
   "source": [
    "1. 星标点，用于标注地图上的显著位置\n",
    "2. 模糊点，用于标注在这片区域中的某个地方。这类点有一个以米为单位的模糊半径，会根据半径在地图上显式一个彩色的圆圈"
   ]
  },
  {
   "cell_type": "code",
   "execution_count": null,
   "metadata": {},
   "outputs": [],
   "source": []
  },
  {
   "cell_type": "markdown",
   "metadata": {},
   "source": []
  }
 ],
 "metadata": {
  "kernelspec": {
   "display_name": "Ruby 2.5.1",
   "language": "ruby",
   "name": "ruby"
  },
  "language_info": {
   "file_extension": ".rb",
   "mimetype": "application/x-ruby",
   "name": "ruby",
   "version": "2.5.1"
  }
 },
 "nbformat": 4,
 "nbformat_minor": 2
}
