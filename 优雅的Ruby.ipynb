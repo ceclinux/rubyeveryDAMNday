{
 "cells": [
  {
   "cell_type": "markdown",
   "metadata": {},
   "source": [
    "我认为擅长讲故事的方法应该有上面提到的四个部分组成，而且它们之间应该做到泾渭分明，而不是混杂在一起。但这还不是，它们的排列顺序也有要求：首先处理输入；接着实现核心功能；然后处理输出；如有需要，最后处理异常。"
   ]
  },
  {
   "cell_type": "markdown",
   "metadata": {},
   "source": [
    "无论用哪种方式，`switch`之类的语句都杂糅了太多方法逻辑，使得程序更难调试，使得对象类型绑架了程序逻辑。身为自信优雅的程序员，我们只需要让鸭子叫，然后可以放心的走开。这一位这首先的找出所需的消息和校色，然后确保只有那些真正会叫的“鸭子”才嫩刚进入我们的方法逻辑。"
   ]
  },
  {
   "cell_type": "markdown",
   "metadata": {},
   "source": [
    "到目前为止，我们见过了直接把值本省作为输入的方式，我们把这种输入称为“简单输入”或“直接输入”。但`Time.now`却是一个间接输入。首先我们引用了`Time`类，然后把`#now`消息发送给`Time`。我们想要的其实是方法`now`的返回值，而不是`Time`常量本身。任何我时候为了得到方法返回值，而向其他对象发送消息，其实就在使用间接输入。"
   ]
  },
  {
   "cell_type": "code",
   "execution_count": 2,
   "metadata": {},
   "outputs": [
    {
     "data": {
      "text/plain": [
       ":format_time"
      ]
     },
     "execution_count": 2,
     "metadata": {},
     "output_type": "execute_result"
    }
   ],
   "source": [
    "require 'yaml'\n",
    "\n",
    "def format_time\n",
    "  user = ENV['USER']\n",
    "  prefs = YAML.load_file('/home/#{user}/time-prefs.yml')\n",
    "  format = prefs.fetch('format') {'%D %r'}\n",
    "  Time.now.strftime(format)\n",
    "end"
   ]
  },
  {
   "cell_type": "markdown",
   "metadata": {},
   "source": [
    "在此示例中，两个“间接输入”协同工作去得到最终值，而其中的一个间接输入的值之后为了获取另外一个“间接输入”的值。这通常都是软件中`bug`的源头之一。"
   ]
  },
  {
   "cell_type": "code",
   "execution_count": 8,
   "metadata": {},
   "outputs": [
    {
     "name": "stderr",
     "output_type": "stream",
     "text": [
      "(pry):77: warning: already initialized constant Place\n",
      "(pry):61: warning: previous definition of Place was here\n"
     ]
    },
    {
     "name": "stdout",
     "output_type": "stream",
     "text": [
      "In first place, Homestar!\n",
      "You win: Peasant's Quest game\n",
      "In second place, King of Town!\n",
      "You win: Limozeen Album\n",
      "In third place, Marzipan!\n",
      "You win: Butter-da\n"
     ]
    },
    {
     "data": {
      "text/plain": [
       "[#<struct Place index=0, name=\"first\", prize=\"Peasant's Quest game\">, #<struct Place index=1, name=\"second\", prize=\"Limozeen Album\">, #<struct Place index=2, name=\"third\", prize=\"Butter-da\">]"
      ]
     },
     "execution_count": 8,
     "metadata": {},
     "output_type": "execute_result"
    }
   ],
   "source": [
    "winners = [\"Homestar\", \"King of Town\", \"Marzipan\", \"Strongbad\"]\n",
    "\n",
    "Place = Struct.new(:index, :name, :prize) do\n",
    "  def to_int\n",
    "    index\n",
    "  end\n",
    "end\n",
    "\n",
    "first = Place.new(0, \"first\", \"Peasant's Quest game\")\n",
    "second = Place.new(1, \"second\", \"Limozeen Album\")\n",
    "third = Place.new(2, \"third\", \"Butter-da\")\n",
    "\n",
    "[first, second, third].each do |place|\n",
    "  puts \"In #{place.name} place, #{winners[place]}!\"\n",
    "  puts \"You win: #{place.prize}\"\n",
    "end"
   ]
  },
  {
   "cell_type": "markdown",
   "metadata": {},
   "source": [
    "之所以能这样用，是因为`Ruby`会自动地在数组下标参数上调用`#to_int`方法，使其转换为integer。"
   ]
  },
  {
   "cell_type": "code",
   "execution_count": 9,
   "metadata": {},
   "outputs": [
    {
     "data": {
      "text/plain": [
       ":to_path"
      ]
     },
     "execution_count": 9,
     "metadata": {},
     "output_type": "execute_result"
    }
   ],
   "source": [
    "class VimConfigFile\n",
    "  def initialize\n",
    "    @filename = \"#{ENV['HOME']}/.vimrc\"\n",
    "  end\n",
    "  \n",
    "  def to_path\n",
    "    @filename\n",
    "  end\n",
    "end"
   ]
  },
  {
   "cell_type": "code",
   "execution_count": 11,
   "metadata": {},
   "outputs": [
    {
     "name": "stderr",
     "output_type": "stream",
     "text": [
      "(pry):105: warning: IO#lines is deprecated; use #each_line instead\n"
     ]
    },
    {
     "data": {
      "text/plain": [
       "689"
      ]
     },
     "execution_count": 11,
     "metadata": {},
     "output_type": "execute_result"
    }
   ],
   "source": [
    "vim_config = VimConfigFile.new\n",
    "\n",
    "File.open(vim_config).lines.count"
   ]
  },
  {
   "cell_type": "markdown",
   "metadata": {},
   "source": [
    "这是因为，`EmacsConfig`类定义了转换方法`#to_path`，而`File#open`优惠在参数对象上调用`#to_path`方法，以便得到文件名字符串。这样依赖，这个非字符串对象也能工作的很好"
   ]
  },
  {
   "cell_type": "code",
   "execution_count": 13,
   "metadata": {},
   "outputs": [
    {
     "ename": "NoMethodError",
     "evalue": "undefined method `to_str' for nil:NilClass",
     "output_type": "error",
     "traceback": [
      "\u001b[31mNoMethodError\u001b[0m: undefined method `to_str' for nil:NilClass",
      "\u001b[37m(pry):107:in `<main>'\u001b[0m",
      "\u001b[37m/home/ceclinux/.rvm/rubies/ruby-2.4.1/lib/ruby/gems/2.4.0/gems/pry-0.11.1/lib/pry/pry_instance.rb:355:in `eval'\u001b[0m",
      "\u001b[37m/home/ceclinux/.rvm/rubies/ruby-2.4.1/lib/ruby/gems/2.4.0/gems/pry-0.11.1/lib/pry/pry_instance.rb:355:in `evaluate_ruby'\u001b[0m",
      "\u001b[37m/home/ceclinux/.rvm/rubies/ruby-2.4.1/lib/ruby/gems/2.4.0/gems/pry-0.11.1/lib/pry/pry_instance.rb:323:in `handle_line'\u001b[0m",
      "\u001b[37m/home/ceclinux/.rvm/rubies/ruby-2.4.1/lib/ruby/gems/2.4.0/gems/pry-0.11.1/lib/pry/pry_instance.rb:243:in `block (2 levels) in eval'\u001b[0m",
      "\u001b[37m/home/ceclinux/.rvm/rubies/ruby-2.4.1/lib/ruby/gems/2.4.0/gems/pry-0.11.1/lib/pry/pry_instance.rb:242:in `catch'\u001b[0m",
      "\u001b[37m/home/ceclinux/.rvm/rubies/ruby-2.4.1/lib/ruby/gems/2.4.0/gems/pry-0.11.1/lib/pry/pry_instance.rb:242:in `block in eval'\u001b[0m",
      "\u001b[37m/home/ceclinux/.rvm/rubies/ruby-2.4.1/lib/ruby/gems/2.4.0/gems/pry-0.11.1/lib/pry/pry_instance.rb:241:in `catch'\u001b[0m",
      "\u001b[37m/home/ceclinux/.rvm/rubies/ruby-2.4.1/lib/ruby/gems/2.4.0/gems/pry-0.11.1/lib/pry/pry_instance.rb:241:in `eval'\u001b[0m",
      "\u001b[37m/home/ceclinux/.rvm/rubies/ruby-2.4.1/lib/ruby/gems/2.4.0/gems/iruby-0.3/lib/iruby/backend.rb:66:in `eval'\u001b[0m",
      "\u001b[37m/home/ceclinux/.rvm/rubies/ruby-2.4.1/lib/ruby/gems/2.4.0/gems/iruby-0.3/lib/iruby/backend.rb:12:in `eval'\u001b[0m",
      "\u001b[37m/home/ceclinux/.rvm/rubies/ruby-2.4.1/lib/ruby/gems/2.4.0/gems/iruby-0.3/lib/iruby/kernel.rb:87:in `execute_request'\u001b[0m",
      "\u001b[37m/home/ceclinux/.rvm/rubies/ruby-2.4.1/lib/ruby/gems/2.4.0/gems/iruby-0.3/lib/iruby/kernel.rb:47:in `dispatch'\u001b[0m",
      "\u001b[37m/home/ceclinux/.rvm/rubies/ruby-2.4.1/lib/ruby/gems/2.4.0/gems/iruby-0.3/lib/iruby/kernel.rb:37:in `run'\u001b[0m",
      "\u001b[37m/home/ceclinux/.rvm/rubies/ruby-2.4.1/lib/ruby/gems/2.4.0/gems/iruby-0.3/lib/iruby/command.rb:70:in `run_kernel'\u001b[0m",
      "\u001b[37m/home/ceclinux/.rvm/rubies/ruby-2.4.1/lib/ruby/gems/2.4.0/gems/iruby-0.3/lib/iruby/command.rb:34:in `run'\u001b[0m",
      "\u001b[37m/home/ceclinux/.rvm/rubies/ruby-2.4.1/lib/ruby/gems/2.4.0/gems/iruby-0.3/bin/iruby:5:in `<top (required)>'\u001b[0m",
      "\u001b[37m/home/ceclinux/.rvm/gems/ruby-2.4.1/bin/iruby:23:in `load'\u001b[0m",
      "\u001b[37m/home/ceclinux/.rvm/gems/ruby-2.4.1/bin/iruby:23:in `<main>'\u001b[0m",
      "\u001b[37m/home/ceclinux/.rvm/gems/ruby-2.4.1/bin/ruby_executable_hooks:15:in `eval'\u001b[0m",
      "\u001b[37m/home/ceclinux/.rvm/gems/ruby-2.4.1/bin/ruby_executable_hooks:15:in `<main>'\u001b[0m"
     ]
    }
   ],
   "source": [
    "nil.to_str"
   ]
  },
  {
   "cell_type": "code",
   "execution_count": 15,
   "metadata": {},
   "outputs": [
    {
     "data": {
      "text/plain": [
       "\"\""
      ]
     },
     "execution_count": 15,
     "metadata": {},
     "output_type": "execute_result"
    }
   ],
   "source": [
    "nil.to_s"
   ]
  },
  {
   "cell_type": "markdown",
   "metadata": {},
   "source": [
    "显示和隐式方式同时存在时，该使用哪一个呢？如果只关心得到预期输入类型而不深究其类型，则可使用显示类型转换方法。"
   ]
  },
  {
   "cell_type": "code",
   "execution_count": 19,
   "metadata": {},
   "outputs": [
    {
     "name": "stderr",
     "output_type": "stream",
     "text": [
      "(pry):120: warning: already initialized constant PHONE_EXTENSIONS\n",
      "(pry):114: warning: previous definition of PHONE_EXTENSIONS was here\n"
     ]
    },
    {
     "data": {
      "text/plain": [
       ":dial_extension"
      ]
     },
     "execution_count": 19,
     "metadata": {},
     "output_type": "execute_result"
    }
   ],
   "source": [
    "PHONE_EXTENSIONS = [\"Operator\", \"Sales\", \"Customer Service\"]\n",
    "def dial_extension(dialed_number)\n",
    "dialed_number = dialed_number.to_i\n",
    "extension = PHONE_EXTENSIONS[dialed_number]\n",
    "p \"Please hold wihile you are connected to #{extension}\"\n",
    "end\n"
   ]
  },
  {
   "cell_type": "code",
   "execution_count": 20,
   "metadata": {},
   "outputs": [
    {
     "data": {
      "text/plain": [
       "0"
      ]
     },
     "execution_count": 20,
     "metadata": {},
     "output_type": "execute_result"
    }
   ],
   "source": [
    "nil.to_i"
   ]
  },
  {
   "cell_type": "code",
   "execution_count": 22,
   "metadata": {},
   "outputs": [
    {
     "name": "stdout",
     "output_type": "stream",
     "text": [
      "\"Please hold wihile you are connected to Operator\"\n"
     ]
    },
    {
     "data": {
      "text/plain": [
       "\"Please hold wihile you are connected to Operator\""
      ]
     },
     "execution_count": 22,
     "metadata": {},
     "output_type": "execute_result"
    }
   ],
   "source": [
    "dial_extension(nil)"
   ]
  },
  {
   "cell_type": "code",
   "execution_count": 24,
   "metadata": {},
   "outputs": [
    {
     "ename": "NoMethodError",
     "evalue": "undefined method `to_int' for nil:NilClass",
     "output_type": "error",
     "traceback": [
      "\u001b[31mNoMethodError\u001b[0m: undefined method `to_int' for nil:NilClass",
      "\u001b[37m(pry):137:in `set_centrifuge_speed'\u001b[0m",
      "\u001b[37m(pry):142:in `<main>'\u001b[0m",
      "\u001b[37m/home/ceclinux/.rvm/rubies/ruby-2.4.1/lib/ruby/gems/2.4.0/gems/pry-0.11.1/lib/pry/pry_instance.rb:355:in `eval'\u001b[0m",
      "\u001b[37m/home/ceclinux/.rvm/rubies/ruby-2.4.1/lib/ruby/gems/2.4.0/gems/pry-0.11.1/lib/pry/pry_instance.rb:355:in `evaluate_ruby'\u001b[0m",
      "\u001b[37m/home/ceclinux/.rvm/rubies/ruby-2.4.1/lib/ruby/gems/2.4.0/gems/pry-0.11.1/lib/pry/pry_instance.rb:323:in `handle_line'\u001b[0m",
      "\u001b[37m/home/ceclinux/.rvm/rubies/ruby-2.4.1/lib/ruby/gems/2.4.0/gems/pry-0.11.1/lib/pry/pry_instance.rb:243:in `block (2 levels) in eval'\u001b[0m",
      "\u001b[37m/home/ceclinux/.rvm/rubies/ruby-2.4.1/lib/ruby/gems/2.4.0/gems/pry-0.11.1/lib/pry/pry_instance.rb:242:in `catch'\u001b[0m",
      "\u001b[37m/home/ceclinux/.rvm/rubies/ruby-2.4.1/lib/ruby/gems/2.4.0/gems/pry-0.11.1/lib/pry/pry_instance.rb:242:in `block in eval'\u001b[0m",
      "\u001b[37m/home/ceclinux/.rvm/rubies/ruby-2.4.1/lib/ruby/gems/2.4.0/gems/pry-0.11.1/lib/pry/pry_instance.rb:241:in `catch'\u001b[0m",
      "\u001b[37m/home/ceclinux/.rvm/rubies/ruby-2.4.1/lib/ruby/gems/2.4.0/gems/pry-0.11.1/lib/pry/pry_instance.rb:241:in `eval'\u001b[0m",
      "\u001b[37m/home/ceclinux/.rvm/rubies/ruby-2.4.1/lib/ruby/gems/2.4.0/gems/iruby-0.3/lib/iruby/backend.rb:66:in `eval'\u001b[0m",
      "\u001b[37m/home/ceclinux/.rvm/rubies/ruby-2.4.1/lib/ruby/gems/2.4.0/gems/iruby-0.3/lib/iruby/backend.rb:12:in `eval'\u001b[0m",
      "\u001b[37m/home/ceclinux/.rvm/rubies/ruby-2.4.1/lib/ruby/gems/2.4.0/gems/iruby-0.3/lib/iruby/kernel.rb:87:in `execute_request'\u001b[0m",
      "\u001b[37m/home/ceclinux/.rvm/rubies/ruby-2.4.1/lib/ruby/gems/2.4.0/gems/iruby-0.3/lib/iruby/kernel.rb:47:in `dispatch'\u001b[0m",
      "\u001b[37m/home/ceclinux/.rvm/rubies/ruby-2.4.1/lib/ruby/gems/2.4.0/gems/iruby-0.3/lib/iruby/kernel.rb:37:in `run'\u001b[0m",
      "\u001b[37m/home/ceclinux/.rvm/rubies/ruby-2.4.1/lib/ruby/gems/2.4.0/gems/iruby-0.3/lib/iruby/command.rb:70:in `run_kernel'\u001b[0m",
      "\u001b[37m/home/ceclinux/.rvm/rubies/ruby-2.4.1/lib/ruby/gems/2.4.0/gems/iruby-0.3/lib/iruby/command.rb:34:in `run'\u001b[0m",
      "\u001b[37m/home/ceclinux/.rvm/rubies/ruby-2.4.1/lib/ruby/gems/2.4.0/gems/iruby-0.3/bin/iruby:5:in `<top (required)>'\u001b[0m",
      "\u001b[37m/home/ceclinux/.rvm/gems/ruby-2.4.1/bin/iruby:23:in `load'\u001b[0m",
      "\u001b[37m/home/ceclinux/.rvm/gems/ruby-2.4.1/bin/iruby:23:in `<main>'\u001b[0m",
      "\u001b[37m/home/ceclinux/.rvm/gems/ruby-2.4.1/bin/ruby_executable_hooks:15:in `eval'\u001b[0m",
      "\u001b[37m/home/ceclinux/.rvm/gems/ruby-2.4.1/bin/ruby_executable_hooks:15:in `<main>'\u001b[0m"
     ]
    }
   ],
   "source": [
    "def set_centrifuge_speed(new_rpm)\n",
    "  new_rpm = new_rpm.to_int\n",
    "  p \"Adjusting centrifuge to #{new_rmp} RPM\"\n",
    "end\n",
    "\n",
    "bad_input= nil\n",
    "set_centrifuge_speed(bad_input)"
   ]
  },
  {
   "cell_type": "markdown",
   "metadata": {},
   "source": [
    "to_s是一个显式类型转换方法。显示转换一般用于这样的情形：源类型和目标类型很大程度上不关联"
   ]
  },
  {
   "cell_type": "markdown",
   "metadata": {},
   "source": [
    "to_str是隐形类型转换方法。适用于元类型和目标类型很相近的情形。"
   ]
  }
 ],
 "metadata": {
  "kernelspec": {
   "display_name": "Ruby 2.4.1",
   "language": "ruby",
   "name": "ruby"
  },
  "language_info": {
   "file_extension": ".rb",
   "mimetype": "application/x-ruby",
   "name": "ruby",
   "version": "2.4.1"
  }
 },
 "nbformat": 4,
 "nbformat_minor": 2
}
