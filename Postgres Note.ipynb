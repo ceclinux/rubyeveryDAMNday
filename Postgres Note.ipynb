{
 "cells": [
  {
   "cell_type": "markdown",
   "metadata": {},
   "source": [
    "```sql\n",
    "movielens_development=# select  ARRAY[1,2,4] && ARRAY[3];\n",
    " ?column?\n",
    "----------\n",
    " f\n",
    "(1 行记录)\n",
    "\n",
    "movielens_development=# select  ARRAY[1,2,4] && ARRAY[2,3,4];\n",
    " ?column?\n",
    "----------\n",
    " t\n",
    "(1 行记录)\n",
    "```"
   ]
  },
  {
   "cell_type": "markdown",
   "metadata": {},
   "source": [
    "\n",
    "## Cross join\n",
    "\n",
    "    T1 CROSS JOIN T2\n",
    "\n",
    "    For every possible combination of rows from T1 and T2 (i.e., a Cartesian product), the joined table will contain a row consisting of all columns in T1 followed by all columns in T2. If the tables have N and M rows respectively, the joined table will have N * M rows.\n",
    "\n",
    "    FROM T1 CROSS JOIN T2 is equivalent to FROM T1 INNER JOIN T2 ON TRUE (see below). It is also equivalent to FROM T1, T2."
   ]
  },
  {
   "cell_type": "markdown",
   "metadata": {},
   "source": [
    "```sql\n",
    "select * from pinned_tweets where user_handle = 'rey';\n",
    "--  tweet_id | user_handle | pinned_at\n",
    "-- ----------+-------------+-----------\n",
    "-- (0 rows)\n",
    "\n",
    "insert into pinned_tweets (user_handle, tweet_id, pinned_at)\n",
    "  values (\n",
    "    'rey',\n",
    "    5,\n",
    "    clock_timestamp()\n",
    "  )\n",
    "on conflict (user_handle)\n",
    "do update set (tweet_id, pinned_at) = (5, clock_timestamp())\n",
    "where pinned_tweets.user_handle = 'rey';\n",
    "-- INSERT 0 1\n",
    "\n",
    "select * from pinned_tweets where user_handle = 'rey';\n",
    "--  tweet_id | user_handle |          pinned_at\n",
    "-- ----------+-------------+------------------------------\n",
    "--         5 | rey         | 2016-01-11 17:08:52.41554-06\n",
    "-- (1 row)\n",
    "\n",
    "```"
   ]
  },
  {
   "cell_type": "markdown",
   "metadata": {},
   "source": [
    "The addition of the upsert feature means we don't have to tangle with writeable CTEs here. Instead, we get to write a standard insert statement. All we have to add is the on conflict clause. The on conflict clause is a way to tell the insert statement what to do if it is colliding with an existing record. In our case, if the user_handle conflicts with an existing record in the pinned_tweets table, then we react by doing an update instead. That's an upsert.\n",
    "\n"
   ]
  },
  {
   "cell_type": "markdown",
   "metadata": {},
   "source": [
    "## conflict Action\n",
    "\n",
    "\n",
    "\n",
    "    conflict_action specifies an alternative ON CONFLICT action. It can be either DO NOTHING, or a DO UPDATE clause specifying the exact details of the UPDATE action to be performed in case of a conflict. The SET and WHERE clauses in ON CONFLICT DO UPDATE have access to the existing row using the table's name (or an alias), and to rows proposed for insertion using the special excluded table. SELECT privilege is required on any column in the target table where corresponding excluded columns are read.\n",
    "\n",
    "    Note that the effects of all per-row BEFORE INSERT triggers are reflected in excluded values, since those effects may have contributed to the row being excluded from insertion.\n"
   ]
  },
  {
   "cell_type": "markdown",
   "metadata": {},
   "source": [
    "https://ruby-china.org/topics/37522"
   ]
  },
  {
   "cell_type": "code",
   "execution_count": null,
   "metadata": {},
   "outputs": [],
   "source": []
  }
 ],
 "metadata": {
  "kernelspec": {
   "display_name": "Elixir",
   "language": "Elixir",
   "name": "ielixir"
  },
  "language_info": {
   "codemirror_mode": "elixir",
   "file_extension": "ex",
   "mimetype": "text/x-elixir",
   "name": "elixir",
   "nbconvert_exporter": "",
   "pygments_lexer": "elixir",
   "version": "#Version<1.6.5>"
  }
 },
 "nbformat": 4,
 "nbformat_minor": 2
}
